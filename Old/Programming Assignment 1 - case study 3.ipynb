{
 "cells": [
  {
   "cell_type": "code",
   "execution_count": 1,
   "id": "d97c880c",
   "metadata": {},
   "outputs": [],
   "source": [
    "import pandas as pd"
   ]
  },
  {
   "cell_type": "code",
   "execution_count": 2,
   "id": "5b72cff5",
   "metadata": {},
   "outputs": [],
   "source": [
    "import matplotlib.pyplot as plt"
   ]
  },
  {
   "cell_type": "code",
   "execution_count": 3,
   "id": "a0630bc3",
   "metadata": {},
   "outputs": [],
   "source": [
    "import seaborn as sns"
   ]
  },
  {
   "cell_type": "code",
   "execution_count": 4,
   "id": "6b46de01",
   "metadata": {},
   "outputs": [],
   "source": [
    "import numpy as np"
   ]
  },
  {
   "cell_type": "code",
   "execution_count": 5,
   "id": "ccc06b91",
   "metadata": {},
   "outputs": [],
   "source": [
    "%matplotlib inline"
   ]
  },
  {
   "cell_type": "code",
   "execution_count": 6,
   "id": "b9aed507",
   "metadata": {},
   "outputs": [],
   "source": [
    "data=pd.read_excel('STMECH_AUS_SS.xls',index_col='Comments')"
   ]
  },
  {
   "cell_type": "code",
   "execution_count": 7,
   "id": "78d712c8",
   "metadata": {},
   "outputs": [
    {
     "name": "stdout",
     "output_type": "stream",
     "text": [
      "                          Cr     Ni    Mo    Mn    Si    Nb    Ti  Zr  Ta  \\\n",
      "Comments                                                                    \n",
      "NRIM/CDS/No4B/1986 ABA  18.7  10.69  0.47  1.56  0.62  0.01  0.04   0   0   \n",
      "NRIM/CDS/No4B/1986 ABA  18.7  10.69  0.47  1.56  0.62  0.01  0.04   0   0   \n",
      "NRIM/CDS/No4B/1986 ABA  18.7  10.69  0.47  1.56  0.62  0.01  0.04   0   0   \n",
      "NRIM/CDS/No4B/1986 ABA  18.7  10.69  0.47  1.56  0.62  0.01  0.04   0   0   \n",
      "NRIM/CDS/No4B/1986 ABA  18.7  10.69  0.47  1.56  0.62  0.01  0.04   0   0   \n",
      "\n",
      "                          V  ...  Air_Quenched_after_s      Grains  \\\n",
      "Comments                     ...                                     \n",
      "NRIM/CDS/No4B/1986 ABA  0.0  ...                     0  477.712892   \n",
      "NRIM/CDS/No4B/1986 ABA  0.0  ...                     0  477.712892   \n",
      "NRIM/CDS/No4B/1986 ABA  0.0  ...                     0  477.712892   \n",
      "NRIM/CDS/No4B/1986 ABA  0.0  ...                     0  477.712892   \n",
      "NRIM/CDS/No4B/1986 ABA  0.0  ...                     0  477.712892   \n",
      "\n",
      "                        Type_of_melting  Size_of_ingot  Product_form  \\\n",
      "Comments                                                               \n",
      "NRIM/CDS/No4B/1986 ABA                1              3             1   \n",
      "NRIM/CDS/No4B/1986 ABA                1              3             1   \n",
      "NRIM/CDS/No4B/1986 ABA                1              3             1   \n",
      "NRIM/CDS/No4B/1986 ABA                1              3             1   \n",
      "NRIM/CDS/No4B/1986 ABA                1              3             1   \n",
      "\n",
      "                        Temperature(K)  0.2%proof_stress(M Pa)  UTS(M Pa)  \\\n",
      "Comments                                                                    \n",
      "NRIM/CDS/No4B/1986 ABA             298                   280.0      610.0   \n",
      "NRIM/CDS/No4B/1986 ABA             373                   243.0      508.0   \n",
      "NRIM/CDS/No4B/1986 ABA             473                   220.0      472.0   \n",
      "NRIM/CDS/No4B/1986 ABA             573                   204.0      470.0   \n",
      "NRIM/CDS/No4B/1986 ABA             673                   197.0      470.0   \n",
      "\n",
      "                        Elongation  Area_reduction  \n",
      "Comments                                            \n",
      "NRIM/CDS/No4B/1986 ABA          67              83  \n",
      "NRIM/CDS/No4B/1986 ABA          54              83  \n",
      "NRIM/CDS/No4B/1986 ABA          44              81  \n",
      "NRIM/CDS/No4B/1986 ABA          43              76  \n",
      "NRIM/CDS/No4B/1986 ABA          45              76  \n",
      "\n",
      "[5 rows x 34 columns]\n",
      "Index(['NRIM/CDS/No4B/1986 ABA', 'NRIM/CDS/No4B/1986 ABA',\n",
      "       'NRIM/CDS/No4B/1986 ABA', 'NRIM/CDS/No4B/1986 ABA',\n",
      "       'NRIM/CDS/No4B/1986 ABA', 'NRIM/CDS/No4B/1986 ABA',\n",
      "       'NRIM/CDS/No4B/1986 ABA', 'NRIM/CDS/No4B/1986 ABA',\n",
      "       'NRIM/CDS/No4B/1986 ABA', 'NRIM/CDS/No4B/1986 ABA',\n",
      "       ...\n",
      "                            nan,                      nan,\n",
      "                            nan,                      nan,\n",
      "                            nan,                      nan,\n",
      "                            nan,                      nan,\n",
      "                            nan,                      nan],\n",
      "      dtype='object', name='Comments', length=2180)\n",
      "Index(['Cr', 'Ni', 'Mo', 'Mn', 'Si', 'Nb', 'Ti', 'Zr', 'Ta', 'V', 'W', 'Cu',\n",
      "       'N', 'C', 'B', 'P', 'S', 'Co', 'Al', 'Sn', 'Pb',\n",
      "       'Solution_treatment_temperature', 'Solution_treatment_time',\n",
      "       'Water_Quenched_after_s', 'Air_Quenched_after_s', 'Grains',\n",
      "       'Type_of_melting', 'Size_of_ingot', 'Product_form', 'Temperature(K)',\n",
      "       '0.2%proof_stress(M Pa)', 'UTS(M Pa)', 'Elongation', 'Area_reduction'],\n",
      "      dtype='object')\n"
     ]
    }
   ],
   "source": [
    "print(data.head())\n",
    "print(data.index)\n",
    "print(data.columns)"
   ]
  },
  {
   "cell_type": "code",
   "execution_count": 8,
   "id": "d1d29605",
   "metadata": {},
   "outputs": [
    {
     "data": {
      "text/plain": [
       "(2180, 34)"
      ]
     },
     "execution_count": 8,
     "metadata": {},
     "output_type": "execute_result"
    }
   ],
   "source": [
    "data.shape"
   ]
  },
  {
   "cell_type": "code",
   "execution_count": 9,
   "id": "6e179140",
   "metadata": {},
   "outputs": [
    {
     "data": {
      "text/plain": [
       "Cr                                False\n",
       "Ni                                False\n",
       "Mo                                False\n",
       "Mn                                False\n",
       "Si                                False\n",
       "Nb                                False\n",
       "Ti                                False\n",
       "Zr                                False\n",
       "Ta                                False\n",
       "V                                 False\n",
       "W                                  True\n",
       "Cu                                False\n",
       "N                                 False\n",
       "C                                 False\n",
       "B                                 False\n",
       "P                                 False\n",
       "S                                 False\n",
       "Co                                False\n",
       "Al                                False\n",
       "Sn                                False\n",
       "Pb                                False\n",
       "Solution_treatment_temperature    False\n",
       "Solution_treatment_time           False\n",
       "Water_Quenched_after_s            False\n",
       "Air_Quenched_after_s              False\n",
       "Grains                            False\n",
       "Type_of_melting                   False\n",
       "Size_of_ingot                     False\n",
       "Product_form                      False\n",
       "Temperature(K)                    False\n",
       "0.2%proof_stress(M Pa)            False\n",
       "UTS(M Pa)                         False\n",
       "Elongation                        False\n",
       "Area_reduction                    False\n",
       "dtype: bool"
      ]
     },
     "execution_count": 9,
     "metadata": {},
     "output_type": "execute_result"
    }
   ],
   "source": [
    "data.isnull().any()"
   ]
  },
  {
   "cell_type": "code",
   "execution_count": 10,
   "id": "85f474a7",
   "metadata": {},
   "outputs": [
    {
     "data": {
      "text/plain": [
       "Cr                                float64\n",
       "Ni                                float64\n",
       "Mo                                float64\n",
       "Mn                                float64\n",
       "Si                                float64\n",
       "Nb                                float64\n",
       "Ti                                float64\n",
       "Zr                                  int64\n",
       "Ta                                  int64\n",
       "V                                 float64\n",
       "W                                 float64\n",
       "Cu                                float64\n",
       "N                                 float64\n",
       "C                                 float64\n",
       "B                                 float64\n",
       "P                                 float64\n",
       "S                                 float64\n",
       "Co                                float64\n",
       "Al                                float64\n",
       "Sn                                  int64\n",
       "Pb                                  int64\n",
       "Solution_treatment_temperature     object\n",
       "Solution_treatment_time            object\n",
       "Water_Quenched_after_s             object\n",
       "Air_Quenched_after_s               object\n",
       "Grains                             object\n",
       "Type_of_melting                    object\n",
       "Size_of_ingot                      object\n",
       "Product_form                        int64\n",
       "Temperature(K)                      int64\n",
       "0.2%proof_stress(M Pa)            float64\n",
       "UTS(M Pa)                         float64\n",
       "Elongation                         object\n",
       "Area_reduction                     object\n",
       "dtype: object"
      ]
     },
     "execution_count": 10,
     "metadata": {},
     "output_type": "execute_result"
    }
   ],
   "source": [
    "data.dtypes"
   ]
  },
  {
   "cell_type": "code",
   "execution_count": 11,
   "id": "ab78a3dd",
   "metadata": {},
   "outputs": [
    {
     "data": {
      "text/plain": [
       "array([83, 81, 76, 73, 75, 63, 65, 67, 82, 78, 72, 70, 60, 68, 80, 71, 64,\n",
       "       66, 74, 84, 77, 79, 69, 62, 61, 49, 47, 57, 90, 54, 42, 59, 53, 48,\n",
       "       44, 41, 50, 37, 40, 31, 46, 58, 55, 86, 89, 88, 91, 85, 87, 97, 34,\n",
       "       51, 52, 92, 45, 56, 95, 36, 20, 16, 43, 19, 14, 18, 35, 'Na'],\n",
       "      dtype=object)"
      ]
     },
     "execution_count": 11,
     "metadata": {},
     "output_type": "execute_result"
    }
   ],
   "source": [
    "data.Solution_treatment_temperature.unique()\n",
    "data.Solution_treatment_time.unique()\n",
    "data.Water_Quenched_after_s.unique()\n",
    "data.Air_Quenched_after_s.unique()\n",
    "data.Grains.unique()\n",
    "data.Type_of_melting.unique()\n",
    "data.Size_of_ingot.unique()\n",
    "data.Elongation.unique()\n",
    "data.Area_reduction.unique()"
   ]
  },
  {
   "cell_type": "code",
   "execution_count": 12,
   "id": "90666d76",
   "metadata": {},
   "outputs": [],
   "source": [
    "data=data[data.Solution_treatment_temperature != 'Na']\n",
    "data=data[data.Solution_treatment_time != 'Na']\n",
    "data=data[data.Water_Quenched_after_s != 'Na']\n",
    "data=data[data.Air_Quenched_after_s != 'Na']\n",
    "data=data[data.Grains != 'Na']\n",
    "data=data[data.Type_of_melting != 'Na']\n",
    "data=data[data.Size_of_ingot != 'Na']\n",
    "data=data[data.Elongation != 'Na']\n",
    "data=data[data.Area_reduction != 'Na']"
   ]
  },
  {
   "cell_type": "code",
   "execution_count": 13,
   "id": "d82418e0",
   "metadata": {},
   "outputs": [
    {
     "name": "stdout",
     "output_type": "stream",
     "text": [
      "False\n",
      "False\n",
      "False\n",
      "False\n",
      "False\n",
      "False\n",
      "False\n",
      "False\n",
      "False\n"
     ]
    }
   ],
   "source": [
    "print('Na' in data.Solution_treatment_temperature)\n",
    "print('Na' in data.Solution_treatment_time)\n",
    "print('Na' in data.Water_Quenched_after_s)\n",
    "print('Na' in data.Air_Quenched_after_s)\n",
    "print('Na' in data.Grains)\n",
    "print('Na' in data.Type_of_melting)\n",
    "print('Na' in data.Size_of_ingot)\n",
    "print('Na' in data.Elongation)\n",
    "print('Na' in data.Area_reduction)"
   ]
  },
  {
   "cell_type": "code",
   "execution_count": 14,
   "id": "9a96c6d3",
   "metadata": {},
   "outputs": [
    {
     "data": {
      "text/plain": [
       "(366, 34)"
      ]
     },
     "execution_count": 14,
     "metadata": {},
     "output_type": "execute_result"
    }
   ],
   "source": [
    "data.shape\n",
    "data.shape\n",
    "data.shape\n",
    "data.shape\n",
    "data.shape\n",
    "data.shape\n",
    "data.shape\n",
    "data.shape\n",
    "data.shape"
   ]
  },
  {
   "cell_type": "code",
   "execution_count": 15,
   "id": "404038a4",
   "metadata": {},
   "outputs": [
    {
     "data": {
      "text/plain": [
       "Cr                                float64\n",
       "Ni                                float64\n",
       "Mo                                float64\n",
       "Mn                                float64\n",
       "Si                                float64\n",
       "Nb                                float64\n",
       "Ti                                float64\n",
       "Zr                                  int64\n",
       "Ta                                  int64\n",
       "V                                 float64\n",
       "W                                 float64\n",
       "Cu                                float64\n",
       "N                                 float64\n",
       "C                                 float64\n",
       "B                                 float64\n",
       "P                                 float64\n",
       "S                                 float64\n",
       "Co                                float64\n",
       "Al                                float64\n",
       "Sn                                  int64\n",
       "Pb                                  int64\n",
       "Solution_treatment_temperature     object\n",
       "Solution_treatment_time            object\n",
       "Water_Quenched_after_s             object\n",
       "Air_Quenched_after_s               object\n",
       "Grains                             object\n",
       "Type_of_melting                    object\n",
       "Size_of_ingot                      object\n",
       "Product_form                        int64\n",
       "Temperature(K)                      int64\n",
       "0.2%proof_stress(M Pa)            float64\n",
       "UTS(M Pa)                         float64\n",
       "Elongation                         object\n",
       "Area_reduction                     object\n",
       "dtype: object"
      ]
     },
     "execution_count": 15,
     "metadata": {},
     "output_type": "execute_result"
    }
   ],
   "source": [
    "data.dtypes"
   ]
  },
  {
   "cell_type": "code",
   "execution_count": 16,
   "id": "2dde80b0",
   "metadata": {
    "scrolled": true
   },
   "outputs": [
    {
     "data": {
      "text/plain": [
       "Cr                                float64\n",
       "Ni                                float64\n",
       "Mo                                float64\n",
       "Mn                                float64\n",
       "Si                                float64\n",
       "Nb                                float64\n",
       "Ti                                float64\n",
       "Zr                                  int64\n",
       "Ta                                  int64\n",
       "V                                 float64\n",
       "W                                 float64\n",
       "Cu                                float64\n",
       "N                                 float64\n",
       "C                                 float64\n",
       "B                                 float64\n",
       "P                                 float64\n",
       "S                                 float64\n",
       "Co                                float64\n",
       "Al                                float64\n",
       "Sn                                  int64\n",
       "Pb                                  int64\n",
       "Solution_treatment_temperature    float64\n",
       "Solution_treatment_time           float64\n",
       "Water_Quenched_after_s            float64\n",
       "Air_Quenched_after_s              float64\n",
       "Grains                            float64\n",
       "Type_of_melting                   float64\n",
       "Size_of_ingot                     float64\n",
       "Product_form                        int64\n",
       "Temperature(K)                      int64\n",
       "0.2%proof_stress(M Pa)            float64\n",
       "UTS(M Pa)                         float64\n",
       "Elongation                        float64\n",
       "Area_reduction                    float64\n",
       "dtype: object"
      ]
     },
     "execution_count": 16,
     "metadata": {},
     "output_type": "execute_result"
    }
   ],
   "source": [
    "data.Solution_treatment_temperature= data.Solution_treatment_temperature.astype('float')\n",
    "data.Solution_treatment_time= data.Solution_treatment_time.astype('float')\n",
    "data.Water_Quenched_after_s= data.Water_Quenched_after_s.astype('float')\n",
    "data.Air_Quenched_after_s= data.Air_Quenched_after_s.astype('float')\n",
    "data.Grains= data.Grains.astype('float')\n",
    "data.Type_of_melting= data.Type_of_melting.astype('float')\n",
    "data.Size_of_ingot= data.Size_of_ingot.astype('float')\n",
    "data.Elongation= data.Elongation.astype('float')\n",
    "data.Area_reduction= data.Area_reduction.astype('float')\n",
    "data.dtypes"
   ]
  },
  {
   "cell_type": "code",
   "execution_count": 17,
   "id": "41944044",
   "metadata": {},
   "outputs": [
    {
     "data": {
      "text/html": [
       "<div>\n",
       "<style scoped>\n",
       "    .dataframe tbody tr th:only-of-type {\n",
       "        vertical-align: middle;\n",
       "    }\n",
       "\n",
       "    .dataframe tbody tr th {\n",
       "        vertical-align: top;\n",
       "    }\n",
       "\n",
       "    .dataframe thead th {\n",
       "        text-align: right;\n",
       "    }\n",
       "</style>\n",
       "<table border=\"1\" class=\"dataframe\">\n",
       "  <thead>\n",
       "    <tr style=\"text-align: right;\">\n",
       "      <th></th>\n",
       "      <th>Cr</th>\n",
       "      <th>Ni</th>\n",
       "      <th>Mo</th>\n",
       "      <th>Mn</th>\n",
       "      <th>Si</th>\n",
       "      <th>Nb</th>\n",
       "      <th>Ti</th>\n",
       "      <th>Zr</th>\n",
       "      <th>Ta</th>\n",
       "      <th>V</th>\n",
       "      <th>...</th>\n",
       "      <th>Air_Quenched_after_s</th>\n",
       "      <th>Grains</th>\n",
       "      <th>Type_of_melting</th>\n",
       "      <th>Size_of_ingot</th>\n",
       "      <th>Product_form</th>\n",
       "      <th>Temperature(K)</th>\n",
       "      <th>0.2%proof_stress(M Pa)</th>\n",
       "      <th>UTS(M Pa)</th>\n",
       "      <th>Elongation</th>\n",
       "      <th>Area_reduction</th>\n",
       "    </tr>\n",
       "  </thead>\n",
       "  <tbody>\n",
       "    <tr>\n",
       "      <th>count</th>\n",
       "      <td>366.000000</td>\n",
       "      <td>366.000000</td>\n",
       "      <td>366.000000</td>\n",
       "      <td>366.000000</td>\n",
       "      <td>366.000000</td>\n",
       "      <td>366.000000</td>\n",
       "      <td>366.000000</td>\n",
       "      <td>366.0</td>\n",
       "      <td>366.0</td>\n",
       "      <td>366.000000</td>\n",
       "      <td>...</td>\n",
       "      <td>366.0</td>\n",
       "      <td>366.000000</td>\n",
       "      <td>366.000000</td>\n",
       "      <td>366.000000</td>\n",
       "      <td>366.000000</td>\n",
       "      <td>366.000000</td>\n",
       "      <td>366.000000</td>\n",
       "      <td>366.000000</td>\n",
       "      <td>366.000000</td>\n",
       "      <td>366.000000</td>\n",
       "    </tr>\n",
       "    <tr>\n",
       "      <th>mean</th>\n",
       "      <td>18.330738</td>\n",
       "      <td>17.291393</td>\n",
       "      <td>1.001555</td>\n",
       "      <td>1.390710</td>\n",
       "      <td>0.596585</td>\n",
       "      <td>0.080817</td>\n",
       "      <td>0.181820</td>\n",
       "      <td>0.0</td>\n",
       "      <td>0.0</td>\n",
       "      <td>0.006016</td>\n",
       "      <td>...</td>\n",
       "      <td>0.0</td>\n",
       "      <td>179.693697</td>\n",
       "      <td>1.360656</td>\n",
       "      <td>4.560320</td>\n",
       "      <td>1.743169</td>\n",
       "      <td>744.789617</td>\n",
       "      <td>152.040984</td>\n",
       "      <td>399.699454</td>\n",
       "      <td>53.661202</td>\n",
       "      <td>69.103825</td>\n",
       "    </tr>\n",
       "    <tr>\n",
       "      <th>std</th>\n",
       "      <td>1.509317</td>\n",
       "      <td>9.319115</td>\n",
       "      <td>1.112875</td>\n",
       "      <td>0.306793</td>\n",
       "      <td>0.116476</td>\n",
       "      <td>0.212320</td>\n",
       "      <td>0.212932</td>\n",
       "      <td>0.0</td>\n",
       "      <td>0.0</td>\n",
       "      <td>0.015233</td>\n",
       "      <td>...</td>\n",
       "      <td>0.0</td>\n",
       "      <td>143.468193</td>\n",
       "      <td>0.641901</td>\n",
       "      <td>4.624571</td>\n",
       "      <td>0.758257</td>\n",
       "      <td>270.017010</td>\n",
       "      <td>42.757884</td>\n",
       "      <td>131.620406</td>\n",
       "      <td>17.373574</td>\n",
       "      <td>12.373420</td>\n",
       "    </tr>\n",
       "    <tr>\n",
       "      <th>min</th>\n",
       "      <td>16.390000</td>\n",
       "      <td>9.000000</td>\n",
       "      <td>0.002000</td>\n",
       "      <td>0.810000</td>\n",
       "      <td>0.390000</td>\n",
       "      <td>0.000000</td>\n",
       "      <td>0.000600</td>\n",
       "      <td>0.0</td>\n",
       "      <td>0.0</td>\n",
       "      <td>0.000000</td>\n",
       "      <td>...</td>\n",
       "      <td>0.0</td>\n",
       "      <td>39.396621</td>\n",
       "      <td>1.000000</td>\n",
       "      <td>0.210000</td>\n",
       "      <td>1.000000</td>\n",
       "      <td>298.000000</td>\n",
       "      <td>35.000000</td>\n",
       "      <td>47.000000</td>\n",
       "      <td>11.000000</td>\n",
       "      <td>14.000000</td>\n",
       "    </tr>\n",
       "    <tr>\n",
       "      <th>25%</th>\n",
       "      <td>17.260000</td>\n",
       "      <td>11.190000</td>\n",
       "      <td>0.060000</td>\n",
       "      <td>1.120000</td>\n",
       "      <td>0.520000</td>\n",
       "      <td>0.000000</td>\n",
       "      <td>0.014000</td>\n",
       "      <td>0.0</td>\n",
       "      <td>0.0</td>\n",
       "      <td>0.000000</td>\n",
       "      <td>...</td>\n",
       "      <td>0.0</td>\n",
       "      <td>68.593502</td>\n",
       "      <td>1.000000</td>\n",
       "      <td>0.976250</td>\n",
       "      <td>1.000000</td>\n",
       "      <td>473.000000</td>\n",
       "      <td>126.250000</td>\n",
       "      <td>312.250000</td>\n",
       "      <td>44.000000</td>\n",
       "      <td>65.000000</td>\n",
       "    </tr>\n",
       "    <tr>\n",
       "      <th>50%</th>\n",
       "      <td>17.710000</td>\n",
       "      <td>12.550000</td>\n",
       "      <td>0.120000</td>\n",
       "      <td>1.490000</td>\n",
       "      <td>0.580000</td>\n",
       "      <td>0.010000</td>\n",
       "      <td>0.036000</td>\n",
       "      <td>0.0</td>\n",
       "      <td>0.0</td>\n",
       "      <td>0.000000</td>\n",
       "      <td>...</td>\n",
       "      <td>0.0</td>\n",
       "      <td>111.430472</td>\n",
       "      <td>1.000000</td>\n",
       "      <td>4.500000</td>\n",
       "      <td>2.000000</td>\n",
       "      <td>773.000000</td>\n",
       "      <td>146.000000</td>\n",
       "      <td>434.000000</td>\n",
       "      <td>48.000000</td>\n",
       "      <td>71.000000</td>\n",
       "    </tr>\n",
       "    <tr>\n",
       "      <th>75%</th>\n",
       "      <td>20.190000</td>\n",
       "      <td>31.760000</td>\n",
       "      <td>2.317500</td>\n",
       "      <td>1.670000</td>\n",
       "      <td>0.700000</td>\n",
       "      <td>0.040000</td>\n",
       "      <td>0.450000</td>\n",
       "      <td>0.0</td>\n",
       "      <td>0.0</td>\n",
       "      <td>0.000000</td>\n",
       "      <td>...</td>\n",
       "      <td>0.0</td>\n",
       "      <td>256.000000</td>\n",
       "      <td>2.000000</td>\n",
       "      <td>5.700000</td>\n",
       "      <td>2.000000</td>\n",
       "      <td>973.000000</td>\n",
       "      <td>177.000000</td>\n",
       "      <td>489.000000</td>\n",
       "      <td>60.000000</td>\n",
       "      <td>76.750000</td>\n",
       "    </tr>\n",
       "    <tr>\n",
       "      <th>max</th>\n",
       "      <td>21.060000</td>\n",
       "      <td>34.450000</td>\n",
       "      <td>2.560000</td>\n",
       "      <td>1.750000</td>\n",
       "      <td>0.820000</td>\n",
       "      <td>0.790000</td>\n",
       "      <td>0.530000</td>\n",
       "      <td>0.0</td>\n",
       "      <td>0.0</td>\n",
       "      <td>0.057000</td>\n",
       "      <td>...</td>\n",
       "      <td>0.0</td>\n",
       "      <td>548.748013</td>\n",
       "      <td>3.000000</td>\n",
       "      <td>16.000000</td>\n",
       "      <td>3.000000</td>\n",
       "      <td>1273.000000</td>\n",
       "      <td>279.000000</td>\n",
       "      <td>645.000000</td>\n",
       "      <td>128.000000</td>\n",
       "      <td>95.000000</td>\n",
       "    </tr>\n",
       "  </tbody>\n",
       "</table>\n",
       "<p>8 rows × 34 columns</p>\n",
       "</div>"
      ],
      "text/plain": [
       "               Cr          Ni          Mo          Mn          Si          Nb  \\\n",
       "count  366.000000  366.000000  366.000000  366.000000  366.000000  366.000000   \n",
       "mean    18.330738   17.291393    1.001555    1.390710    0.596585    0.080817   \n",
       "std      1.509317    9.319115    1.112875    0.306793    0.116476    0.212320   \n",
       "min     16.390000    9.000000    0.002000    0.810000    0.390000    0.000000   \n",
       "25%     17.260000   11.190000    0.060000    1.120000    0.520000    0.000000   \n",
       "50%     17.710000   12.550000    0.120000    1.490000    0.580000    0.010000   \n",
       "75%     20.190000   31.760000    2.317500    1.670000    0.700000    0.040000   \n",
       "max     21.060000   34.450000    2.560000    1.750000    0.820000    0.790000   \n",
       "\n",
       "               Ti     Zr     Ta           V  ...  Air_Quenched_after_s  \\\n",
       "count  366.000000  366.0  366.0  366.000000  ...                 366.0   \n",
       "mean     0.181820    0.0    0.0    0.006016  ...                   0.0   \n",
       "std      0.212932    0.0    0.0    0.015233  ...                   0.0   \n",
       "min      0.000600    0.0    0.0    0.000000  ...                   0.0   \n",
       "25%      0.014000    0.0    0.0    0.000000  ...                   0.0   \n",
       "50%      0.036000    0.0    0.0    0.000000  ...                   0.0   \n",
       "75%      0.450000    0.0    0.0    0.000000  ...                   0.0   \n",
       "max      0.530000    0.0    0.0    0.057000  ...                   0.0   \n",
       "\n",
       "           Grains  Type_of_melting  Size_of_ingot  Product_form  \\\n",
       "count  366.000000       366.000000     366.000000    366.000000   \n",
       "mean   179.693697         1.360656       4.560320      1.743169   \n",
       "std    143.468193         0.641901       4.624571      0.758257   \n",
       "min     39.396621         1.000000       0.210000      1.000000   \n",
       "25%     68.593502         1.000000       0.976250      1.000000   \n",
       "50%    111.430472         1.000000       4.500000      2.000000   \n",
       "75%    256.000000         2.000000       5.700000      2.000000   \n",
       "max    548.748013         3.000000      16.000000      3.000000   \n",
       "\n",
       "       Temperature(K)  0.2%proof_stress(M Pa)   UTS(M Pa)  Elongation  \\\n",
       "count      366.000000              366.000000  366.000000  366.000000   \n",
       "mean       744.789617              152.040984  399.699454   53.661202   \n",
       "std        270.017010               42.757884  131.620406   17.373574   \n",
       "min        298.000000               35.000000   47.000000   11.000000   \n",
       "25%        473.000000              126.250000  312.250000   44.000000   \n",
       "50%        773.000000              146.000000  434.000000   48.000000   \n",
       "75%        973.000000              177.000000  489.000000   60.000000   \n",
       "max       1273.000000              279.000000  645.000000  128.000000   \n",
       "\n",
       "       Area_reduction  \n",
       "count      366.000000  \n",
       "mean        69.103825  \n",
       "std         12.373420  \n",
       "min         14.000000  \n",
       "25%         65.000000  \n",
       "50%         71.000000  \n",
       "75%         76.750000  \n",
       "max         95.000000  \n",
       "\n",
       "[8 rows x 34 columns]"
      ]
     },
     "execution_count": 17,
     "metadata": {},
     "output_type": "execute_result"
    }
   ],
   "source": [
    "data.describe()"
   ]
  },
  {
   "cell_type": "code",
   "execution_count": 18,
   "id": "a3515950",
   "metadata": {},
   "outputs": [
    {
     "data": {
      "text/plain": [
       "count    366.000000\n",
       "mean      18.330738\n",
       "std        1.509317\n",
       "min       16.390000\n",
       "25%       17.260000\n",
       "50%       17.710000\n",
       "75%       20.190000\n",
       "max       21.060000\n",
       "Name: Cr, dtype: float64"
      ]
     },
     "execution_count": 18,
     "metadata": {},
     "output_type": "execute_result"
    }
   ],
   "source": [
    "data.Cr.describe()"
   ]
  },
  {
   "cell_type": "code",
   "execution_count": 19,
   "id": "53516cf7",
   "metadata": {},
   "outputs": [
    {
     "name": "stderr",
     "output_type": "stream",
     "text": [
      "/Users/dheervarsani/opt/anaconda3/lib/python3.9/site-packages/seaborn/distributions.py:2619: FutureWarning: `distplot` is a deprecated function and will be removed in a future version. Please adapt your code to use either `displot` (a figure-level function with similar flexibility) or `histplot` (an axes-level function for histograms).\n",
      "  warnings.warn(msg, FutureWarning)\n"
     ]
    },
    {
     "data": {
      "text/plain": [
       "<AxesSubplot:xlabel='Cr', ylabel='Density'>"
      ]
     },
     "execution_count": 19,
     "metadata": {},
     "output_type": "execute_result"
    },
    {
     "data": {
      "image/png": "[encoded data removed]",
      "text/plain": [
       "<Figure size 432x288 with 1 Axes>"
      ]
     },
     "metadata": {
      "needs_background": "light"
     },
     "output_type": "display_data"
    }
   ],
   "source": [
    "sns.distplot(data['Cr'])"
   ]
  },
  {
   "cell_type": "code",
   "execution_count": 20,
   "id": "43b75d8c",
   "metadata": {},
   "outputs": [
    {
     "name": "stdout",
     "output_type": "stream",
     "text": [
      "Skewness: 0.722988\n",
      "Kurtosis: -0.961426\n"
     ]
    }
   ],
   "source": [
    "print(\"Skewness: %f\" % data['Cr'].skew())\n",
    "print(\"Kurtosis: %f\" % data['Cr'].kurt())"
   ]
  },
  {
   "cell_type": "code",
   "execution_count": 21,
   "id": "c219d0d1",
   "metadata": {},
   "outputs": [],
   "source": [
    "def scale(a):\n",
    "    b = (a-a.min())/(a.max()-a.min())\n",
    "    return b"
   ]
  },
  {
   "cell_type": "code",
   "execution_count": 22,
   "id": "28b74e41",
   "metadata": {},
   "outputs": [],
   "source": [
    "data_scale = data.copy()"
   ]
  },
  {
   "cell_type": "code",
   "execution_count": 23,
   "id": "7788812a",
   "metadata": {},
   "outputs": [],
   "source": [
    "data_scale ['Solution_treatment_temperature'] = scale(data_scale['Solution_treatment_temperature'])\n",
    "data_scale['Solution_treatment_time'] = scale(data_scale['Solution_treatment_time'])\n",
    "data_scale ['Water_Quenched_after_s'] = scale(data_scale['Water_Quenched_after_s'])\n",
    "data_scale ['Air_Quenched_after_s'] = scale(data_scale['Air_Quenched_after_s'])\n",
    "data_scale['Grains'] = scale(data_scale['Grains'])\n",
    "data_scale['Type_of_melting'] = scale(data_scale['Type_of_melting'])\n",
    "data_scale['Size_of_ingot'] = scale(data_scale['Size_of_ingot'])\n",
    "data_scale['Elongation'] = scale(data_scale['Elongation'])\n",
    "data_scale['Area_reduction'] = scale(data_scale['Area_reduction'])"
   ]
  },
  {
   "cell_type": "code",
   "execution_count": 24,
   "id": "ef1e7c9f",
   "metadata": {},
   "outputs": [
    {
     "data": {
      "text/html": [
       "<div>\n",
       "<style scoped>\n",
       "    .dataframe tbody tr th:only-of-type {\n",
       "        vertical-align: middle;\n",
       "    }\n",
       "\n",
       "    .dataframe tbody tr th {\n",
       "        vertical-align: top;\n",
       "    }\n",
       "\n",
       "    .dataframe thead th {\n",
       "        text-align: right;\n",
       "    }\n",
       "</style>\n",
       "<table border=\"1\" class=\"dataframe\">\n",
       "  <thead>\n",
       "    <tr style=\"text-align: right;\">\n",
       "      <th></th>\n",
       "      <th>Cr</th>\n",
       "      <th>Ni</th>\n",
       "      <th>Mo</th>\n",
       "      <th>Mn</th>\n",
       "      <th>Si</th>\n",
       "      <th>Nb</th>\n",
       "      <th>Ti</th>\n",
       "      <th>Zr</th>\n",
       "      <th>Ta</th>\n",
       "      <th>V</th>\n",
       "      <th>...</th>\n",
       "      <th>Air_Quenched_after_s</th>\n",
       "      <th>Grains</th>\n",
       "      <th>Type_of_melting</th>\n",
       "      <th>Size_of_ingot</th>\n",
       "      <th>Product_form</th>\n",
       "      <th>Temperature(K)</th>\n",
       "      <th>0.2%proof_stress(M Pa)</th>\n",
       "      <th>UTS(M Pa)</th>\n",
       "      <th>Elongation</th>\n",
       "      <th>Area_reduction</th>\n",
       "    </tr>\n",
       "    <tr>\n",
       "      <th>Comments</th>\n",
       "      <th></th>\n",
       "      <th></th>\n",
       "      <th></th>\n",
       "      <th></th>\n",
       "      <th></th>\n",
       "      <th></th>\n",
       "      <th></th>\n",
       "      <th></th>\n",
       "      <th></th>\n",
       "      <th></th>\n",
       "      <th></th>\n",
       "      <th></th>\n",
       "      <th></th>\n",
       "      <th></th>\n",
       "      <th></th>\n",
       "      <th></th>\n",
       "      <th></th>\n",
       "      <th></th>\n",
       "      <th></th>\n",
       "      <th></th>\n",
       "      <th></th>\n",
       "    </tr>\n",
       "  </thead>\n",
       "  <tbody>\n",
       "    <tr>\n",
       "      <th>NRIM/CDS/No4B/1986 ABL</th>\n",
       "      <td>18.16</td>\n",
       "      <td>9.8</td>\n",
       "      <td>0.05</td>\n",
       "      <td>1.47</td>\n",
       "      <td>0.58</td>\n",
       "      <td>0.04</td>\n",
       "      <td>0.031</td>\n",
       "      <td>0</td>\n",
       "      <td>0</td>\n",
       "      <td>0.0</td>\n",
       "      <td>...</td>\n",
       "      <td>NaN</td>\n",
       "      <td>0.391596</td>\n",
       "      <td>0.0</td>\n",
       "      <td>0.271691</td>\n",
       "      <td>1</td>\n",
       "      <td>298</td>\n",
       "      <td>210.0</td>\n",
       "      <td>620.0</td>\n",
       "      <td>0.512821</td>\n",
       "      <td>0.827160</td>\n",
       "    </tr>\n",
       "    <tr>\n",
       "      <th>NRIM/CDS/No4B/1986 ABL</th>\n",
       "      <td>18.16</td>\n",
       "      <td>9.8</td>\n",
       "      <td>0.05</td>\n",
       "      <td>1.47</td>\n",
       "      <td>0.58</td>\n",
       "      <td>0.04</td>\n",
       "      <td>0.031</td>\n",
       "      <td>0</td>\n",
       "      <td>0</td>\n",
       "      <td>0.0</td>\n",
       "      <td>...</td>\n",
       "      <td>NaN</td>\n",
       "      <td>0.391596</td>\n",
       "      <td>0.0</td>\n",
       "      <td>0.271691</td>\n",
       "      <td>1</td>\n",
       "      <td>373</td>\n",
       "      <td>207.0</td>\n",
       "      <td>503.0</td>\n",
       "      <td>0.435897</td>\n",
       "      <td>0.839506</td>\n",
       "    </tr>\n",
       "    <tr>\n",
       "      <th>NRIM/CDS/No4B/1986 ABL</th>\n",
       "      <td>18.16</td>\n",
       "      <td>9.8</td>\n",
       "      <td>0.05</td>\n",
       "      <td>1.47</td>\n",
       "      <td>0.58</td>\n",
       "      <td>0.04</td>\n",
       "      <td>0.031</td>\n",
       "      <td>0</td>\n",
       "      <td>0</td>\n",
       "      <td>0.0</td>\n",
       "      <td>...</td>\n",
       "      <td>NaN</td>\n",
       "      <td>0.391596</td>\n",
       "      <td>0.0</td>\n",
       "      <td>0.271691</td>\n",
       "      <td>1</td>\n",
       "      <td>473</td>\n",
       "      <td>177.0</td>\n",
       "      <td>465.0</td>\n",
       "      <td>0.299145</td>\n",
       "      <td>0.777778</td>\n",
       "    </tr>\n",
       "    <tr>\n",
       "      <th>NRIM/CDS/No4B/1986 ABL</th>\n",
       "      <td>18.16</td>\n",
       "      <td>9.8</td>\n",
       "      <td>0.05</td>\n",
       "      <td>1.47</td>\n",
       "      <td>0.58</td>\n",
       "      <td>0.04</td>\n",
       "      <td>0.031</td>\n",
       "      <td>0</td>\n",
       "      <td>0</td>\n",
       "      <td>0.0</td>\n",
       "      <td>...</td>\n",
       "      <td>NaN</td>\n",
       "      <td>0.391596</td>\n",
       "      <td>0.0</td>\n",
       "      <td>0.271691</td>\n",
       "      <td>1</td>\n",
       "      <td>573</td>\n",
       "      <td>162.0</td>\n",
       "      <td>468.0</td>\n",
       "      <td>0.290598</td>\n",
       "      <td>0.703704</td>\n",
       "    </tr>\n",
       "    <tr>\n",
       "      <th>NRIM/CDS/No4B/1986 ABL</th>\n",
       "      <td>18.16</td>\n",
       "      <td>9.8</td>\n",
       "      <td>0.05</td>\n",
       "      <td>1.47</td>\n",
       "      <td>0.58</td>\n",
       "      <td>0.04</td>\n",
       "      <td>0.031</td>\n",
       "      <td>0</td>\n",
       "      <td>0</td>\n",
       "      <td>0.0</td>\n",
       "      <td>...</td>\n",
       "      <td>NaN</td>\n",
       "      <td>0.391596</td>\n",
       "      <td>0.0</td>\n",
       "      <td>0.271691</td>\n",
       "      <td>1</td>\n",
       "      <td>673</td>\n",
       "      <td>154.0</td>\n",
       "      <td>463.0</td>\n",
       "      <td>0.307692</td>\n",
       "      <td>0.728395</td>\n",
       "    </tr>\n",
       "  </tbody>\n",
       "</table>\n",
       "<p>5 rows × 34 columns</p>\n",
       "</div>"
      ],
      "text/plain": [
       "                           Cr   Ni    Mo    Mn    Si    Nb     Ti  Zr  Ta  \\\n",
       "Comments                                                                    \n",
       "NRIM/CDS/No4B/1986 ABL  18.16  9.8  0.05  1.47  0.58  0.04  0.031   0   0   \n",
       "NRIM/CDS/No4B/1986 ABL  18.16  9.8  0.05  1.47  0.58  0.04  0.031   0   0   \n",
       "NRIM/CDS/No4B/1986 ABL  18.16  9.8  0.05  1.47  0.58  0.04  0.031   0   0   \n",
       "NRIM/CDS/No4B/1986 ABL  18.16  9.8  0.05  1.47  0.58  0.04  0.031   0   0   \n",
       "NRIM/CDS/No4B/1986 ABL  18.16  9.8  0.05  1.47  0.58  0.04  0.031   0   0   \n",
       "\n",
       "                          V  ...  Air_Quenched_after_s    Grains  \\\n",
       "Comments                     ...                                   \n",
       "NRIM/CDS/No4B/1986 ABL  0.0  ...                   NaN  0.391596   \n",
       "NRIM/CDS/No4B/1986 ABL  0.0  ...                   NaN  0.391596   \n",
       "NRIM/CDS/No4B/1986 ABL  0.0  ...                   NaN  0.391596   \n",
       "NRIM/CDS/No4B/1986 ABL  0.0  ...                   NaN  0.391596   \n",
       "NRIM/CDS/No4B/1986 ABL  0.0  ...                   NaN  0.391596   \n",
       "\n",
       "                        Type_of_melting  Size_of_ingot  Product_form  \\\n",
       "Comments                                                               \n",
       "NRIM/CDS/No4B/1986 ABL              0.0       0.271691             1   \n",
       "NRIM/CDS/No4B/1986 ABL              0.0       0.271691             1   \n",
       "NRIM/CDS/No4B/1986 ABL              0.0       0.271691             1   \n",
       "NRIM/CDS/No4B/1986 ABL              0.0       0.271691             1   \n",
       "NRIM/CDS/No4B/1986 ABL              0.0       0.271691             1   \n",
       "\n",
       "                        Temperature(K)  0.2%proof_stress(M Pa)  UTS(M Pa)  \\\n",
       "Comments                                                                    \n",
       "NRIM/CDS/No4B/1986 ABL             298                   210.0      620.0   \n",
       "NRIM/CDS/No4B/1986 ABL             373                   207.0      503.0   \n",
       "NRIM/CDS/No4B/1986 ABL             473                   177.0      465.0   \n",
       "NRIM/CDS/No4B/1986 ABL             573                   162.0      468.0   \n",
       "NRIM/CDS/No4B/1986 ABL             673                   154.0      463.0   \n",
       "\n",
       "                        Elongation  Area_reduction  \n",
       "Comments                                            \n",
       "NRIM/CDS/No4B/1986 ABL    0.512821        0.827160  \n",
       "NRIM/CDS/No4B/1986 ABL    0.435897        0.839506  \n",
       "NRIM/CDS/No4B/1986 ABL    0.299145        0.777778  \n",
       "NRIM/CDS/No4B/1986 ABL    0.290598        0.703704  \n",
       "NRIM/CDS/No4B/1986 ABL    0.307692        0.728395  \n",
       "\n",
       "[5 rows x 34 columns]"
      ]
     },
     "execution_count": 24,
     "metadata": {},
     "output_type": "execute_result"
    }
   ],
   "source": [
    "data_scale.head()"
   ]
  },
  {
   "cell_type": "code",
   "execution_count": 25,
   "id": "e14b99a5",
   "metadata": {},
   "outputs": [
    {
     "data": {
      "text/plain": [
       "<matplotlib.lines.Line2D at 0x7fa47a68f100>"
      ]
     },
     "execution_count": 25,
     "metadata": {},
     "output_type": "execute_result"
    },
    {
     "data": {
      "image/png": "[encoded data removed]",
      "text/plain": [
       "<Figure size 576x432 with 1 Axes>"
      ]
     },
     "metadata": {
      "needs_background": "light"
     },
     "output_type": "display_data"
    }
   ],
   "source": [
    "var = 'Solution_treatment_temperature'\n",
    "data_plt = pd.concat([data_scale['Grains'], data_scale[var]], axis=1)\n",
    "f, ax = plt.subplots(figsize=(8, 6))\n",
    "fig = sns.boxplot(x=var, y=\"Grains\", data=data_plt)\n",
    "fig.axis(ymin=0, ymax=1)\n",
    "plt.axhline(data_scale.Grains.mean(),color='r',linestyle='dashed',linewidth=2)"
   ]
  },
  {
   "cell_type": "code",
   "execution_count": 26,
   "id": "fdfffccb",
   "metadata": {},
   "outputs": [
    {
     "data": {
      "text/plain": [
       "<matplotlib.lines.Line2D at 0x7fa47a68f070>"
      ]
     },
     "execution_count": 26,
     "metadata": {},
     "output_type": "execute_result"
    },
    {
     "data": {
      "image/png": "[encoded data removed]",
      "text/plain": [
       "<Figure size 576x432 with 1 Axes>"
      ]
     },
     "metadata": {
      "needs_background": "light"
     },
     "output_type": "display_data"
    }
   ],
   "source": [
    "var = 'Solution_treatment_temperature'\n",
    "data_plt = pd.concat([data_scale['Elongation'], data_scale[var]], axis=1)\n",
    "f, ax = plt.subplots(figsize=(8, 6))\n",
    "fig = sns.boxplot(x=var, y=\"Elongation\", data=data_plt)\n",
    "fig.axis(ymin=0, ymax=1)\n",
    "plt.axhline(data_scale.Elongation.mean(),color='r',linestyle='dashed',linewidth=2)"
   ]
  },
  {
   "cell_type": "code",
   "execution_count": 27,
   "id": "4476f7ea",
   "metadata": {},
   "outputs": [
    {
     "data": {
      "text/plain": [
       "<matplotlib.lines.Line2D at 0x7fa47a8be130>"
      ]
     },
     "execution_count": 27,
     "metadata": {},
     "output_type": "execute_result"
    },
    {
     "data": {
      "image/png": "[encoded data removed]",
      "text/plain": [
       "<Figure size 576x432 with 1 Axes>"
      ]
     },
     "metadata": {
      "needs_background": "light"
     },
     "output_type": "display_data"
    }
   ],
   "source": [
    "var = 'Solution_treatment_temperature'\n",
    "data_plt = pd.concat([data_scale['Area_reduction'], data_scale[var]], axis=1)\n",
    "f, ax = plt.subplots(figsize=(8, 6))\n",
    "fig = sns.boxplot(x=var, y=\"Area_reduction\", data=data_plt)\n",
    "fig.axis(ymin=0, ymax=1)\n",
    "plt.axhline(data_scale.Area_reduction.mean(),color='r',linestyle='dashed',linewidth=2)"
   ]
  },
  {
   "cell_type": "code",
   "execution_count": 28,
   "id": "d4db0e03",
   "metadata": {},
   "outputs": [
    {
     "data": {
      "image/png": "[encoded data removed]",
      "text/plain": [
       "<Figure size 864x648 with 2 Axes>"
      ]
     },
     "metadata": {
      "needs_background": "light"
     },
     "output_type": "display_data"
    }
   ],
   "source": [
    "corrmat = data.corr()\n",
    "f, ax = plt.subplots(figsize=(12, 9))\n",
    "sns.heatmap(corrmat, square=True);"
   ]
  },
  {
   "cell_type": "code",
   "execution_count": null,
   "id": "62a0bad0",
   "metadata": {},
   "outputs": [],
   "source": []
  }
 ],
 "metadata": {
  "kernelspec": {
   "display_name": "Python 3 (ipykernel)",
   "language": "python",
   "name": "python3"
  },
  "language_info": {
   "codemirror_mode": {
    "name": "ipython",
    "version": 3
   },
   "file_extension": ".py",
   "mimetype": "text/x-python",
   "name": "python",
   "nbconvert_exporter": "python",
   "pygments_lexer": "ipython3",
   "version": "3.9.7"
  }
 },
 "nbformat": 4,
 "nbformat_minor": 5
}
