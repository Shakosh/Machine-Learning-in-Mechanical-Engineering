{
 "cells": [
  {
   "cell_type": "markdown",
   "id": "9f189017",
   "metadata": {},
   "source": [
    "## Load the `python` packages"
   ]
  },
  {
   "cell_type": "code",
   "execution_count": 1,
   "id": "499386ef",
   "metadata": {},
   "outputs": [],
   "source": [
    "import pandas as pd\n",
    "import numpy as np\n",
    "import operator\n",
    "import seaborn as sns\n",
    "import matplotlib.pyplot as plt\n",
    "\n",
    "#from sklearn import datasets\n",
    "from sklearn.datasets import load_iris\n",
    "\n",
    "%matplotlib inline\n",
    "\n",
    "# handy helper for displaying stuff\n",
    "from IPython.display import Image"
   ]
  },
  {
   "cell_type": "markdown",
   "id": "df1d6a06",
   "metadata": {},
   "source": [
    "## Load the dataset"
   ]
  },
  {
   "cell_type": "code",
   "execution_count": 2,
   "id": "949e2863",
   "metadata": {},
   "outputs": [],
   "source": [
    "iris = load_iris()"
   ]
  },
  {
   "cell_type": "markdown",
   "id": "5cb69876",
   "metadata": {},
   "source": [
    "### Convert the dataset into a pandas dataframe:"
   ]
  },
  {
   "cell_type": "code",
   "execution_count": 3,
   "id": "59421b15",
   "metadata": {},
   "outputs": [],
   "source": [
    "# convert the dataset into a pandas dataframe (just a matter of taste!)\n",
    "iris_df = pd.DataFrame(data=iris.data, columns=iris.feature_names)"
   ]
  },
  {
   "cell_type": "markdown",
   "id": "5feb73a9",
   "metadata": {},
   "source": [
    "#### Change the names of the columns (features):"
   ]
  },
  {
   "cell_type": "code",
   "execution_count": 4,
   "id": "2643a5fd",
   "metadata": {},
   "outputs": [],
   "source": [
    "iris_features = [\"sepal_length\", \"sepal_width\", \"petal_length\", \"petal_width\"]\n",
    "iris_df.columns = iris_features"
   ]
  },
  {
   "cell_type": "markdown",
   "id": "21dc28f9",
   "metadata": {},
   "source": [
    "#### Add a column of the target classes to the dataframe:"
   ]
  },
  {
   "cell_type": "code",
   "execution_count": 5,
   "id": "d385bb95",
   "metadata": {},
   "outputs": [
    {
     "data": {
      "text/html": [
       "<div>\n",
       "<style scoped>\n",
       "    .dataframe tbody tr th:only-of-type {\n",
       "        vertical-align: middle;\n",
       "    }\n",
       "\n",
       "    .dataframe tbody tr th {\n",
       "        vertical-align: top;\n",
       "    }\n",
       "\n",
       "    .dataframe thead th {\n",
       "        text-align: right;\n",
       "    }\n",
       "</style>\n",
       "<table border=\"1\" class=\"dataframe\">\n",
       "  <thead>\n",
       "    <tr style=\"text-align: right;\">\n",
       "      <th></th>\n",
       "      <th>sepal_length</th>\n",
       "      <th>sepal_width</th>\n",
       "      <th>petal_length</th>\n",
       "      <th>petal_width</th>\n",
       "      <th>target</th>\n",
       "    </tr>\n",
       "  </thead>\n",
       "  <tbody>\n",
       "    <tr>\n",
       "      <th>0</th>\n",
       "      <td>5.1</td>\n",
       "      <td>3.5</td>\n",
       "      <td>1.4</td>\n",
       "      <td>0.2</td>\n",
       "      <td>0</td>\n",
       "    </tr>\n",
       "    <tr>\n",
       "      <th>1</th>\n",
       "      <td>4.9</td>\n",
       "      <td>3.0</td>\n",
       "      <td>1.4</td>\n",
       "      <td>0.2</td>\n",
       "      <td>0</td>\n",
       "    </tr>\n",
       "    <tr>\n",
       "      <th>2</th>\n",
       "      <td>4.7</td>\n",
       "      <td>3.2</td>\n",
       "      <td>1.3</td>\n",
       "      <td>0.2</td>\n",
       "      <td>0</td>\n",
       "    </tr>\n",
       "    <tr>\n",
       "      <th>3</th>\n",
       "      <td>4.6</td>\n",
       "      <td>3.1</td>\n",
       "      <td>1.5</td>\n",
       "      <td>0.2</td>\n",
       "      <td>0</td>\n",
       "    </tr>\n",
       "    <tr>\n",
       "      <th>4</th>\n",
       "      <td>5.0</td>\n",
       "      <td>3.6</td>\n",
       "      <td>1.4</td>\n",
       "      <td>0.2</td>\n",
       "      <td>0</td>\n",
       "    </tr>\n",
       "  </tbody>\n",
       "</table>\n",
       "</div>"
      ],
      "text/plain": [
       "   sepal_length  sepal_width  petal_length  petal_width  target\n",
       "0           5.1          3.5           1.4          0.2       0\n",
       "1           4.9          3.0           1.4          0.2       0\n",
       "2           4.7          3.2           1.3          0.2       0\n",
       "3           4.6          3.1           1.5          0.2       0\n",
       "4           5.0          3.6           1.4          0.2       0"
      ]
     },
     "execution_count": 5,
     "metadata": {},
     "output_type": "execute_result"
    }
   ],
   "source": [
    "iris_df[\"target\"] = iris.target\n",
    "iris_df.head()"
   ]
  },
  {
   "cell_type": "markdown",
   "id": "1aa17763",
   "metadata": {},
   "source": [
    "#### Add a column for the target classes that contains the names of the species:"
   ]
  },
  {
   "cell_type": "code",
   "execution_count": 6,
   "id": "7c56cf1a",
   "metadata": {},
   "outputs": [
    {
     "data": {
      "text/html": [
       "<div>\n",
       "<style scoped>\n",
       "    .dataframe tbody tr th:only-of-type {\n",
       "        vertical-align: middle;\n",
       "    }\n",
       "\n",
       "    .dataframe tbody tr th {\n",
       "        vertical-align: top;\n",
       "    }\n",
       "\n",
       "    .dataframe thead th {\n",
       "        text-align: right;\n",
       "    }\n",
       "</style>\n",
       "<table border=\"1\" class=\"dataframe\">\n",
       "  <thead>\n",
       "    <tr style=\"text-align: right;\">\n",
       "      <th></th>\n",
       "      <th>sepal_length</th>\n",
       "      <th>sepal_width</th>\n",
       "      <th>petal_length</th>\n",
       "      <th>petal_width</th>\n",
       "      <th>target</th>\n",
       "      <th>species</th>\n",
       "    </tr>\n",
       "  </thead>\n",
       "  <tbody>\n",
       "    <tr>\n",
       "      <th>0</th>\n",
       "      <td>5.1</td>\n",
       "      <td>3.5</td>\n",
       "      <td>1.4</td>\n",
       "      <td>0.2</td>\n",
       "      <td>0</td>\n",
       "      <td>setosa</td>\n",
       "    </tr>\n",
       "    <tr>\n",
       "      <th>1</th>\n",
       "      <td>4.9</td>\n",
       "      <td>3.0</td>\n",
       "      <td>1.4</td>\n",
       "      <td>0.2</td>\n",
       "      <td>0</td>\n",
       "      <td>setosa</td>\n",
       "    </tr>\n",
       "    <tr>\n",
       "      <th>2</th>\n",
       "      <td>4.7</td>\n",
       "      <td>3.2</td>\n",
       "      <td>1.3</td>\n",
       "      <td>0.2</td>\n",
       "      <td>0</td>\n",
       "      <td>setosa</td>\n",
       "    </tr>\n",
       "    <tr>\n",
       "      <th>3</th>\n",
       "      <td>4.6</td>\n",
       "      <td>3.1</td>\n",
       "      <td>1.5</td>\n",
       "      <td>0.2</td>\n",
       "      <td>0</td>\n",
       "      <td>setosa</td>\n",
       "    </tr>\n",
       "    <tr>\n",
       "      <th>4</th>\n",
       "      <td>5.0</td>\n",
       "      <td>3.6</td>\n",
       "      <td>1.4</td>\n",
       "      <td>0.2</td>\n",
       "      <td>0</td>\n",
       "      <td>setosa</td>\n",
       "    </tr>\n",
       "    <tr>\n",
       "      <th>...</th>\n",
       "      <td>...</td>\n",
       "      <td>...</td>\n",
       "      <td>...</td>\n",
       "      <td>...</td>\n",
       "      <td>...</td>\n",
       "      <td>...</td>\n",
       "    </tr>\n",
       "    <tr>\n",
       "      <th>145</th>\n",
       "      <td>6.7</td>\n",
       "      <td>3.0</td>\n",
       "      <td>5.2</td>\n",
       "      <td>2.3</td>\n",
       "      <td>2</td>\n",
       "      <td>virginica</td>\n",
       "    </tr>\n",
       "    <tr>\n",
       "      <th>146</th>\n",
       "      <td>6.3</td>\n",
       "      <td>2.5</td>\n",
       "      <td>5.0</td>\n",
       "      <td>1.9</td>\n",
       "      <td>2</td>\n",
       "      <td>virginica</td>\n",
       "    </tr>\n",
       "    <tr>\n",
       "      <th>147</th>\n",
       "      <td>6.5</td>\n",
       "      <td>3.0</td>\n",
       "      <td>5.2</td>\n",
       "      <td>2.0</td>\n",
       "      <td>2</td>\n",
       "      <td>virginica</td>\n",
       "    </tr>\n",
       "    <tr>\n",
       "      <th>148</th>\n",
       "      <td>6.2</td>\n",
       "      <td>3.4</td>\n",
       "      <td>5.4</td>\n",
       "      <td>2.3</td>\n",
       "      <td>2</td>\n",
       "      <td>virginica</td>\n",
       "    </tr>\n",
       "    <tr>\n",
       "      <th>149</th>\n",
       "      <td>5.9</td>\n",
       "      <td>3.0</td>\n",
       "      <td>5.1</td>\n",
       "      <td>1.8</td>\n",
       "      <td>2</td>\n",
       "      <td>virginica</td>\n",
       "    </tr>\n",
       "  </tbody>\n",
       "</table>\n",
       "<p>150 rows × 6 columns</p>\n",
       "</div>"
      ],
      "text/plain": [
       "     sepal_length  sepal_width  petal_length  petal_width  target    species\n",
       "0             5.1          3.5           1.4          0.2       0     setosa\n",
       "1             4.9          3.0           1.4          0.2       0     setosa\n",
       "2             4.7          3.2           1.3          0.2       0     setosa\n",
       "3             4.6          3.1           1.5          0.2       0     setosa\n",
       "4             5.0          3.6           1.4          0.2       0     setosa\n",
       "..            ...          ...           ...          ...     ...        ...\n",
       "145           6.7          3.0           5.2          2.3       2  virginica\n",
       "146           6.3          2.5           5.0          1.9       2  virginica\n",
       "147           6.5          3.0           5.2          2.0       2  virginica\n",
       "148           6.2          3.4           5.4          2.3       2  virginica\n",
       "149           5.9          3.0           5.1          1.8       2  virginica\n",
       "\n",
       "[150 rows x 6 columns]"
      ]
     },
     "execution_count": 6,
     "metadata": {},
     "output_type": "execute_result"
    }
   ],
   "source": [
    "iris_df['species'] = [iris.target_names[x] for x in iris.target]\n",
    "iris_df"
   ]
  },
  {
   "cell_type": "markdown",
   "id": "32230a27",
   "metadata": {},
   "source": [
    "### Plot pair-wise the features of the dataframe"
   ]
  },
  {
   "cell_type": "code",
   "execution_count": 7,
   "id": "0e398fa7",
   "metadata": {},
   "outputs": [
    {
     "data": {
      "text/plain": [
       "<seaborn.axisgrid.PairGrid at 0x7f806da02a60>"
      ]
     },
     "execution_count": 7,
     "metadata": {},
     "output_type": "execute_result"
    },
    {
     "data": {
      "image/png": "[encoded data removed]",
      "text/plain": [
       "<Figure size 804.75x720 with 20 Axes>"
      ]
     },
     "metadata": {
      "needs_background": "light"
     },
     "output_type": "display_data"
    }
   ],
   "source": [
    "sns.pairplot(iris_df, vars = iris_df.columns[0:4], hue='species', palette='husl')"
   ]
  },
  {
   "cell_type": "markdown",
   "id": "e7573e52",
   "metadata": {},
   "source": [
    "### See the correlations between features and targets"
   ]
  },
  {
   "cell_type": "code",
   "execution_count": 8,
   "id": "ee011b1f",
   "metadata": {},
   "outputs": [
    {
     "data": {
      "text/plain": [
       "<AxesSubplot:>"
      ]
     },
     "execution_count": 8,
     "metadata": {},
     "output_type": "execute_result"
    },
    {
     "data": {
      "image/png": "[encoded data removed]",
      "text/plain": [
       "<Figure size 432x288 with 2 Axes>"
      ]
     },
     "metadata": {
      "needs_background": "light"
     },
     "output_type": "display_data"
    }
   ],
   "source": [
    "sns.heatmap(iris_df[iris_features].corr(), annot=True)"
   ]
  },
  {
   "cell_type": "markdown",
   "id": "35b8ac0f",
   "metadata": {},
   "source": [
    "# 1. Decision Trees Models\n",
    "\n",
    "https://scikit-learn.org/stable/modules/generated/sklearn.tree.DecisionTreeClassifier.html\n",
    "\n",
    "### A simple model: only sepal_length over petal_width"
   ]
  },
  {
   "cell_type": "code",
   "execution_count": 9,
   "id": "7af57918",
   "metadata": {},
   "outputs": [],
   "source": [
    "from sklearn.tree import DecisionTreeClassifier"
   ]
  },
  {
   "cell_type": "code",
   "execution_count": 10,
   "id": "aacc31dc",
   "metadata": {},
   "outputs": [],
   "source": [
    "which_features = ['sepal_length', 'sepal_width']\n",
    "X = iris_df[which_features].values # take two features from the dataframe "
   ]
  },
  {
   "cell_type": "code",
   "execution_count": 11,
   "id": "c43b91c3",
   "metadata": {},
   "outputs": [],
   "source": [
    "Y = iris_df.target.values"
   ]
  },
  {
   "cell_type": "code",
   "execution_count": 12,
   "id": "e884d90f",
   "metadata": {},
   "outputs": [],
   "source": [
    "max_tree_depth = 2\n",
    "tree_clf = DecisionTreeClassifier(max_depth=max_tree_depth)"
   ]
  },
  {
   "cell_type": "code",
   "execution_count": 13,
   "id": "034bb02f",
   "metadata": {},
   "outputs": [],
   "source": [
    "#tree_clf = clf.fit(iris.data, iris.target)\n",
    "tree_clf = tree_clf.fit(X, Y)"
   ]
  },
  {
   "cell_type": "code",
   "execution_count": 14,
   "id": "5fa7fab5",
   "metadata": {},
   "outputs": [
    {
     "data": {
      "text/plain": [
       "array([0])"
      ]
     },
     "execution_count": 14,
     "metadata": {},
     "output_type": "execute_result"
    }
   ],
   "source": [
    "tree_clf.predict([[2.4, 5.4]])"
   ]
  },
  {
   "cell_type": "markdown",
   "id": "f53189bb",
   "metadata": {},
   "source": [
    "# 2. Visualize the trained Decision Tree\n",
    "\n",
    "### First way: using `sklearn.tree.plot_tree`\n",
    "\n",
    "https://scikit-learn.org/stable/modules/generated/sklearn.tree.plot_tree.html\n"
   ]
  },
  {
   "cell_type": "code",
   "execution_count": 15,
   "id": "c78cc3b2",
   "metadata": {},
   "outputs": [],
   "source": [
    "from sklearn.tree import plot_tree"
   ]
  },
  {
   "cell_type": "code",
   "execution_count": 16,
   "id": "9624513d",
   "metadata": {},
   "outputs": [
    {
     "data": {
      "image/png": "[encoded data removed]",
      "text/plain": [
       "<Figure size 840x480 with 1 Axes>"
      ]
     },
     "metadata": {
      "needs_background": "light"
     },
     "output_type": "display_data"
    }
   ],
   "source": [
    "fig_plottree, axes_plottree = plt.subplots(nrows=1, ncols=1, figsize=(7,4), dpi=120)\n",
    "plot_tree(tree_clf, \n",
    "          #feature_names=iris.feature_names[2:], \n",
    "          feature_names=which_features, \n",
    "          class_names=iris.target_names, \n",
    "          filled=True)\n",
    "axes_plottree.set_title(\"Decision tree trained on 'sepal_length', 'petal_width' of the iris features\")\n",
    "fig_plottree.savefig('iris_tree.png')"
   ]
  },
  {
   "cell_type": "code",
   "execution_count": 17,
   "id": "3dcb461c",
   "metadata": {},
   "outputs": [
    {
     "data": {
      "image/png": "[encoded data removed]",
      "text/plain": [
       "<Figure size 432x288 with 1 Axes>"
      ]
     },
     "metadata": {
      "needs_background": "light"
     },
     "output_type": "display_data"
    }
   ],
   "source": [
    "# another, simpler way:\n",
    "plt.figure()\n",
    "plot_tree(tree_clf, \n",
    "          #feature_names=iris.feature_names[2:], \n",
    "          feature_names=which_features, \n",
    "          class_names=iris.target_names, \n",
    "          filled=True, \n",
    "          fontsize=14\n",
    "         )\n",
    "plt.title(\"Decision tree trained on 'sepal_length', 'sepal_width' of the iris features\")\n",
    "plt.show()"
   ]
  },
  {
   "cell_type": "markdown",
   "id": "0d140ed3",
   "metadata": {},
   "source": [
    "### A text-based diagram:\n"
   ]
  },
  {
   "cell_type": "code",
   "execution_count": 18,
   "id": "ea604f72",
   "metadata": {},
   "outputs": [],
   "source": [
    "from sklearn.tree import export_text"
   ]
  },
  {
   "cell_type": "code",
   "execution_count": 19,
   "id": "b9251d80",
   "metadata": {},
   "outputs": [
    {
     "name": "stdout",
     "output_type": "stream",
     "text": [
      "|--- sepal_length <= 5.45\n",
      "|   |--- sepal_width <= 2.80\n",
      "|   |   |--- class: 1\n",
      "|   |--- sepal_width >  2.80\n",
      "|   |   |--- class: 0\n",
      "|--- sepal_length >  5.45\n",
      "|   |--- sepal_length <= 6.15\n",
      "|   |   |--- class: 1\n",
      "|   |--- sepal_length >  6.15\n",
      "|   |   |--- class: 2\n",
      "\n"
     ]
    }
   ],
   "source": [
    "#export the decision rules\n",
    "tree_rules = export_text(tree_clf,\n",
    "                         feature_names = which_features)\n",
    "\n",
    "#print the result\n",
    "print(tree_rules)"
   ]
  },
  {
   "cell_type": "markdown",
   "id": "8408e0ac",
   "metadata": {},
   "source": [
    "### Second way: using `sklearn.tree.export_graphviz`\n",
    "\n",
    "* Output a graph definition file called iris_tree.dot\n",
    "\n",
    "* Convert this .dot file to a variety of formats, such as PDF or PNG\n",
    "\n",
    "https://towardsdatascience.com/visualizing-decision-trees-with-python-scikit-learn-graphviz-matplotlib-1c50b4aa68dc\n",
    "\n",
    "1. To be able to install Graphviz on your Mac through this method, you first need to have Anaconda installed\n",
    "2. Open a terminal\n",
    "3. Type the command below to install Graphviz:\n",
    "\n",
    "    `conda install python-graphviz`\n",
    "\n",
    "4. After that, you should be able to use the dot command below to convert the dot file into a png file:\n",
    "\n",
    "    `dot -Tpng tree.dot -o tree.png`\n",
    "    \n",
    "**CAUTION: It is troubleshooting!!!**\n",
    "\n",
    "```python\n",
    "from sklearn.tree import export_graphviz\n",
    "\n",
    "with open(\"iris.dot\", 'w') as f:\n",
    "    dot_data = export_graphviz(tree_clf, \n",
    "                               out_file=f,\n",
    "                               feature_names=iris.feature_names[2:],\n",
    "                               class_names=iris.target_names,\n",
    "                               filled=True, \n",
    "                               rounded=True)\n",
    "!dot -Tpng iris.dot -o iris.png\n",
    "rm iris.dot\n",
    "# usually displays the error: /bin/bash: dot: command not found\n",
    "```"
   ]
  },
  {
   "cell_type": "markdown",
   "id": "d21f56f0",
   "metadata": {},
   "source": [
    "## Plot the decision surface of decision trees\n",
    "\n",
    "https://scikit-learn.org/stable/auto_examples/tree/plot_iris_dtc.html#sphx-glr-auto-examples-tree-plot-iris-dtc-py\n"
   ]
  },
  {
   "cell_type": "code",
   "execution_count": 20,
   "id": "f94a669e",
   "metadata": {},
   "outputs": [
    {
     "data": {
      "text/plain": [
       "0.026969696969696973"
      ]
     },
     "execution_count": 20,
     "metadata": {},
     "output_type": "execute_result"
    }
   ],
   "source": [
    "#---min and max for the first feature---\n",
    "x_min, x_max = X[:, 0].min() - 1, X[:, 0].max() + 1\n",
    "\n",
    "#---min and max for the second feature---\n",
    "y_min, y_max = X[:, 1].min() - 1, X[:, 1].max() + 1\n",
    "\n",
    "#---step size in the mesh---\n",
    "h = (x_max / x_min)/100\n",
    "\n",
    "#---make predictions for each of the points in xx,yy---\n",
    "xx, yy = np.meshgrid(np.arange(x_min, x_max, h),\n",
    "                     np.arange(y_min, y_max, h))\n",
    "h"
   ]
  },
  {
   "cell_type": "code",
   "execution_count": 21,
   "id": "8b5762ca",
   "metadata": {},
   "outputs": [
    {
     "data": {
      "text/plain": [
       "array([1, 1, 1, ..., 2, 2, 2])"
      ]
     },
     "execution_count": 21,
     "metadata": {},
     "output_type": "execute_result"
    }
   ],
   "source": [
    "Z = tree_clf.predict(np.c_[xx.ravel(), yy.ravel()])\n",
    "Z"
   ]
  },
  {
   "cell_type": "code",
   "execution_count": 22,
   "id": "8995405c",
   "metadata": {},
   "outputs": [
    {
     "data": {
      "text/plain": [
       "<matplotlib.legend.Legend at 0x7f806fa56340>"
      ]
     },
     "execution_count": 22,
     "metadata": {},
     "output_type": "execute_result"
    },
    {
     "data": {
      "image/png": "[encoded data removed]",
      "text/plain": [
       "<Figure size 432x288 with 1 Axes>"
      ]
     },
     "metadata": {
      "needs_background": "light"
     },
     "output_type": "display_data"
    }
   ],
   "source": [
    "#---draw the result using a color plot---\n",
    "Z = Z.reshape(xx.shape)\n",
    "plt.contourf(xx, yy, Z, cmap=plt.cm.Accent, alpha=0.8)\n",
    "#plt.contourf(xx, yy, Z, cmap=plt.cm.RdYlBu)\n",
    "\n",
    "#---plot the training points---\n",
    "colors = ['red', 'green', 'blue']\n",
    "for color, i, target in zip(colors, [0, 1, 2], iris.target_names):\n",
    "    plt.scatter(X[Y==i, 0], X[Y==i, 1], color=color, label=target)\n",
    "\n",
    "plt.xlabel(f'{which_features[0]}')\n",
    "plt.ylabel(f'{which_features[1]}')\n",
    "plt.title(f'DTC (Max depth = {max_tree_depth})')\n",
    "plt.legend(loc='best', shadow=False, scatterpoints=1)"
   ]
  },
  {
   "cell_type": "markdown",
   "id": "752b6e2e",
   "metadata": {},
   "source": [
    "## Estimating Predicted Class Probabilities:"
   ]
  },
  {
   "cell_type": "code",
   "execution_count": 23,
   "id": "4f76ea76",
   "metadata": {},
   "outputs": [
    {
     "name": "stdout",
     "output_type": "stream",
     "text": [
      "[[0.97777778 0.02222222 0.        ]]\n",
      "[0]\n"
     ]
    }
   ],
   "source": [
    "# make a single prediction \n",
    "print(tree_clf.predict_proba([[4, 4.5]]))\n",
    "print(tree_clf.predict([[4, 4.5]]))"
   ]
  },
  {
   "cell_type": "code",
   "execution_count": 24,
   "id": "7cf1ce6d",
   "metadata": {},
   "outputs": [
    {
     "name": "stdout",
     "output_type": "stream",
     "text": [
      "[[0.14285714 0.71428571 0.14285714]]\n",
      "[1]\n"
     ]
    }
   ],
   "source": [
    "# make a single prediction \n",
    "print(tree_clf.predict_proba([[5, 1.5]]))\n",
    "print(tree_clf.predict([[5, 1.5]]))"
   ]
  },
  {
   "cell_type": "code",
   "execution_count": 25,
   "id": "1b698f15",
   "metadata": {},
   "outputs": [
    {
     "name": "stdout",
     "output_type": "stream",
     "text": [
      "[[0.         0.29090909 0.70909091]]\n",
      "[2]\n"
     ]
    }
   ],
   "source": [
    "# make a single prediction \n",
    "print(tree_clf.predict_proba([[8, 3.5]]))\n",
    "print(tree_clf.predict([[8, 3.5]]))"
   ]
  },
  {
   "cell_type": "code",
   "execution_count": 26,
   "id": "a35331f8",
   "metadata": {},
   "outputs": [
    {
     "name": "stdout",
     "output_type": "stream",
     "text": [
      "[[0.11627907 0.65116279 0.23255814]]\n",
      "[1]\n"
     ]
    }
   ],
   "source": [
    "# make a single prediction \n",
    "print(tree_clf.predict_proba([[6.0, 3.0]]))\n",
    "print(tree_clf.predict([[6.0, 3.0]]))"
   ]
  },
  {
   "cell_type": "markdown",
   "id": "fa9570ec",
   "metadata": {},
   "source": [
    "# 3. Evaluating the Decision Trees\n",
    "\n",
    "Use **`all`** iris features!"
   ]
  },
  {
   "cell_type": "code",
   "execution_count": 27,
   "id": "e5ac1545",
   "metadata": {},
   "outputs": [],
   "source": [
    "from sklearn.model_selection import train_test_split"
   ]
  },
  {
   "cell_type": "code",
   "execution_count": 28,
   "id": "39a70996",
   "metadata": {},
   "outputs": [
    {
     "data": {
      "text/html": [
       "<div>\n",
       "<style scoped>\n",
       "    .dataframe tbody tr th:only-of-type {\n",
       "        vertical-align: middle;\n",
       "    }\n",
       "\n",
       "    .dataframe tbody tr th {\n",
       "        vertical-align: top;\n",
       "    }\n",
       "\n",
       "    .dataframe thead th {\n",
       "        text-align: right;\n",
       "    }\n",
       "</style>\n",
       "<table border=\"1\" class=\"dataframe\">\n",
       "  <thead>\n",
       "    <tr style=\"text-align: right;\">\n",
       "      <th></th>\n",
       "      <th>sepal_length</th>\n",
       "      <th>sepal_width</th>\n",
       "      <th>petal_length</th>\n",
       "      <th>petal_width</th>\n",
       "    </tr>\n",
       "  </thead>\n",
       "  <tbody>\n",
       "    <tr>\n",
       "      <th>0</th>\n",
       "      <td>5.1</td>\n",
       "      <td>3.5</td>\n",
       "      <td>1.4</td>\n",
       "      <td>0.2</td>\n",
       "    </tr>\n",
       "    <tr>\n",
       "      <th>1</th>\n",
       "      <td>4.9</td>\n",
       "      <td>3.0</td>\n",
       "      <td>1.4</td>\n",
       "      <td>0.2</td>\n",
       "    </tr>\n",
       "    <tr>\n",
       "      <th>2</th>\n",
       "      <td>4.7</td>\n",
       "      <td>3.2</td>\n",
       "      <td>1.3</td>\n",
       "      <td>0.2</td>\n",
       "    </tr>\n",
       "    <tr>\n",
       "      <th>3</th>\n",
       "      <td>4.6</td>\n",
       "      <td>3.1</td>\n",
       "      <td>1.5</td>\n",
       "      <td>0.2</td>\n",
       "    </tr>\n",
       "    <tr>\n",
       "      <th>4</th>\n",
       "      <td>5.0</td>\n",
       "      <td>3.6</td>\n",
       "      <td>1.4</td>\n",
       "      <td>0.2</td>\n",
       "    </tr>\n",
       "  </tbody>\n",
       "</table>\n",
       "</div>"
      ],
      "text/plain": [
       "   sepal_length  sepal_width  petal_length  petal_width\n",
       "0           5.1          3.5           1.4          0.2\n",
       "1           4.9          3.0           1.4          0.2\n",
       "2           4.7          3.2           1.3          0.2\n",
       "3           4.6          3.1           1.5          0.2\n",
       "4           5.0          3.6           1.4          0.2"
      ]
     },
     "execution_count": 28,
     "metadata": {},
     "output_type": "execute_result"
    }
   ],
   "source": [
    "X = iris_df[iris_features]\n",
    "X.head()"
   ]
  },
  {
   "cell_type": "code",
   "execution_count": 29,
   "id": "f7e43751",
   "metadata": {},
   "outputs": [
    {
     "data": {
      "text/plain": [
       "0    0\n",
       "1    0\n",
       "2    0\n",
       "3    0\n",
       "4    0\n",
       "Name: target, dtype: int64"
      ]
     },
     "execution_count": 29,
     "metadata": {},
     "output_type": "execute_result"
    }
   ],
   "source": [
    "y = iris_df.target\n",
    "y.head()"
   ]
  },
  {
   "cell_type": "code",
   "execution_count": 88,
   "id": "9f60e499",
   "metadata": {},
   "outputs": [
    {
     "name": "stdout",
     "output_type": "stream",
     "text": [
      "(112, 4)\n",
      "(112,)\n",
      "(38, 4)\n",
      "(38,)\n"
     ]
    }
   ],
   "source": [
    "# The data is split into training and testing sets:\n",
    "X_train, X_test, y_train, y_test = train_test_split(X, y, \n",
    "                                                    test_size = 0.25, \n",
    "                                                    random_state = 5)\n",
    "# print out the shape of the training and testing sets:\n",
    "print(X_train.shape)\n",
    "print(y_train.shape)\n",
    "print(X_test.shape)\n",
    "print(y_test.shape)\n"
   ]
  },
  {
   "cell_type": "code",
   "execution_count": 89,
   "id": "e2c59266",
   "metadata": {},
   "outputs": [
    {
     "data": {
      "text/html": [
       "<div>\n",
       "<style scoped>\n",
       "    .dataframe tbody tr th:only-of-type {\n",
       "        vertical-align: middle;\n",
       "    }\n",
       "\n",
       "    .dataframe tbody tr th {\n",
       "        vertical-align: top;\n",
       "    }\n",
       "\n",
       "    .dataframe thead th {\n",
       "        text-align: right;\n",
       "    }\n",
       "</style>\n",
       "<table border=\"1\" class=\"dataframe\">\n",
       "  <thead>\n",
       "    <tr style=\"text-align: right;\">\n",
       "      <th></th>\n",
       "      <th>sepal_length</th>\n",
       "      <th>sepal_width</th>\n",
       "      <th>petal_length</th>\n",
       "      <th>petal_width</th>\n",
       "    </tr>\n",
       "  </thead>\n",
       "  <tbody>\n",
       "    <tr>\n",
       "      <th>40</th>\n",
       "      <td>5.0</td>\n",
       "      <td>3.5</td>\n",
       "      <td>1.3</td>\n",
       "      <td>0.3</td>\n",
       "    </tr>\n",
       "    <tr>\n",
       "      <th>115</th>\n",
       "      <td>6.4</td>\n",
       "      <td>3.2</td>\n",
       "      <td>5.3</td>\n",
       "      <td>2.3</td>\n",
       "    </tr>\n",
       "    <tr>\n",
       "      <th>142</th>\n",
       "      <td>5.8</td>\n",
       "      <td>2.7</td>\n",
       "      <td>5.1</td>\n",
       "      <td>1.9</td>\n",
       "    </tr>\n",
       "    <tr>\n",
       "      <th>69</th>\n",
       "      <td>5.6</td>\n",
       "      <td>2.5</td>\n",
       "      <td>3.9</td>\n",
       "      <td>1.1</td>\n",
       "    </tr>\n",
       "    <tr>\n",
       "      <th>17</th>\n",
       "      <td>5.1</td>\n",
       "      <td>3.5</td>\n",
       "      <td>1.4</td>\n",
       "      <td>0.3</td>\n",
       "    </tr>\n",
       "    <tr>\n",
       "      <th>...</th>\n",
       "      <td>...</td>\n",
       "      <td>...</td>\n",
       "      <td>...</td>\n",
       "      <td>...</td>\n",
       "    </tr>\n",
       "    <tr>\n",
       "      <th>8</th>\n",
       "      <td>4.4</td>\n",
       "      <td>2.9</td>\n",
       "      <td>1.4</td>\n",
       "      <td>0.2</td>\n",
       "    </tr>\n",
       "    <tr>\n",
       "      <th>73</th>\n",
       "      <td>6.1</td>\n",
       "      <td>2.8</td>\n",
       "      <td>4.7</td>\n",
       "      <td>1.2</td>\n",
       "    </tr>\n",
       "    <tr>\n",
       "      <th>144</th>\n",
       "      <td>6.7</td>\n",
       "      <td>3.3</td>\n",
       "      <td>5.7</td>\n",
       "      <td>2.5</td>\n",
       "    </tr>\n",
       "    <tr>\n",
       "      <th>118</th>\n",
       "      <td>7.7</td>\n",
       "      <td>2.6</td>\n",
       "      <td>6.9</td>\n",
       "      <td>2.3</td>\n",
       "    </tr>\n",
       "    <tr>\n",
       "      <th>99</th>\n",
       "      <td>5.7</td>\n",
       "      <td>2.8</td>\n",
       "      <td>4.1</td>\n",
       "      <td>1.3</td>\n",
       "    </tr>\n",
       "  </tbody>\n",
       "</table>\n",
       "<p>112 rows × 4 columns</p>\n",
       "</div>"
      ],
      "text/plain": [
       "     sepal_length  sepal_width  petal_length  petal_width\n",
       "40            5.0          3.5           1.3          0.3\n",
       "115           6.4          3.2           5.3          2.3\n",
       "142           5.8          2.7           5.1          1.9\n",
       "69            5.6          2.5           3.9          1.1\n",
       "17            5.1          3.5           1.4          0.3\n",
       "..            ...          ...           ...          ...\n",
       "8             4.4          2.9           1.4          0.2\n",
       "73            6.1          2.8           4.7          1.2\n",
       "144           6.7          3.3           5.7          2.5\n",
       "118           7.7          2.6           6.9          2.3\n",
       "99            5.7          2.8           4.1          1.3\n",
       "\n",
       "[112 rows x 4 columns]"
      ]
     },
     "execution_count": 89,
     "metadata": {},
     "output_type": "execute_result"
    }
   ],
   "source": [
    "X_train"
   ]
  },
  {
   "cell_type": "code",
   "execution_count": 31,
   "id": "ba25425c",
   "metadata": {},
   "outputs": [],
   "source": [
    "max_tree_depth = 3\n",
    "tree_clf = DecisionTreeClassifier(max_depth=max_tree_depth)\n",
    "\n",
    "# Fit the model:\n",
    "tree_clf.fit(X_train, y_train)\n",
    "\n",
    "# Predict the response:\n",
    "y_pred = tree_clf.predict(X_test)"
   ]
  },
  {
   "cell_type": "markdown",
   "id": "8caba663",
   "metadata": {},
   "source": [
    "### Methods that come together with the DecisionTreeClassifier:"
   ]
  },
  {
   "cell_type": "code",
   "execution_count": 32,
   "id": "6faa7bb9",
   "metadata": {},
   "outputs": [
    {
     "data": {
      "text/plain": [
       "0.8947368421052632"
      ]
     },
     "execution_count": 32,
     "metadata": {},
     "output_type": "execute_result"
    }
   ],
   "source": [
    "tree_clf.score(X_test, y_test)"
   ]
  },
  {
   "cell_type": "code",
   "execution_count": 33,
   "id": "5e79ebd0",
   "metadata": {},
   "outputs": [
    {
     "data": {
      "text/plain": [
       "0.9821428571428571"
      ]
     },
     "execution_count": 33,
     "metadata": {},
     "output_type": "execute_result"
    }
   ],
   "source": [
    "tree_clf.score(X_train, y_train)"
   ]
  },
  {
   "cell_type": "code",
   "execution_count": 34,
   "id": "c318d23c",
   "metadata": {},
   "outputs": [
    {
     "data": {
      "text/plain": [
       "array([[1.        , 0.        , 0.        ],\n",
       "       [1.        , 0.        , 0.        ],\n",
       "       [1.        , 0.        , 0.        ],\n",
       "       [1.        , 0.        , 0.        ],\n",
       "       [1.        , 0.        , 0.        ],\n",
       "       [1.        , 0.        , 0.        ],\n",
       "       [1.        , 0.        , 0.        ],\n",
       "       [1.        , 0.        , 0.        ],\n",
       "       [1.        , 0.        , 0.        ],\n",
       "       [1.        , 0.        , 0.        ],\n",
       "       [1.        , 0.        , 0.        ],\n",
       "       [1.        , 0.        , 0.        ],\n",
       "       [1.        , 0.        , 0.        ],\n",
       "       [1.        , 0.        , 0.        ],\n",
       "       [1.        , 0.        , 0.        ],\n",
       "       [1.        , 0.        , 0.        ],\n",
       "       [1.        , 0.        , 0.        ],\n",
       "       [1.        , 0.        , 0.        ],\n",
       "       [1.        , 0.        , 0.        ],\n",
       "       [1.        , 0.        , 0.        ],\n",
       "       [1.        , 0.        , 0.        ],\n",
       "       [1.        , 0.        , 0.        ],\n",
       "       [1.        , 0.        , 0.        ],\n",
       "       [1.        , 0.        , 0.        ],\n",
       "       [1.        , 0.        , 0.        ],\n",
       "       [1.        , 0.        , 0.        ],\n",
       "       [1.        , 0.        , 0.        ],\n",
       "       [1.        , 0.        , 0.        ],\n",
       "       [1.        , 0.        , 0.        ],\n",
       "       [1.        , 0.        , 0.        ],\n",
       "       [1.        , 0.        , 0.        ],\n",
       "       [1.        , 0.        , 0.        ],\n",
       "       [1.        , 0.        , 0.        ],\n",
       "       [1.        , 0.        , 0.        ],\n",
       "       [1.        , 0.        , 0.        ],\n",
       "       [1.        , 0.        , 0.        ],\n",
       "       [1.        , 0.        , 0.        ],\n",
       "       [1.        , 0.        , 0.        ],\n",
       "       [1.        , 0.        , 0.        ],\n",
       "       [1.        , 0.        , 0.        ],\n",
       "       [1.        , 0.        , 0.        ],\n",
       "       [1.        , 0.        , 0.        ],\n",
       "       [1.        , 0.        , 0.        ],\n",
       "       [1.        , 0.        , 0.        ],\n",
       "       [1.        , 0.        , 0.        ],\n",
       "       [1.        , 0.        , 0.        ],\n",
       "       [1.        , 0.        , 0.        ],\n",
       "       [1.        , 0.        , 0.        ],\n",
       "       [1.        , 0.        , 0.        ],\n",
       "       [1.        , 0.        , 0.        ],\n",
       "       [0.        , 0.94736842, 0.05263158],\n",
       "       [0.        , 0.94736842, 0.05263158],\n",
       "       [0.        , 0.94736842, 0.05263158],\n",
       "       [0.        , 0.94736842, 0.05263158],\n",
       "       [0.        , 0.94736842, 0.05263158],\n",
       "       [0.        , 0.94736842, 0.05263158],\n",
       "       [0.        , 0.94736842, 0.05263158],\n",
       "       [0.        , 0.        , 1.        ],\n",
       "       [0.        , 0.94736842, 0.05263158],\n",
       "       [0.        , 0.94736842, 0.05263158],\n",
       "       [0.        , 0.94736842, 0.05263158],\n",
       "       [0.        , 0.94736842, 0.05263158],\n",
       "       [0.        , 0.94736842, 0.05263158],\n",
       "       [0.        , 0.94736842, 0.05263158],\n",
       "       [0.        , 0.94736842, 0.05263158],\n",
       "       [0.        , 0.94736842, 0.05263158],\n",
       "       [0.        , 0.94736842, 0.05263158],\n",
       "       [0.        , 0.94736842, 0.05263158],\n",
       "       [0.        , 0.94736842, 0.05263158],\n",
       "       [0.        , 0.94736842, 0.05263158],\n",
       "       [0.        , 0.        , 1.        ],\n",
       "       [0.        , 0.94736842, 0.05263158],\n",
       "       [0.        , 0.94736842, 0.05263158],\n",
       "       [0.        , 0.94736842, 0.05263158],\n",
       "       [0.        , 0.94736842, 0.05263158],\n",
       "       [0.        , 0.94736842, 0.05263158],\n",
       "       [0.        , 0.94736842, 0.05263158],\n",
       "       [0.        , 0.94736842, 0.05263158],\n",
       "       [0.        , 0.94736842, 0.05263158],\n",
       "       [0.        , 0.94736842, 0.05263158],\n",
       "       [0.        , 0.94736842, 0.05263158],\n",
       "       [0.        , 0.94736842, 0.05263158],\n",
       "       [0.        , 0.94736842, 0.05263158],\n",
       "       [0.        , 0.94736842, 0.05263158],\n",
       "       [0.        , 0.94736842, 0.05263158],\n",
       "       [0.        , 0.94736842, 0.05263158],\n",
       "       [0.        , 0.94736842, 0.05263158],\n",
       "       [0.        , 0.94736842, 0.05263158],\n",
       "       [0.        , 0.94736842, 0.05263158],\n",
       "       [0.        , 0.94736842, 0.05263158],\n",
       "       [0.        , 0.94736842, 0.05263158],\n",
       "       [0.        , 0.94736842, 0.05263158],\n",
       "       [0.        , 0.94736842, 0.05263158],\n",
       "       [0.        , 0.94736842, 0.05263158],\n",
       "       [0.        , 0.94736842, 0.05263158],\n",
       "       [0.        , 0.94736842, 0.05263158],\n",
       "       [0.        , 0.94736842, 0.05263158],\n",
       "       [0.        , 0.94736842, 0.05263158],\n",
       "       [0.        , 0.94736842, 0.05263158],\n",
       "       [0.        , 0.94736842, 0.05263158],\n",
       "       [0.        , 0.        , 1.        ],\n",
       "       [0.        , 0.        , 1.        ],\n",
       "       [0.        , 0.        , 1.        ],\n",
       "       [0.        , 0.        , 1.        ],\n",
       "       [0.        , 0.        , 1.        ],\n",
       "       [0.        , 0.        , 1.        ],\n",
       "       [0.        , 0.        , 1.        ],\n",
       "       [0.        , 0.        , 1.        ],\n",
       "       [0.        , 0.        , 1.        ],\n",
       "       [0.        , 0.        , 1.        ],\n",
       "       [0.        , 0.        , 1.        ],\n",
       "       [0.        , 0.        , 1.        ],\n",
       "       [0.        , 0.        , 1.        ],\n",
       "       [0.        , 0.        , 1.        ],\n",
       "       [0.        , 0.        , 1.        ],\n",
       "       [0.        , 0.        , 1.        ],\n",
       "       [0.        , 0.        , 1.        ],\n",
       "       [0.        , 0.        , 1.        ],\n",
       "       [0.        , 0.        , 1.        ],\n",
       "       [0.        , 0.94736842, 0.05263158],\n",
       "       [0.        , 0.        , 1.        ],\n",
       "       [0.        , 0.        , 1.        ],\n",
       "       [0.        , 0.        , 1.        ],\n",
       "       [0.        , 0.        , 1.        ],\n",
       "       [0.        , 0.        , 1.        ],\n",
       "       [0.        , 0.        , 1.        ],\n",
       "       [0.        , 0.        , 1.        ],\n",
       "       [0.        , 0.        , 1.        ],\n",
       "       [0.        , 0.        , 1.        ],\n",
       "       [0.        , 0.94736842, 0.05263158],\n",
       "       [0.        , 0.        , 1.        ],\n",
       "       [0.        , 0.        , 1.        ],\n",
       "       [0.        , 0.        , 1.        ],\n",
       "       [0.        , 0.94736842, 0.05263158],\n",
       "       [0.        , 0.94736842, 0.05263158],\n",
       "       [0.        , 0.        , 1.        ],\n",
       "       [0.        , 0.        , 1.        ],\n",
       "       [0.        , 0.        , 1.        ],\n",
       "       [0.        , 0.        , 1.        ],\n",
       "       [0.        , 0.        , 1.        ],\n",
       "       [0.        , 0.        , 1.        ],\n",
       "       [0.        , 0.        , 1.        ],\n",
       "       [0.        , 0.        , 1.        ],\n",
       "       [0.        , 0.        , 1.        ],\n",
       "       [0.        , 0.        , 1.        ],\n",
       "       [0.        , 0.        , 1.        ],\n",
       "       [0.        , 0.        , 1.        ],\n",
       "       [0.        , 0.        , 1.        ],\n",
       "       [0.        , 0.        , 1.        ],\n",
       "       [0.        , 0.        , 1.        ]])"
      ]
     },
     "execution_count": 34,
     "metadata": {},
     "output_type": "execute_result"
    }
   ],
   "source": [
    "tree_clf.predict_proba(X, check_input=True)"
   ]
  },
  {
   "cell_type": "markdown",
   "id": "b1135761",
   "metadata": {},
   "source": [
    "## 3.1 Evaluate the DT Classifier: The confusion matrix"
   ]
  },
  {
   "cell_type": "code",
   "execution_count": 35,
   "id": "cb2c3c09",
   "metadata": {},
   "outputs": [],
   "source": [
    "from sklearn.metrics import confusion_matrix"
   ]
  },
  {
   "cell_type": "code",
   "execution_count": 36,
   "id": "89cffe26",
   "metadata": {},
   "outputs": [
    {
     "name": "stdout",
     "output_type": "stream",
     "text": [
      "confusion matrix = \n",
      " [[12  0  0]\n",
      " [ 0 12  2]\n",
      " [ 0  2 10]]\n"
     ]
    }
   ],
   "source": [
    "mat_test = confusion_matrix(y_test, y_pred)\n",
    "print('confusion matrix = \\n', mat_test)"
   ]
  },
  {
   "cell_type": "code",
   "execution_count": 37,
   "id": "f9bef093",
   "metadata": {},
   "outputs": [
    {
     "data": {
      "image/png": "[encoded data removed]",
      "text/plain": [
       "<Figure size 288x288 with 2 Axes>"
      ]
     },
     "metadata": {
      "needs_background": "light"
     },
     "output_type": "display_data"
    }
   ],
   "source": [
    "fig_cm, ax_cm = plt.subplots(1, 1, figsize=(4, 4))\n",
    "cm = confusion_matrix(y_test, y_pred)\n",
    "ax_cm = sns.heatmap(cm, annot=True, square=True,\n",
    "                    xticklabels=iris.target_names,\n",
    "                    yticklabels=iris.target_names)\n",
    "ax_cm.set_xlabel('Predicted Labels')\n",
    "ax_cm.set_ylabel('True Labels');"
   ]
  },
  {
   "cell_type": "markdown",
   "id": "d03a6eba",
   "metadata": {},
   "source": [
    "### Accuracy performance:\n",
    "\n",
    "* accuracy_score:\n",
    "https://scikit-learn.org/stable/modules/generated/sklearn.metrics.accuracy_score.html\n",
    "\n",
    "* precision_score:\n",
    "https://scikit-learn.org/stable/modules/generated/sklearn.metrics.precision_score.html\n",
    "\n",
    "* recall_score:\n",
    "https://scikit-learn.org/stable/modules/generated/sklearn.metrics.recall_score.html\n",
    "\n",
    "* f1:\n",
    "https://scikit-learn.org/stable/modules/generated/sklearn.metrics.f1_score.html\n",
    "\n",
    "* classification_report:\n",
    "https://scikit-learn.org/stable/modules/generated/sklearn.metrics.classification_report.html"
   ]
  },
  {
   "cell_type": "code",
   "execution_count": 38,
   "id": "d6930fab",
   "metadata": {},
   "outputs": [],
   "source": [
    "from sklearn.metrics import accuracy_score\n",
    "from sklearn.metrics import precision_score\n",
    "from sklearn.metrics import recall_score\n",
    "from sklearn.metrics import f1_score\n",
    "from sklearn.metrics import classification_report"
   ]
  },
  {
   "cell_type": "markdown",
   "id": "4fa2e324",
   "metadata": {},
   "source": [
    "* **Accuracy:**\n",
    "\n",
    "    `sum(diagonals in the confusion matrix) / sum (all boxes in the confusion matrix`\n",
    "    \n",
    "    $\\dfrac{\\sum{\\mbox{diagonals in the confusion matrix}}}{\\sum{\\text{all boxes in the confusion matrix}}}$\n",
    "\n",
    "\n",
    "* **Precision:**\n",
    "\n",
    "    `True positive (number in diagonal)/All positives (column sum)`\n",
    "    \n",
    "    $\\dfrac{\\text{True positive (number in diagonal)}}{\\text{All positives (column sum)}} = \\dfrac{TP}{TP + FP}$\n",
    "    \n",
    "    \n",
    "* **Recall:**\n",
    "\n",
    "    `True positive (number in diagonal)/All assignments (row sum)`\n",
    "    \n",
    "    $\\dfrac{\\text{True positive (number in diagonal)}}{\\text{All assignments (row sum)}} = \\dfrac{TP}{TP + FN}$\n",
    "    \n",
    "* **f1:**\n",
    "\n",
    "    `2 * (precision * recall)/(precision + recall)`\n",
    "    \n",
    "    $2\\times \\dfrac{(\\text{precision} \\times \\text{recall})}{\\text{(precision + recall)}}$"
   ]
  },
  {
   "cell_type": "code",
   "execution_count": 39,
   "id": "8c946c59",
   "metadata": {},
   "outputs": [
    {
     "name": "stdout",
     "output_type": "stream",
     "text": [
      "0.8947368421052632\n",
      "[1.         0.85714286 0.83333333]\n",
      "[1.         0.85714286 0.83333333]\n"
     ]
    }
   ],
   "source": [
    "# Evaluate accuracy:\n",
    "labels = iris_df.species.unique()\n",
    "print(accuracy_score(y_test, y_pred))\n",
    "print(precision_score(y_test, y_pred, average=None))\n",
    "print(recall_score(y_test, y_pred, average=None))"
   ]
  },
  {
   "cell_type": "code",
   "execution_count": 40,
   "id": "88d15cc2",
   "metadata": {},
   "outputs": [
    {
     "data": {
      "text/html": [
       "<div>\n",
       "<style scoped>\n",
       "    .dataframe tbody tr th:only-of-type {\n",
       "        vertical-align: middle;\n",
       "    }\n",
       "\n",
       "    .dataframe tbody tr th {\n",
       "        vertical-align: top;\n",
       "    }\n",
       "\n",
       "    .dataframe thead th {\n",
       "        text-align: right;\n",
       "    }\n",
       "</style>\n",
       "<table border=\"1\" class=\"dataframe\">\n",
       "  <thead>\n",
       "    <tr style=\"text-align: right;\">\n",
       "      <th></th>\n",
       "      <th>f1</th>\n",
       "    </tr>\n",
       "  </thead>\n",
       "  <tbody>\n",
       "    <tr>\n",
       "      <th>setosa</th>\n",
       "      <td>1.000000</td>\n",
       "    </tr>\n",
       "    <tr>\n",
       "      <th>versicolor</th>\n",
       "      <td>0.857143</td>\n",
       "    </tr>\n",
       "    <tr>\n",
       "      <th>virginica</th>\n",
       "      <td>0.833333</td>\n",
       "    </tr>\n",
       "  </tbody>\n",
       "</table>\n",
       "</div>"
      ],
      "text/plain": [
       "                  f1\n",
       "setosa      1.000000\n",
       "versicolor  0.857143\n",
       "virginica   0.833333"
      ]
     },
     "execution_count": 40,
     "metadata": {},
     "output_type": "execute_result"
    }
   ],
   "source": [
    "f1 = f1_score(y_test, y_pred, average=None)\n",
    "f1_results = pd.DataFrame(f1, index=labels)\n",
    "f1_results.rename(columns={0:'f1'}, inplace=True)\n",
    "f1_results"
   ]
  },
  {
   "cell_type": "code",
   "execution_count": 41,
   "id": "ca2cc8c2",
   "metadata": {},
   "outputs": [
    {
     "name": "stdout",
     "output_type": "stream",
     "text": [
      "              precision    recall  f1-score   support\n",
      "\n",
      "           0       1.00      1.00      1.00        12\n",
      "           1       0.86      0.86      0.86        14\n",
      "           2       0.83      0.83      0.83        12\n",
      "\n",
      "    accuracy                           0.89        38\n",
      "   macro avg       0.90      0.90      0.90        38\n",
      "weighted avg       0.89      0.89      0.89        38\n",
      "\n"
     ]
    }
   ],
   "source": [
    "# All metrics in a single output:\n",
    "print(classification_report(y_test, y_pred))"
   ]
  },
  {
   "cell_type": "markdown",
   "id": "945a00d9",
   "metadata": {},
   "source": [
    "# 4. Feature importance\n",
    "\n",
    "From the documentation:\n",
    "\n",
    "https://scikit-learn.org/stable/modules/generated/sklearn.tree.DecisionTreeClassifier.html\n",
    "\n",
    "*The importance of a feature is computed as the (normalized) total reduction of the criterion brought by that feature. It is also known as the **Gini** importance.*"
   ]
  },
  {
   "cell_type": "code",
   "execution_count": 42,
   "id": "2fe6f806",
   "metadata": {},
   "outputs": [
    {
     "data": {
      "text/html": [
       "<div>\n",
       "<style scoped>\n",
       "    .dataframe tbody tr th:only-of-type {\n",
       "        vertical-align: middle;\n",
       "    }\n",
       "\n",
       "    .dataframe tbody tr th {\n",
       "        vertical-align: top;\n",
       "    }\n",
       "\n",
       "    .dataframe thead th {\n",
       "        text-align: right;\n",
       "    }\n",
       "</style>\n",
       "<table border=\"1\" class=\"dataframe\">\n",
       "  <thead>\n",
       "    <tr style=\"text-align: right;\">\n",
       "      <th></th>\n",
       "      <th>feature</th>\n",
       "      <th>importance</th>\n",
       "    </tr>\n",
       "  </thead>\n",
       "  <tbody>\n",
       "    <tr>\n",
       "      <th>2</th>\n",
       "      <td>petal_length</td>\n",
       "      <td>0.532</td>\n",
       "    </tr>\n",
       "    <tr>\n",
       "      <th>3</th>\n",
       "      <td>petal_width</td>\n",
       "      <td>0.444</td>\n",
       "    </tr>\n",
       "    <tr>\n",
       "      <th>0</th>\n",
       "      <td>sepal_length</td>\n",
       "      <td>0.025</td>\n",
       "    </tr>\n",
       "    <tr>\n",
       "      <th>1</th>\n",
       "      <td>sepal_width</td>\n",
       "      <td>0.000</td>\n",
       "    </tr>\n",
       "  </tbody>\n",
       "</table>\n",
       "</div>"
      ],
      "text/plain": [
       "        feature  importance\n",
       "2  petal_length       0.532\n",
       "3   petal_width       0.444\n",
       "0  sepal_length       0.025\n",
       "1   sepal_width       0.000"
      ]
     },
     "execution_count": 42,
     "metadata": {},
     "output_type": "execute_result"
    }
   ],
   "source": [
    "#extract importance\n",
    "importance = pd.DataFrame({'feature': X_train.columns, \n",
    "                           'importance' : np.round(tree_clf.feature_importances_, 3)\n",
    "                          }\n",
    "                         )\n",
    "importance.sort_values('importance', ascending=False, inplace = True)\n",
    "importance"
   ]
  },
  {
   "cell_type": "markdown",
   "id": "cf3d7e01",
   "metadata": {},
   "source": [
    "According to the `importance` results above, which feature is the most important?\n",
    "\n",
    "Is this the only important feature?"
   ]
  },
  {
   "cell_type": "code",
   "execution_count": 43,
   "id": "4f259ba8",
   "metadata": {},
   "outputs": [
    {
     "name": "stderr",
     "output_type": "stream",
     "text": [
      "/Users/dheervarsani/opt/anaconda3/lib/python3.9/site-packages/numpy/core/_asarray.py:102: UserWarning: Warning: converting a masked element to nan.\n",
      "  return array(a, dtype, copy=False, order=order)\n"
     ]
    },
    {
     "data": {
      "image/png": "[encoded data removed]",
      "text/plain": [
       "<Figure size 432x288 with 1 Axes>"
      ]
     },
     "metadata": {
      "needs_background": "light"
     },
     "output_type": "display_data"
    }
   ],
   "source": [
    "ser = pd.Series(importance.importance)\n",
    "ser.index = importance.feature\n",
    "\n",
    "fig, ax = plt.subplots()\n",
    "ser.plot.bar(yerr=importance, ax=ax)\n",
    "ax.set_title(\"Feature importances using MDI\")\n",
    "ax.set_ylabel(\"Mean decrease in impurity\")\n",
    "fig.tight_layout()"
   ]
  },
  {
   "cell_type": "markdown",
   "id": "9bf296e4",
   "metadata": {},
   "source": [
    "### How many features are being selected"
   ]
  },
  {
   "cell_type": "code",
   "execution_count": 44,
   "id": "9d122d05",
   "metadata": {},
   "outputs": [],
   "source": [
    "from sklearn.feature_selection import SelectFromModel"
   ]
  },
  {
   "cell_type": "code",
   "execution_count": 45,
   "id": "05894e0c",
   "metadata": {},
   "outputs": [],
   "source": [
    "abc = SelectFromModel(tree_clf, prefit=True)\n",
    "x_upd = abc.transform(X)"
   ]
  },
  {
   "cell_type": "code",
   "execution_count": 46,
   "id": "19907397",
   "metadata": {},
   "outputs": [
    {
     "data": {
      "text/plain": [
       "4"
      ]
     },
     "execution_count": 46,
     "metadata": {},
     "output_type": "execute_result"
    }
   ],
   "source": [
    "np.array(X).shape[1]"
   ]
  },
  {
   "cell_type": "code",
   "execution_count": 47,
   "id": "7b735492",
   "metadata": {},
   "outputs": [
    {
     "data": {
      "text/plain": [
       "2"
      ]
     },
     "execution_count": 47,
     "metadata": {},
     "output_type": "execute_result"
    }
   ],
   "source": [
    "np.array(x_upd).shape[1]"
   ]
  },
  {
   "cell_type": "markdown",
   "id": "8dfa3325",
   "metadata": {},
   "source": [
    "## Prune the tree to maximum depth of #:"
   ]
  },
  {
   "cell_type": "code",
   "execution_count": 48,
   "id": "6faedaee",
   "metadata": {},
   "outputs": [],
   "source": [
    "clf_pruned = DecisionTreeClassifier(criterion='entropy', \n",
    "                                   random_state=50, \n",
    "                                   max_depth=3, \n",
    "                                   min_samples_leaf=6, \n",
    "                                   )"
   ]
  },
  {
   "cell_type": "code",
   "execution_count": 49,
   "id": "40be48e3",
   "metadata": {},
   "outputs": [
    {
     "data": {
      "text/plain": [
       "DecisionTreeClassifier(criterion='entropy', max_depth=3, min_samples_leaf=6,\n",
       "                       random_state=50)"
      ]
     },
     "execution_count": 49,
     "metadata": {},
     "output_type": "execute_result"
    }
   ],
   "source": [
    "clf_pruned.fit(X_train, y_train)"
   ]
  },
  {
   "cell_type": "code",
   "execution_count": 50,
   "id": "a0c57ba8",
   "metadata": {},
   "outputs": [],
   "source": [
    "prediction_pruned = clf_pruned.predict(X_test)\n",
    "prediction_pruned_train = clf_pruned.predict(X_train)"
   ]
  },
  {
   "cell_type": "code",
   "execution_count": 51,
   "id": "ebc3218f",
   "metadata": {},
   "outputs": [
    {
     "name": "stdout",
     "output_type": "stream",
     "text": [
      "0.9210526315789473\n",
      "0.9732142857142857\n"
     ]
    }
   ],
   "source": [
    "print(accuracy_score(y_test, prediction_pruned))\n",
    "print(accuracy_score(y_train, prediction_pruned_train))"
   ]
  },
  {
   "cell_type": "code",
   "execution_count": 52,
   "id": "17af46df",
   "metadata": {},
   "outputs": [],
   "source": [
    "acc_DT = accuracy_score(y_test, prediction_pruned)"
   ]
  },
  {
   "cell_type": "code",
   "execution_count": 53,
   "id": "1c22f1d2",
   "metadata": {},
   "outputs": [],
   "source": [
    "resultsDf = pd.DataFrame({'Method':['Decision Tree'],\n",
    "                          'accuracy':acc_DT})"
   ]
  },
  {
   "cell_type": "code",
   "execution_count": null,
   "id": "d765c803",
   "metadata": {},
   "outputs": [],
   "source": []
  },
  {
   "cell_type": "markdown",
   "id": "23fafc58",
   "metadata": {},
   "source": [
    "## Regularization Hyperparameters"
   ]
  },
  {
   "cell_type": "markdown",
   "id": "c34983fb",
   "metadata": {},
   "source": [
    "```python\n",
    "clf = DecisionTreeClassifier(criterion=\"entropy\", # default: \"gini\"\n",
    "                             splitter=\"best\", # \"random\"\n",
    "                             max_depth=5, \n",
    "                             min_samples_split=4, # default=2\n",
    "                             random_state=0, \n",
    "                             max_leaf_nodes=5, \n",
    "                            )\n",
    "```"
   ]
  },
  {
   "cell_type": "markdown",
   "id": "902753c4",
   "metadata": {},
   "source": [
    "# Ensemble Algorithms\n",
    "\n",
    "Ensemble methods are more robust, accurate, and mature algorithms in comparison to their counterparts:\n",
    "\n",
    "1. enhance capabilities by combining weak predictors\n",
    "2. improve overall performance\n",
    "\n",
    "## Random Forest Classifier\n",
    "\n",
    "```python\n",
    "sklearn.ensemble.RandomForestClassifier\n",
    "```\n",
    "\n",
    "https://scikit-learn.org/stable/modules/generated/sklearn.ensemble.RandomForestClassifier.html\n",
    "\n",
    "Create a forest of decision trees trained on different columns (features) of the training data.\n",
    "\n",
    "From V.V. p. 186:\n",
    "\n",
    "A `random forest` is an ensemble-based technique where it creates multiple smaller trees using a subset of data.\n",
    "\n",
    "The final decision is based on the `voting` mechanism by each of the trees.\n",
    "\n",
    "Decision trees are prone to overfitting. An ensemble-based random forest is a good choice to tackle overfitting.\n",
    "\n",
    "### Advanced Modeling: Feature transformations with ensembles of trees\n",
    "\n",
    "https://scikit-learn.org/stable/auto_examples/ensemble/plot_feature_transformation.html#sphx-glr-auto-examples-ensemble-plot-feature-transformation-py"
   ]
  },
  {
   "cell_type": "code",
   "execution_count": 54,
   "id": "1acb8339",
   "metadata": {},
   "outputs": [],
   "source": [
    "from sklearn.ensemble import RandomForestClassifier\n",
    "from sklearn.model_selection import cross_val_predict"
   ]
  },
  {
   "cell_type": "code",
   "execution_count": 55,
   "id": "8a4b0e7f",
   "metadata": {},
   "outputs": [],
   "source": [
    "rf_model = RandomForestClassifier(n_estimators=50, # The number of trees in the forest\n",
    "                                  max_depth=5, \n",
    "                                  random_state=10, \n",
    "                                  criterion='gini', # 'entropy'\n",
    "                                  bootstrap = True, \n",
    "                                  max_features = 'sqrt')"
   ]
  },
  {
   "cell_type": "code",
   "execution_count": 56,
   "id": "97c6bd82",
   "metadata": {},
   "outputs": [
    {
     "data": {
      "text/plain": [
       "RandomForestClassifier(max_depth=5, max_features='sqrt', n_estimators=50,\n",
       "                       random_state=10)"
      ]
     },
     "execution_count": 56,
     "metadata": {},
     "output_type": "execute_result"
    }
   ],
   "source": [
    "# FIT the training data:\n",
    "rf_model.fit(X_train, y_train)"
   ]
  },
  {
   "cell_type": "code",
   "execution_count": 57,
   "id": "20dd98a3",
   "metadata": {},
   "outputs": [],
   "source": [
    "# make PREDICTions on the testing data:\n",
    "prediction_RF = rf_model.predict(X_test)"
   ]
  },
  {
   "cell_type": "code",
   "execution_count": 58,
   "id": "c5730195",
   "metadata": {},
   "outputs": [
    {
     "name": "stdout",
     "output_type": "stream",
     "text": [
      "[[12  0  0]\n",
      " [ 0 13  1]\n",
      " [ 0  1 11]]\n"
     ]
    }
   ],
   "source": [
    "print(confusion_matrix(y_test, prediction_RF))"
   ]
  },
  {
   "cell_type": "code",
   "execution_count": 59,
   "id": "5515d8a8",
   "metadata": {},
   "outputs": [
    {
     "data": {
      "text/plain": [
       "Text(0.5, 1.0, 'Confusion Matrix')"
      ]
     },
     "execution_count": 59,
     "metadata": {},
     "output_type": "execute_result"
    },
    {
     "data": {
      "image/png": "[encoded data removed]",
      "text/plain": [
       "<Figure size 288x288 with 2 Axes>"
      ]
     },
     "metadata": {
      "needs_background": "light"
     },
     "output_type": "display_data"
    }
   ],
   "source": [
    "fig_cm_RF, ax_cm_RF = plt.subplots(1, 1, figsize=(4, 4))\n",
    "cm_RF = confusion_matrix(y_test, prediction_RF)\n",
    "ax_cm_RF = sns.heatmap(cm_RF, annot=True, square=True,\n",
    "                       xticklabels=iris.target_names,\n",
    "                       yticklabels=iris.target_names)\n",
    "ax_cm_RF.set_xlabel('Predicted Labels')\n",
    "ax_cm_RF.set_ylabel('True Labels')\n",
    "ax_cm_RF.set_title('Confusion Matrix')"
   ]
  },
  {
   "cell_type": "code",
   "execution_count": 60,
   "id": "53406338",
   "metadata": {},
   "outputs": [],
   "source": [
    "# compute the ACCURACY:\n",
    "acc_RF = accuracy_score(y_test, prediction_RF)"
   ]
  },
  {
   "cell_type": "code",
   "execution_count": 61,
   "id": "8237979f",
   "metadata": {},
   "outputs": [
    {
     "data": {
      "text/html": [
       "<div>\n",
       "<style scoped>\n",
       "    .dataframe tbody tr th:only-of-type {\n",
       "        vertical-align: middle;\n",
       "    }\n",
       "\n",
       "    .dataframe tbody tr th {\n",
       "        vertical-align: top;\n",
       "    }\n",
       "\n",
       "    .dataframe thead th {\n",
       "        text-align: right;\n",
       "    }\n",
       "</style>\n",
       "<table border=\"1\" class=\"dataframe\">\n",
       "  <thead>\n",
       "    <tr style=\"text-align: right;\">\n",
       "      <th></th>\n",
       "      <th>Method</th>\n",
       "      <th>accuracy</th>\n",
       "    </tr>\n",
       "  </thead>\n",
       "  <tbody>\n",
       "    <tr>\n",
       "      <th>0</th>\n",
       "      <td>Random Forest</td>\n",
       "      <td>0.947368</td>\n",
       "    </tr>\n",
       "  </tbody>\n",
       "</table>\n",
       "</div>"
      ],
      "text/plain": [
       "          Method  accuracy\n",
       "0  Random Forest  0.947368"
      ]
     },
     "execution_count": 61,
     "metadata": {},
     "output_type": "execute_result"
    }
   ],
   "source": [
    "resultsRF = pd.DataFrame({'Method':['Random Forest'],\n",
    "                          'accuracy':acc_RF})\n",
    "resultsDf = pd.concat([resultsRF])\n",
    "resultsDf = resultsDf[['Method', 'accuracy']]\n",
    "resultsDf"
   ]
  },
  {
   "cell_type": "markdown",
   "id": "2c803923",
   "metadata": {},
   "source": [
    "## Mutual Information\n",
    "\n",
    "A non-negative metric that measures the dependency between the variables.\n",
    "\n",
    "1. Use `k-nearest-neighbors` to determine the mutual information between features and the target.\n",
    "\n",
    "2. Mutual information quantifies the amount of information gained by observing another variable.\n",
    "\n",
    "3. The value is zero or more. If the value is zero there is no relation between them.\n",
    "\n",
    "https://scikit-learn.org/stable/modules/generated/sklearn.feature_selection.mutual_info_classif.html"
   ]
  },
  {
   "cell_type": "code",
   "execution_count": 62,
   "id": "726bd702",
   "metadata": {},
   "outputs": [],
   "source": [
    "from sklearn import feature_selection"
   ]
  },
  {
   "cell_type": "code",
   "execution_count": 63,
   "id": "0934f05f",
   "metadata": {},
   "outputs": [],
   "source": [
    "mic = feature_selection.mutual_info_classif(X, y)"
   ]
  },
  {
   "cell_type": "code",
   "execution_count": 64,
   "id": "83da233e",
   "metadata": {},
   "outputs": [
    {
     "data": {
      "text/plain": [
       "<AxesSubplot:ylabel='feature'>"
      ]
     },
     "execution_count": 64,
     "metadata": {},
     "output_type": "execute_result"
    },
    {
     "data": {
      "image/png": "[encoded data removed]",
      "text/plain": [
       "<Figure size 720x576 with 1 Axes>"
      ]
     },
     "metadata": {
      "needs_background": "light"
     },
     "output_type": "display_data"
    }
   ],
   "source": [
    "fig, ax = plt.subplots(figsize=(10, 8))\n",
    "(\n",
    "pd.DataFrame(\n",
    "    {\"feature\": X.columns, \"vimp\": mic}\n",
    ")\n",
    ".set_index(\"feature\")\n",
    ".plot.barh(ax=ax)\n",
    ")"
   ]
  },
  {
   "cell_type": "markdown",
   "id": "86ecd9a8",
   "metadata": {},
   "source": [
    "# Ensemble Algorithms -- Boosting Algorithms\n",
    "\n",
    "`Refer to Vaibhav Verdhan, chapter 4, pages: 193-208`\n",
    "\n",
    "1. Boosting is an ensemble method that creates a strong classifier from weak classifiers.\n",
    "\n",
    "2. A new model is created in a sequence, learning from the misclassifications of the previous model.\n",
    "\n",
    "## AdaBoost Algorithm\n",
    "\n",
    "`Adaptive Boosting`: \n",
    "1. a base model is created using a subset of the data\n",
    "2. the base model is used to make predictions on the complete dataset\n",
    "3. the perfomance of the base model is calculated\n",
    "4. create the next model assinging higher importance weights on incorrectly predicted points\n",
    "5. the weigths are proporsional to the error\n",
    "6. thus the next model has been improved over the previous one\n",
    "7. if no more reduction in the error is possible, the final model has been reached\n",
    "\n",
    "https://scikit-learn.org/stable/modules/generated/sklearn.ensemble.AdaBoostClassifier.html"
   ]
  },
  {
   "cell_type": "code",
   "execution_count": 65,
   "id": "3b625e31",
   "metadata": {},
   "outputs": [],
   "source": [
    "from sklearn.ensemble import AdaBoostClassifier"
   ]
  },
  {
   "cell_type": "code",
   "execution_count": 66,
   "id": "7dfbdfec",
   "metadata": {},
   "outputs": [],
   "source": [
    "adaboost_clf = AdaBoostClassifier(n_estimators=50, \n",
    "                                 learning_rate=0.05, \n",
    "                                 random_state=5\n",
    "                                 )"
   ]
  },
  {
   "cell_type": "code",
   "execution_count": 67,
   "id": "d40eca34",
   "metadata": {},
   "outputs": [],
   "source": [
    "# FIT the training data:\n",
    "adaboost_clf = adaboost_clf.fit(X_train, y_train)"
   ]
  },
  {
   "cell_type": "code",
   "execution_count": 68,
   "id": "53ab9582",
   "metadata": {},
   "outputs": [],
   "source": [
    "# make PREDICTions on the testing data:\n",
    "prediction_adaboost = adaboost_clf.predict(X_test)"
   ]
  },
  {
   "cell_type": "code",
   "execution_count": 69,
   "id": "a15886b9",
   "metadata": {},
   "outputs": [
    {
     "data": {
      "text/html": [
       "<div>\n",
       "<style scoped>\n",
       "    .dataframe tbody tr th:only-of-type {\n",
       "        vertical-align: middle;\n",
       "    }\n",
       "\n",
       "    .dataframe tbody tr th {\n",
       "        vertical-align: top;\n",
       "    }\n",
       "\n",
       "    .dataframe thead th {\n",
       "        text-align: right;\n",
       "    }\n",
       "</style>\n",
       "<table border=\"1\" class=\"dataframe\">\n",
       "  <thead>\n",
       "    <tr style=\"text-align: right;\">\n",
       "      <th></th>\n",
       "      <th>Method</th>\n",
       "      <th>accuracy</th>\n",
       "    </tr>\n",
       "  </thead>\n",
       "  <tbody>\n",
       "    <tr>\n",
       "      <th>0</th>\n",
       "      <td>Random Forest</td>\n",
       "      <td>0.947368</td>\n",
       "    </tr>\n",
       "    <tr>\n",
       "      <th>0</th>\n",
       "      <td>AdaBoost</td>\n",
       "      <td>0.921053</td>\n",
       "    </tr>\n",
       "  </tbody>\n",
       "</table>\n",
       "</div>"
      ],
      "text/plain": [
       "          Method  accuracy\n",
       "0  Random Forest  0.947368\n",
       "0       AdaBoost  0.921053"
      ]
     },
     "execution_count": 69,
     "metadata": {},
     "output_type": "execute_result"
    }
   ],
   "source": [
    "# compute the ACCURACY:\n",
    "acc_AB = accuracy_score(y_test, prediction_adaboost)\n",
    "resultsAB = pd.DataFrame({'Method':['AdaBoost'],\n",
    "                          'accuracy':acc_AB})\n",
    "resultsDf = pd.concat([resultsDf, resultsAB])\n",
    "resultsDf"
   ]
  },
  {
   "cell_type": "markdown",
   "id": "78372606",
   "metadata": {},
   "source": [
    "# Ensemble Algorithms\n",
    "## Bagging Classifier\n",
    "\n",
    "`Refer to Vaibhav Verdhan, chapter 4, pages 193-208`\n",
    "\n",
    "https://scikit-learn.org/stable/modules/generated/sklearn.ensemble.BaggingClassifier.html"
   ]
  },
  {
   "cell_type": "code",
   "execution_count": 70,
   "id": "8dfcd156",
   "metadata": {},
   "outputs": [],
   "source": [
    "from sklearn.ensemble import BaggingClassifier"
   ]
  },
  {
   "cell_type": "code",
   "execution_count": 71,
   "id": "d556daf1",
   "metadata": {},
   "outputs": [],
   "source": [
    "bagging_clf = BaggingClassifier(n_estimators=55, \n",
    "                               max_samples=0.5, \n",
    "                               bootstrap=True, \n",
    "                               oob_score=True, \n",
    "                               random_state=5, \n",
    "                               )"
   ]
  },
  {
   "cell_type": "code",
   "execution_count": 72,
   "id": "f4a4a9b6",
   "metadata": {},
   "outputs": [],
   "source": [
    "# FIT the training data:\n",
    "bagging_clf = bagging_clf.fit(X_train, y_train)"
   ]
  },
  {
   "cell_type": "code",
   "execution_count": 73,
   "id": "1e7d98f1",
   "metadata": {},
   "outputs": [],
   "source": [
    "# make PREDICTions on the testing data:\n",
    "prediction_bagging = bagging_clf.predict(X_test)"
   ]
  },
  {
   "cell_type": "code",
   "execution_count": 74,
   "id": "b10134a1",
   "metadata": {},
   "outputs": [
    {
     "data": {
      "text/html": [
       "<div>\n",
       "<style scoped>\n",
       "    .dataframe tbody tr th:only-of-type {\n",
       "        vertical-align: middle;\n",
       "    }\n",
       "\n",
       "    .dataframe tbody tr th {\n",
       "        vertical-align: top;\n",
       "    }\n",
       "\n",
       "    .dataframe thead th {\n",
       "        text-align: right;\n",
       "    }\n",
       "</style>\n",
       "<table border=\"1\" class=\"dataframe\">\n",
       "  <thead>\n",
       "    <tr style=\"text-align: right;\">\n",
       "      <th></th>\n",
       "      <th>Method</th>\n",
       "      <th>accuracy</th>\n",
       "    </tr>\n",
       "  </thead>\n",
       "  <tbody>\n",
       "    <tr>\n",
       "      <th>0</th>\n",
       "      <td>Random Forest</td>\n",
       "      <td>0.947368</td>\n",
       "    </tr>\n",
       "    <tr>\n",
       "      <th>0</th>\n",
       "      <td>AdaBoost</td>\n",
       "      <td>0.921053</td>\n",
       "    </tr>\n",
       "    <tr>\n",
       "      <th>0</th>\n",
       "      <td>Bagging</td>\n",
       "      <td>0.921053</td>\n",
       "    </tr>\n",
       "  </tbody>\n",
       "</table>\n",
       "</div>"
      ],
      "text/plain": [
       "          Method  accuracy\n",
       "0  Random Forest  0.947368\n",
       "0       AdaBoost  0.921053\n",
       "0        Bagging  0.921053"
      ]
     },
     "execution_count": 74,
     "metadata": {},
     "output_type": "execute_result"
    }
   ],
   "source": [
    "# compute the ACCURACY:\n",
    "acc_BG = accuracy_score(y_test, prediction_bagging)\n",
    "resultsBG = pd.DataFrame({'Method':['Bagging'],\n",
    "                          'accuracy':acc_BG})\n",
    "resultsDf = pd.concat([resultsDf, resultsBG])\n",
    "resultsDf"
   ]
  },
  {
   "cell_type": "markdown",
   "id": "7e47f1f8",
   "metadata": {},
   "source": [
    "# Ensemble Algorithms\n",
    "## Gradient Boosting Classifier\n",
    "\n",
    "`Refer to Vaibhav Verdhan, chapter 4, pages 193-208`\n",
    "\n",
    "https://scikit-learn.org/stable/modules/generated/sklearn.ensemble.GradientBoostingClassifier.html\n"
   ]
  },
  {
   "cell_type": "code",
   "execution_count": 75,
   "id": "df2313b5",
   "metadata": {},
   "outputs": [],
   "source": [
    "from sklearn.ensemble import GradientBoostingClassifier"
   ]
  },
  {
   "cell_type": "code",
   "execution_count": 76,
   "id": "ebf8a038",
   "metadata": {},
   "outputs": [],
   "source": [
    "gradientBoosting_clf = GradientBoostingClassifier(n_estimators=55, \n",
    "                                                  learning_rate=0.05, \n",
    "                                                  random_state=5, \n",
    "                                                 )"
   ]
  },
  {
   "cell_type": "code",
   "execution_count": 77,
   "id": "93213fe2",
   "metadata": {},
   "outputs": [],
   "source": [
    "# FIT the training data:\n",
    "gradientBoosting_clf = gradientBoosting_clf.fit(X_train, y_train)"
   ]
  },
  {
   "cell_type": "code",
   "execution_count": 78,
   "id": "f0da069a",
   "metadata": {},
   "outputs": [],
   "source": [
    "# make PREDICTions on the testing data:\n",
    "prediction_GB = gradientBoosting_clf.predict(X_test)"
   ]
  },
  {
   "cell_type": "code",
   "execution_count": 79,
   "id": "6b7147eb",
   "metadata": {},
   "outputs": [
    {
     "data": {
      "text/html": [
       "<div>\n",
       "<style scoped>\n",
       "    .dataframe tbody tr th:only-of-type {\n",
       "        vertical-align: middle;\n",
       "    }\n",
       "\n",
       "    .dataframe tbody tr th {\n",
       "        vertical-align: top;\n",
       "    }\n",
       "\n",
       "    .dataframe thead th {\n",
       "        text-align: right;\n",
       "    }\n",
       "</style>\n",
       "<table border=\"1\" class=\"dataframe\">\n",
       "  <thead>\n",
       "    <tr style=\"text-align: right;\">\n",
       "      <th></th>\n",
       "      <th>Method</th>\n",
       "      <th>accuracy</th>\n",
       "    </tr>\n",
       "  </thead>\n",
       "  <tbody>\n",
       "    <tr>\n",
       "      <th>0</th>\n",
       "      <td>Random Forest</td>\n",
       "      <td>0.947368</td>\n",
       "    </tr>\n",
       "    <tr>\n",
       "      <th>0</th>\n",
       "      <td>AdaBoost</td>\n",
       "      <td>0.921053</td>\n",
       "    </tr>\n",
       "    <tr>\n",
       "      <th>0</th>\n",
       "      <td>Bagging</td>\n",
       "      <td>0.921053</td>\n",
       "    </tr>\n",
       "    <tr>\n",
       "      <th>0</th>\n",
       "      <td>Gradient Boosting</td>\n",
       "      <td>0.947368</td>\n",
       "    </tr>\n",
       "  </tbody>\n",
       "</table>\n",
       "</div>"
      ],
      "text/plain": [
       "              Method  accuracy\n",
       "0      Random Forest  0.947368\n",
       "0           AdaBoost  0.921053\n",
       "0            Bagging  0.921053\n",
       "0  Gradient Boosting  0.947368"
      ]
     },
     "execution_count": 79,
     "metadata": {},
     "output_type": "execute_result"
    }
   ],
   "source": [
    "# compute the ACCURACY:\n",
    "acc_GB = accuracy_score(y_test, prediction_GB)\n",
    "resultsGB = pd.DataFrame({'Method':['Gradient Boosting'],\n",
    "                          'accuracy':acc_GB})\n",
    "resultsDf = pd.concat([resultsDf, resultsGB])\n",
    "resultsDf"
   ]
  },
  {
   "cell_type": "markdown",
   "id": "86984416",
   "metadata": {},
   "source": [
    "**What do you conclude? Which one is the best ensemble method?**\n",
    "\n",
    "It is recommended to test random forest and gradient boosting for real-world problems."
   ]
  },
  {
   "cell_type": "markdown",
   "id": "27c6010b",
   "metadata": {},
   "source": [
    "## Theory\n",
    "\n",
    "1. `Gini impurity`:\n",
    "$$G_i = 1 - \\sum^{n}_{k=1} p_{i,k}^2$$\n",
    "\n",
    "* $p_{i,k}$ is the ratio of class `k` instances among the training instances in the `ith` node\n",
    "* Gini impurity is slightly faster to compute\n",
    "\n",
    "2. `Entropy`:\n",
    "$$H_i = - \\sum^{n}_{k=1, p_{i,k}\\ne0} p_{i,k} \\log_2{(p_{i,k})}$$\n",
    "\n",
    "* measures homogeneity of data in a node\n",
    "* entropy is defined as zero when the data points in the node all belongs to one single class\n",
    "* it is equal to 1 when \n",
    "* node containing data dominated by one class, i.e. entropy is small, is ready to become a decision node\n",
    "* Most of the time they lead to similar trees.  However, when they differ, `Gini impurity` tends to isolate the most frequent class in its own branch of the tree, while `entropy` tends to produce slightly more balanced trees.\n",
    "\n",
    "3. `Information gain (IG)`:\n",
    "$$IG = e_s - \\sum_{i=1,2} w_{i} H_i$$"
   ]
  },
  {
   "cell_type": "markdown",
   "id": "7bee334c",
   "metadata": {},
   "source": [
    "# Evaluating Classifiers\n",
    "\n",
    "1. Compute Area Under the Receiver Operating Characteristic Curve (ROC AUC) from prediction scores:\n",
    "\n",
    "https://scikit-learn.org/stable/modules/generated/sklearn.metrics.roc_auc_score.html#sklearn.metrics.roc_auc_score\n",
    "\n",
    "2. Plotting the ROC curve:\n",
    "\n",
    "https://scikit-learn.org/stable/auto_examples/model_selection/plot_roc.html#sphx-glr-auto-examples-model-selection-plot-roc-py\n",
    "\n",
    "https://scikit-learn.org/stable/auto_examples/model_selection/plot_roc_crossval.html#sphx-glr-auto-examples-model-selection-plot-roc-crossval-py"
   ]
  },
  {
   "cell_type": "code",
   "execution_count": 80,
   "id": "e6cac085",
   "metadata": {},
   "outputs": [],
   "source": [
    "from sklearn.metrics import roc_curve\n",
    "from sklearn.metrics import roc_auc_score\n",
    "from sklearn.model_selection import cross_val_score"
   ]
  },
  {
   "cell_type": "code",
   "execution_count": 81,
   "id": "c8fea6dc",
   "metadata": {},
   "outputs": [],
   "source": [
    "which_model = 'Random Forest'\n",
    "which_model = 'Bagging'"
   ]
  },
  {
   "cell_type": "code",
   "execution_count": 82,
   "id": "74cc7271",
   "metadata": {},
   "outputs": [],
   "source": [
    "y_setosa = y==0\n",
    "#y_setosa"
   ]
  },
  {
   "cell_type": "code",
   "execution_count": 83,
   "id": "6329b348",
   "metadata": {},
   "outputs": [],
   "source": [
    "y_versicolor = y==1\n",
    "#y_versicolor"
   ]
  },
  {
   "cell_type": "code",
   "execution_count": 84,
   "id": "fa08ba2f",
   "metadata": {},
   "outputs": [
    {
     "data": {
      "text/plain": [
       "0      False\n",
       "1      False\n",
       "2      False\n",
       "3      False\n",
       "4      False\n",
       "       ...  \n",
       "145     True\n",
       "146     True\n",
       "147     True\n",
       "148     True\n",
       "149     True\n",
       "Name: target, Length: 150, dtype: bool"
      ]
     },
     "execution_count": 84,
     "metadata": {},
     "output_type": "execute_result"
    }
   ],
   "source": [
    "y_virginica = y==2\n",
    "y_virginica"
   ]
  },
  {
   "cell_type": "code",
   "execution_count": 85,
   "id": "12160afb",
   "metadata": {},
   "outputs": [
    {
     "data": {
      "text/plain": [
       "<matplotlib.legend.Legend at 0x7f80705caa30>"
      ]
     },
     "execution_count": 85,
     "metadata": {},
     "output_type": "execute_result"
    },
    {
     "data": {
      "image/png": "[encoded data removed]",
      "text/plain": [
       "<Figure size 936x504 with 2 Axes>"
      ]
     },
     "metadata": {
      "needs_background": "light"
     },
     "output_type": "display_data"
    }
   ],
   "source": [
    "folds = 10\n",
    "figE, axE = plt.subplots(2, 1, figsize=(13,7))\n",
    "\n",
    "cv_prob_true = {}\n",
    "cv_probs = cross_val_predict(bagging_clf, X, y_versicolor, cv=folds, method='predict_proba')\n",
    "# Note: you can use the 'cv_probs' to create confusion matrices for various models to compare!\n",
    "cv_prob_true = cv_probs[:,1]\n",
    "\n",
    "fpr, tpr, thresh = roc_curve(y_versicolor, cv_prob_true)\n",
    "\n",
    "aucs = roc_auc_score(y_versicolor, cv_prob_true)\n",
    "cv_scores = cross_val_score(bagging_clf, X, y_versicolor, cv=folds, scoring='accuracy')\n",
    "cv_mean = cv_scores.mean()\n",
    "\n",
    "axE[0].plot(fpr, tpr, 'o--', label='{}: {}, {}'.format(which_model, aucs, cv_mean))\n",
    "\n",
    "axE[0].plot([0, 1], [0, 1], color=\"navy\", lw=2, linestyle=\"--\", label='{}: {}'.format('base', 0.5))\n",
    "axE[0].set_title('ROC Curves - Class Setosa')\n",
    "axE[0].set_xlabel(\"False Positive Rate\")\n",
    "axE[0].set_ylabel(\"True Positive Rate\")\n",
    "axE[0].legend()\n",
    "#axE.set_xlim([0.0, 1.0])\n",
    "#axE.set_ylim([0.0, 1.05])\n",
    "axE[1].scatter(which_model, cv_mean, label=which_model)\n",
    "axE[1].legend()"
   ]
  },
  {
   "cell_type": "code",
   "execution_count": 86,
   "id": "89f09689",
   "metadata": {},
   "outputs": [
    {
     "ename": "NameError",
     "evalue": "name 'knn_model' is not defined",
     "output_type": "error",
     "traceback": [
      "\u001b[0;31m---------------------------------------------------------------------------\u001b[0m",
      "\u001b[0;31mNameError\u001b[0m                                 Traceback (most recent call last)",
      "\u001b[0;32m/var/folders/b3/t81f1yl52fq1b2tnbmrsb_dr0000gn/T/ipykernel_23762/99799584.py\u001b[0m in \u001b[0;36m<module>\u001b[0;34m\u001b[0m\n\u001b[1;32m      1\u001b[0m classifiers = {'Random Forest' : rf_model,\n\u001b[1;32m      2\u001b[0m               \u001b[0;34m'Bagging'\u001b[0m \u001b[0;34m:\u001b[0m \u001b[0mbagging_clf\u001b[0m\u001b[0;34m,\u001b[0m\u001b[0;34m\u001b[0m\u001b[0;34m\u001b[0m\u001b[0m\n\u001b[0;32m----> 3\u001b[0;31m               '10-NN' : knn_model}\n\u001b[0m",
      "\u001b[0;31mNameError\u001b[0m: name 'knn_model' is not defined"
     ]
    }
   ],
   "source": [
    "classifiers = {'Random Forest' : rf_model,\n",
    "              'Bagging' : bagging_clf,\n",
    "              '10-NN' : knn_model}"
   ]
  },
  {
   "cell_type": "code",
   "execution_count": null,
   "id": "47628899",
   "metadata": {},
   "outputs": [],
   "source": [
    "folds = 10\n",
    "figE, axE = plt.subplots(2, 1, figsize=(13,7))\n",
    "axE[0].plot([0, 1], [0, 1], color=\"navy\", lw=2, linestyle=\"--\", label='{}: {}'.format('base', 0.5))\n",
    "\n",
    "for model_name, model in classifiers.items():\n",
    "    #cv_prob_true = {}\n",
    "    cv_probs = cross_val_predict(model, X, y_versicolor, cv=folds, method='predict_proba')\n",
    "    # Note: you can use the 'cv_probs' to create confusion matrices for various models to compare!\n",
    "    cv_prob_true = cv_probs[:,1]\n",
    "    \n",
    "    # for ROC:\n",
    "    fpr, tpr, thresh = roc_curve(y_versicolor, cv_prob_true)\n",
    "    aucs = roc_auc_score(y_versicolor, cv_prob_true)\n",
    "    \n",
    "    # for cross-validation accuracy:\n",
    "    cv_scores = cross_val_score(model, X, y_versicolor, cv=folds, scoring='accuracy')\n",
    "    cv_mean = cv_scores.mean()\n",
    "    \n",
    "    # subplot for ROC:\n",
    "    axE[0].plot(fpr, tpr, 'o--', label='{}: {}, {}'.format(model_name, aucs, cv_mean))\n",
    "    axE[0].set_title('ROC Curves - Class Setosa')\n",
    "    axE[0].set_xlabel(\"False Positive Rate\")\n",
    "    axE[0].set_ylabel(\"True Positive Rate\")\n",
    "    axE[0].legend()\n",
    "    #axE.set_xlim([0.0, 1.0])\n",
    "    #axE.set_ylim([0.0, 1.05])\n",
    "    \n",
    "    # subplot for cross-validation accuracy:\n",
    "    axE[1].scatter(model_name, cv_mean, label=model_name)\n",
    "    axE[1].legend()"
   ]
  },
  {
   "cell_type": "code",
   "execution_count": null,
   "id": "ecc359a4",
   "metadata": {},
   "outputs": [],
   "source": [
    "classifiers = {'Random Forest' : prediction_RF,\n",
    "              'Bagging' : prediction_bagging}"
   ]
  },
  {
   "cell_type": "code",
   "execution_count": null,
   "id": "c8d641fa",
   "metadata": {},
   "outputs": [],
   "source": [
    "folds = 10\n",
    "figE, axE = plt.subplots(2, 1, figsize=(13,7))\n",
    "\n",
    "for model_name, model_pred in classifiers.items():\n",
    "    \n",
    "    cm_RF = confusion_matrix(y_test, model_pred)\n",
    "    ax_cm_RF = sns.heatmap(cm_RF, annot=True, square=True,\n",
    "                           xticklabels=iris.target_names,\n",
    "                           yticklabels=iris.target_names)\n",
    "    ax_cm_RF.set_xlabel('Predicted Labels')\n",
    "    ax_cm_RF.set_ylabel('True Labels')\n",
    "    ax_cm_RF.set_title('Confusion Matrix')"
   ]
  },
  {
   "cell_type": "code",
   "execution_count": null,
   "id": "aba98e86",
   "metadata": {},
   "outputs": [],
   "source": [
    "cv_probs"
   ]
  },
  {
   "cell_type": "markdown",
   "id": "4640cbbc",
   "metadata": {},
   "source": [
    "### Try with a `k-NN` classifier"
   ]
  },
  {
   "cell_type": "code",
   "execution_count": null,
   "id": "0a6ada95",
   "metadata": {},
   "outputs": [],
   "source": [
    "from sklearn.neighbors import KNeighborsClassifier"
   ]
  },
  {
   "cell_type": "code",
   "execution_count": null,
   "id": "42c2dfd2",
   "metadata": {},
   "outputs": [],
   "source": [
    "knn_model = KNeighborsClassifier(n_neighbors=3)\n",
    "knn_model.fit(X_train, y_train)"
   ]
  },
  {
   "cell_type": "markdown",
   "id": "e6459829",
   "metadata": {},
   "source": [
    "# Exercise:\n",
    "\n",
    "1. Create a plot for the overall accuracy of every model\n",
    "2. Create a subplots figure displaying the confusion matrices in heatmap for every model\n",
    "3. Create a ROC curve for all models"
   ]
  },
  {
   "cell_type": "code",
   "execution_count": null,
   "id": "713c3f00",
   "metadata": {},
   "outputs": [],
   "source": []
  }
 ],
 "metadata": {
  "kernelspec": {
   "display_name": "Python 3 (ipykernel)",
   "language": "python",
   "name": "python3"
  },
  "language_info": {
   "codemirror_mode": {
    "name": "ipython",
    "version": 3
   },
   "file_extension": ".py",
   "mimetype": "text/x-python",
   "name": "python",
   "nbconvert_exporter": "python",
   "pygments_lexer": "ipython3",
   "version": "3.9.7"
  }
 },
 "nbformat": 4,
 "nbformat_minor": 5
}
