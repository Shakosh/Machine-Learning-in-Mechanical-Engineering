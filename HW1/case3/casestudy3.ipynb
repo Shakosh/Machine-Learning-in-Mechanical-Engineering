{
 "cells": [
  {
   "cell_type": "code",
   "execution_count": 75,
   "metadata": {},
   "outputs": [],
   "source": [
    "import numpy as np\n",
    "import pandas as pd\n",
    "import matplotlib.pyplot as plt\n",
    "import seaborn as sns\n",
    "%matplotlib inline\n",
    "\n",
    "from sklearn import datasets\n",
    "from sklearn.decomposition import PCA\n",
    "from sklearn import preprocessing\n",
    "\n",
    "sns.set() # set seaborn's default settings"
   ]
  },
  {
   "attachments": {},
   "cell_type": "markdown",
   "metadata": {},
   "source": [
    "First and Foremost, the dataframe has 5 basically empty rows at the top as downloaded from the source: https://www.phase-trans.msm.cam.ac.uk/map/data/materials/austenitic.data.html   \n",
    "\n",
    "(There is a naming convention for humans viewing the excel file.)  \n",
    "\n",
    "This can be fixed by using the skiprows parameter in the read_excel function."
   ]
  },
  {
   "cell_type": "code",
   "execution_count": 76,
   "metadata": {},
   "outputs": [
    {
     "data": {
      "text/html": [
       "<div>\n",
       "<style scoped>\n",
       "    .dataframe tbody tr th:only-of-type {\n",
       "        vertical-align: middle;\n",
       "    }\n",
       "\n",
       "    .dataframe tbody tr th {\n",
       "        vertical-align: top;\n",
       "    }\n",
       "\n",
       "    .dataframe thead th {\n",
       "        text-align: right;\n",
       "    }\n",
       "</style>\n",
       "<table border=\"1\" class=\"dataframe\">\n",
       "  <thead>\n",
       "    <tr style=\"text-align: right;\">\n",
       "      <th></th>\n",
       "      <th>Cr</th>\n",
       "      <th>Ni</th>\n",
       "      <th>Mo</th>\n",
       "      <th>Mn</th>\n",
       "      <th>Si</th>\n",
       "      <th>Nb</th>\n",
       "      <th>Ti</th>\n",
       "      <th>Zr</th>\n",
       "      <th>Ta</th>\n",
       "      <th>V</th>\n",
       "      <th>...</th>\n",
       "      <th>Grains mm-2</th>\n",
       "      <th>Type of melting</th>\n",
       "      <th>Size of ingot</th>\n",
       "      <th>Product form</th>\n",
       "      <th>Temperature (K)</th>\n",
       "      <th>0.2%proof_stress (M Pa)</th>\n",
       "      <th>UTS (M Pa)</th>\n",
       "      <th>Elongation (%)</th>\n",
       "      <th>Area_reduction (%)</th>\n",
       "      <th>Comments</th>\n",
       "    </tr>\n",
       "  </thead>\n",
       "  <tbody>\n",
       "    <tr>\n",
       "      <th>0</th>\n",
       "      <td>18.7</td>\n",
       "      <td>10.69</td>\n",
       "      <td>0.47</td>\n",
       "      <td>1.56</td>\n",
       "      <td>0.62</td>\n",
       "      <td>0.01</td>\n",
       "      <td>0.04</td>\n",
       "      <td>0</td>\n",
       "      <td>0</td>\n",
       "      <td>0.0</td>\n",
       "      <td>...</td>\n",
       "      <td>477.712892</td>\n",
       "      <td>1</td>\n",
       "      <td>3</td>\n",
       "      <td>1</td>\n",
       "      <td>298</td>\n",
       "      <td>280.000000</td>\n",
       "      <td>610.000000</td>\n",
       "      <td>67</td>\n",
       "      <td>83</td>\n",
       "      <td>NRIM/CDS/No4B/1986 ABA</td>\n",
       "    </tr>\n",
       "    <tr>\n",
       "      <th>1</th>\n",
       "      <td>18.7</td>\n",
       "      <td>10.69</td>\n",
       "      <td>0.47</td>\n",
       "      <td>1.56</td>\n",
       "      <td>0.62</td>\n",
       "      <td>0.01</td>\n",
       "      <td>0.04</td>\n",
       "      <td>0</td>\n",
       "      <td>0</td>\n",
       "      <td>0.0</td>\n",
       "      <td>...</td>\n",
       "      <td>477.712892</td>\n",
       "      <td>1</td>\n",
       "      <td>3</td>\n",
       "      <td>1</td>\n",
       "      <td>373</td>\n",
       "      <td>243.000000</td>\n",
       "      <td>508.000000</td>\n",
       "      <td>54</td>\n",
       "      <td>83</td>\n",
       "      <td>NRIM/CDS/No4B/1986 ABA</td>\n",
       "    </tr>\n",
       "    <tr>\n",
       "      <th>2</th>\n",
       "      <td>18.7</td>\n",
       "      <td>10.69</td>\n",
       "      <td>0.47</td>\n",
       "      <td>1.56</td>\n",
       "      <td>0.62</td>\n",
       "      <td>0.01</td>\n",
       "      <td>0.04</td>\n",
       "      <td>0</td>\n",
       "      <td>0</td>\n",
       "      <td>0.0</td>\n",
       "      <td>...</td>\n",
       "      <td>477.712892</td>\n",
       "      <td>1</td>\n",
       "      <td>3</td>\n",
       "      <td>1</td>\n",
       "      <td>473</td>\n",
       "      <td>220.000000</td>\n",
       "      <td>472.000000</td>\n",
       "      <td>44</td>\n",
       "      <td>81</td>\n",
       "      <td>NRIM/CDS/No4B/1986 ABA</td>\n",
       "    </tr>\n",
       "    <tr>\n",
       "      <th>3</th>\n",
       "      <td>18.7</td>\n",
       "      <td>10.69</td>\n",
       "      <td>0.47</td>\n",
       "      <td>1.56</td>\n",
       "      <td>0.62</td>\n",
       "      <td>0.01</td>\n",
       "      <td>0.04</td>\n",
       "      <td>0</td>\n",
       "      <td>0</td>\n",
       "      <td>0.0</td>\n",
       "      <td>...</td>\n",
       "      <td>477.712892</td>\n",
       "      <td>1</td>\n",
       "      <td>3</td>\n",
       "      <td>1</td>\n",
       "      <td>573</td>\n",
       "      <td>204.000000</td>\n",
       "      <td>470.000000</td>\n",
       "      <td>43</td>\n",
       "      <td>76</td>\n",
       "      <td>NRIM/CDS/No4B/1986 ABA</td>\n",
       "    </tr>\n",
       "    <tr>\n",
       "      <th>4</th>\n",
       "      <td>18.7</td>\n",
       "      <td>10.69</td>\n",
       "      <td>0.47</td>\n",
       "      <td>1.56</td>\n",
       "      <td>0.62</td>\n",
       "      <td>0.01</td>\n",
       "      <td>0.04</td>\n",
       "      <td>0</td>\n",
       "      <td>0</td>\n",
       "      <td>0.0</td>\n",
       "      <td>...</td>\n",
       "      <td>477.712892</td>\n",
       "      <td>1</td>\n",
       "      <td>3</td>\n",
       "      <td>1</td>\n",
       "      <td>673</td>\n",
       "      <td>197.000000</td>\n",
       "      <td>470.000000</td>\n",
       "      <td>45</td>\n",
       "      <td>76</td>\n",
       "      <td>NRIM/CDS/No4B/1986 ABA</td>\n",
       "    </tr>\n",
       "    <tr>\n",
       "      <th>...</th>\n",
       "      <td>...</td>\n",
       "      <td>...</td>\n",
       "      <td>...</td>\n",
       "      <td>...</td>\n",
       "      <td>...</td>\n",
       "      <td>...</td>\n",
       "      <td>...</td>\n",
       "      <td>...</td>\n",
       "      <td>...</td>\n",
       "      <td>...</td>\n",
       "      <td>...</td>\n",
       "      <td>...</td>\n",
       "      <td>...</td>\n",
       "      <td>...</td>\n",
       "      <td>...</td>\n",
       "      <td>...</td>\n",
       "      <td>...</td>\n",
       "      <td>...</td>\n",
       "      <td>...</td>\n",
       "      <td>...</td>\n",
       "      <td>...</td>\n",
       "    </tr>\n",
       "    <tr>\n",
       "      <th>2175</th>\n",
       "      <td>17.7</td>\n",
       "      <td>12.28</td>\n",
       "      <td>0.00</td>\n",
       "      <td>1.24</td>\n",
       "      <td>0.30</td>\n",
       "      <td>0.83</td>\n",
       "      <td>0.00</td>\n",
       "      <td>0</td>\n",
       "      <td>0</td>\n",
       "      <td>0.0</td>\n",
       "      <td>...</td>\n",
       "      <td>Na</td>\n",
       "      <td>2</td>\n",
       "      <td>Na</td>\n",
       "      <td>1</td>\n",
       "      <td>723</td>\n",
       "      <td>171.616375</td>\n",
       "      <td>454.047895</td>\n",
       "      <td>34.9</td>\n",
       "      <td>Na</td>\n",
       "      <td>NaN</td>\n",
       "    </tr>\n",
       "    <tr>\n",
       "      <th>2176</th>\n",
       "      <td>17.7</td>\n",
       "      <td>12.28</td>\n",
       "      <td>0.00</td>\n",
       "      <td>1.24</td>\n",
       "      <td>0.30</td>\n",
       "      <td>0.83</td>\n",
       "      <td>0.00</td>\n",
       "      <td>0</td>\n",
       "      <td>0</td>\n",
       "      <td>0.0</td>\n",
       "      <td>...</td>\n",
       "      <td>Na</td>\n",
       "      <td>2</td>\n",
       "      <td>Na</td>\n",
       "      <td>1</td>\n",
       "      <td>773</td>\n",
       "      <td>166.713050</td>\n",
       "      <td>435.415260</td>\n",
       "      <td>33</td>\n",
       "      <td>Na</td>\n",
       "      <td>NaN</td>\n",
       "    </tr>\n",
       "    <tr>\n",
       "      <th>2177</th>\n",
       "      <td>17.7</td>\n",
       "      <td>12.28</td>\n",
       "      <td>0.00</td>\n",
       "      <td>1.24</td>\n",
       "      <td>0.30</td>\n",
       "      <td>0.83</td>\n",
       "      <td>0.00</td>\n",
       "      <td>0</td>\n",
       "      <td>0</td>\n",
       "      <td>0.0</td>\n",
       "      <td>...</td>\n",
       "      <td>Na</td>\n",
       "      <td>2</td>\n",
       "      <td>Na</td>\n",
       "      <td>1</td>\n",
       "      <td>823</td>\n",
       "      <td>169.655045</td>\n",
       "      <td>424.627945</td>\n",
       "      <td>34.2</td>\n",
       "      <td>Na</td>\n",
       "      <td>NaN</td>\n",
       "    </tr>\n",
       "    <tr>\n",
       "      <th>2178</th>\n",
       "      <td>17.7</td>\n",
       "      <td>12.28</td>\n",
       "      <td>0.00</td>\n",
       "      <td>1.24</td>\n",
       "      <td>0.30</td>\n",
       "      <td>0.83</td>\n",
       "      <td>0.00</td>\n",
       "      <td>0</td>\n",
       "      <td>0</td>\n",
       "      <td>0.0</td>\n",
       "      <td>...</td>\n",
       "      <td>Na</td>\n",
       "      <td>2</td>\n",
       "      <td>Na</td>\n",
       "      <td>1</td>\n",
       "      <td>873</td>\n",
       "      <td>168.674380</td>\n",
       "      <td>398.149990</td>\n",
       "      <td>37.6</td>\n",
       "      <td>Na</td>\n",
       "      <td>NaN</td>\n",
       "    </tr>\n",
       "    <tr>\n",
       "      <th>2179</th>\n",
       "      <td>17.7</td>\n",
       "      <td>12.28</td>\n",
       "      <td>0.00</td>\n",
       "      <td>1.24</td>\n",
       "      <td>0.30</td>\n",
       "      <td>0.83</td>\n",
       "      <td>0.00</td>\n",
       "      <td>0</td>\n",
       "      <td>0</td>\n",
       "      <td>0.0</td>\n",
       "      <td>...</td>\n",
       "      <td>Na</td>\n",
       "      <td>2</td>\n",
       "      <td>Na</td>\n",
       "      <td>1</td>\n",
       "      <td>973</td>\n",
       "      <td>139.254430</td>\n",
       "      <td>296.160830</td>\n",
       "      <td>45.4</td>\n",
       "      <td>Na</td>\n",
       "      <td>NaN</td>\n",
       "    </tr>\n",
       "  </tbody>\n",
       "</table>\n",
       "<p>2180 rows × 35 columns</p>\n",
       "</div>"
      ],
      "text/plain": [
       "        Cr     Ni    Mo    Mn    Si    Nb    Ti  Zr  Ta    V  ...  \\\n",
       "0     18.7  10.69  0.47  1.56  0.62  0.01  0.04   0   0  0.0  ...   \n",
       "1     18.7  10.69  0.47  1.56  0.62  0.01  0.04   0   0  0.0  ...   \n",
       "2     18.7  10.69  0.47  1.56  0.62  0.01  0.04   0   0  0.0  ...   \n",
       "3     18.7  10.69  0.47  1.56  0.62  0.01  0.04   0   0  0.0  ...   \n",
       "4     18.7  10.69  0.47  1.56  0.62  0.01  0.04   0   0  0.0  ...   \n",
       "...    ...    ...   ...   ...   ...   ...   ...  ..  ..  ...  ...   \n",
       "2175  17.7  12.28  0.00  1.24  0.30  0.83  0.00   0   0  0.0  ...   \n",
       "2176  17.7  12.28  0.00  1.24  0.30  0.83  0.00   0   0  0.0  ...   \n",
       "2177  17.7  12.28  0.00  1.24  0.30  0.83  0.00   0   0  0.0  ...   \n",
       "2178  17.7  12.28  0.00  1.24  0.30  0.83  0.00   0   0  0.0  ...   \n",
       "2179  17.7  12.28  0.00  1.24  0.30  0.83  0.00   0   0  0.0  ...   \n",
       "\n",
       "      Grains mm-2  Type of melting  Size of ingot  Product form  \\\n",
       "0      477.712892                1              3             1   \n",
       "1      477.712892                1              3             1   \n",
       "2      477.712892                1              3             1   \n",
       "3      477.712892                1              3             1   \n",
       "4      477.712892                1              3             1   \n",
       "...           ...              ...            ...           ...   \n",
       "2175           Na                2             Na             1   \n",
       "2176           Na                2             Na             1   \n",
       "2177           Na                2             Na             1   \n",
       "2178           Na                2             Na             1   \n",
       "2179           Na                2             Na             1   \n",
       "\n",
       "      Temperature (K)  0.2%proof_stress (M Pa)  UTS (M Pa)  Elongation (%)  \\\n",
       "0                 298               280.000000  610.000000              67   \n",
       "1                 373               243.000000  508.000000              54   \n",
       "2                 473               220.000000  472.000000              44   \n",
       "3                 573               204.000000  470.000000              43   \n",
       "4                 673               197.000000  470.000000              45   \n",
       "...               ...                      ...         ...             ...   \n",
       "2175              723               171.616375  454.047895            34.9   \n",
       "2176              773               166.713050  435.415260              33   \n",
       "2177              823               169.655045  424.627945            34.2   \n",
       "2178              873               168.674380  398.149990            37.6   \n",
       "2179              973               139.254430  296.160830            45.4   \n",
       "\n",
       "      Area_reduction (%)                Comments  \n",
       "0                     83  NRIM/CDS/No4B/1986 ABA  \n",
       "1                     83  NRIM/CDS/No4B/1986 ABA  \n",
       "2                     81  NRIM/CDS/No4B/1986 ABA  \n",
       "3                     76  NRIM/CDS/No4B/1986 ABA  \n",
       "4                     76  NRIM/CDS/No4B/1986 ABA  \n",
       "...                  ...                     ...  \n",
       "2175                  Na                     NaN  \n",
       "2176                  Na                     NaN  \n",
       "2177                  Na                     NaN  \n",
       "2178                  Na                     NaN  \n",
       "2179                  Na                     NaN  \n",
       "\n",
       "[2180 rows x 35 columns]"
      ]
     },
     "execution_count": 76,
     "metadata": {},
     "output_type": "execute_result"
    }
   ],
   "source": [
    "df = pd.read_excel('STMECH_AUS_SS.xls',skiprows=5) # skipping the first 5 rows of the excel file (6th row taken as column names)\n",
    "df"
   ]
  },
  {
   "cell_type": "code",
   "execution_count": 77,
   "metadata": {},
   "outputs": [
    {
     "data": {
      "text/plain": [
       "RangeIndex(start=0, stop=2180, step=1)"
      ]
     },
     "execution_count": 77,
     "metadata": {},
     "output_type": "execute_result"
    }
   ],
   "source": [
    "df.index"
   ]
  },
  {
   "cell_type": "code",
   "execution_count": 78,
   "metadata": {},
   "outputs": [
    {
     "data": {
      "text/plain": [
       "Index(['Cr', 'Ni', 'Mo', 'Mn', 'Si', 'Nb', 'Ti', 'Zr', 'Ta', 'V', 'W', 'Cu',\n",
       "       'N', 'C', 'B', 'P', 'S', 'Co', 'Al', 'Sn', 'Pb',\n",
       "       'Solution_treatment_temperature', 'Solution_treatment_time(s)',\n",
       "       'Water_Quenched_after_s.t.', 'Air_Quenched_after_s.t.', 'Grains mm-2',\n",
       "       'Type of melting', 'Size of ingot', 'Product form', 'Temperature (K)',\n",
       "       '0.2%proof_stress (M Pa)', 'UTS (M Pa)', 'Elongation (%)',\n",
       "       'Area_reduction (%)', 'Comments'],\n",
       "      dtype='object')"
      ]
     },
     "execution_count": 78,
     "metadata": {},
     "output_type": "execute_result"
    }
   ],
   "source": [
    "df.columns"
   ]
  },
  {
   "cell_type": "code",
   "execution_count": 79,
   "metadata": {},
   "outputs": [
    {
     "data": {
      "text/html": [
       "<div>\n",
       "<style scoped>\n",
       "    .dataframe tbody tr th:only-of-type {\n",
       "        vertical-align: middle;\n",
       "    }\n",
       "\n",
       "    .dataframe tbody tr th {\n",
       "        vertical-align: top;\n",
       "    }\n",
       "\n",
       "    .dataframe thead th {\n",
       "        text-align: right;\n",
       "    }\n",
       "</style>\n",
       "<table border=\"1\" class=\"dataframe\">\n",
       "  <thead>\n",
       "    <tr style=\"text-align: right;\">\n",
       "      <th></th>\n",
       "      <th>Cr</th>\n",
       "      <th>Ni</th>\n",
       "      <th>Mo</th>\n",
       "      <th>Mn</th>\n",
       "      <th>Si</th>\n",
       "      <th>Nb</th>\n",
       "      <th>Ti</th>\n",
       "      <th>Zr</th>\n",
       "      <th>Ta</th>\n",
       "      <th>V</th>\n",
       "      <th>...</th>\n",
       "      <th>grains</th>\n",
       "      <th>melting_type</th>\n",
       "      <th>ingot_size</th>\n",
       "      <th>product_form</th>\n",
       "      <th>temp</th>\n",
       "      <th>proof_stress</th>\n",
       "      <th>uts</th>\n",
       "      <th>elongation</th>\n",
       "      <th>area_reduction</th>\n",
       "      <th>comments</th>\n",
       "    </tr>\n",
       "  </thead>\n",
       "  <tbody>\n",
       "    <tr>\n",
       "      <th>0</th>\n",
       "      <td>18.7</td>\n",
       "      <td>10.69</td>\n",
       "      <td>0.47</td>\n",
       "      <td>1.56</td>\n",
       "      <td>0.62</td>\n",
       "      <td>0.01</td>\n",
       "      <td>0.04</td>\n",
       "      <td>0</td>\n",
       "      <td>0</td>\n",
       "      <td>0.0</td>\n",
       "      <td>...</td>\n",
       "      <td>477.712892</td>\n",
       "      <td>1</td>\n",
       "      <td>3</td>\n",
       "      <td>1</td>\n",
       "      <td>298</td>\n",
       "      <td>280.0</td>\n",
       "      <td>610.0</td>\n",
       "      <td>67</td>\n",
       "      <td>83</td>\n",
       "      <td>NRIM/CDS/No4B/1986 ABA</td>\n",
       "    </tr>\n",
       "    <tr>\n",
       "      <th>1</th>\n",
       "      <td>18.7</td>\n",
       "      <td>10.69</td>\n",
       "      <td>0.47</td>\n",
       "      <td>1.56</td>\n",
       "      <td>0.62</td>\n",
       "      <td>0.01</td>\n",
       "      <td>0.04</td>\n",
       "      <td>0</td>\n",
       "      <td>0</td>\n",
       "      <td>0.0</td>\n",
       "      <td>...</td>\n",
       "      <td>477.712892</td>\n",
       "      <td>1</td>\n",
       "      <td>3</td>\n",
       "      <td>1</td>\n",
       "      <td>373</td>\n",
       "      <td>243.0</td>\n",
       "      <td>508.0</td>\n",
       "      <td>54</td>\n",
       "      <td>83</td>\n",
       "      <td>NRIM/CDS/No4B/1986 ABA</td>\n",
       "    </tr>\n",
       "    <tr>\n",
       "      <th>2</th>\n",
       "      <td>18.7</td>\n",
       "      <td>10.69</td>\n",
       "      <td>0.47</td>\n",
       "      <td>1.56</td>\n",
       "      <td>0.62</td>\n",
       "      <td>0.01</td>\n",
       "      <td>0.04</td>\n",
       "      <td>0</td>\n",
       "      <td>0</td>\n",
       "      <td>0.0</td>\n",
       "      <td>...</td>\n",
       "      <td>477.712892</td>\n",
       "      <td>1</td>\n",
       "      <td>3</td>\n",
       "      <td>1</td>\n",
       "      <td>473</td>\n",
       "      <td>220.0</td>\n",
       "      <td>472.0</td>\n",
       "      <td>44</td>\n",
       "      <td>81</td>\n",
       "      <td>NRIM/CDS/No4B/1986 ABA</td>\n",
       "    </tr>\n",
       "    <tr>\n",
       "      <th>3</th>\n",
       "      <td>18.7</td>\n",
       "      <td>10.69</td>\n",
       "      <td>0.47</td>\n",
       "      <td>1.56</td>\n",
       "      <td>0.62</td>\n",
       "      <td>0.01</td>\n",
       "      <td>0.04</td>\n",
       "      <td>0</td>\n",
       "      <td>0</td>\n",
       "      <td>0.0</td>\n",
       "      <td>...</td>\n",
       "      <td>477.712892</td>\n",
       "      <td>1</td>\n",
       "      <td>3</td>\n",
       "      <td>1</td>\n",
       "      <td>573</td>\n",
       "      <td>204.0</td>\n",
       "      <td>470.0</td>\n",
       "      <td>43</td>\n",
       "      <td>76</td>\n",
       "      <td>NRIM/CDS/No4B/1986 ABA</td>\n",
       "    </tr>\n",
       "    <tr>\n",
       "      <th>4</th>\n",
       "      <td>18.7</td>\n",
       "      <td>10.69</td>\n",
       "      <td>0.47</td>\n",
       "      <td>1.56</td>\n",
       "      <td>0.62</td>\n",
       "      <td>0.01</td>\n",
       "      <td>0.04</td>\n",
       "      <td>0</td>\n",
       "      <td>0</td>\n",
       "      <td>0.0</td>\n",
       "      <td>...</td>\n",
       "      <td>477.712892</td>\n",
       "      <td>1</td>\n",
       "      <td>3</td>\n",
       "      <td>1</td>\n",
       "      <td>673</td>\n",
       "      <td>197.0</td>\n",
       "      <td>470.0</td>\n",
       "      <td>45</td>\n",
       "      <td>76</td>\n",
       "      <td>NRIM/CDS/No4B/1986 ABA</td>\n",
       "    </tr>\n",
       "  </tbody>\n",
       "</table>\n",
       "<p>5 rows × 35 columns</p>\n",
       "</div>"
      ],
      "text/plain": [
       "     Cr     Ni    Mo    Mn    Si    Nb    Ti  Zr  Ta    V  ...      grains  \\\n",
       "0  18.7  10.69  0.47  1.56  0.62  0.01  0.04   0   0  0.0  ...  477.712892   \n",
       "1  18.7  10.69  0.47  1.56  0.62  0.01  0.04   0   0  0.0  ...  477.712892   \n",
       "2  18.7  10.69  0.47  1.56  0.62  0.01  0.04   0   0  0.0  ...  477.712892   \n",
       "3  18.7  10.69  0.47  1.56  0.62  0.01  0.04   0   0  0.0  ...  477.712892   \n",
       "4  18.7  10.69  0.47  1.56  0.62  0.01  0.04   0   0  0.0  ...  477.712892   \n",
       "\n",
       "   melting_type  ingot_size  product_form  temp  proof_stress    uts  \\\n",
       "0             1           3             1   298         280.0  610.0   \n",
       "1             1           3             1   373         243.0  508.0   \n",
       "2             1           3             1   473         220.0  472.0   \n",
       "3             1           3             1   573         204.0  470.0   \n",
       "4             1           3             1   673         197.0  470.0   \n",
       "\n",
       "   elongation  area_reduction                comments  \n",
       "0          67              83  NRIM/CDS/No4B/1986 ABA  \n",
       "1          54              83  NRIM/CDS/No4B/1986 ABA  \n",
       "2          44              81  NRIM/CDS/No4B/1986 ABA  \n",
       "3          43              76  NRIM/CDS/No4B/1986 ABA  \n",
       "4          45              76  NRIM/CDS/No4B/1986 ABA  \n",
       "\n",
       "[5 rows x 35 columns]"
      ]
     },
     "execution_count": 79,
     "metadata": {},
     "output_type": "execute_result"
    }
   ],
   "source": [
    "# Lets rename the columns with easier names for our convenience\n",
    "df = df.rename(columns={'Solution_treatment_temperature':'sol_temp',\n",
    "                        'Solution_treatment_time(s)': 'sol_time',\n",
    "                        'Water_Quenched_after_s.t.':'water_quench',\n",
    "                        'Air_Quenched_after_s.t.':'air_quench',\n",
    "                        'Grains mm-2':'grains',\n",
    "                        'Type of melting':'melting_type',\n",
    "                        'Size of ingot':'ingot_size',\n",
    "                        'Product form':'product_form',\n",
    "                        'Temperature (K)': 'temp',\n",
    "                        '0.2%proof_stress (M Pa)': 'proof_stress',\n",
    "                        'UTS (M Pa)': 'uts',\n",
    "                        'Elongation (%)': 'elongation',\n",
    "                        'Area_reduction (%)': 'area_reduction',\n",
    "                        'Comments': 'comments'})\n",
    "df.head()"
   ]
  },
  {
   "cell_type": "code",
   "execution_count": 80,
   "metadata": {},
   "outputs": [
    {
     "data": {
      "text/plain": [
       "(2180, 35)"
      ]
     },
     "execution_count": 80,
     "metadata": {},
     "output_type": "execute_result"
    }
   ],
   "source": [
    "df.shape"
   ]
  },
  {
   "cell_type": "code",
   "execution_count": 81,
   "metadata": {},
   "outputs": [
    {
     "name": "stdout",
     "output_type": "stream",
     "text": [
      "<class 'pandas.core.frame.DataFrame'>\n",
      "RangeIndex: 2180 entries, 0 to 2179\n",
      "Data columns (total 35 columns):\n",
      " #   Column          Non-Null Count  Dtype  \n",
      "---  ------          --------------  -----  \n",
      " 0   Cr              2180 non-null   float64\n",
      " 1   Ni              2180 non-null   float64\n",
      " 2   Mo              2180 non-null   float64\n",
      " 3   Mn              2180 non-null   float64\n",
      " 4   Si              2180 non-null   float64\n",
      " 5   Nb              2180 non-null   float64\n",
      " 6   Ti              2180 non-null   float64\n",
      " 7   Zr              2180 non-null   int64  \n",
      " 8   Ta              2180 non-null   int64  \n",
      " 9   V               2180 non-null   float64\n",
      " 10  W               2179 non-null   float64\n",
      " 11  Cu              2180 non-null   float64\n",
      " 12  N               2180 non-null   float64\n",
      " 13  C               2180 non-null   float64\n",
      " 14  B               2180 non-null   float64\n",
      " 15  P               2180 non-null   float64\n",
      " 16  S               2180 non-null   float64\n",
      " 17  Co              2180 non-null   float64\n",
      " 18  Al              2180 non-null   float64\n",
      " 19  Sn              2180 non-null   int64  \n",
      " 20  Pb              2180 non-null   int64  \n",
      " 21  sol_temp        2180 non-null   object \n",
      " 22  sol_time        2180 non-null   object \n",
      " 23  water_quench    2180 non-null   object \n",
      " 24  air_quench      2180 non-null   object \n",
      " 25  grains          2180 non-null   object \n",
      " 26  melting_type    2180 non-null   object \n",
      " 27  ingot_size      2180 non-null   object \n",
      " 28  product_form    2180 non-null   int64  \n",
      " 29  temp            2180 non-null   int64  \n",
      " 30  proof_stress    2180 non-null   float64\n",
      " 31  uts             2180 non-null   float64\n",
      " 32  elongation      2180 non-null   object \n",
      " 33  area_reduction  2180 non-null   object \n",
      " 34  comments        663 non-null    object \n",
      "dtypes: float64(19), int64(6), object(10)\n",
      "memory usage: 596.2+ KB\n"
     ]
    }
   ],
   "source": [
    "df.info()"
   ]
  },
  {
   "attachments": {},
   "cell_type": "markdown",
   "metadata": {},
   "source": [
    "We can organize our data to get two main distinct lists for categorical and numerical columns.  "
   ]
  },
  {
   "cell_type": "code",
   "execution_count": 82,
   "metadata": {},
   "outputs": [
    {
     "name": "stdout",
     "output_type": "stream",
     "text": [
      "categorical variables:  ['sol_temp', 'sol_time', 'water_quench', 'air_quench', 'grains', 'melting_type', 'ingot_size', 'elongation', 'area_reduction', 'comments']\n",
      "numerical variables:  ['Cr', 'Ni', 'Mo', 'Mn', 'Si', 'Nb', 'Ti', 'Zr', 'Ta', 'V', 'W', 'Cu', 'N', 'C', 'B', 'P', 'S', 'Co', 'Al', 'Sn', 'Pb', 'product_form', 'temp', 'proof_stress', 'uts']\n"
     ]
    }
   ],
   "source": [
    "cats = list(df.select_dtypes(include=['object']).columns)\n",
    "nums = list(df.select_dtypes(exclude=['object']).columns)\n",
    "print(f'categorical variables:  {cats}')\n",
    "print(f'numerical variables:  {nums}')"
   ]
  },
  {
   "attachments": {},
   "cell_type": "markdown",
   "metadata": {},
   "source": [
    "We can also inspect how many unique values are there in each column. This is useful to identify categorical variables that may have been misclassified as numerical due to their data type."
   ]
  },
  {
   "cell_type": "code",
   "execution_count": 83,
   "metadata": {},
   "outputs": [
    {
     "data": {
      "text/plain": [
       "Cr                132\n",
       "Ni                145\n",
       "Mo                 79\n",
       "Mn                 71\n",
       "Si                 54\n",
       "Nb                 30\n",
       "Ti                 54\n",
       "Zr                  1\n",
       "Ta                  1\n",
       "V                  12\n",
       "W                   1\n",
       "Cu                 27\n",
       "N                  48\n",
       "C                  29\n",
       "B                  27\n",
       "P                  32\n",
       "S                  32\n",
       "Co                 18\n",
       "Al                 41\n",
       "Sn                  1\n",
       "Pb                  1\n",
       "sol_temp           20\n",
       "sol_time           20\n",
       "water_quench        3\n",
       "air_quench          3\n",
       "grains             43\n",
       "melting_type        5\n",
       "ingot_size         21\n",
       "product_form        5\n",
       "temp               20\n",
       "proof_stress      371\n",
       "uts               597\n",
       "elongation        298\n",
       "area_reduction     66\n",
       "comments           60\n",
       "dtype: int64"
      ]
     },
     "execution_count": 83,
     "metadata": {},
     "output_type": "execute_result"
    }
   ],
   "source": [
    "df.nunique(axis=0) "
   ]
  },
  {
   "attachments": {},
   "cell_type": "markdown",
   "metadata": {},
   "source": [
    "We can see from the output of our above nunquie() funciton that 5 is a value that can and should be considered categorical in this case espeically with how many rows of data we have.  \n",
    "Beyond 5, the next number of uniques jumps up to 20+ for non physical element columns. This is a good indicator that we should consider 5 uniques as a categorical variable.\n",
    "\n",
    "We can then see what those 5 or less unique values are with the following:"
   ]
  },
  {
   "cell_type": "code",
   "execution_count": 84,
   "metadata": {},
   "outputs": [
    {
     "name": "stdout",
     "output_type": "stream",
     "text": [
      "Zr: [0]\n",
      "Ta: [0]\n",
      "W: [ 0. nan]\n",
      "Sn: [0]\n",
      "Pb: [0]\n",
      "water_quench: [1 'Na' 0]\n",
      "air_quench: [0 'Na' 1]\n",
      "melting_type: [1 2 3 'Na' 4]\n",
      "product_form: [1 2 3 4 5]\n"
     ]
    }
   ],
   "source": [
    "for col in df.columns:\n",
    "    if df[col].nunique() <= 5:\n",
    "        print(f'{col}: {df[col].unique()}')"
   ]
  },
  {
   "attachments": {},
   "cell_type": "markdown",
   "metadata": {},
   "source": [
    "Ignoring the physical elements, we can see the that those are indeed categorical variables.\n",
    "\n",
    "water_quench, air_quench, and melting_type, are already set as categorical in our 'cats' list, but product_form is in our numerical list, so lets fix that:"
   ]
  },
  {
   "cell_type": "code",
   "execution_count": 85,
   "metadata": {},
   "outputs": [
    {
     "name": "stdout",
     "output_type": "stream",
     "text": [
      "categorical variables:  ['sol_temp', 'sol_time', 'water_quench', 'air_quench', 'grains', 'melting_type', 'ingot_size', 'elongation', 'area_reduction', 'comments', 'product_form']\n",
      "numerical variables:  ['Cr', 'Ni', 'Mo', 'Mn', 'Si', 'Nb', 'Ti', 'Zr', 'Ta', 'V', 'W', 'Cu', 'N', 'C', 'B', 'P', 'S', 'Co', 'Al', 'Sn', 'Pb', 'temp', 'proof_stress', 'uts']\n"
     ]
    }
   ],
   "source": [
    "cats.extend(['product_form'])\n",
    "nums.remove('product_form')\n",
    "\n",
    "print(f'categorical variables:  {cats}')\n",
    "print(f'numerical variables:  {nums}')"
   ]
  },
  {
   "attachments": {},
   "cell_type": "markdown",
   "metadata": {},
   "source": [
    "## Inspect for `nan`s in data.\n",
    "\n",
    "At this point we have noticed that some 'Na' values are appearing. From our df.info() funciton we saw non-null values for all columns. \n",
    "\n",
    "This is because the 'Na' values are strings and not NaN values. We can fix this by replacing all 'Na' values with NaN values, and then doing some null value inspeciton and dropping rows that include them if it is a small enough part of our dataset."
   ]
  },
  {
   "cell_type": "code",
   "execution_count": 86,
   "metadata": {},
   "outputs": [
    {
     "data": {
      "text/html": [
       "<div>\n",
       "<style scoped>\n",
       "    .dataframe tbody tr th:only-of-type {\n",
       "        vertical-align: middle;\n",
       "    }\n",
       "\n",
       "    .dataframe tbody tr th {\n",
       "        vertical-align: top;\n",
       "    }\n",
       "\n",
       "    .dataframe thead th {\n",
       "        text-align: right;\n",
       "    }\n",
       "</style>\n",
       "<table border=\"1\" class=\"dataframe\">\n",
       "  <thead>\n",
       "    <tr style=\"text-align: right;\">\n",
       "      <th></th>\n",
       "      <th>Cr</th>\n",
       "      <th>Ni</th>\n",
       "      <th>Mo</th>\n",
       "      <th>Mn</th>\n",
       "      <th>Si</th>\n",
       "      <th>Nb</th>\n",
       "      <th>Ti</th>\n",
       "      <th>Zr</th>\n",
       "      <th>Ta</th>\n",
       "      <th>V</th>\n",
       "      <th>...</th>\n",
       "      <th>grains</th>\n",
       "      <th>melting_type</th>\n",
       "      <th>ingot_size</th>\n",
       "      <th>product_form</th>\n",
       "      <th>temp</th>\n",
       "      <th>proof_stress</th>\n",
       "      <th>uts</th>\n",
       "      <th>elongation</th>\n",
       "      <th>area_reduction</th>\n",
       "      <th>comments</th>\n",
       "    </tr>\n",
       "  </thead>\n",
       "  <tbody>\n",
       "    <tr>\n",
       "      <th>2175</th>\n",
       "      <td>17.7</td>\n",
       "      <td>12.28</td>\n",
       "      <td>0.0</td>\n",
       "      <td>1.24</td>\n",
       "      <td>0.3</td>\n",
       "      <td>0.83</td>\n",
       "      <td>0.0</td>\n",
       "      <td>0</td>\n",
       "      <td>0</td>\n",
       "      <td>0.0</td>\n",
       "      <td>...</td>\n",
       "      <td>NaN</td>\n",
       "      <td>2.0</td>\n",
       "      <td>NaN</td>\n",
       "      <td>1</td>\n",
       "      <td>723</td>\n",
       "      <td>171.616375</td>\n",
       "      <td>454.047895</td>\n",
       "      <td>34.9</td>\n",
       "      <td>NaN</td>\n",
       "      <td>NaN</td>\n",
       "    </tr>\n",
       "    <tr>\n",
       "      <th>2176</th>\n",
       "      <td>17.7</td>\n",
       "      <td>12.28</td>\n",
       "      <td>0.0</td>\n",
       "      <td>1.24</td>\n",
       "      <td>0.3</td>\n",
       "      <td>0.83</td>\n",
       "      <td>0.0</td>\n",
       "      <td>0</td>\n",
       "      <td>0</td>\n",
       "      <td>0.0</td>\n",
       "      <td>...</td>\n",
       "      <td>NaN</td>\n",
       "      <td>2.0</td>\n",
       "      <td>NaN</td>\n",
       "      <td>1</td>\n",
       "      <td>773</td>\n",
       "      <td>166.713050</td>\n",
       "      <td>435.415260</td>\n",
       "      <td>33.0</td>\n",
       "      <td>NaN</td>\n",
       "      <td>NaN</td>\n",
       "    </tr>\n",
       "    <tr>\n",
       "      <th>2177</th>\n",
       "      <td>17.7</td>\n",
       "      <td>12.28</td>\n",
       "      <td>0.0</td>\n",
       "      <td>1.24</td>\n",
       "      <td>0.3</td>\n",
       "      <td>0.83</td>\n",
       "      <td>0.0</td>\n",
       "      <td>0</td>\n",
       "      <td>0</td>\n",
       "      <td>0.0</td>\n",
       "      <td>...</td>\n",
       "      <td>NaN</td>\n",
       "      <td>2.0</td>\n",
       "      <td>NaN</td>\n",
       "      <td>1</td>\n",
       "      <td>823</td>\n",
       "      <td>169.655045</td>\n",
       "      <td>424.627945</td>\n",
       "      <td>34.2</td>\n",
       "      <td>NaN</td>\n",
       "      <td>NaN</td>\n",
       "    </tr>\n",
       "    <tr>\n",
       "      <th>2178</th>\n",
       "      <td>17.7</td>\n",
       "      <td>12.28</td>\n",
       "      <td>0.0</td>\n",
       "      <td>1.24</td>\n",
       "      <td>0.3</td>\n",
       "      <td>0.83</td>\n",
       "      <td>0.0</td>\n",
       "      <td>0</td>\n",
       "      <td>0</td>\n",
       "      <td>0.0</td>\n",
       "      <td>...</td>\n",
       "      <td>NaN</td>\n",
       "      <td>2.0</td>\n",
       "      <td>NaN</td>\n",
       "      <td>1</td>\n",
       "      <td>873</td>\n",
       "      <td>168.674380</td>\n",
       "      <td>398.149990</td>\n",
       "      <td>37.6</td>\n",
       "      <td>NaN</td>\n",
       "      <td>NaN</td>\n",
       "    </tr>\n",
       "    <tr>\n",
       "      <th>2179</th>\n",
       "      <td>17.7</td>\n",
       "      <td>12.28</td>\n",
       "      <td>0.0</td>\n",
       "      <td>1.24</td>\n",
       "      <td>0.3</td>\n",
       "      <td>0.83</td>\n",
       "      <td>0.0</td>\n",
       "      <td>0</td>\n",
       "      <td>0</td>\n",
       "      <td>0.0</td>\n",
       "      <td>...</td>\n",
       "      <td>NaN</td>\n",
       "      <td>2.0</td>\n",
       "      <td>NaN</td>\n",
       "      <td>1</td>\n",
       "      <td>973</td>\n",
       "      <td>139.254430</td>\n",
       "      <td>296.160830</td>\n",
       "      <td>45.4</td>\n",
       "      <td>NaN</td>\n",
       "      <td>NaN</td>\n",
       "    </tr>\n",
       "  </tbody>\n",
       "</table>\n",
       "<p>5 rows × 35 columns</p>\n",
       "</div>"
      ],
      "text/plain": [
       "        Cr     Ni   Mo    Mn   Si    Nb   Ti  Zr  Ta    V  ...  grains  \\\n",
       "2175  17.7  12.28  0.0  1.24  0.3  0.83  0.0   0   0  0.0  ...     NaN   \n",
       "2176  17.7  12.28  0.0  1.24  0.3  0.83  0.0   0   0  0.0  ...     NaN   \n",
       "2177  17.7  12.28  0.0  1.24  0.3  0.83  0.0   0   0  0.0  ...     NaN   \n",
       "2178  17.7  12.28  0.0  1.24  0.3  0.83  0.0   0   0  0.0  ...     NaN   \n",
       "2179  17.7  12.28  0.0  1.24  0.3  0.83  0.0   0   0  0.0  ...     NaN   \n",
       "\n",
       "      melting_type  ingot_size  product_form  temp  proof_stress         uts  \\\n",
       "2175           2.0         NaN             1   723    171.616375  454.047895   \n",
       "2176           2.0         NaN             1   773    166.713050  435.415260   \n",
       "2177           2.0         NaN             1   823    169.655045  424.627945   \n",
       "2178           2.0         NaN             1   873    168.674380  398.149990   \n",
       "2179           2.0         NaN             1   973    139.254430  296.160830   \n",
       "\n",
       "      elongation  area_reduction  comments  \n",
       "2175        34.9             NaN       NaN  \n",
       "2176        33.0             NaN       NaN  \n",
       "2177        34.2             NaN       NaN  \n",
       "2178        37.6             NaN       NaN  \n",
       "2179        45.4             NaN       NaN  \n",
       "\n",
       "[5 rows x 35 columns]"
      ]
     },
     "execution_count": 86,
     "metadata": {},
     "output_type": "execute_result"
    }
   ],
   "source": [
    "df = df.replace('Na', np.nan)\n",
    "df.tail() # saw from earlier in the notebook the last 5 rows have 'Na' values so we can make sure they were replaced with NaN"
   ]
  },
  {
   "cell_type": "code",
   "execution_count": 87,
   "metadata": {},
   "outputs": [
    {
     "data": {
      "text/plain": [
       "Cr                False\n",
       "Ni                False\n",
       "Mo                False\n",
       "Mn                False\n",
       "Si                False\n",
       "Nb                False\n",
       "Ti                False\n",
       "Zr                False\n",
       "Ta                False\n",
       "V                 False\n",
       "W                  True\n",
       "Cu                False\n",
       "N                 False\n",
       "C                 False\n",
       "B                 False\n",
       "P                 False\n",
       "S                 False\n",
       "Co                False\n",
       "Al                False\n",
       "Sn                False\n",
       "Pb                False\n",
       "sol_temp           True\n",
       "sol_time           True\n",
       "water_quench       True\n",
       "air_quench         True\n",
       "grains             True\n",
       "melting_type       True\n",
       "ingot_size         True\n",
       "product_form      False\n",
       "temp              False\n",
       "proof_stress      False\n",
       "uts               False\n",
       "elongation         True\n",
       "area_reduction     True\n",
       "comments           True\n",
       "dtype: bool"
      ]
     },
     "execution_count": 87,
     "metadata": {},
     "output_type": "execute_result"
    }
   ],
   "source": [
    "df.isnull().any()"
   ]
  },
  {
   "cell_type": "code",
   "execution_count": 88,
   "metadata": {},
   "outputs": [
    {
     "data": {
      "text/plain": [
       "Cr                   0\n",
       "Ni                   0\n",
       "Mo                   0\n",
       "Mn                   0\n",
       "Si                   0\n",
       "Nb                   0\n",
       "Ti                   0\n",
       "Zr                   0\n",
       "Ta                   0\n",
       "V                    0\n",
       "W                    1\n",
       "Cu                   0\n",
       "N                    0\n",
       "C                    0\n",
       "B                    0\n",
       "P                    0\n",
       "S                    0\n",
       "Co                   0\n",
       "Al                   0\n",
       "Sn                   0\n",
       "Pb                   0\n",
       "sol_temp           184\n",
       "sol_time          1097\n",
       "water_quench       264\n",
       "air_quench         264\n",
       "grains            1517\n",
       "melting_type       217\n",
       "ingot_size        1517\n",
       "product_form         0\n",
       "temp                 0\n",
       "proof_stress         0\n",
       "uts                  0\n",
       "elongation          95\n",
       "area_reduction    1517\n",
       "comments          1517\n",
       "dtype: int64"
      ]
     },
     "execution_count": 88,
     "metadata": {},
     "output_type": "execute_result"
    }
   ],
   "source": [
    "df.isna().sum()"
   ]
  },
  {
   "cell_type": "code",
   "execution_count": 89,
   "metadata": {},
   "outputs": [
    {
     "data": {
      "text/plain": [
       "8190"
      ]
     },
     "execution_count": 89,
     "metadata": {},
     "output_type": "execute_result"
    }
   ],
   "source": [
    "df.isna().sum().sum()"
   ]
  },
  {
   "cell_type": "code",
   "execution_count": 90,
   "metadata": {},
   "outputs": [
    {
     "data": {
      "text/plain": [
       "3.756880733944954"
      ]
     },
     "execution_count": 90,
     "metadata": {},
     "output_type": "execute_result"
    }
   ],
   "source": [
    "# nan proportion in data\n",
    "8190 / len(df)"
   ]
  },
  {
   "attachments": {},
   "cell_type": "markdown",
   "metadata": {},
   "source": [
    "We have too many rows to drop all rows with NaN values, so we will drop rows with NaN values in the following columns:"
   ]
  },
  {
   "cell_type": "code",
   "execution_count": 91,
   "metadata": {},
   "outputs": [
    {
     "data": {
      "text/plain": [
       "sol_time          1097\n",
       "water_quench       264\n",
       "air_quench         264\n",
       "grains            1517\n",
       "melting_type       217\n",
       "ingot_size        1517\n",
       "area_reduction    1517\n",
       "comments          1517\n",
       "dtype: int64"
      ]
     },
     "execution_count": 91,
     "metadata": {},
     "output_type": "execute_result"
    }
   ],
   "source": [
    "# Checking if null values are from the same rows for large null value columns\n",
    "columns_with_many_nulls = df.isna().sum() > 200\n",
    "selected_columns = df.columns[columns_with_many_nulls]\n",
    "df_nulls = df[selected_columns]\n",
    "df_nulls.isna().sum()"
   ]
  },
  {
   "cell_type": "code",
   "execution_count": 92,
   "metadata": {},
   "outputs": [
    {
     "data": {
      "text/plain": [
       "3"
      ]
     },
     "execution_count": 92,
     "metadata": {},
     "output_type": "execute_result"
    }
   ],
   "source": [
    "null_rows = df_nulls.isnull().all(axis=1)\n",
    "null_rows.sum()"
   ]
  },
  {
   "attachments": {},
   "cell_type": "markdown",
   "metadata": {},
   "source": [
    "This shows only 3 rows there there are full NaN rows. We can drop those for sure, but there are way too many other NaN values that should be dropped.  \n",
    "Lets do that again but increase the `columns_with_many_nulls` parameter to look for > 300, not just 200:"
   ]
  },
  {
   "cell_type": "code",
   "execution_count": 93,
   "metadata": {},
   "outputs": [
    {
     "data": {
      "text/plain": [
       "sol_time          1097\n",
       "grains            1517\n",
       "ingot_size        1517\n",
       "area_reduction    1517\n",
       "comments          1517\n",
       "dtype: int64"
      ]
     },
     "execution_count": 93,
     "metadata": {},
     "output_type": "execute_result"
    }
   ],
   "source": [
    "# Checking if null values are from the same rows for large null value columns\n",
    "columns_with_many_nulls = df.isna().sum() > 300\n",
    "selected_columns = df.columns[columns_with_many_nulls]\n",
    "df_nulls = df[selected_columns]\n",
    "df_nulls.isna().sum()"
   ]
  },
  {
   "cell_type": "code",
   "execution_count": 94,
   "metadata": {},
   "outputs": [
    {
     "data": {
      "text/plain": [
       "800"
      ]
     },
     "execution_count": 94,
     "metadata": {},
     "output_type": "execute_result"
    }
   ],
   "source": [
    "null_rows = df_nulls.isnull().all(axis=1)\n",
    "null_rows.sum()"
   ]
  },
  {
   "attachments": {},
   "cell_type": "markdown",
   "metadata": {},
   "source": [
    "We can see now that we have 800 rows that are fully NaN on these columns. We can drop those rows:"
   ]
  },
  {
   "cell_type": "code",
   "execution_count": 95,
   "metadata": {},
   "outputs": [
    {
     "data": {
      "text/plain": [
       "(2180, 35)"
      ]
     },
     "execution_count": 95,
     "metadata": {},
     "output_type": "execute_result"
    }
   ],
   "source": [
    "df.shape"
   ]
  },
  {
   "cell_type": "code",
   "execution_count": 98,
   "metadata": {},
   "outputs": [
    {
     "data": {
      "text/plain": [
       "(1380, 35)"
      ]
     },
     "execution_count": 98,
     "metadata": {},
     "output_type": "execute_result"
    }
   ],
   "source": [
    "df_firstdrop = df.loc[~null_rows]\n",
    "df_firstdrop.shape"
   ]
  },
  {
   "attachments": {},
   "cell_type": "markdown",
   "metadata": {},
   "source": [
    "We can see from our two df.shape command that those 800 all null value rows (for selected columns) have been dropped from the dataframe.\n",
    "\n",
    "At this point, we could do other methods to only drop rows if the `NaN` value is in certian columns, but for the sake of this case as we are not heading into creating a model yet, just prep, we will just drop all columns with NaN values. (We can come back to our df_firstdrop dataframe if we want to do more analysis on/around the NaN values later.)"
   ]
  },
  {
   "cell_type": "code",
   "execution_count": 101,
   "metadata": {},
   "outputs": [
    {
     "data": {
      "text/plain": [
       "(365, 35)"
      ]
     },
     "execution_count": 101,
     "metadata": {},
     "output_type": "execute_result"
    }
   ],
   "source": [
    "df = df_firstdrop.dropna(axis=0)\n",
    "df.shape"
   ]
  },
  {
   "cell_type": "code",
   "execution_count": 103,
   "metadata": {},
   "outputs": [
    {
     "data": {
      "text/plain": [
       "0.16743119266055045"
      ]
     },
     "execution_count": 103,
     "metadata": {},
     "output_type": "execute_result"
    }
   ],
   "source": [
    "365/2180"
   ]
  },
  {
   "attachments": {},
   "cell_type": "markdown",
   "metadata": {},
   "source": [
    "So, we are only keeping 16.7% of the inital data set. This is a good amount of data to work with, but we should keep in mind that we are only working with 16.7% of the original data set."
   ]
  },
  {
   "cell_type": "code",
   "execution_count": 108,
   "metadata": {},
   "outputs": [
    {
     "name": "stdout",
     "output_type": "stream",
     "text": [
      "totalduplicaterows:0\n"
     ]
    }
   ],
   "source": [
    "print(f'totalduplicaterows:{df.duplicated().sum()}') "
   ]
  },
  {
   "cell_type": "code",
   "execution_count": null,
   "metadata": {},
   "outputs": [],
   "source": []
  }
 ],
 "metadata": {
  "kernelspec": {
   "display_name": "env0",
   "language": "python",
   "name": "python3"
  },
  "language_info": {
   "codemirror_mode": {
    "name": "ipython",
    "version": 3
   },
   "file_extension": ".py",
   "mimetype": "text/x-python",
   "name": "python",
   "nbconvert_exporter": "python",
   "pygments_lexer": "ipython3",
   "version": "3.10.10"
  },
  "orig_nbformat": 4
 },
 "nbformat": 4,
 "nbformat_minor": 2
}
