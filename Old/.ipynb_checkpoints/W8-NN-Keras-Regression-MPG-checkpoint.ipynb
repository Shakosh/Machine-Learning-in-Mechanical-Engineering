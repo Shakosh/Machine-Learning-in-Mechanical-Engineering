{
 "cells": [
  {
   "cell_type": "markdown",
   "metadata": {
    "id": "EIdT9iu_Z4Rb"
   },
   "source": [
    "# Basic regression: Predict fuel efficiency"
   ]
  },
  {
   "cell_type": "markdown",
   "metadata": {
    "id": "AHp3M9ZmrIxj"
   },
   "source": [
    "In a *regression* problem, the aim is to predict the output of a continuous value, like a price or a probability. Contrast this with a *classification* problem, where the aim is to select a class from a list of classes (for example, where a picture contains an apple or an orange, recognizing which fruit is in the picture).\n",
    "\n",
    "This tutorial uses the classic [Auto MPG](https://archive.ics.uci.edu/ml/datasets/auto+mpg) dataset and demonstrates how to build models to predict the fuel efficiency of the late-1970s and early 1980s automobiles. To do this, you will provide the models with a description of many automobiles from that time period. This description includes attributes like cylinders, displacement, horsepower, and weight.\n",
    "\n",
    "This example uses the Keras API. (Visit the Keras [tutorials](https://www.tensorflow.org/tutorials/keras) and [guides](https://www.tensorflow.org/guide/keras) to learn more.)"
   ]
  },
  {
   "cell_type": "code",
   "execution_count": 1,
   "metadata": {},
   "outputs": [],
   "source": [
    "import pandas as pd\n",
    "import numpy as np\n",
    "import operator\n",
    "import seaborn as sns\n",
    "import matplotlib.pyplot as plt\n",
    "\n",
    "# Configure the matlotlib backend as plotting inline in IPython:\n",
    "%matplotlib inline\n",
    "\n",
    "# Make NumPy printouts easier to read.\n",
    "np.set_printoptions(precision=3, suppress=True)"
   ]
  },
  {
   "cell_type": "code",
   "execution_count": 2,
   "metadata": {
    "execution": {
     "iopub.execute_input": "2022-02-10T18:49:37.715002Z",
     "iopub.status.busy": "2022-02-10T18:49:37.714331Z",
     "iopub.status.idle": "2022-02-10T18:49:39.134511Z",
     "shell.execute_reply": "2022-02-10T18:49:39.134892Z"
    },
    "id": "9xQKvCJ85kCQ"
   },
   "outputs": [
    {
     "name": "stdout",
     "output_type": "stream",
     "text": [
      "2.0.0\n"
     ]
    }
   ],
   "source": [
    "import tensorflow as tf\n",
    "\n",
    "from tensorflow import keras\n",
    "from tensorflow.keras import Sequential\n",
    "from tensorflow.keras import layers\n",
    "from tensorflow.keras.layers import Dense\n",
    "\n",
    "print(tf.__version__)"
   ]
  },
  {
   "cell_type": "markdown",
   "metadata": {
    "id": "F_72b0LCNbjx"
   },
   "source": [
    "## The Auto MPG dataset\n",
    "\n",
    "The dataset is available from the [UCI Machine Learning Repository](https://archive.ics.uci.edu/ml/).\n"
   ]
  },
  {
   "cell_type": "markdown",
   "metadata": {
    "id": "gFh9ne3FZ-On"
   },
   "source": [
    "### Get the data\n",
    "First download and import the dataset using pandas:"
   ]
  },
  {
   "cell_type": "code",
   "execution_count": 3,
   "metadata": {
    "execution": {
     "iopub.execute_input": "2022-02-10T18:49:39.142027Z",
     "iopub.status.busy": "2022-02-10T18:49:39.141430Z",
     "iopub.status.idle": "2022-02-10T18:49:40.055975Z",
     "shell.execute_reply": "2022-02-10T18:49:40.055412Z"
    },
    "id": "CiX2FI4gZtTt"
   },
   "outputs": [],
   "source": [
    "url = 'http://archive.ics.uci.edu/ml/machine-learning-databases/auto-mpg/auto-mpg.data'\n",
    "column_names = ['MPG', 'Cylinders', 'Displacement', 'Horsepower', 'Weight',\n",
    "                'Acceleration', 'Model Year', 'Origin']\n",
    "\n",
    "raw_dataset = pd.read_csv(url, names=column_names,\n",
    "                          na_values='?', comment='\\t',\n",
    "                          sep=' ', skipinitialspace=True)"
   ]
  },
  {
   "cell_type": "code",
   "execution_count": 4,
   "metadata": {
    "execution": {
     "iopub.execute_input": "2022-02-10T18:49:40.174363Z",
     "iopub.status.busy": "2022-02-10T18:49:40.173711Z",
     "iopub.status.idle": "2022-02-10T18:49:40.184337Z",
     "shell.execute_reply": "2022-02-10T18:49:40.184737Z"
    },
    "id": "2oY3pMPagJrO"
   },
   "outputs": [
    {
     "data": {
      "text/html": [
       "<div>\n",
       "<style scoped>\n",
       "    .dataframe tbody tr th:only-of-type {\n",
       "        vertical-align: middle;\n",
       "    }\n",
       "\n",
       "    .dataframe tbody tr th {\n",
       "        vertical-align: top;\n",
       "    }\n",
       "\n",
       "    .dataframe thead th {\n",
       "        text-align: right;\n",
       "    }\n",
       "</style>\n",
       "<table border=\"1\" class=\"dataframe\">\n",
       "  <thead>\n",
       "    <tr style=\"text-align: right;\">\n",
       "      <th></th>\n",
       "      <th>MPG</th>\n",
       "      <th>Cylinders</th>\n",
       "      <th>Displacement</th>\n",
       "      <th>Horsepower</th>\n",
       "      <th>Weight</th>\n",
       "      <th>Acceleration</th>\n",
       "      <th>Model Year</th>\n",
       "      <th>Origin</th>\n",
       "    </tr>\n",
       "  </thead>\n",
       "  <tbody>\n",
       "    <tr>\n",
       "      <th>393</th>\n",
       "      <td>27.0</td>\n",
       "      <td>4</td>\n",
       "      <td>140.0</td>\n",
       "      <td>86.0</td>\n",
       "      <td>2790.0</td>\n",
       "      <td>15.6</td>\n",
       "      <td>82</td>\n",
       "      <td>1</td>\n",
       "    </tr>\n",
       "    <tr>\n",
       "      <th>394</th>\n",
       "      <td>44.0</td>\n",
       "      <td>4</td>\n",
       "      <td>97.0</td>\n",
       "      <td>52.0</td>\n",
       "      <td>2130.0</td>\n",
       "      <td>24.6</td>\n",
       "      <td>82</td>\n",
       "      <td>2</td>\n",
       "    </tr>\n",
       "    <tr>\n",
       "      <th>395</th>\n",
       "      <td>32.0</td>\n",
       "      <td>4</td>\n",
       "      <td>135.0</td>\n",
       "      <td>84.0</td>\n",
       "      <td>2295.0</td>\n",
       "      <td>11.6</td>\n",
       "      <td>82</td>\n",
       "      <td>1</td>\n",
       "    </tr>\n",
       "    <tr>\n",
       "      <th>396</th>\n",
       "      <td>28.0</td>\n",
       "      <td>4</td>\n",
       "      <td>120.0</td>\n",
       "      <td>79.0</td>\n",
       "      <td>2625.0</td>\n",
       "      <td>18.6</td>\n",
       "      <td>82</td>\n",
       "      <td>1</td>\n",
       "    </tr>\n",
       "    <tr>\n",
       "      <th>397</th>\n",
       "      <td>31.0</td>\n",
       "      <td>4</td>\n",
       "      <td>119.0</td>\n",
       "      <td>82.0</td>\n",
       "      <td>2720.0</td>\n",
       "      <td>19.4</td>\n",
       "      <td>82</td>\n",
       "      <td>1</td>\n",
       "    </tr>\n",
       "  </tbody>\n",
       "</table>\n",
       "</div>"
      ],
      "text/plain": [
       "      MPG  Cylinders  Displacement  Horsepower  Weight  Acceleration  \\\n",
       "393  27.0          4         140.0        86.0  2790.0          15.6   \n",
       "394  44.0          4          97.0        52.0  2130.0          24.6   \n",
       "395  32.0          4         135.0        84.0  2295.0          11.6   \n",
       "396  28.0          4         120.0        79.0  2625.0          18.6   \n",
       "397  31.0          4         119.0        82.0  2720.0          19.4   \n",
       "\n",
       "     Model Year  Origin  \n",
       "393          82       1  \n",
       "394          82       2  \n",
       "395          82       1  \n",
       "396          82       1  \n",
       "397          82       1  "
      ]
     },
     "execution_count": 4,
     "metadata": {},
     "output_type": "execute_result"
    }
   ],
   "source": [
    "dataset = raw_dataset.copy()\n",
    "dataset.tail()"
   ]
  },
  {
   "cell_type": "markdown",
   "metadata": {},
   "source": [
    "#### Get the data from a csv file locally:\n",
    "Read the dataset using pandas:\n",
    "```python\n",
    "data = pd.read_csv('myDataSets/auto-mpg.csv', index_col='car name')\n",
    "data.tail()\n",
    "```"
   ]
  },
  {
   "cell_type": "markdown",
   "metadata": {
    "id": "3MWuJTKEDM-f"
   },
   "source": [
    "### Clean the data\n",
    "\n",
    "The dataset contains a few unknown values:"
   ]
  },
  {
   "cell_type": "code",
   "execution_count": 5,
   "metadata": {
    "execution": {
     "iopub.execute_input": "2022-02-10T18:49:40.191201Z",
     "iopub.status.busy": "2022-02-10T18:49:40.190630Z",
     "iopub.status.idle": "2022-02-10T18:49:40.193376Z",
     "shell.execute_reply": "2022-02-10T18:49:40.192907Z"
    },
    "id": "JEJHhN65a2VV"
   },
   "outputs": [
    {
     "data": {
      "text/plain": [
       "MPG             0\n",
       "Cylinders       0\n",
       "Displacement    0\n",
       "Horsepower      6\n",
       "Weight          0\n",
       "Acceleration    0\n",
       "Model Year      0\n",
       "Origin          0\n",
       "dtype: int64"
      ]
     },
     "execution_count": 5,
     "metadata": {},
     "output_type": "execute_result"
    }
   ],
   "source": [
    "dataset.isna().sum()"
   ]
  },
  {
   "cell_type": "markdown",
   "metadata": {
    "id": "9UPN0KBHa_WI"
   },
   "source": [
    "* there are six null values in the Horsepower column\n",
    "\n",
    "* drop those rows "
   ]
  },
  {
   "cell_type": "code",
   "execution_count": 6,
   "metadata": {
    "execution": {
     "iopub.execute_input": "2022-02-10T18:49:40.198928Z",
     "iopub.status.busy": "2022-02-10T18:49:40.198397Z",
     "iopub.status.idle": "2022-02-10T18:49:40.199863Z",
     "shell.execute_reply": "2022-02-10T18:49:40.200228Z"
    },
    "id": "4ZUDosChC1UN"
   },
   "outputs": [],
   "source": [
    "dataset = dataset.dropna()# Drop null values"
   ]
  },
  {
   "cell_type": "markdown",
   "metadata": {},
   "source": [
    "### Convert categorical features into one hot encoding\n",
    "\n",
    "`sklearn.preprocessing.OneHotEncoder`\n",
    "\n",
    "https://scikit-learn.org/stable/modules/generated/sklearn.preprocessing.OneHotEncoder.html\n",
    "\n",
    "* Encode categorical features as a one-hot numeric array.\n",
    "* The input to this transformer should be an array-like of integers or strings, denoting the values taken on by categorical (discrete) features."
   ]
  },
  {
   "cell_type": "code",
   "execution_count": 7,
   "metadata": {},
   "outputs": [
    {
     "data": {
      "text/html": [
       "<div>\n",
       "<style scoped>\n",
       "    .dataframe tbody tr th:only-of-type {\n",
       "        vertical-align: middle;\n",
       "    }\n",
       "\n",
       "    .dataframe tbody tr th {\n",
       "        vertical-align: top;\n",
       "    }\n",
       "\n",
       "    .dataframe thead th {\n",
       "        text-align: right;\n",
       "    }\n",
       "</style>\n",
       "<table border=\"1\" class=\"dataframe\">\n",
       "  <thead>\n",
       "    <tr style=\"text-align: right;\">\n",
       "      <th></th>\n",
       "      <th>MPG</th>\n",
       "      <th>Cylinders</th>\n",
       "      <th>Displacement</th>\n",
       "      <th>Horsepower</th>\n",
       "      <th>Weight</th>\n",
       "      <th>Acceleration</th>\n",
       "      <th>Model Year</th>\n",
       "      <th>Origin</th>\n",
       "    </tr>\n",
       "  </thead>\n",
       "  <tbody>\n",
       "    <tr>\n",
       "      <th>393</th>\n",
       "      <td>27.0</td>\n",
       "      <td>4</td>\n",
       "      <td>140.0</td>\n",
       "      <td>86.0</td>\n",
       "      <td>2790.0</td>\n",
       "      <td>15.6</td>\n",
       "      <td>82</td>\n",
       "      <td>USA</td>\n",
       "    </tr>\n",
       "    <tr>\n",
       "      <th>394</th>\n",
       "      <td>44.0</td>\n",
       "      <td>4</td>\n",
       "      <td>97.0</td>\n",
       "      <td>52.0</td>\n",
       "      <td>2130.0</td>\n",
       "      <td>24.6</td>\n",
       "      <td>82</td>\n",
       "      <td>Europe</td>\n",
       "    </tr>\n",
       "    <tr>\n",
       "      <th>395</th>\n",
       "      <td>32.0</td>\n",
       "      <td>4</td>\n",
       "      <td>135.0</td>\n",
       "      <td>84.0</td>\n",
       "      <td>2295.0</td>\n",
       "      <td>11.6</td>\n",
       "      <td>82</td>\n",
       "      <td>USA</td>\n",
       "    </tr>\n",
       "    <tr>\n",
       "      <th>396</th>\n",
       "      <td>28.0</td>\n",
       "      <td>4</td>\n",
       "      <td>120.0</td>\n",
       "      <td>79.0</td>\n",
       "      <td>2625.0</td>\n",
       "      <td>18.6</td>\n",
       "      <td>82</td>\n",
       "      <td>USA</td>\n",
       "    </tr>\n",
       "    <tr>\n",
       "      <th>397</th>\n",
       "      <td>31.0</td>\n",
       "      <td>4</td>\n",
       "      <td>119.0</td>\n",
       "      <td>82.0</td>\n",
       "      <td>2720.0</td>\n",
       "      <td>19.4</td>\n",
       "      <td>82</td>\n",
       "      <td>USA</td>\n",
       "    </tr>\n",
       "  </tbody>\n",
       "</table>\n",
       "</div>"
      ],
      "text/plain": [
       "      MPG  Cylinders  Displacement  Horsepower  Weight  Acceleration  \\\n",
       "393  27.0          4         140.0        86.0  2790.0          15.6   \n",
       "394  44.0          4          97.0        52.0  2130.0          24.6   \n",
       "395  32.0          4         135.0        84.0  2295.0          11.6   \n",
       "396  28.0          4         120.0        79.0  2625.0          18.6   \n",
       "397  31.0          4         119.0        82.0  2720.0          19.4   \n",
       "\n",
       "     Model Year  Origin  \n",
       "393          82     USA  \n",
       "394          82  Europe  \n",
       "395          82     USA  \n",
       "396          82     USA  \n",
       "397          82     USA  "
      ]
     },
     "execution_count": 7,
     "metadata": {},
     "output_type": "execute_result"
    }
   ],
   "source": [
    "dataset['Origin'] = dataset['Origin'].map({1: 'USA', 2: 'Europe', 3: 'Japan'})\n",
    "\n",
    "dataset.tail()"
   ]
  },
  {
   "cell_type": "code",
   "execution_count": 8,
   "metadata": {},
   "outputs": [
    {
     "name": "stdout",
     "output_type": "stream",
     "text": [
      "<class 'pandas.core.frame.DataFrame'>\n",
      "Int64Index: 392 entries, 0 to 397\n",
      "Data columns (total 8 columns):\n",
      " #   Column        Non-Null Count  Dtype  \n",
      "---  ------        --------------  -----  \n",
      " 0   MPG           392 non-null    float64\n",
      " 1   Cylinders     392 non-null    int64  \n",
      " 2   Displacement  392 non-null    float64\n",
      " 3   Horsepower    392 non-null    float64\n",
      " 4   Weight        392 non-null    float64\n",
      " 5   Acceleration  392 non-null    float64\n",
      " 6   Model Year    392 non-null    int64  \n",
      " 7   Origin        392 non-null    object \n",
      "dtypes: float64(5), int64(2), object(1)\n",
      "memory usage: 27.6+ KB\n"
     ]
    }
   ],
   "source": [
    "dataset.info()# Get an overview of the dataset"
   ]
  },
  {
   "cell_type": "code",
   "execution_count": 9,
   "metadata": {},
   "outputs": [],
   "source": [
    "from sklearn.preprocessing import OneHotEncoder"
   ]
  },
  {
   "cell_type": "code",
   "execution_count": 10,
   "metadata": {},
   "outputs": [],
   "source": [
    "ohe = OneHotEncoder()"
   ]
  },
  {
   "cell_type": "code",
   "execution_count": 11,
   "metadata": {},
   "outputs": [],
   "source": [
    "transformed = ohe.fit_transform(dataset[['Origin']])"
   ]
  },
  {
   "cell_type": "code",
   "execution_count": 12,
   "metadata": {},
   "outputs": [
    {
     "name": "stdout",
     "output_type": "stream",
     "text": [
      "[[0. 0. 1.]\n",
      " [0. 0. 1.]\n",
      " [0. 0. 1.]\n",
      " ...\n",
      " [0. 0. 1.]\n",
      " [0. 0. 1.]\n",
      " [0. 0. 1.]]\n"
     ]
    }
   ],
   "source": [
    "print(transformed.toarray())"
   ]
  },
  {
   "cell_type": "code",
   "execution_count": 13,
   "metadata": {},
   "outputs": [
    {
     "name": "stdout",
     "output_type": "stream",
     "text": [
      "[array(['Europe', 'Japan', 'USA'], dtype=object)]\n"
     ]
    }
   ],
   "source": [
    "print(ohe.categories_)"
   ]
  },
  {
   "cell_type": "code",
   "execution_count": 14,
   "metadata": {},
   "outputs": [
    {
     "data": {
      "text/html": [
       "<div>\n",
       "<style scoped>\n",
       "    .dataframe tbody tr th:only-of-type {\n",
       "        vertical-align: middle;\n",
       "    }\n",
       "\n",
       "    .dataframe tbody tr th {\n",
       "        vertical-align: top;\n",
       "    }\n",
       "\n",
       "    .dataframe thead th {\n",
       "        text-align: right;\n",
       "    }\n",
       "</style>\n",
       "<table border=\"1\" class=\"dataframe\">\n",
       "  <thead>\n",
       "    <tr style=\"text-align: right;\">\n",
       "      <th></th>\n",
       "      <th>MPG</th>\n",
       "      <th>Cylinders</th>\n",
       "      <th>Displacement</th>\n",
       "      <th>Horsepower</th>\n",
       "      <th>Weight</th>\n",
       "      <th>Acceleration</th>\n",
       "      <th>Model Year</th>\n",
       "      <th>Origin</th>\n",
       "      <th>Europe</th>\n",
       "      <th>Japan</th>\n",
       "      <th>USA</th>\n",
       "    </tr>\n",
       "  </thead>\n",
       "  <tbody>\n",
       "    <tr>\n",
       "      <th>0</th>\n",
       "      <td>18.0</td>\n",
       "      <td>8</td>\n",
       "      <td>307.0</td>\n",
       "      <td>130.0</td>\n",
       "      <td>3504.0</td>\n",
       "      <td>12.0</td>\n",
       "      <td>70</td>\n",
       "      <td>USA</td>\n",
       "      <td>0.0</td>\n",
       "      <td>0.0</td>\n",
       "      <td>1.0</td>\n",
       "    </tr>\n",
       "    <tr>\n",
       "      <th>1</th>\n",
       "      <td>15.0</td>\n",
       "      <td>8</td>\n",
       "      <td>350.0</td>\n",
       "      <td>165.0</td>\n",
       "      <td>3693.0</td>\n",
       "      <td>11.5</td>\n",
       "      <td>70</td>\n",
       "      <td>USA</td>\n",
       "      <td>0.0</td>\n",
       "      <td>0.0</td>\n",
       "      <td>1.0</td>\n",
       "    </tr>\n",
       "    <tr>\n",
       "      <th>2</th>\n",
       "      <td>18.0</td>\n",
       "      <td>8</td>\n",
       "      <td>318.0</td>\n",
       "      <td>150.0</td>\n",
       "      <td>3436.0</td>\n",
       "      <td>11.0</td>\n",
       "      <td>70</td>\n",
       "      <td>USA</td>\n",
       "      <td>0.0</td>\n",
       "      <td>0.0</td>\n",
       "      <td>1.0</td>\n",
       "    </tr>\n",
       "    <tr>\n",
       "      <th>3</th>\n",
       "      <td>16.0</td>\n",
       "      <td>8</td>\n",
       "      <td>304.0</td>\n",
       "      <td>150.0</td>\n",
       "      <td>3433.0</td>\n",
       "      <td>12.0</td>\n",
       "      <td>70</td>\n",
       "      <td>USA</td>\n",
       "      <td>0.0</td>\n",
       "      <td>0.0</td>\n",
       "      <td>1.0</td>\n",
       "    </tr>\n",
       "    <tr>\n",
       "      <th>4</th>\n",
       "      <td>17.0</td>\n",
       "      <td>8</td>\n",
       "      <td>302.0</td>\n",
       "      <td>140.0</td>\n",
       "      <td>3449.0</td>\n",
       "      <td>10.5</td>\n",
       "      <td>70</td>\n",
       "      <td>USA</td>\n",
       "      <td>0.0</td>\n",
       "      <td>0.0</td>\n",
       "      <td>1.0</td>\n",
       "    </tr>\n",
       "  </tbody>\n",
       "</table>\n",
       "</div>"
      ],
      "text/plain": [
       "    MPG  Cylinders  Displacement  Horsepower  Weight  Acceleration  \\\n",
       "0  18.0          8         307.0       130.0  3504.0          12.0   \n",
       "1  15.0          8         350.0       165.0  3693.0          11.5   \n",
       "2  18.0          8         318.0       150.0  3436.0          11.0   \n",
       "3  16.0          8         304.0       150.0  3433.0          12.0   \n",
       "4  17.0          8         302.0       140.0  3449.0          10.5   \n",
       "\n",
       "   Model Year Origin  Europe  Japan  USA  \n",
       "0          70    USA     0.0    0.0  1.0  \n",
       "1          70    USA     0.0    0.0  1.0  \n",
       "2          70    USA     0.0    0.0  1.0  \n",
       "3          70    USA     0.0    0.0  1.0  \n",
       "4          70    USA     0.0    0.0  1.0  "
      ]
     },
     "execution_count": 14,
     "metadata": {},
     "output_type": "execute_result"
    }
   ],
   "source": [
    "dataset[ohe.categories_[0]] = transformed.toarray()\n",
    "\n",
    "dataset.head()"
   ]
  },
  {
   "cell_type": "code",
   "execution_count": 15,
   "metadata": {},
   "outputs": [],
   "source": [
    "data = dataset.drop('Origin',axis=1)"
   ]
  },
  {
   "cell_type": "code",
   "execution_count": 16,
   "metadata": {},
   "outputs": [
    {
     "data": {
      "text/html": [
       "<div>\n",
       "<style scoped>\n",
       "    .dataframe tbody tr th:only-of-type {\n",
       "        vertical-align: middle;\n",
       "    }\n",
       "\n",
       "    .dataframe tbody tr th {\n",
       "        vertical-align: top;\n",
       "    }\n",
       "\n",
       "    .dataframe thead th {\n",
       "        text-align: right;\n",
       "    }\n",
       "</style>\n",
       "<table border=\"1\" class=\"dataframe\">\n",
       "  <thead>\n",
       "    <tr style=\"text-align: right;\">\n",
       "      <th></th>\n",
       "      <th>MPG</th>\n",
       "      <th>Cylinders</th>\n",
       "      <th>Displacement</th>\n",
       "      <th>Horsepower</th>\n",
       "      <th>Weight</th>\n",
       "      <th>Acceleration</th>\n",
       "      <th>Model Year</th>\n",
       "      <th>Europe</th>\n",
       "      <th>Japan</th>\n",
       "      <th>USA</th>\n",
       "    </tr>\n",
       "  </thead>\n",
       "  <tbody>\n",
       "    <tr>\n",
       "      <th>0</th>\n",
       "      <td>18.0</td>\n",
       "      <td>8</td>\n",
       "      <td>307.0</td>\n",
       "      <td>130.0</td>\n",
       "      <td>3504.0</td>\n",
       "      <td>12.0</td>\n",
       "      <td>70</td>\n",
       "      <td>0.0</td>\n",
       "      <td>0.0</td>\n",
       "      <td>1.0</td>\n",
       "    </tr>\n",
       "    <tr>\n",
       "      <th>1</th>\n",
       "      <td>15.0</td>\n",
       "      <td>8</td>\n",
       "      <td>350.0</td>\n",
       "      <td>165.0</td>\n",
       "      <td>3693.0</td>\n",
       "      <td>11.5</td>\n",
       "      <td>70</td>\n",
       "      <td>0.0</td>\n",
       "      <td>0.0</td>\n",
       "      <td>1.0</td>\n",
       "    </tr>\n",
       "    <tr>\n",
       "      <th>2</th>\n",
       "      <td>18.0</td>\n",
       "      <td>8</td>\n",
       "      <td>318.0</td>\n",
       "      <td>150.0</td>\n",
       "      <td>3436.0</td>\n",
       "      <td>11.0</td>\n",
       "      <td>70</td>\n",
       "      <td>0.0</td>\n",
       "      <td>0.0</td>\n",
       "      <td>1.0</td>\n",
       "    </tr>\n",
       "    <tr>\n",
       "      <th>3</th>\n",
       "      <td>16.0</td>\n",
       "      <td>8</td>\n",
       "      <td>304.0</td>\n",
       "      <td>150.0</td>\n",
       "      <td>3433.0</td>\n",
       "      <td>12.0</td>\n",
       "      <td>70</td>\n",
       "      <td>0.0</td>\n",
       "      <td>0.0</td>\n",
       "      <td>1.0</td>\n",
       "    </tr>\n",
       "    <tr>\n",
       "      <th>4</th>\n",
       "      <td>17.0</td>\n",
       "      <td>8</td>\n",
       "      <td>302.0</td>\n",
       "      <td>140.0</td>\n",
       "      <td>3449.0</td>\n",
       "      <td>10.5</td>\n",
       "      <td>70</td>\n",
       "      <td>0.0</td>\n",
       "      <td>0.0</td>\n",
       "      <td>1.0</td>\n",
       "    </tr>\n",
       "  </tbody>\n",
       "</table>\n",
       "</div>"
      ],
      "text/plain": [
       "    MPG  Cylinders  Displacement  Horsepower  Weight  Acceleration  \\\n",
       "0  18.0          8         307.0       130.0  3504.0          12.0   \n",
       "1  15.0          8         350.0       165.0  3693.0          11.5   \n",
       "2  18.0          8         318.0       150.0  3436.0          11.0   \n",
       "3  16.0          8         304.0       150.0  3433.0          12.0   \n",
       "4  17.0          8         302.0       140.0  3449.0          10.5   \n",
       "\n",
       "   Model Year  Europe  Japan  USA  \n",
       "0          70     0.0    0.0  1.0  \n",
       "1          70     0.0    0.0  1.0  \n",
       "2          70     0.0    0.0  1.0  \n",
       "3          70     0.0    0.0  1.0  \n",
       "4          70     0.0    0.0  1.0  "
      ]
     },
     "execution_count": 16,
     "metadata": {},
     "output_type": "execute_result"
    }
   ],
   "source": [
    "data.head()"
   ]
  },
  {
   "cell_type": "markdown",
   "metadata": {
    "execution": {
     "iopub.execute_input": "2022-02-10T18:49:40.220555Z",
     "iopub.status.busy": "2022-02-10T18:49:40.211174Z",
     "iopub.status.idle": "2022-02-10T18:49:40.223084Z",
     "shell.execute_reply": "2022-02-10T18:49:40.223480Z"
    },
    "id": "ulXz4J7PAUzk"
   },
   "source": [
    "#### Convert categorical features into one hot encoding using `get_dummies`\n",
    "\n",
    "* The `\"Origin\"` column is categorical, not numeric.\n",
    "* So the next step is to one-hot encode the values in the column with [pd.get_dummies](https://pandas.pydata.org/docs/reference/api/pandas.get_dummies.html).\n",
    "\n",
    "* Note: You can set up the `tf.keras.Model` to do this kind of transformation for you but that's beyond the scope of this tutorial. Check out the [Classify structured data using Keras preprocessing layers](../structured_data/preprocessing_layers.ipynb) or [Load CSV data](../load_data/csv.ipynb) tutorials for examples.\n",
    "\n",
    "```python\n",
    "dataset = pd.get_dummies(dataset, columns=['Origin'], prefix='', prefix_sep='')\n",
    "dataset.tail()\n",
    "```"
   ]
  },
  {
   "cell_type": "markdown",
   "metadata": {
    "id": "Cuym4yvk76vU"
   },
   "source": [
    "### Split the data into training and test sets\n"
   ]
  },
  {
   "cell_type": "code",
   "execution_count": 17,
   "metadata": {},
   "outputs": [],
   "source": [
    "from sklearn.model_selection import train_test_split"
   ]
  },
  {
   "cell_type": "code",
   "execution_count": 18,
   "metadata": {},
   "outputs": [],
   "source": [
    "# The data is split into training and testing sets:\n",
    "train_dataset, test_dataset = train_test_split(data, \n",
    "                                               test_size = 0.25\n",
    "                                              )"
   ]
  },
  {
   "cell_type": "code",
   "execution_count": 19,
   "metadata": {},
   "outputs": [
    {
     "data": {
      "text/html": [
       "<div>\n",
       "<style scoped>\n",
       "    .dataframe tbody tr th:only-of-type {\n",
       "        vertical-align: middle;\n",
       "    }\n",
       "\n",
       "    .dataframe tbody tr th {\n",
       "        vertical-align: top;\n",
       "    }\n",
       "\n",
       "    .dataframe thead th {\n",
       "        text-align: right;\n",
       "    }\n",
       "</style>\n",
       "<table border=\"1\" class=\"dataframe\">\n",
       "  <thead>\n",
       "    <tr style=\"text-align: right;\">\n",
       "      <th></th>\n",
       "      <th>MPG</th>\n",
       "      <th>Cylinders</th>\n",
       "      <th>Displacement</th>\n",
       "      <th>Horsepower</th>\n",
       "      <th>Weight</th>\n",
       "      <th>Acceleration</th>\n",
       "      <th>Model Year</th>\n",
       "      <th>Europe</th>\n",
       "      <th>Japan</th>\n",
       "      <th>USA</th>\n",
       "    </tr>\n",
       "  </thead>\n",
       "  <tbody>\n",
       "    <tr>\n",
       "      <th>70</th>\n",
       "      <td>13.0</td>\n",
       "      <td>8</td>\n",
       "      <td>400.0</td>\n",
       "      <td>190.0</td>\n",
       "      <td>4422.0</td>\n",
       "      <td>12.5</td>\n",
       "      <td>72</td>\n",
       "      <td>0.0</td>\n",
       "      <td>0.0</td>\n",
       "      <td>1.0</td>\n",
       "    </tr>\n",
       "    <tr>\n",
       "      <th>48</th>\n",
       "      <td>18.0</td>\n",
       "      <td>6</td>\n",
       "      <td>250.0</td>\n",
       "      <td>88.0</td>\n",
       "      <td>3139.0</td>\n",
       "      <td>14.5</td>\n",
       "      <td>71</td>\n",
       "      <td>0.0</td>\n",
       "      <td>0.0</td>\n",
       "      <td>1.0</td>\n",
       "    </tr>\n",
       "    <tr>\n",
       "      <th>316</th>\n",
       "      <td>19.1</td>\n",
       "      <td>6</td>\n",
       "      <td>225.0</td>\n",
       "      <td>90.0</td>\n",
       "      <td>3381.0</td>\n",
       "      <td>18.7</td>\n",
       "      <td>80</td>\n",
       "      <td>0.0</td>\n",
       "      <td>0.0</td>\n",
       "      <td>1.0</td>\n",
       "    </tr>\n",
       "    <tr>\n",
       "      <th>27</th>\n",
       "      <td>11.0</td>\n",
       "      <td>8</td>\n",
       "      <td>318.0</td>\n",
       "      <td>210.0</td>\n",
       "      <td>4382.0</td>\n",
       "      <td>13.5</td>\n",
       "      <td>70</td>\n",
       "      <td>0.0</td>\n",
       "      <td>0.0</td>\n",
       "      <td>1.0</td>\n",
       "    </tr>\n",
       "    <tr>\n",
       "      <th>96</th>\n",
       "      <td>13.0</td>\n",
       "      <td>8</td>\n",
       "      <td>360.0</td>\n",
       "      <td>175.0</td>\n",
       "      <td>3821.0</td>\n",
       "      <td>11.0</td>\n",
       "      <td>73</td>\n",
       "      <td>0.0</td>\n",
       "      <td>0.0</td>\n",
       "      <td>1.0</td>\n",
       "    </tr>\n",
       "  </tbody>\n",
       "</table>\n",
       "</div>"
      ],
      "text/plain": [
       "      MPG  Cylinders  Displacement  Horsepower  Weight  Acceleration  \\\n",
       "70   13.0          8         400.0       190.0  4422.0          12.5   \n",
       "48   18.0          6         250.0        88.0  3139.0          14.5   \n",
       "316  19.1          6         225.0        90.0  3381.0          18.7   \n",
       "27   11.0          8         318.0       210.0  4382.0          13.5   \n",
       "96   13.0          8         360.0       175.0  3821.0          11.0   \n",
       "\n",
       "     Model Year  Europe  Japan  USA  \n",
       "70           72     0.0    0.0  1.0  \n",
       "48           71     0.0    0.0  1.0  \n",
       "316          80     0.0    0.0  1.0  \n",
       "27           70     0.0    0.0  1.0  \n",
       "96           73     0.0    0.0  1.0  "
      ]
     },
     "execution_count": 19,
     "metadata": {},
     "output_type": "execute_result"
    }
   ],
   "source": [
    "train_dataset.head()"
   ]
  },
  {
   "cell_type": "code",
   "execution_count": 20,
   "metadata": {},
   "outputs": [
    {
     "data": {
      "text/html": [
       "<div>\n",
       "<style scoped>\n",
       "    .dataframe tbody tr th:only-of-type {\n",
       "        vertical-align: middle;\n",
       "    }\n",
       "\n",
       "    .dataframe tbody tr th {\n",
       "        vertical-align: top;\n",
       "    }\n",
       "\n",
       "    .dataframe thead th {\n",
       "        text-align: right;\n",
       "    }\n",
       "</style>\n",
       "<table border=\"1\" class=\"dataframe\">\n",
       "  <thead>\n",
       "    <tr style=\"text-align: right;\">\n",
       "      <th></th>\n",
       "      <th>MPG</th>\n",
       "      <th>Cylinders</th>\n",
       "      <th>Displacement</th>\n",
       "      <th>Horsepower</th>\n",
       "      <th>Weight</th>\n",
       "      <th>Acceleration</th>\n",
       "      <th>Model Year</th>\n",
       "      <th>Europe</th>\n",
       "      <th>Japan</th>\n",
       "      <th>USA</th>\n",
       "    </tr>\n",
       "  </thead>\n",
       "  <tbody>\n",
       "    <tr>\n",
       "      <th>170</th>\n",
       "      <td>23.0</td>\n",
       "      <td>4</td>\n",
       "      <td>140.0</td>\n",
       "      <td>78.0</td>\n",
       "      <td>2592.0</td>\n",
       "      <td>18.5</td>\n",
       "      <td>75</td>\n",
       "      <td>0.0</td>\n",
       "      <td>0.0</td>\n",
       "      <td>1.0</td>\n",
       "    </tr>\n",
       "    <tr>\n",
       "      <th>39</th>\n",
       "      <td>14.0</td>\n",
       "      <td>8</td>\n",
       "      <td>400.0</td>\n",
       "      <td>175.0</td>\n",
       "      <td>4464.0</td>\n",
       "      <td>11.5</td>\n",
       "      <td>71</td>\n",
       "      <td>0.0</td>\n",
       "      <td>0.0</td>\n",
       "      <td>1.0</td>\n",
       "    </tr>\n",
       "    <tr>\n",
       "      <th>123</th>\n",
       "      <td>20.0</td>\n",
       "      <td>6</td>\n",
       "      <td>156.0</td>\n",
       "      <td>122.0</td>\n",
       "      <td>2807.0</td>\n",
       "      <td>13.5</td>\n",
       "      <td>73</td>\n",
       "      <td>0.0</td>\n",
       "      <td>1.0</td>\n",
       "      <td>0.0</td>\n",
       "    </tr>\n",
       "    <tr>\n",
       "      <th>331</th>\n",
       "      <td>33.8</td>\n",
       "      <td>4</td>\n",
       "      <td>97.0</td>\n",
       "      <td>67.0</td>\n",
       "      <td>2145.0</td>\n",
       "      <td>18.0</td>\n",
       "      <td>80</td>\n",
       "      <td>0.0</td>\n",
       "      <td>1.0</td>\n",
       "      <td>0.0</td>\n",
       "    </tr>\n",
       "    <tr>\n",
       "      <th>187</th>\n",
       "      <td>17.5</td>\n",
       "      <td>8</td>\n",
       "      <td>305.0</td>\n",
       "      <td>140.0</td>\n",
       "      <td>4215.0</td>\n",
       "      <td>13.0</td>\n",
       "      <td>76</td>\n",
       "      <td>0.0</td>\n",
       "      <td>0.0</td>\n",
       "      <td>1.0</td>\n",
       "    </tr>\n",
       "  </tbody>\n",
       "</table>\n",
       "</div>"
      ],
      "text/plain": [
       "      MPG  Cylinders  Displacement  Horsepower  Weight  Acceleration  \\\n",
       "170  23.0          4         140.0        78.0  2592.0          18.5   \n",
       "39   14.0          8         400.0       175.0  4464.0          11.5   \n",
       "123  20.0          6         156.0       122.0  2807.0          13.5   \n",
       "331  33.8          4          97.0        67.0  2145.0          18.0   \n",
       "187  17.5          8         305.0       140.0  4215.0          13.0   \n",
       "\n",
       "     Model Year  Europe  Japan  USA  \n",
       "170          75     0.0    0.0  1.0  \n",
       "39           71     0.0    0.0  1.0  \n",
       "123          73     0.0    1.0  0.0  \n",
       "331          80     0.0    1.0  0.0  \n",
       "187          76     0.0    0.0  1.0  "
      ]
     },
     "execution_count": 20,
     "metadata": {},
     "output_type": "execute_result"
    }
   ],
   "source": [
    "test_dataset.tail()"
   ]
  },
  {
   "cell_type": "markdown",
   "metadata": {
    "execution": {
     "iopub.execute_input": "2022-02-10T18:49:40.228743Z",
     "iopub.status.busy": "2022-02-10T18:49:40.228196Z",
     "iopub.status.idle": "2022-02-10T18:49:40.229889Z",
     "shell.execute_reply": "2022-02-10T18:49:40.230221Z"
    },
    "id": "qn-IGhUE7_1H"
   },
   "source": [
    "### Another way to split the DataFrame into training and testing sets:\n",
    "\n",
    "```python\n",
    "train_dataset = dataset.sample(frac=0.8, random_state=0)\n",
    "test_dataset = dataset.drop(train_dataset.index)\n",
    "```"
   ]
  },
  {
   "cell_type": "markdown",
   "metadata": {
    "id": "J4ubs136WLNp"
   },
   "source": [
    "### Inspect the data\n",
    "\n",
    "* Review the joint distribution of a few pairs of columns from the training set.\n",
    "\n",
    "* The top row suggests that the fuel efficiency (MPG) is a function of all the other parameters.\n",
    "\n",
    "* The other rows indicate they are functions of each other."
   ]
  },
  {
   "cell_type": "code",
   "execution_count": 21,
   "metadata": {
    "execution": {
     "iopub.execute_input": "2022-02-10T18:49:40.248776Z",
     "iopub.status.busy": "2022-02-10T18:49:40.235066Z",
     "iopub.status.idle": "2022-02-10T18:49:42.306755Z",
     "shell.execute_reply": "2022-02-10T18:49:42.307170Z"
    },
    "id": "oRKO_x8gWKv-",
    "scrolled": false
   },
   "outputs": [
    {
     "data": {
      "text/plain": [
       "<seaborn.axisgrid.PairGrid at 0x7fdabcca4b10>"
      ]
     },
     "execution_count": 21,
     "metadata": {},
     "output_type": "execute_result"
    },
    {
     "data": {
      "image/png": "[encoded data removed]",
      "text/plain": [
       "<Figure size 970.875x900 with 30 Axes>"
      ]
     },
     "metadata": {
      "needs_background": "light"
     },
     "output_type": "display_data"
    }
   ],
   "source": [
    "sns.pairplot(dataset[['MPG', 'Cylinders', 'Displacement', 'Horsepower', 'Weight', 'Origin']], \n",
    "             hue='Origin', \n",
    "             diag_kind='kde',\n",
    "             palette='husl')"
   ]
  },
  {
   "cell_type": "markdown",
   "metadata": {
    "id": "gavKO_6DWRMP"
   },
   "source": [
    "Let's also check the overall statistics. Note how each feature covers a very different range:"
   ]
  },
  {
   "cell_type": "code",
   "execution_count": 22,
   "metadata": {
    "execution": {
     "iopub.execute_input": "2022-02-10T18:49:42.313737Z",
     "iopub.status.busy": "2022-02-10T18:49:42.312083Z",
     "iopub.status.idle": "2022-02-10T18:49:42.343687Z",
     "shell.execute_reply": "2022-02-10T18:49:42.344037Z"
    },
    "id": "yi2FzC3T21jR"
   },
   "outputs": [
    {
     "data": {
      "text/html": [
       "<div>\n",
       "<style scoped>\n",
       "    .dataframe tbody tr th:only-of-type {\n",
       "        vertical-align: middle;\n",
       "    }\n",
       "\n",
       "    .dataframe tbody tr th {\n",
       "        vertical-align: top;\n",
       "    }\n",
       "\n",
       "    .dataframe thead th {\n",
       "        text-align: right;\n",
       "    }\n",
       "</style>\n",
       "<table border=\"1\" class=\"dataframe\">\n",
       "  <thead>\n",
       "    <tr style=\"text-align: right;\">\n",
       "      <th></th>\n",
       "      <th>count</th>\n",
       "      <th>mean</th>\n",
       "      <th>std</th>\n",
       "      <th>min</th>\n",
       "      <th>25%</th>\n",
       "      <th>50%</th>\n",
       "      <th>75%</th>\n",
       "      <th>max</th>\n",
       "    </tr>\n",
       "  </thead>\n",
       "  <tbody>\n",
       "    <tr>\n",
       "      <th>MPG</th>\n",
       "      <td>294.0</td>\n",
       "      <td>23.530272</td>\n",
       "      <td>7.781851</td>\n",
       "      <td>9.0</td>\n",
       "      <td>17.525</td>\n",
       "      <td>23.0</td>\n",
       "      <td>29.00</td>\n",
       "      <td>46.6</td>\n",
       "    </tr>\n",
       "    <tr>\n",
       "      <th>Cylinders</th>\n",
       "      <td>294.0</td>\n",
       "      <td>5.428571</td>\n",
       "      <td>1.719195</td>\n",
       "      <td>3.0</td>\n",
       "      <td>4.000</td>\n",
       "      <td>4.0</td>\n",
       "      <td>8.00</td>\n",
       "      <td>8.0</td>\n",
       "    </tr>\n",
       "    <tr>\n",
       "      <th>Displacement</th>\n",
       "      <td>294.0</td>\n",
       "      <td>192.418367</td>\n",
       "      <td>104.822124</td>\n",
       "      <td>68.0</td>\n",
       "      <td>104.250</td>\n",
       "      <td>142.5</td>\n",
       "      <td>262.00</td>\n",
       "      <td>455.0</td>\n",
       "    </tr>\n",
       "    <tr>\n",
       "      <th>Horsepower</th>\n",
       "      <td>294.0</td>\n",
       "      <td>104.129252</td>\n",
       "      <td>37.889776</td>\n",
       "      <td>46.0</td>\n",
       "      <td>75.000</td>\n",
       "      <td>92.5</td>\n",
       "      <td>120.00</td>\n",
       "      <td>225.0</td>\n",
       "    </tr>\n",
       "    <tr>\n",
       "      <th>Weight</th>\n",
       "      <td>294.0</td>\n",
       "      <td>2956.421769</td>\n",
       "      <td>849.562911</td>\n",
       "      <td>1613.0</td>\n",
       "      <td>2226.500</td>\n",
       "      <td>2742.5</td>\n",
       "      <td>3617.25</td>\n",
       "      <td>5140.0</td>\n",
       "    </tr>\n",
       "    <tr>\n",
       "      <th>Acceleration</th>\n",
       "      <td>294.0</td>\n",
       "      <td>15.517687</td>\n",
       "      <td>2.727379</td>\n",
       "      <td>8.0</td>\n",
       "      <td>13.800</td>\n",
       "      <td>15.5</td>\n",
       "      <td>17.00</td>\n",
       "      <td>24.6</td>\n",
       "    </tr>\n",
       "    <tr>\n",
       "      <th>Model Year</th>\n",
       "      <td>294.0</td>\n",
       "      <td>75.959184</td>\n",
       "      <td>3.722228</td>\n",
       "      <td>70.0</td>\n",
       "      <td>73.000</td>\n",
       "      <td>76.0</td>\n",
       "      <td>79.00</td>\n",
       "      <td>82.0</td>\n",
       "    </tr>\n",
       "    <tr>\n",
       "      <th>Europe</th>\n",
       "      <td>294.0</td>\n",
       "      <td>0.173469</td>\n",
       "      <td>0.379298</td>\n",
       "      <td>0.0</td>\n",
       "      <td>0.000</td>\n",
       "      <td>0.0</td>\n",
       "      <td>0.00</td>\n",
       "      <td>1.0</td>\n",
       "    </tr>\n",
       "    <tr>\n",
       "      <th>Japan</th>\n",
       "      <td>294.0</td>\n",
       "      <td>0.221088</td>\n",
       "      <td>0.415687</td>\n",
       "      <td>0.0</td>\n",
       "      <td>0.000</td>\n",
       "      <td>0.0</td>\n",
       "      <td>0.00</td>\n",
       "      <td>1.0</td>\n",
       "    </tr>\n",
       "    <tr>\n",
       "      <th>USA</th>\n",
       "      <td>294.0</td>\n",
       "      <td>0.605442</td>\n",
       "      <td>0.489589</td>\n",
       "      <td>0.0</td>\n",
       "      <td>0.000</td>\n",
       "      <td>1.0</td>\n",
       "      <td>1.00</td>\n",
       "      <td>1.0</td>\n",
       "    </tr>\n",
       "  </tbody>\n",
       "</table>\n",
       "</div>"
      ],
      "text/plain": [
       "              count         mean         std     min       25%     50%  \\\n",
       "MPG           294.0    23.530272    7.781851     9.0    17.525    23.0   \n",
       "Cylinders     294.0     5.428571    1.719195     3.0     4.000     4.0   \n",
       "Displacement  294.0   192.418367  104.822124    68.0   104.250   142.5   \n",
       "Horsepower    294.0   104.129252   37.889776    46.0    75.000    92.5   \n",
       "Weight        294.0  2956.421769  849.562911  1613.0  2226.500  2742.5   \n",
       "Acceleration  294.0    15.517687    2.727379     8.0    13.800    15.5   \n",
       "Model Year    294.0    75.959184    3.722228    70.0    73.000    76.0   \n",
       "Europe        294.0     0.173469    0.379298     0.0     0.000     0.0   \n",
       "Japan         294.0     0.221088    0.415687     0.0     0.000     0.0   \n",
       "USA           294.0     0.605442    0.489589     0.0     0.000     1.0   \n",
       "\n",
       "                  75%     max  \n",
       "MPG             29.00    46.6  \n",
       "Cylinders        8.00     8.0  \n",
       "Displacement   262.00   455.0  \n",
       "Horsepower     120.00   225.0  \n",
       "Weight        3617.25  5140.0  \n",
       "Acceleration    17.00    24.6  \n",
       "Model Year      79.00    82.0  \n",
       "Europe           0.00     1.0  \n",
       "Japan            0.00     1.0  \n",
       "USA              1.00     1.0  "
      ]
     },
     "execution_count": 22,
     "metadata": {},
     "output_type": "execute_result"
    }
   ],
   "source": [
    "train_dataset.describe().transpose()"
   ]
  },
  {
   "cell_type": "markdown",
   "metadata": {
    "id": "Db7Auq1yXUvh"
   },
   "source": [
    "### Split features from labels\n",
    "\n",
    "Separate the target value—the \"label\"—from the features. This label is the value that you will train the model to predict."
   ]
  },
  {
   "cell_type": "code",
   "execution_count": 23,
   "metadata": {
    "execution": {
     "iopub.execute_input": "2022-02-10T18:49:42.349683Z",
     "iopub.status.busy": "2022-02-10T18:49:42.349155Z",
     "iopub.status.idle": "2022-02-10T18:49:42.350883Z",
     "shell.execute_reply": "2022-02-10T18:49:42.351233Z"
    },
    "id": "t2sluJdCW7jN"
   },
   "outputs": [],
   "source": [
    "train_features = train_dataset.copy()\n",
    "test_features = test_dataset.copy()"
   ]
  },
  {
   "cell_type": "code",
   "execution_count": 24,
   "metadata": {},
   "outputs": [
    {
     "data": {
      "text/html": [
       "<div>\n",
       "<style scoped>\n",
       "    .dataframe tbody tr th:only-of-type {\n",
       "        vertical-align: middle;\n",
       "    }\n",
       "\n",
       "    .dataframe tbody tr th {\n",
       "        vertical-align: top;\n",
       "    }\n",
       "\n",
       "    .dataframe thead th {\n",
       "        text-align: right;\n",
       "    }\n",
       "</style>\n",
       "<table border=\"1\" class=\"dataframe\">\n",
       "  <thead>\n",
       "    <tr style=\"text-align: right;\">\n",
       "      <th></th>\n",
       "      <th>MPG</th>\n",
       "      <th>Cylinders</th>\n",
       "      <th>Displacement</th>\n",
       "      <th>Horsepower</th>\n",
       "      <th>Weight</th>\n",
       "      <th>Acceleration</th>\n",
       "      <th>Model Year</th>\n",
       "      <th>Europe</th>\n",
       "      <th>Japan</th>\n",
       "      <th>USA</th>\n",
       "    </tr>\n",
       "  </thead>\n",
       "  <tbody>\n",
       "    <tr>\n",
       "      <th>325</th>\n",
       "      <td>44.3</td>\n",
       "      <td>4</td>\n",
       "      <td>90.0</td>\n",
       "      <td>48.0</td>\n",
       "      <td>2085.0</td>\n",
       "      <td>21.7</td>\n",
       "      <td>80</td>\n",
       "      <td>1.0</td>\n",
       "      <td>0.0</td>\n",
       "      <td>0.0</td>\n",
       "    </tr>\n",
       "    <tr>\n",
       "      <th>237</th>\n",
       "      <td>30.5</td>\n",
       "      <td>4</td>\n",
       "      <td>98.0</td>\n",
       "      <td>63.0</td>\n",
       "      <td>2051.0</td>\n",
       "      <td>17.0</td>\n",
       "      <td>77</td>\n",
       "      <td>0.0</td>\n",
       "      <td>0.0</td>\n",
       "      <td>1.0</td>\n",
       "    </tr>\n",
       "    <tr>\n",
       "      <th>333</th>\n",
       "      <td>32.7</td>\n",
       "      <td>6</td>\n",
       "      <td>168.0</td>\n",
       "      <td>132.0</td>\n",
       "      <td>2910.0</td>\n",
       "      <td>11.4</td>\n",
       "      <td>80</td>\n",
       "      <td>0.0</td>\n",
       "      <td>1.0</td>\n",
       "      <td>0.0</td>\n",
       "    </tr>\n",
       "    <tr>\n",
       "      <th>102</th>\n",
       "      <td>26.0</td>\n",
       "      <td>4</td>\n",
       "      <td>97.0</td>\n",
       "      <td>46.0</td>\n",
       "      <td>1950.0</td>\n",
       "      <td>21.0</td>\n",
       "      <td>73</td>\n",
       "      <td>1.0</td>\n",
       "      <td>0.0</td>\n",
       "      <td>0.0</td>\n",
       "    </tr>\n",
       "    <tr>\n",
       "      <th>269</th>\n",
       "      <td>30.9</td>\n",
       "      <td>4</td>\n",
       "      <td>105.0</td>\n",
       "      <td>75.0</td>\n",
       "      <td>2230.0</td>\n",
       "      <td>14.5</td>\n",
       "      <td>78</td>\n",
       "      <td>0.0</td>\n",
       "      <td>0.0</td>\n",
       "      <td>1.0</td>\n",
       "    </tr>\n",
       "  </tbody>\n",
       "</table>\n",
       "</div>"
      ],
      "text/plain": [
       "      MPG  Cylinders  Displacement  Horsepower  Weight  Acceleration  \\\n",
       "325  44.3          4          90.0        48.0  2085.0          21.7   \n",
       "237  30.5          4          98.0        63.0  2051.0          17.0   \n",
       "333  32.7          6         168.0       132.0  2910.0          11.4   \n",
       "102  26.0          4          97.0        46.0  1950.0          21.0   \n",
       "269  30.9          4         105.0        75.0  2230.0          14.5   \n",
       "\n",
       "     Model Year  Europe  Japan  USA  \n",
       "325          80     1.0    0.0  0.0  \n",
       "237          77     0.0    0.0  1.0  \n",
       "333          80     0.0    1.0  0.0  \n",
       "102          73     1.0    0.0  0.0  \n",
       "269          78     0.0    0.0  1.0  "
      ]
     },
     "execution_count": 24,
     "metadata": {},
     "output_type": "execute_result"
    }
   ],
   "source": [
    "test_features.head()"
   ]
  },
  {
   "cell_type": "markdown",
   "metadata": {},
   "source": [
    "### Magic!\n",
    "https://pandas.pydata.org/docs/reference/api/pandas.DataFrame.pop.html"
   ]
  },
  {
   "cell_type": "code",
   "execution_count": 25,
   "metadata": {
    "execution": {
     "iopub.execute_input": "2022-02-10T18:49:42.349683Z",
     "iopub.status.busy": "2022-02-10T18:49:42.349155Z",
     "iopub.status.idle": "2022-02-10T18:49:42.350883Z",
     "shell.execute_reply": "2022-02-10T18:49:42.351233Z"
    },
    "id": "t2sluJdCW7jN"
   },
   "outputs": [],
   "source": [
    "train_labels = train_features.pop('MPG')\n",
    "test_labels = test_features.pop('MPG')"
   ]
  },
  {
   "cell_type": "code",
   "execution_count": 26,
   "metadata": {},
   "outputs": [
    {
     "data": {
      "text/html": [
       "<div>\n",
       "<style scoped>\n",
       "    .dataframe tbody tr th:only-of-type {\n",
       "        vertical-align: middle;\n",
       "    }\n",
       "\n",
       "    .dataframe tbody tr th {\n",
       "        vertical-align: top;\n",
       "    }\n",
       "\n",
       "    .dataframe thead th {\n",
       "        text-align: right;\n",
       "    }\n",
       "</style>\n",
       "<table border=\"1\" class=\"dataframe\">\n",
       "  <thead>\n",
       "    <tr style=\"text-align: right;\">\n",
       "      <th></th>\n",
       "      <th>Cylinders</th>\n",
       "      <th>Displacement</th>\n",
       "      <th>Horsepower</th>\n",
       "      <th>Weight</th>\n",
       "      <th>Acceleration</th>\n",
       "      <th>Model Year</th>\n",
       "      <th>Europe</th>\n",
       "      <th>Japan</th>\n",
       "      <th>USA</th>\n",
       "    </tr>\n",
       "  </thead>\n",
       "  <tbody>\n",
       "    <tr>\n",
       "      <th>325</th>\n",
       "      <td>4</td>\n",
       "      <td>90.0</td>\n",
       "      <td>48.0</td>\n",
       "      <td>2085.0</td>\n",
       "      <td>21.7</td>\n",
       "      <td>80</td>\n",
       "      <td>1.0</td>\n",
       "      <td>0.0</td>\n",
       "      <td>0.0</td>\n",
       "    </tr>\n",
       "    <tr>\n",
       "      <th>237</th>\n",
       "      <td>4</td>\n",
       "      <td>98.0</td>\n",
       "      <td>63.0</td>\n",
       "      <td>2051.0</td>\n",
       "      <td>17.0</td>\n",
       "      <td>77</td>\n",
       "      <td>0.0</td>\n",
       "      <td>0.0</td>\n",
       "      <td>1.0</td>\n",
       "    </tr>\n",
       "    <tr>\n",
       "      <th>333</th>\n",
       "      <td>6</td>\n",
       "      <td>168.0</td>\n",
       "      <td>132.0</td>\n",
       "      <td>2910.0</td>\n",
       "      <td>11.4</td>\n",
       "      <td>80</td>\n",
       "      <td>0.0</td>\n",
       "      <td>1.0</td>\n",
       "      <td>0.0</td>\n",
       "    </tr>\n",
       "    <tr>\n",
       "      <th>102</th>\n",
       "      <td>4</td>\n",
       "      <td>97.0</td>\n",
       "      <td>46.0</td>\n",
       "      <td>1950.0</td>\n",
       "      <td>21.0</td>\n",
       "      <td>73</td>\n",
       "      <td>1.0</td>\n",
       "      <td>0.0</td>\n",
       "      <td>0.0</td>\n",
       "    </tr>\n",
       "    <tr>\n",
       "      <th>269</th>\n",
       "      <td>4</td>\n",
       "      <td>105.0</td>\n",
       "      <td>75.0</td>\n",
       "      <td>2230.0</td>\n",
       "      <td>14.5</td>\n",
       "      <td>78</td>\n",
       "      <td>0.0</td>\n",
       "      <td>0.0</td>\n",
       "      <td>1.0</td>\n",
       "    </tr>\n",
       "  </tbody>\n",
       "</table>\n",
       "</div>"
      ],
      "text/plain": [
       "     Cylinders  Displacement  Horsepower  Weight  Acceleration  Model Year  \\\n",
       "325          4          90.0        48.0  2085.0          21.7          80   \n",
       "237          4          98.0        63.0  2051.0          17.0          77   \n",
       "333          6         168.0       132.0  2910.0          11.4          80   \n",
       "102          4          97.0        46.0  1950.0          21.0          73   \n",
       "269          4         105.0        75.0  2230.0          14.5          78   \n",
       "\n",
       "     Europe  Japan  USA  \n",
       "325     1.0    0.0  0.0  \n",
       "237     0.0    0.0  1.0  \n",
       "333     0.0    1.0  0.0  \n",
       "102     1.0    0.0  0.0  \n",
       "269     0.0    0.0  1.0  "
      ]
     },
     "execution_count": 26,
     "metadata": {},
     "output_type": "execute_result"
    }
   ],
   "source": [
    "test_features.head()"
   ]
  },
  {
   "cell_type": "code",
   "execution_count": 27,
   "metadata": {},
   "outputs": [
    {
     "data": {
      "text/plain": [
       "Index(['Cylinders', 'Displacement', 'Horsepower', 'Weight', 'Acceleration',\n",
       "       'Model Year', 'Europe', 'Japan', 'USA'],\n",
       "      dtype='object')"
      ]
     },
     "execution_count": 27,
     "metadata": {},
     "output_type": "execute_result"
    }
   ],
   "source": [
    "train_features.columns"
   ]
  },
  {
   "cell_type": "code",
   "execution_count": 28,
   "metadata": {},
   "outputs": [
    {
     "data": {
      "text/plain": [
       "array([4, 6, 8, 5])"
      ]
     },
     "execution_count": 28,
     "metadata": {},
     "output_type": "execute_result"
    }
   ],
   "source": [
    "test_features.Cylinders.unique()"
   ]
  },
  {
   "cell_type": "code",
   "execution_count": 29,
   "metadata": {},
   "outputs": [],
   "source": [
    "name_features = ['Cylinders', 'Displacement', 'Horsepower', 'Weight', 'Acceleration', 'Europe', 'Japan', 'USA']"
   ]
  },
  {
   "cell_type": "code",
   "execution_count": 30,
   "metadata": {},
   "outputs": [],
   "source": [
    "name_features_num = ['Cylinders', 'Displacement', 'Horsepower', 'Weight', 'Acceleration']"
   ]
  },
  {
   "cell_type": "code",
   "execution_count": 31,
   "metadata": {},
   "outputs": [
    {
     "data": {
      "text/plain": [
       "325    44.3\n",
       "237    30.5\n",
       "333    32.7\n",
       "102    26.0\n",
       "269    30.9\n",
       "       ... \n",
       "170    23.0\n",
       "39     14.0\n",
       "123    20.0\n",
       "331    33.8\n",
       "187    17.5\n",
       "Name: MPG, Length: 98, dtype: float64"
      ]
     },
     "execution_count": 31,
     "metadata": {},
     "output_type": "execute_result"
    }
   ],
   "source": [
    "test_labels"
   ]
  },
  {
   "cell_type": "markdown",
   "metadata": {
    "id": "mRklxK5s388r"
   },
   "source": [
    "## Normalization\n",
    "\n",
    "In the table of statistics it's easy to see how different the ranges of each feature are:"
   ]
  },
  {
   "cell_type": "code",
   "execution_count": 32,
   "metadata": {
    "execution": {
     "iopub.execute_input": "2022-02-10T18:49:42.358614Z",
     "iopub.status.busy": "2022-02-10T18:49:42.356883Z",
     "iopub.status.idle": "2022-02-10T18:49:42.381740Z",
     "shell.execute_reply": "2022-02-10T18:49:42.382163Z"
    },
    "id": "IcmY6lKKbkw8"
   },
   "outputs": [
    {
     "data": {
      "text/html": [
       "<div>\n",
       "<style scoped>\n",
       "    .dataframe tbody tr th:only-of-type {\n",
       "        vertical-align: middle;\n",
       "    }\n",
       "\n",
       "    .dataframe tbody tr th {\n",
       "        vertical-align: top;\n",
       "    }\n",
       "\n",
       "    .dataframe thead th {\n",
       "        text-align: right;\n",
       "    }\n",
       "</style>\n",
       "<table border=\"1\" class=\"dataframe\">\n",
       "  <thead>\n",
       "    <tr style=\"text-align: right;\">\n",
       "      <th></th>\n",
       "      <th>mean</th>\n",
       "      <th>std</th>\n",
       "    </tr>\n",
       "  </thead>\n",
       "  <tbody>\n",
       "    <tr>\n",
       "      <th>MPG</th>\n",
       "      <td>23.530272</td>\n",
       "      <td>7.781851</td>\n",
       "    </tr>\n",
       "    <tr>\n",
       "      <th>Cylinders</th>\n",
       "      <td>5.428571</td>\n",
       "      <td>1.719195</td>\n",
       "    </tr>\n",
       "    <tr>\n",
       "      <th>Displacement</th>\n",
       "      <td>192.418367</td>\n",
       "      <td>104.822124</td>\n",
       "    </tr>\n",
       "    <tr>\n",
       "      <th>Horsepower</th>\n",
       "      <td>104.129252</td>\n",
       "      <td>37.889776</td>\n",
       "    </tr>\n",
       "    <tr>\n",
       "      <th>Weight</th>\n",
       "      <td>2956.421769</td>\n",
       "      <td>849.562911</td>\n",
       "    </tr>\n",
       "    <tr>\n",
       "      <th>Acceleration</th>\n",
       "      <td>15.517687</td>\n",
       "      <td>2.727379</td>\n",
       "    </tr>\n",
       "    <tr>\n",
       "      <th>Model Year</th>\n",
       "      <td>75.959184</td>\n",
       "      <td>3.722228</td>\n",
       "    </tr>\n",
       "    <tr>\n",
       "      <th>Europe</th>\n",
       "      <td>0.173469</td>\n",
       "      <td>0.379298</td>\n",
       "    </tr>\n",
       "    <tr>\n",
       "      <th>Japan</th>\n",
       "      <td>0.221088</td>\n",
       "      <td>0.415687</td>\n",
       "    </tr>\n",
       "    <tr>\n",
       "      <th>USA</th>\n",
       "      <td>0.605442</td>\n",
       "      <td>0.489589</td>\n",
       "    </tr>\n",
       "  </tbody>\n",
       "</table>\n",
       "</div>"
      ],
      "text/plain": [
       "                     mean         std\n",
       "MPG             23.530272    7.781851\n",
       "Cylinders        5.428571    1.719195\n",
       "Displacement   192.418367  104.822124\n",
       "Horsepower     104.129252   37.889776\n",
       "Weight        2956.421769  849.562911\n",
       "Acceleration    15.517687    2.727379\n",
       "Model Year      75.959184    3.722228\n",
       "Europe           0.173469    0.379298\n",
       "Japan            0.221088    0.415687\n",
       "USA              0.605442    0.489589"
      ]
     },
     "execution_count": 32,
     "metadata": {},
     "output_type": "execute_result"
    }
   ],
   "source": [
    "train_dataset.describe().transpose()[['mean', 'std']]"
   ]
  },
  {
   "cell_type": "markdown",
   "metadata": {
    "id": "-ywmerQ6dSox"
   },
   "source": [
    "* It is good practice to normalize features that use different scales and ranges.\n",
    "\n",
    "* One reason this is important is because the features are multiplied by the model weights. So, the scale of the outputs and the scale of the gradients are affected by the scale of the inputs.\n",
    "\n",
    "* Although a model *might* converge without feature normalization, normalization makes training much more stable.\n",
    "\n",
    "* Note: There is no advantage to normalizing the one-hot features—it is done here for simplicity. For more details on how to use the preprocessing layers, refer to the [Working with preprocessing layers](https://www.tensorflow.org/guide/keras/preprocessing_layers) guide and the [Classify structured data using Keras preprocessing layers](../structured_data/preprocessing_layers.ipynb) tutorial."
   ]
  },
  {
   "cell_type": "code",
   "execution_count": 33,
   "metadata": {},
   "outputs": [],
   "source": [
    "from sklearn.preprocessing import StandardScaler\n",
    "\n",
    "# Scale data to have mean 0 and variance 1 \n",
    "# This is importance for convergence of the neural network\n",
    "standard_scaler = StandardScaler()\n",
    "X_train = standard_scaler.fit_transform(train_features)\n",
    "X_test = standard_scaler.fit_transform(test_features)"
   ]
  },
  {
   "cell_type": "code",
   "execution_count": 34,
   "metadata": {},
   "outputs": [
    {
     "data": {
      "text/plain": [
       "array([ 1.498,  1.984,  2.27 ,  1.728, -1.108, -1.065, -0.458, -0.533,\n",
       "        0.807])"
      ]
     },
     "execution_count": 34,
     "metadata": {},
     "output_type": "execute_result"
    }
   ],
   "source": [
    "X_train[0,:]"
   ]
  },
  {
   "cell_type": "code",
   "execution_count": 35,
   "metadata": {},
   "outputs": [
    {
     "data": {
      "text/plain": [
       "(numpy.ndarray, numpy.ndarray, (294, 9), (98, 9))"
      ]
     },
     "execution_count": 35,
     "metadata": {},
     "output_type": "execute_result"
    }
   ],
   "source": [
    "type(X_train), type(X_test), X_train.shape, X_test.shape"
   ]
  },
  {
   "cell_type": "code",
   "execution_count": 36,
   "metadata": {},
   "outputs": [
    {
     "data": {
      "text/plain": [
       "(numpy.ndarray, numpy.ndarray, (294,), (98,))"
      ]
     },
     "execution_count": 36,
     "metadata": {},
     "output_type": "execute_result"
    }
   ],
   "source": [
    "Y_train = train_labels.values\n",
    "Y_test = test_labels.values\n",
    "type(Y_train), type(Y_test), Y_train.shape, Y_test.shape"
   ]
  },
  {
   "cell_type": "code",
   "execution_count": 37,
   "metadata": {},
   "outputs": [
    {
     "data": {
      "text/plain": [
       "9"
      ]
     },
     "execution_count": 37,
     "metadata": {},
     "output_type": "execute_result"
    }
   ],
   "source": [
    "X_train.shape[1]"
   ]
  },
  {
   "cell_type": "code",
   "execution_count": 38,
   "metadata": {},
   "outputs": [
    {
     "data": {
      "text/plain": [
       "array([13. , 18. , 19.1, 11. , 13. , 28. , 22. , 21.5, 14. , 34.7, 13. ,\n",
       "       28. , 20.2, 34.5, 33. , 14. , 33. , 23.9, 11. , 26.6, 25.5, 28.4,\n",
       "       26. , 19. , 37.3, 24. , 18.1, 29.9, 19.8, 22. , 27.2, 13. , 27.5,\n",
       "       26. , 36. , 13. , 17. , 38. , 34. , 13. , 33.5, 10. , 28.1, 28. ,\n",
       "       18. , 32. , 32. , 20.6,  9. , 29.8, 16. , 25. , 36.4, 20. , 23.8,\n",
       "       18.5, 20. , 31.6, 18. , 39.1, 20.5, 16.5, 13. , 15. , 31. , 13. ,\n",
       "       21. , 21. , 34. , 15. , 32.8, 22. , 26. , 28. , 14. , 35.7, 15. ,\n",
       "       25. , 32.1, 37. , 34.1, 26.5, 15. , 28. , 15. , 18. , 19.2, 16. ,\n",
       "       24. , 14. , 35. , 33.5, 25. , 37. , 39. , 25. , 13. , 33. , 21. ,\n",
       "       28. , 23. , 29. , 36. , 20.5, 17. , 18.1, 29.8, 31.8, 44. , 23. ,\n",
       "       19. , 24. , 36.1, 25. , 13. , 31. , 28. , 31.5, 25. , 26. , 17. ,\n",
       "       24.5, 24. , 11. , 21.1, 26. , 14. , 26. , 24. , 32.3, 13. , 22.3,\n",
       "       37. , 23. , 11. , 17.5, 30. , 36. , 32.2, 18. , 13. , 19.9, 16. ,\n",
       "       21.5, 14. , 16. , 34.3, 29. , 20.8, 12. , 30.7, 16. , 18. , 25.1,\n",
       "       13. , 13. , 12. , 14. , 19.4, 15. , 15. , 32.4, 16. , 31. , 20. ,\n",
       "       27. , 14. , 21.6, 27. , 14. , 23.5, 27. , 26. , 19.2, 20.6, 34.1,\n",
       "       18. , 29. , 29.5, 13. , 13. , 24.3, 22. , 35. , 16. , 21.5, 32.9,\n",
       "       19. , 24. , 14. , 18. , 26.6, 25. , 28.8, 24. , 20.5, 22. , 15. ,\n",
       "       25. , 29.5, 20. , 26.8, 19. , 32. , 25.5, 28. , 28. , 23. , 33.5,\n",
       "       46.6, 31. , 19. , 27. , 19. , 26. , 18.2, 39.4, 23. , 44.6, 25.4,\n",
       "       17. , 15.5, 15.5, 14. , 14. , 27.4, 21. , 13. , 36. , 22.4, 24.2,\n",
       "       26. , 17.6, 29. , 20.3, 20. , 12. , 18. , 17.7, 16. , 18.6, 21. ,\n",
       "       24. , 35.1, 15. , 43.4, 13. , 12. , 30. , 24. , 38. , 14. , 32. ,\n",
       "       18. , 19. , 16.5, 19. , 24. , 31.5, 17. , 31. , 26. , 32. , 15. ,\n",
       "       38. , 18.5, 33.7, 15. , 19. , 14. , 27. , 23.7, 23.9, 16. , 29. ,\n",
       "       29. , 26. , 20. , 18. , 30. , 37.2, 23.2, 30. , 27.2, 17. , 38. ,\n",
       "       19.4, 17.6, 16. , 18. , 22. , 31.9, 27. , 32. ])"
      ]
     },
     "execution_count": 38,
     "metadata": {},
     "output_type": "execute_result"
    }
   ],
   "source": [
    "Y_train"
   ]
  },
  {
   "cell_type": "markdown",
   "metadata": {},
   "source": [
    "### Another way to normalize and put them back into a dataframe:\n",
    "```python\n",
    "scaler = StandardScaler()\n",
    "scaler.fit(train_features[name_features])\n",
    "scaled = scaler.fit_transform(train_features[name_features])\n",
    "scaled_df = pd.DataFrame(scaled, columns=train_features[name_features].columns)\n",
    "```"
   ]
  },
  {
   "cell_type": "markdown",
   "metadata": {
    "id": "4NVlHJY2TWlC"
   },
   "source": [
    "## Linear regression\n",
    "\n",
    "Build the Keras Sequential model.\n",
    "\n",
    "Look for examples in the documentation:\n",
    "\n",
    "https://www.tensorflow.org/api_docs/python/tf/keras/Sequential"
   ]
  },
  {
   "cell_type": "code",
   "execution_count": 39,
   "metadata": {},
   "outputs": [],
   "source": [
    "model = Sequential()"
   ]
  },
  {
   "cell_type": "code",
   "execution_count": 40,
   "metadata": {},
   "outputs": [
    {
     "data": {
      "text/plain": [
       "[9]"
      ]
     },
     "execution_count": 40,
     "metadata": {},
     "output_type": "execute_result"
    }
   ],
   "source": [
    "[X_train.shape[1]]"
   ]
  },
  {
   "cell_type": "markdown",
   "metadata": {},
   "source": [
    "### FIRST hidden layer in the network"
   ]
  },
  {
   "cell_type": "code",
   "execution_count": 41,
   "metadata": {},
   "outputs": [
    {
     "name": "stderr",
     "output_type": "stream",
     "text": [
      "2022-05-14 14:56:30.497945: I tensorflow/core/platform/cpu_feature_guard.cc:145] This TensorFlow binary is optimized with Intel(R) MKL-DNN to use the following CPU instructions in performance critical operations:  SSE4.1 SSE4.2\n",
      "To enable them in non-MKL-DNN operations, rebuild TensorFlow with the appropriate compiler flags.\n",
      "2022-05-14 14:56:30.498649: I tensorflow/core/common_runtime/process_util.cc:115] Creating new thread pool with default inter op setting: 10. Tune using inter_op_parallelism_threads for best performance.\n"
     ]
    }
   ],
   "source": [
    "model.add(Dense(units=8, \n",
    "                activation='relu', \n",
    "                kernel_initializer='random_normal',\n",
    "                input_shape=[X_train.shape[1]]\n",
    "               )\n",
    "         )"
   ]
  },
  {
   "cell_type": "markdown",
   "metadata": {},
   "source": [
    "### SECOND hidden layer in the network"
   ]
  },
  {
   "cell_type": "code",
   "execution_count": 42,
   "metadata": {},
   "outputs": [],
   "source": [
    "model.add(Dense(units=32, \n",
    "                activation='relu', \n",
    "                kernel_initializer='random_normal'\n",
    "               )\n",
    "         )"
   ]
  },
  {
   "cell_type": "markdown",
   "metadata": {},
   "source": [
    "### THIRD hidden layer in the network"
   ]
  },
  {
   "cell_type": "code",
   "execution_count": 43,
   "metadata": {},
   "outputs": [],
   "source": [
    "model.add(Dense(units=16, \n",
    "                activation='relu', \n",
    "                kernel_initializer='random_normal'\n",
    "               )\n",
    "         )"
   ]
  },
  {
   "cell_type": "markdown",
   "metadata": {},
   "source": [
    "### OUTPUT layer in the network\n",
    "\n",
    "* The output layer must have only one neuron since this is a regression case"
   ]
  },
  {
   "cell_type": "code",
   "execution_count": 44,
   "metadata": {},
   "outputs": [],
   "source": [
    "model.add(Dense(units=1))"
   ]
  },
  {
   "cell_type": "markdown",
   "metadata": {},
   "source": [
    "#### Display the flowchart of model\n",
    "\n",
    "```python\n",
    "tf.keras.utils.plot_model(model, show_shapes=True)\n",
    "```"
   ]
  },
  {
   "cell_type": "code",
   "execution_count": 45,
   "metadata": {},
   "outputs": [
    {
     "name": "stdout",
     "output_type": "stream",
     "text": [
      "Model: \"sequential\"\n",
      "_________________________________________________________________\n",
      "Layer (type)                 Output Shape              Param #   \n",
      "=================================================================\n",
      "dense (Dense)                (None, 8)                 80        \n",
      "_________________________________________________________________\n",
      "dense_1 (Dense)              (None, 32)                288       \n",
      "_________________________________________________________________\n",
      "dense_2 (Dense)              (None, 16)                528       \n",
      "_________________________________________________________________\n",
      "dense_3 (Dense)              (None, 1)                 17        \n",
      "=================================================================\n",
      "Total params: 913\n",
      "Trainable params: 913\n",
      "Non-trainable params: 0\n",
      "_________________________________________________________________\n"
     ]
    }
   ],
   "source": [
    "model.summary()"
   ]
  },
  {
   "cell_type": "markdown",
   "metadata": {
    "id": "CSkanJlmmFBX"
   },
   "source": [
    "## Model Configuration\n",
    "\n",
    "Once the model is built, configure the training procedure using the Keras `Model.compile` method. The most important arguments to compile are the `loss` and the `optimizer`, since these define what will be optimized (`mean_absolute_error`) and how (using the `tf.keras.optimizers.Adam`)."
   ]
  },
  {
   "cell_type": "raw",
   "metadata": {},
   "source": [
    "model.compile(optimizer='adam', #  sgd\n",
    "              loss='mse', \n",
    "              metrics=['mse', 'mae']\n",
    "             )"
   ]
  },
  {
   "cell_type": "code",
   "execution_count": 46,
   "metadata": {},
   "outputs": [],
   "source": [
    "model.compile(optimizer=tf.optimizers.Adam(learning_rate=0.1),\n",
    "              loss='mean_absolute_error', \n",
    "              metrics=['accuracy', 'mse', 'mae']\n",
    "             )"
   ]
  },
  {
   "cell_type": "markdown",
   "metadata": {},
   "source": [
    "### Early Stop Configuration"
   ]
  },
  {
   "cell_type": "code",
   "execution_count": 47,
   "metadata": {},
   "outputs": [],
   "source": [
    "early_stop = tf.keras.callbacks.EarlyStopping(monitor='val_loss', patience=50)"
   ]
  },
  {
   "cell_type": "code",
   "execution_count": 48,
   "metadata": {},
   "outputs": [
    {
     "data": {
      "text/plain": [
       "((294, 9), (294,))"
      ]
     },
     "execution_count": 48,
     "metadata": {},
     "output_type": "execute_result"
    }
   ],
   "source": [
    "X_train.shape, Y_train.shape"
   ]
  },
  {
   "cell_type": "markdown",
   "metadata": {
    "id": "Z3q1I9TwnRSC"
   },
   "source": [
    "Use Keras `Model.fit` to execute the training for 100 epochs:"
   ]
  },
  {
   "cell_type": "code",
   "execution_count": 49,
   "metadata": {
    "execution": {
     "iopub.execute_input": "2022-02-10T18:49:44.333554Z",
     "iopub.status.busy": "2022-02-10T18:49:44.332907Z",
     "iopub.status.idle": "2022-02-10T18:49:44.360967Z",
     "shell.execute_reply": "2022-02-10T18:49:44.359129Z"
    },
    "id": "c0sXM7qLlKfZ",
    "scrolled": true
   },
   "outputs": [
    {
     "name": "stdout",
     "output_type": "stream",
     "text": [
      "Train on 235 samples, validate on 59 samples\n",
      "Epoch 1/1000\n",
      "235/235 [==============================] - 1s 3ms/sample - loss: 5.6330 - accuracy: 0.0000e+00 - mse: 65.2700 - mae: 5.6330 - val_loss: 2.8223 - val_accuracy: 0.0000e+00 - val_mse: 14.1720 - val_mae: 2.8223\n",
      "Epoch 2/1000\n",
      "235/235 [==============================] - 0s 336us/sample - loss: 5.0119 - accuracy: 0.0000e+00 - mse: 43.8258 - mae: 5.0119 - val_loss: 4.0066 - val_accuracy: 0.0000e+00 - val_mse: 22.5874 - val_mae: 4.0066\n",
      "Epoch 3/1000\n",
      "235/235 [==============================] - 0s 326us/sample - loss: 4.2616 - accuracy: 0.0000e+00 - mse: 29.3151 - mae: 4.2616 - val_loss: 4.8600 - val_accuracy: 0.0000e+00 - val_mse: 32.3302 - val_mae: 4.8600\n",
      "Epoch 4/1000\n",
      "235/235 [==============================] - 0s 324us/sample - loss: 3.4361 - accuracy: 0.0000e+00 - mse: 22.3882 - mae: 3.4361 - val_loss: 2.5090 - val_accuracy: 0.0000e+00 - val_mse: 10.0047 - val_mae: 2.5090\n",
      "Epoch 5/1000\n",
      "235/235 [==============================] - 0s 322us/sample - loss: 5.0620 - accuracy: 0.0000e+00 - mse: 44.6493 - mae: 5.0620 - val_loss: 3.7821 - val_accuracy: 0.0000e+00 - val_mse: 25.7115 - val_mae: 3.7821\n",
      "Epoch 6/1000\n",
      "235/235 [==============================] - 0s 321us/sample - loss: 5.6066 - accuracy: 0.0000e+00 - mse: 58.7745 - mae: 5.6066 - val_loss: 4.5967 - val_accuracy: 0.0000e+00 - val_mse: 33.0731 - val_mae: 4.5967\n",
      "Epoch 7/1000\n",
      "235/235 [==============================] - 0s 324us/sample - loss: 4.1173 - accuracy: 0.0000e+00 - mse: 28.5873 - mae: 4.1173 - val_loss: 4.4109 - val_accuracy: 0.0000e+00 - val_mse: 28.3545 - val_mae: 4.4109\n",
      "Epoch 8/1000\n",
      "235/235 [==============================] - 0s 320us/sample - loss: 3.2757 - accuracy: 0.0000e+00 - mse: 18.9243 - mae: 3.2757 - val_loss: 3.0937 - val_accuracy: 0.0000e+00 - val_mse: 16.7058 - val_mae: 3.0937\n",
      "Epoch 9/1000\n",
      "235/235 [==============================] - 0s 318us/sample - loss: 3.7429 - accuracy: 0.0000e+00 - mse: 24.5722 - mae: 3.7429 - val_loss: 3.0674 - val_accuracy: 0.0000e+00 - val_mse: 16.9963 - val_mae: 3.0674\n",
      "Epoch 10/1000\n",
      "235/235 [==============================] - 0s 315us/sample - loss: 2.7207 - accuracy: 0.0000e+00 - mse: 13.6316 - mae: 2.7207 - val_loss: 2.2839 - val_accuracy: 0.0000e+00 - val_mse: 9.6706 - val_mae: 2.2839\n",
      "Epoch 11/1000\n",
      "235/235 [==============================] - 0s 313us/sample - loss: 2.9917 - accuracy: 0.0000e+00 - mse: 15.9255 - mae: 2.9917 - val_loss: 2.2346 - val_accuracy: 0.0000e+00 - val_mse: 9.1246 - val_mae: 2.2346\n",
      "Epoch 12/1000\n",
      "235/235 [==============================] - 0s 308us/sample - loss: 2.3267 - accuracy: 0.0000e+00 - mse: 10.6416 - mae: 2.3267 - val_loss: 2.2105 - val_accuracy: 0.0000e+00 - val_mse: 10.7400 - val_mae: 2.2105\n",
      "Epoch 13/1000\n",
      "235/235 [==============================] - 0s 310us/sample - loss: 3.0423 - accuracy: 0.0000e+00 - mse: 17.0890 - mae: 3.0423 - val_loss: 2.5688 - val_accuracy: 0.0000e+00 - val_mse: 13.0071 - val_mae: 2.5688\n",
      "Epoch 14/1000\n",
      "235/235 [==============================] - 0s 311us/sample - loss: 2.4309 - accuracy: 0.0000e+00 - mse: 10.6900 - mae: 2.4309 - val_loss: 2.4677 - val_accuracy: 0.0000e+00 - val_mse: 9.9282 - val_mae: 2.4677\n",
      "Epoch 15/1000\n",
      "235/235 [==============================] - 0s 310us/sample - loss: 2.5599 - accuracy: 0.0000e+00 - mse: 11.9878 - mae: 2.5599 - val_loss: 2.3784 - val_accuracy: 0.0000e+00 - val_mse: 12.0823 - val_mae: 2.3784\n",
      "Epoch 16/1000\n",
      "235/235 [==============================] - 0s 313us/sample - loss: 2.8289 - accuracy: 0.0000e+00 - mse: 15.0197 - mae: 2.8289 - val_loss: 2.9687 - val_accuracy: 0.0000e+00 - val_mse: 14.9757 - val_mae: 2.9687\n",
      "Epoch 17/1000\n",
      "235/235 [==============================] - 0s 314us/sample - loss: 2.3422 - accuracy: 0.0000e+00 - mse: 9.9520 - mae: 2.3422 - val_loss: 5.5893 - val_accuracy: 0.0000e+00 - val_mse: 49.6455 - val_mae: 5.5893\n",
      "Epoch 18/1000\n",
      "235/235 [==============================] - 0s 310us/sample - loss: 2.8897 - accuracy: 0.0000e+00 - mse: 15.2294 - mae: 2.8897 - val_loss: 2.7450 - val_accuracy: 0.0000e+00 - val_mse: 12.0961 - val_mae: 2.7450\n",
      "Epoch 19/1000\n",
      "235/235 [==============================] - 0s 311us/sample - loss: 2.5257 - accuracy: 0.0000e+00 - mse: 11.8476 - mae: 2.5257 - val_loss: 2.0028 - val_accuracy: 0.0000e+00 - val_mse: 8.7087 - val_mae: 2.0028\n",
      "Epoch 20/1000\n",
      "235/235 [==============================] - 0s 317us/sample - loss: 2.4722 - accuracy: 0.0000e+00 - mse: 10.0253 - mae: 2.4722 - val_loss: 2.2907 - val_accuracy: 0.0000e+00 - val_mse: 9.9507 - val_mae: 2.2907\n",
      "Epoch 21/1000\n",
      "235/235 [==============================] - 0s 312us/sample - loss: 3.0826 - accuracy: 0.0000e+00 - mse: 17.9785 - mae: 3.0826 - val_loss: 3.0625 - val_accuracy: 0.0000e+00 - val_mse: 15.8659 - val_mae: 3.0625\n",
      "Epoch 22/1000\n",
      "235/235 [==============================] - 0s 308us/sample - loss: 2.6717 - accuracy: 0.0000e+00 - mse: 13.2872 - mae: 2.6717 - val_loss: 3.2264 - val_accuracy: 0.0000e+00 - val_mse: 17.1869 - val_mae: 3.2264\n",
      "Epoch 23/1000\n",
      "235/235 [==============================] - 0s 310us/sample - loss: 2.4410 - accuracy: 0.0000e+00 - mse: 11.1829 - mae: 2.4410 - val_loss: 2.6025 - val_accuracy: 0.0000e+00 - val_mse: 11.3417 - val_mae: 2.6025\n",
      "Epoch 24/1000\n",
      "235/235 [==============================] - 0s 311us/sample - loss: 3.0384 - accuracy: 0.0000e+00 - mse: 16.2019 - mae: 3.0384 - val_loss: 2.0987 - val_accuracy: 0.0000e+00 - val_mse: 7.2354 - val_mae: 2.0987\n",
      "Epoch 25/1000\n",
      "235/235 [==============================] - 0s 314us/sample - loss: 2.3309 - accuracy: 0.0000e+00 - mse: 10.4096 - mae: 2.3309 - val_loss: 2.7762 - val_accuracy: 0.0000e+00 - val_mse: 13.4090 - val_mae: 2.7762\n",
      "Epoch 26/1000\n",
      "235/235 [==============================] - 0s 315us/sample - loss: 2.2096 - accuracy: 0.0000e+00 - mse: 9.9033 - mae: 2.2096 - val_loss: 2.2736 - val_accuracy: 0.0000e+00 - val_mse: 8.7926 - val_mae: 2.2736\n",
      "Epoch 27/1000\n",
      "235/235 [==============================] - 0s 310us/sample - loss: 2.4391 - accuracy: 0.0000e+00 - mse: 11.0889 - mae: 2.4391 - val_loss: 2.1042 - val_accuracy: 0.0000e+00 - val_mse: 9.2817 - val_mae: 2.1042\n",
      "Epoch 28/1000\n",
      "235/235 [==============================] - 0s 312us/sample - loss: 2.6849 - accuracy: 0.0000e+00 - mse: 13.6809 - mae: 2.6849 - val_loss: 2.3001 - val_accuracy: 0.0000e+00 - val_mse: 9.8280 - val_mae: 2.3001\n",
      "Epoch 29/1000\n",
      "235/235 [==============================] - 0s 309us/sample - loss: 2.7760 - accuracy: 0.0000e+00 - mse: 14.0269 - mae: 2.7760 - val_loss: 2.0663 - val_accuracy: 0.0000e+00 - val_mse: 7.8217 - val_mae: 2.0663\n",
      "Epoch 30/1000\n",
      "235/235 [==============================] - 0s 311us/sample - loss: 2.2860 - accuracy: 0.0000e+00 - mse: 10.1298 - mae: 2.2860 - val_loss: 2.4185 - val_accuracy: 0.0000e+00 - val_mse: 10.8895 - val_mae: 2.4185\n",
      "Epoch 31/1000\n",
      "235/235 [==============================] - 0s 311us/sample - loss: 2.4937 - accuracy: 0.0000e+00 - mse: 12.4877 - mae: 2.4937 - val_loss: 2.0216 - val_accuracy: 0.0000e+00 - val_mse: 7.4501 - val_mae: 2.0216\n",
      "Epoch 32/1000\n",
      "235/235 [==============================] - 0s 314us/sample - loss: 2.3281 - accuracy: 0.0000e+00 - mse: 9.8297 - mae: 2.3281 - val_loss: 2.0103 - val_accuracy: 0.0000e+00 - val_mse: 7.6037 - val_mae: 2.0103\n",
      "Epoch 33/1000\n",
      "235/235 [==============================] - 0s 312us/sample - loss: 2.1489 - accuracy: 0.0000e+00 - mse: 9.3212 - mae: 2.1489 - val_loss: 2.0029 - val_accuracy: 0.0000e+00 - val_mse: 8.2684 - val_mae: 2.0029\n",
      "Epoch 34/1000\n",
      "235/235 [==============================] - 0s 320us/sample - loss: 2.6317 - accuracy: 0.0000e+00 - mse: 13.7172 - mae: 2.6317 - val_loss: 2.1000 - val_accuracy: 0.0000e+00 - val_mse: 8.1920 - val_mae: 2.1000\n",
      "Epoch 35/1000\n",
      "235/235 [==============================] - 0s 314us/sample - loss: 2.9814 - accuracy: 0.0000e+00 - mse: 17.1861 - mae: 2.9814 - val_loss: 3.4246 - val_accuracy: 0.0000e+00 - val_mse: 19.0864 - val_mae: 3.4246\n",
      "Epoch 36/1000\n",
      "235/235 [==============================] - 0s 317us/sample - loss: 2.6338 - accuracy: 0.0000e+00 - mse: 13.2598 - mae: 2.6338 - val_loss: 2.5459 - val_accuracy: 0.0000e+00 - val_mse: 11.1766 - val_mae: 2.5459\n",
      "Epoch 37/1000\n",
      "235/235 [==============================] - 0s 313us/sample - loss: 2.7741 - accuracy: 0.0000e+00 - mse: 14.4280 - mae: 2.7741 - val_loss: 3.1569 - val_accuracy: 0.0000e+00 - val_mse: 15.2206 - val_mae: 3.1569\n"
     ]
    },
    {
     "name": "stdout",
     "output_type": "stream",
     "text": [
      "Epoch 38/1000\n",
      "235/235 [==============================] - 0s 317us/sample - loss: 2.4161 - accuracy: 0.0000e+00 - mse: 11.4717 - mae: 2.4161 - val_loss: 2.3189 - val_accuracy: 0.0000e+00 - val_mse: 11.1375 - val_mae: 2.3189\n",
      "Epoch 39/1000\n",
      "235/235 [==============================] - 0s 310us/sample - loss: 2.5378 - accuracy: 0.0000e+00 - mse: 11.9791 - mae: 2.5378 - val_loss: 2.2397 - val_accuracy: 0.0000e+00 - val_mse: 8.5469 - val_mae: 2.2397\n",
      "Epoch 40/1000\n",
      "235/235 [==============================] - 0s 312us/sample - loss: 2.4342 - accuracy: 0.0000e+00 - mse: 10.7095 - mae: 2.4342 - val_loss: 2.1000 - val_accuracy: 0.0000e+00 - val_mse: 8.9257 - val_mae: 2.1000\n",
      "Epoch 41/1000\n",
      "235/235 [==============================] - 0s 315us/sample - loss: 2.2327 - accuracy: 0.0000e+00 - mse: 9.6091 - mae: 2.2327 - val_loss: 2.1679 - val_accuracy: 0.0000e+00 - val_mse: 7.9301 - val_mae: 2.1679\n",
      "Epoch 42/1000\n",
      "235/235 [==============================] - 0s 311us/sample - loss: 2.4182 - accuracy: 0.0000e+00 - mse: 12.1324 - mae: 2.4182 - val_loss: 1.8911 - val_accuracy: 0.0000e+00 - val_mse: 8.0873 - val_mae: 1.8911\n",
      "Epoch 43/1000\n",
      "235/235 [==============================] - 0s 311us/sample - loss: 2.1521 - accuracy: 0.0000e+00 - mse: 9.3231 - mae: 2.1521 - val_loss: 2.4341 - val_accuracy: 0.0000e+00 - val_mse: 9.2787 - val_mae: 2.4341\n",
      "Epoch 44/1000\n",
      "235/235 [==============================] - 0s 313us/sample - loss: 2.3076 - accuracy: 0.0000e+00 - mse: 10.3610 - mae: 2.3076 - val_loss: 2.1772 - val_accuracy: 0.0000e+00 - val_mse: 7.7909 - val_mae: 2.1772\n",
      "Epoch 45/1000\n",
      "235/235 [==============================] - 0s 311us/sample - loss: 2.3952 - accuracy: 0.0000e+00 - mse: 10.5999 - mae: 2.3952 - val_loss: 3.1055 - val_accuracy: 0.0000e+00 - val_mse: 15.7144 - val_mae: 3.1055\n",
      "Epoch 46/1000\n",
      "235/235 [==============================] - 0s 311us/sample - loss: 2.1717 - accuracy: 0.0000e+00 - mse: 9.7916 - mae: 2.1717 - val_loss: 2.1876 - val_accuracy: 0.0000e+00 - val_mse: 8.6746 - val_mae: 2.1876\n",
      "Epoch 47/1000\n",
      "235/235 [==============================] - 0s 312us/sample - loss: 2.3056 - accuracy: 0.0000e+00 - mse: 10.2672 - mae: 2.3056 - val_loss: 2.2805 - val_accuracy: 0.0000e+00 - val_mse: 10.5614 - val_mae: 2.2805\n",
      "Epoch 48/1000\n",
      "235/235 [==============================] - 0s 317us/sample - loss: 2.1881 - accuracy: 0.0000e+00 - mse: 9.2645 - mae: 2.1881 - val_loss: 3.7115 - val_accuracy: 0.0000e+00 - val_mse: 22.6452 - val_mae: 3.7115\n",
      "Epoch 49/1000\n",
      "235/235 [==============================] - 0s 489us/sample - loss: 2.3078 - accuracy: 0.0000e+00 - mse: 10.3160 - mae: 2.3078 - val_loss: 2.4657 - val_accuracy: 0.0000e+00 - val_mse: 10.9693 - val_mae: 2.4657\n",
      "Epoch 50/1000\n",
      "235/235 [==============================] - 0s 311us/sample - loss: 2.5212 - accuracy: 0.0000e+00 - mse: 12.1643 - mae: 2.5212 - val_loss: 2.2833 - val_accuracy: 0.0000e+00 - val_mse: 9.6814 - val_mae: 2.2833\n",
      "Epoch 51/1000\n",
      "235/235 [==============================] - 0s 313us/sample - loss: 2.5389 - accuracy: 0.0000e+00 - mse: 12.1118 - mae: 2.5389 - val_loss: 2.0398 - val_accuracy: 0.0000e+00 - val_mse: 6.8363 - val_mae: 2.0398\n",
      "Epoch 52/1000\n",
      "235/235 [==============================] - 0s 314us/sample - loss: 2.2247 - accuracy: 0.0000e+00 - mse: 9.2612 - mae: 2.2247 - val_loss: 2.1837 - val_accuracy: 0.0000e+00 - val_mse: 8.6101 - val_mae: 2.1837\n",
      "Epoch 53/1000\n",
      "235/235 [==============================] - 0s 309us/sample - loss: 2.5599 - accuracy: 0.0000e+00 - mse: 12.3483 - mae: 2.5599 - val_loss: 3.4542 - val_accuracy: 0.0000e+00 - val_mse: 22.0704 - val_mae: 3.4542\n",
      "Epoch 54/1000\n",
      "235/235 [==============================] - 0s 308us/sample - loss: 2.2900 - accuracy: 0.0000e+00 - mse: 9.5934 - mae: 2.2900 - val_loss: 3.6407 - val_accuracy: 0.0000e+00 - val_mse: 23.5732 - val_mae: 3.6407\n",
      "Epoch 55/1000\n",
      "235/235 [==============================] - 0s 312us/sample - loss: 2.6618 - accuracy: 0.0000e+00 - mse: 13.1316 - mae: 2.6618 - val_loss: 2.2412 - val_accuracy: 0.0000e+00 - val_mse: 7.9252 - val_mae: 2.2412\n",
      "Epoch 56/1000\n",
      "235/235 [==============================] - 0s 314us/sample - loss: 2.5441 - accuracy: 0.0000e+00 - mse: 11.6288 - mae: 2.5441 - val_loss: 3.6148 - val_accuracy: 0.0000e+00 - val_mse: 23.5588 - val_mae: 3.6148\n",
      "Epoch 57/1000\n",
      "235/235 [==============================] - 0s 315us/sample - loss: 2.4555 - accuracy: 0.0000e+00 - mse: 11.7397 - mae: 2.4555 - val_loss: 2.1050 - val_accuracy: 0.0000e+00 - val_mse: 7.7882 - val_mae: 2.1050\n",
      "Epoch 58/1000\n",
      "235/235 [==============================] - 0s 313us/sample - loss: 2.5273 - accuracy: 0.0000e+00 - mse: 11.6126 - mae: 2.5273 - val_loss: 3.2570 - val_accuracy: 0.0000e+00 - val_mse: 17.8532 - val_mae: 3.2570\n",
      "Epoch 59/1000\n",
      "235/235 [==============================] - 0s 313us/sample - loss: 2.2518 - accuracy: 0.0000e+00 - mse: 9.8683 - mae: 2.2518 - val_loss: 2.3024 - val_accuracy: 0.0000e+00 - val_mse: 9.7394 - val_mae: 2.3024\n",
      "Epoch 60/1000\n",
      "235/235 [==============================] - 0s 310us/sample - loss: 2.2104 - accuracy: 0.0000e+00 - mse: 8.7498 - mae: 2.2104 - val_loss: 2.0947 - val_accuracy: 0.0000e+00 - val_mse: 7.4573 - val_mae: 2.0947\n",
      "Epoch 61/1000\n",
      "235/235 [==============================] - 0s 311us/sample - loss: 2.2193 - accuracy: 0.0000e+00 - mse: 9.8329 - mae: 2.2193 - val_loss: 2.5021 - val_accuracy: 0.0000e+00 - val_mse: 11.6510 - val_mae: 2.5021\n",
      "Epoch 62/1000\n",
      "235/235 [==============================] - 0s 312us/sample - loss: 2.4305 - accuracy: 0.0000e+00 - mse: 11.7077 - mae: 2.4305 - val_loss: 3.9245 - val_accuracy: 0.0000e+00 - val_mse: 24.0628 - val_mae: 3.9245\n",
      "Epoch 63/1000\n",
      "235/235 [==============================] - 0s 315us/sample - loss: 2.4895 - accuracy: 0.0000e+00 - mse: 12.1446 - mae: 2.4895 - val_loss: 2.4689 - val_accuracy: 0.0000e+00 - val_mse: 11.9662 - val_mae: 2.4689\n",
      "Epoch 64/1000\n",
      "235/235 [==============================] - 0s 313us/sample - loss: 2.3930 - accuracy: 0.0000e+00 - mse: 10.8058 - mae: 2.3930 - val_loss: 2.4922 - val_accuracy: 0.0000e+00 - val_mse: 10.3361 - val_mae: 2.4922\n",
      "Epoch 65/1000\n",
      "235/235 [==============================] - 0s 309us/sample - loss: 2.3875 - accuracy: 0.0000e+00 - mse: 10.1568 - mae: 2.3875 - val_loss: 3.2393 - val_accuracy: 0.0000e+00 - val_mse: 18.3118 - val_mae: 3.2393\n",
      "Epoch 66/1000\n",
      "235/235 [==============================] - 0s 316us/sample - loss: 2.3754 - accuracy: 0.0000e+00 - mse: 11.1075 - mae: 2.3754 - val_loss: 2.6188 - val_accuracy: 0.0000e+00 - val_mse: 12.4539 - val_mae: 2.6188\n",
      "Epoch 67/1000\n",
      "235/235 [==============================] - 0s 313us/sample - loss: 2.1631 - accuracy: 0.0000e+00 - mse: 9.2210 - mae: 2.1631 - val_loss: 2.0543 - val_accuracy: 0.0000e+00 - val_mse: 7.5538 - val_mae: 2.0543\n",
      "Epoch 68/1000\n",
      "235/235 [==============================] - 0s 310us/sample - loss: 2.3700 - accuracy: 0.0000e+00 - mse: 10.4340 - mae: 2.3700 - val_loss: 3.7877 - val_accuracy: 0.0000e+00 - val_mse: 23.2290 - val_mae: 3.7877\n",
      "Epoch 69/1000\n",
      "235/235 [==============================] - 0s 324us/sample - loss: 2.8187 - accuracy: 0.0000e+00 - mse: 15.7332 - mae: 2.8187 - val_loss: 2.2569 - val_accuracy: 0.0000e+00 - val_mse: 8.9647 - val_mae: 2.2569\n",
      "Epoch 70/1000\n",
      "235/235 [==============================] - 0s 319us/sample - loss: 2.2105 - accuracy: 0.0000e+00 - mse: 8.8571 - mae: 2.2105 - val_loss: 2.1708 - val_accuracy: 0.0000e+00 - val_mse: 9.1214 - val_mae: 2.1708\n",
      "Epoch 71/1000\n",
      "235/235 [==============================] - 0s 309us/sample - loss: 2.2759 - accuracy: 0.0000e+00 - mse: 10.4340 - mae: 2.2759 - val_loss: 2.8129 - val_accuracy: 0.0000e+00 - val_mse: 12.4952 - val_mae: 2.8129\n",
      "Epoch 72/1000\n",
      "235/235 [==============================] - 0s 318us/sample - loss: 2.1788 - accuracy: 0.0000e+00 - mse: 9.4212 - mae: 2.1788 - val_loss: 2.9481 - val_accuracy: 0.0000e+00 - val_mse: 14.9354 - val_mae: 2.9481\n",
      "Epoch 73/1000\n",
      "235/235 [==============================] - 0s 317us/sample - loss: 2.6648 - accuracy: 0.0000e+00 - mse: 12.6277 - mae: 2.6648 - val_loss: 3.4492 - val_accuracy: 0.0000e+00 - val_mse: 20.1354 - val_mae: 3.4492\n",
      "Epoch 74/1000\n",
      "235/235 [==============================] - 0s 314us/sample - loss: 2.5236 - accuracy: 0.0000e+00 - mse: 12.4649 - mae: 2.5236 - val_loss: 1.8785 - val_accuracy: 0.0000e+00 - val_mse: 6.7416 - val_mae: 1.8785\n"
     ]
    },
    {
     "name": "stdout",
     "output_type": "stream",
     "text": [
      "Epoch 75/1000\n",
      "235/235 [==============================] - 0s 315us/sample - loss: 2.3254 - accuracy: 0.0000e+00 - mse: 10.2490 - mae: 2.3254 - val_loss: 2.2582 - val_accuracy: 0.0000e+00 - val_mse: 8.8515 - val_mae: 2.2582\n",
      "Epoch 76/1000\n",
      "235/235 [==============================] - 0s 303us/sample - loss: 2.2769 - accuracy: 0.0000e+00 - mse: 9.1865 - mae: 2.2769 - val_loss: 2.2565 - val_accuracy: 0.0000e+00 - val_mse: 9.6269 - val_mae: 2.2565\n",
      "Epoch 77/1000\n",
      "235/235 [==============================] - 0s 318us/sample - loss: 2.3845 - accuracy: 0.0000e+00 - mse: 11.3245 - mae: 2.3845 - val_loss: 2.0157 - val_accuracy: 0.0000e+00 - val_mse: 6.9150 - val_mae: 2.0157\n",
      "Epoch 78/1000\n",
      "235/235 [==============================] - 0s 330us/sample - loss: 2.1578 - accuracy: 0.0000e+00 - mse: 9.3892 - mae: 2.1578 - val_loss: 1.9373 - val_accuracy: 0.0000e+00 - val_mse: 6.5016 - val_mae: 1.9373\n",
      "Epoch 79/1000\n",
      "235/235 [==============================] - 0s 332us/sample - loss: 2.1918 - accuracy: 0.0000e+00 - mse: 8.4718 - mae: 2.1918 - val_loss: 2.0574 - val_accuracy: 0.0000e+00 - val_mse: 7.3295 - val_mae: 2.0574\n",
      "Epoch 80/1000\n",
      "235/235 [==============================] - 0s 325us/sample - loss: 2.4220 - accuracy: 0.0000e+00 - mse: 11.4288 - mae: 2.4220 - val_loss: 3.0042 - val_accuracy: 0.0000e+00 - val_mse: 15.6543 - val_mae: 3.0042\n",
      "Epoch 81/1000\n",
      "235/235 [==============================] - 0s 333us/sample - loss: 2.3436 - accuracy: 0.0000e+00 - mse: 10.7133 - mae: 2.3436 - val_loss: 2.0788 - val_accuracy: 0.0000e+00 - val_mse: 8.0685 - val_mae: 2.0788\n",
      "Epoch 82/1000\n",
      "235/235 [==============================] - 0s 324us/sample - loss: 2.3515 - accuracy: 0.0000e+00 - mse: 10.1798 - mae: 2.3515 - val_loss: 1.9171 - val_accuracy: 0.0000e+00 - val_mse: 7.3021 - val_mae: 1.9171\n",
      "Epoch 83/1000\n",
      "235/235 [==============================] - 0s 314us/sample - loss: 2.0535 - accuracy: 0.0000e+00 - mse: 8.3481 - mae: 2.0535 - val_loss: 2.0534 - val_accuracy: 0.0000e+00 - val_mse: 7.1662 - val_mae: 2.0534\n",
      "Epoch 84/1000\n",
      "235/235 [==============================] - 0s 336us/sample - loss: 2.2334 - accuracy: 0.0000e+00 - mse: 9.8026 - mae: 2.2334 - val_loss: 2.1985 - val_accuracy: 0.0000e+00 - val_mse: 7.9008 - val_mae: 2.1985\n",
      "Epoch 85/1000\n",
      "235/235 [==============================] - 0s 319us/sample - loss: 2.2633 - accuracy: 0.0000e+00 - mse: 10.2187 - mae: 2.2633 - val_loss: 2.1812 - val_accuracy: 0.0000e+00 - val_mse: 8.3779 - val_mae: 2.1812\n",
      "Epoch 86/1000\n",
      "235/235 [==============================] - 0s 322us/sample - loss: 2.2898 - accuracy: 0.0000e+00 - mse: 11.8152 - mae: 2.2898 - val_loss: 2.3899 - val_accuracy: 0.0000e+00 - val_mse: 10.4836 - val_mae: 2.3899\n",
      "Epoch 87/1000\n",
      "235/235 [==============================] - 0s 342us/sample - loss: 2.3900 - accuracy: 0.0000e+00 - mse: 11.0343 - mae: 2.3900 - val_loss: 2.6259 - val_accuracy: 0.0000e+00 - val_mse: 12.1833 - val_mae: 2.6259\n",
      "Epoch 88/1000\n",
      "235/235 [==============================] - 0s 337us/sample - loss: 2.3292 - accuracy: 0.0000e+00 - mse: 9.7471 - mae: 2.3292 - val_loss: 2.1776 - val_accuracy: 0.0000e+00 - val_mse: 8.1120 - val_mae: 2.1776\n",
      "Epoch 89/1000\n",
      "235/235 [==============================] - 0s 334us/sample - loss: 2.6458 - accuracy: 0.0000e+00 - mse: 12.7126 - mae: 2.6458 - val_loss: 2.7191 - val_accuracy: 0.0000e+00 - val_mse: 12.8854 - val_mae: 2.7191\n",
      "Epoch 90/1000\n",
      "235/235 [==============================] - 0s 335us/sample - loss: 2.5424 - accuracy: 0.0000e+00 - mse: 11.7046 - mae: 2.5424 - val_loss: 2.5258 - val_accuracy: 0.0000e+00 - val_mse: 12.0709 - val_mae: 2.5258\n",
      "Epoch 91/1000\n",
      "235/235 [==============================] - 0s 321us/sample - loss: 2.4238 - accuracy: 0.0000e+00 - mse: 12.0661 - mae: 2.4238 - val_loss: 2.6453 - val_accuracy: 0.0000e+00 - val_mse: 11.8001 - val_mae: 2.6453\n",
      "Epoch 92/1000\n",
      "235/235 [==============================] - 0s 327us/sample - loss: 2.1355 - accuracy: 0.0000e+00 - mse: 9.1167 - mae: 2.1355 - val_loss: 2.8978 - val_accuracy: 0.0000e+00 - val_mse: 14.8683 - val_mae: 2.8978\n",
      "Epoch 93/1000\n",
      "235/235 [==============================] - 0s 331us/sample - loss: 2.2795 - accuracy: 0.0000e+00 - mse: 9.5631 - mae: 2.2795 - val_loss: 3.9014 - val_accuracy: 0.0000e+00 - val_mse: 24.9306 - val_mae: 3.9014\n",
      "Epoch 94/1000\n",
      "235/235 [==============================] - 0s 319us/sample - loss: 2.4445 - accuracy: 0.0000e+00 - mse: 11.3220 - mae: 2.4445 - val_loss: 2.8150 - val_accuracy: 0.0000e+00 - val_mse: 14.3008 - val_mae: 2.8150\n",
      "Epoch 95/1000\n",
      "235/235 [==============================] - 0s 342us/sample - loss: 2.3474 - accuracy: 0.0000e+00 - mse: 10.0369 - mae: 2.3474 - val_loss: 2.2533 - val_accuracy: 0.0000e+00 - val_mse: 8.7655 - val_mae: 2.2533\n",
      "Epoch 96/1000\n",
      "235/235 [==============================] - 0s 320us/sample - loss: 2.2448 - accuracy: 0.0000e+00 - mse: 10.0597 - mae: 2.2448 - val_loss: 2.5875 - val_accuracy: 0.0000e+00 - val_mse: 13.9182 - val_mae: 2.5875\n",
      "Epoch 97/1000\n",
      "235/235 [==============================] - 0s 323us/sample - loss: 2.2210 - accuracy: 0.0000e+00 - mse: 10.6062 - mae: 2.2210 - val_loss: 2.1373 - val_accuracy: 0.0000e+00 - val_mse: 8.1072 - val_mae: 2.1373\n",
      "Epoch 98/1000\n",
      "235/235 [==============================] - 0s 326us/sample - loss: 2.3328 - accuracy: 0.0000e+00 - mse: 11.2607 - mae: 2.3328 - val_loss: 2.1299 - val_accuracy: 0.0000e+00 - val_mse: 8.1618 - val_mae: 2.1299\n",
      "Epoch 99/1000\n",
      "235/235 [==============================] - 0s 382us/sample - loss: 2.2003 - accuracy: 0.0000e+00 - mse: 9.6990 - mae: 2.2003 - val_loss: 3.1044 - val_accuracy: 0.0000e+00 - val_mse: 17.9382 - val_mae: 3.1044\n",
      "Epoch 100/1000\n",
      "235/235 [==============================] - 0s 361us/sample - loss: 2.9999 - accuracy: 0.0000e+00 - mse: 17.5266 - mae: 2.9999 - val_loss: 2.6847 - val_accuracy: 0.0000e+00 - val_mse: 15.6053 - val_mae: 2.6847\n",
      "Epoch 101/1000\n",
      "235/235 [==============================] - 0s 349us/sample - loss: 2.5558 - accuracy: 0.0000e+00 - mse: 14.5123 - mae: 2.5558 - val_loss: 3.3139 - val_accuracy: 0.0000e+00 - val_mse: 22.4243 - val_mae: 3.3139\n",
      "Epoch 102/1000\n",
      "235/235 [==============================] - 0s 375us/sample - loss: 2.4175 - accuracy: 0.0000e+00 - mse: 12.9881 - mae: 2.4175 - val_loss: 2.4532 - val_accuracy: 0.0000e+00 - val_mse: 13.7664 - val_mae: 2.4532\n",
      "Epoch 103/1000\n",
      "235/235 [==============================] - 0s 350us/sample - loss: 2.2277 - accuracy: 0.0000e+00 - mse: 10.9012 - mae: 2.2277 - val_loss: 2.4729 - val_accuracy: 0.0000e+00 - val_mse: 12.1713 - val_mae: 2.4729\n",
      "Epoch 104/1000\n",
      "235/235 [==============================] - 0s 360us/sample - loss: 2.2467 - accuracy: 0.0000e+00 - mse: 9.5160 - mae: 2.2467 - val_loss: 2.3142 - val_accuracy: 0.0000e+00 - val_mse: 10.1397 - val_mae: 2.3142\n",
      "Epoch 105/1000\n",
      "235/235 [==============================] - 0s 369us/sample - loss: 2.0594 - accuracy: 0.0000e+00 - mse: 8.8787 - mae: 2.0594 - val_loss: 3.0621 - val_accuracy: 0.0000e+00 - val_mse: 17.2272 - val_mae: 3.0621\n",
      "Epoch 106/1000\n",
      "235/235 [==============================] - 0s 341us/sample - loss: 2.4354 - accuracy: 0.0000e+00 - mse: 10.8656 - mae: 2.4354 - val_loss: 2.6594 - val_accuracy: 0.0000e+00 - val_mse: 13.7954 - val_mae: 2.6594\n",
      "Epoch 107/1000\n",
      "235/235 [==============================] - 0s 343us/sample - loss: 2.7355 - accuracy: 0.0000e+00 - mse: 14.1222 - mae: 2.7355 - val_loss: 2.1998 - val_accuracy: 0.0000e+00 - val_mse: 9.8475 - val_mae: 2.1998\n",
      "Epoch 108/1000\n",
      "235/235 [==============================] - 0s 340us/sample - loss: 2.2964 - accuracy: 0.0000e+00 - mse: 10.7194 - mae: 2.2964 - val_loss: 2.3850 - val_accuracy: 0.0000e+00 - val_mse: 10.8620 - val_mae: 2.3850\n",
      "Epoch 109/1000\n",
      "235/235 [==============================] - 0s 336us/sample - loss: 2.2929 - accuracy: 0.0000e+00 - mse: 10.6728 - mae: 2.2929 - val_loss: 2.0448 - val_accuracy: 0.0000e+00 - val_mse: 8.0143 - val_mae: 2.0448\n",
      "Epoch 110/1000\n",
      "235/235 [==============================] - 0s 325us/sample - loss: 2.5521 - accuracy: 0.0000e+00 - mse: 13.4272 - mae: 2.5521 - val_loss: 2.1419 - val_accuracy: 0.0000e+00 - val_mse: 8.5762 - val_mae: 2.1419\n",
      "Epoch 111/1000\n",
      "235/235 [==============================] - 0s 325us/sample - loss: 2.1753 - accuracy: 0.0000e+00 - mse: 8.7937 - mae: 2.1753 - val_loss: 2.5353 - val_accuracy: 0.0000e+00 - val_mse: 12.4103 - val_mae: 2.5353\n"
     ]
    },
    {
     "name": "stdout",
     "output_type": "stream",
     "text": [
      "Epoch 112/1000\n",
      "235/235 [==============================] - 0s 382us/sample - loss: 2.5312 - accuracy: 0.0000e+00 - mse: 13.9077 - mae: 2.5312 - val_loss: 3.0706 - val_accuracy: 0.0000e+00 - val_mse: 15.0354 - val_mae: 3.0706\n",
      "Epoch 113/1000\n",
      "235/235 [==============================] - 0s 418us/sample - loss: 2.2832 - accuracy: 0.0000e+00 - mse: 10.3466 - mae: 2.2832 - val_loss: 2.1797 - val_accuracy: 0.0000e+00 - val_mse: 9.4178 - val_mae: 2.1797\n",
      "Epoch 114/1000\n",
      "235/235 [==============================] - 0s 390us/sample - loss: 2.3386 - accuracy: 0.0000e+00 - mse: 10.0447 - mae: 2.3386 - val_loss: 2.6824 - val_accuracy: 0.0000e+00 - val_mse: 12.9475 - val_mae: 2.6824\n",
      "Epoch 115/1000\n",
      "235/235 [==============================] - 0s 339us/sample - loss: 2.1698 - accuracy: 0.0000e+00 - mse: 8.8561 - mae: 2.1698 - val_loss: 2.0312 - val_accuracy: 0.0000e+00 - val_mse: 7.3117 - val_mae: 2.0312\n",
      "Epoch 116/1000\n",
      "235/235 [==============================] - 0s 341us/sample - loss: 2.1510 - accuracy: 0.0000e+00 - mse: 9.2939 - mae: 2.1510 - val_loss: 2.1483 - val_accuracy: 0.0000e+00 - val_mse: 8.5779 - val_mae: 2.1483\n",
      "Epoch 117/1000\n",
      "235/235 [==============================] - 0s 325us/sample - loss: 2.3914 - accuracy: 0.0000e+00 - mse: 11.1981 - mae: 2.3914 - val_loss: 2.1667 - val_accuracy: 0.0000e+00 - val_mse: 8.3402 - val_mae: 2.1667\n",
      "Epoch 118/1000\n",
      "235/235 [==============================] - 0s 327us/sample - loss: 2.1800 - accuracy: 0.0000e+00 - mse: 9.4071 - mae: 2.1800 - val_loss: 2.0195 - val_accuracy: 0.0000e+00 - val_mse: 8.7274 - val_mae: 2.0195\n",
      "Epoch 119/1000\n",
      "235/235 [==============================] - 0s 328us/sample - loss: 2.3818 - accuracy: 0.0000e+00 - mse: 10.7131 - mae: 2.3818 - val_loss: 2.6089 - val_accuracy: 0.0000e+00 - val_mse: 12.5085 - val_mae: 2.6089\n",
      "Epoch 120/1000\n",
      "235/235 [==============================] - 0s 313us/sample - loss: 2.1739 - accuracy: 0.0000e+00 - mse: 9.5528 - mae: 2.1739 - val_loss: 2.1575 - val_accuracy: 0.0000e+00 - val_mse: 9.7311 - val_mae: 2.1575\n",
      "Epoch 121/1000\n",
      "235/235 [==============================] - 0s 308us/sample - loss: 2.4428 - accuracy: 0.0000e+00 - mse: 12.9142 - mae: 2.4428 - val_loss: 2.8246 - val_accuracy: 0.0000e+00 - val_mse: 14.6980 - val_mae: 2.8246\n",
      "Epoch 122/1000\n",
      "235/235 [==============================] - 0s 304us/sample - loss: 2.3347 - accuracy: 0.0000e+00 - mse: 11.8016 - mae: 2.3347 - val_loss: 3.0305 - val_accuracy: 0.0000e+00 - val_mse: 16.3258 - val_mae: 3.0305\n",
      "Epoch 123/1000\n",
      "235/235 [==============================] - 0s 311us/sample - loss: 2.2155 - accuracy: 0.0000e+00 - mse: 9.5972 - mae: 2.2155 - val_loss: 3.6354 - val_accuracy: 0.0000e+00 - val_mse: 23.4059 - val_mae: 3.6354\n",
      "Epoch 124/1000\n",
      "235/235 [==============================] - 0s 309us/sample - loss: 2.3426 - accuracy: 0.0000e+00 - mse: 11.0580 - mae: 2.3426 - val_loss: 2.2036 - val_accuracy: 0.0000e+00 - val_mse: 8.0797 - val_mae: 2.2036\n"
     ]
    }
   ],
   "source": [
    "model_history = model.fit(X_train, Y_train,\n",
    "                          batch_size=5, \n",
    "                          epochs=1000, \n",
    "                          verbose=1,\n",
    "                          validation_split = 0.2,\n",
    "                          callbacks=[early_stop]\n",
    "                         )"
   ]
  },
  {
   "cell_type": "markdown",
   "metadata": {
    "id": "eObQu9fDnXGL"
   },
   "source": [
    "This model will predict `'MPG'` from `'Horsepower'`.\n",
    "\n",
    "Run the untrained model on the first 10 'Horsepower' values. The output won't be good, but notice that it has the expected shape of `(10, 1)`:"
   ]
  },
  {
   "cell_type": "code",
   "execution_count": 50,
   "metadata": {},
   "outputs": [
    {
     "data": {
      "text/plain": [
       "<tf.Variable 'dense/kernel:0' shape=(9, 8) dtype=float32, numpy=\n",
       "array([[ 0.199,  2.039, -0.709,  0.252, -0.19 ,  1.045,  0.669,  1.034],\n",
       "       [ 0.207,  6.226, -1.279,  0.048,  0.123,  0.123,  0.601,  8.108],\n",
       "       [ 0.081, -3.923, -1.362, -0.027,  0.255, -0.105,  5.812,  0.364],\n",
       "       [-0.911, -1.535, -9.349, -0.298, -0.301, -2.647,  6.905,  1.114],\n",
       "       [-0.394,  2.241, -1.102, -0.118,  0.054, -1.098, -1.95 ,  3.144],\n",
       "       [ 0.324,  5.58 ,  3.185,  0.887,  0.225,  0.976, -3.046, -1.973],\n",
       "       [-0.216,  3.214, -0.632, -0.244,  0.122, -0.229,  0.412, -2.109],\n",
       "       [ 0.112,  0.739,  0.292, -0.158, -0.189,  0.24 ,  2.364,  0.406],\n",
       "       [ 0.264, -2.895,  0.576,  0.277,  0.126,  0.336, -0.657,  1.35 ]],\n",
       "      dtype=float32)>"
      ]
     },
     "execution_count": 50,
     "metadata": {},
     "output_type": "execute_result"
    }
   ],
   "source": [
    "model.layers[0].kernel"
   ]
  },
  {
   "cell_type": "code",
   "execution_count": 51,
   "metadata": {},
   "outputs": [
    {
     "data": {
      "text/plain": [
       "<tf.Variable 'dense_1/kernel:0' shape=(8, 32) dtype=float32, numpy=\n",
       "array([[-0.569, -1.011, -0.171, -0.056, -0.503, -0.353, -0.646, -0.715,\n",
       "        -0.478,  0.131, -0.581, -0.192, -0.611,  0.003, -0.179, -0.932,\n",
       "        -0.271, -0.546, -0.234, -0.6  , -0.027, -0.099, -0.321, -0.628,\n",
       "        -0.546,  0.012, -0.142,  0.001, -0.071, -0.101, -0.041, -0.585],\n",
       "       [-0.642, -0.565, -1.352, -0.54 , -0.854, -0.204, -0.537, -0.329,\n",
       "        -0.572,  1.215, -0.176, -0.46 , -0.515, -0.529, -0.864, -0.073,\n",
       "        -0.479, -0.087, -0.065, -0.441, -0.589, -0.6  , -0.304, -0.619,\n",
       "        -0.834, -0.696, -0.86 , -0.516, -0.466, -4.877, -1.445, -0.539],\n",
       "       [-0.55 , -1.454, -2.123, -0.539, -0.111, -0.689, -0.526, -0.403,\n",
       "        -0.542,  0.996, -1.168, -1.115, -0.599, -0.108, -1.015, -0.337,\n",
       "        -0.839, -0.628, -0.326, -0.581, -0.676, -0.586, -2.014, -0.619,\n",
       "        -0.258, -0.593, -0.911, -0.568, -0.439, -5.669, -0.823, -0.633],\n",
       "       [-0.577, -1.481, -0.331, -0.603, -0.48 , -0.012, -0.189, -0.455,\n",
       "        -0.557,  0.035, -0.215, -0.115, -0.61 , -0.087, -0.536, -1.038,\n",
       "         0.065, -0.596, -0.148, -0.553, -0.541, -0.554, -0.638, -0.62 ,\n",
       "        -0.526, -0.604,  0.027, -0.06 , -0.27 , -0.68 , -0.401, -0.627],\n",
       "       [-0.585, -0.031, -0.036, -0.575, -1.102,  0.042,  0.657,  0.064,\n",
       "        -0.051,  0.096, -0.064, -0.167, -0.033, -0.539, -0.149, -0.239,\n",
       "         0.028, -0.089, -0.001, -0.595, -0.555, -0.574, -0.276, -0.539,\n",
       "        -0.973, -0.548,  0.027, -0.511, -0.146,  0.043, -1.413, -0.039],\n",
       "       [-0.643, -1.439, -1.006, -0.046, -0.757, -0.305, -0.545, -0.573,\n",
       "        -0.634,  0.129, -0.93 , -0.744, -0.599, -0.596, -0.612, -0.434,\n",
       "        -0.316, -0.603, -0.276, -0.645, -0.016, -0.038, -1.551, -0.626,\n",
       "        -0.715, -0.049, -0.236, -0.553, -0.265, -0.606, -0.217, -0.583],\n",
       "       [-0.584, -0.096, -1.985, -0.571, -0.454, -0.821, -0.625, -0.415,\n",
       "        -0.578, -1.582, -1.71 , -1.966, -0.009, -0.007, -2.011, -0.518,\n",
       "        -0.72 , -0.492, -0.349, -0.56 , -0.549, -0.618, -2.713, -0.563,\n",
       "        -0.361, -0.619, -1.353, -0.002, -0.269,  1.068, -0.03 , -0.015],\n",
       "       [-0.001, -0.231, -1.683,  0.036, -0.811, -0.532, -0.582, -0.31 ,\n",
       "        -0.573, -2.028, -0.781, -0.88 ,  0.055, -0.564, -1.8  , -0.472,\n",
       "        -0.18 , -0.599, -0.364, -0.028, -0.11 , -0.056, -2.458, -0.572,\n",
       "        -0.711,  0.061, -0.82 , -0.533, -0.783,  1.024, -0.034, -0.05 ]],\n",
       "      dtype=float32)>"
      ]
     },
     "execution_count": 51,
     "metadata": {},
     "output_type": "execute_result"
    }
   ],
   "source": [
    "model.layers[1].kernel"
   ]
  },
  {
   "cell_type": "code",
   "execution_count": 52,
   "metadata": {},
   "outputs": [
    {
     "data": {
      "text/plain": [
       "<tf.Variable 'dense_2/kernel:0' shape=(32, 16) dtype=float32, numpy=\n",
       "array([[-0.598,  0.577, -0.056, -0.568, -0.569,  0.563, -0.585, -0.032,\n",
       "         0.034, -0.616, -0.628, -0.019,  0.651,  0.552,  0.584,  0.104],\n",
       "       [-0.548, -0.195, -0.609,  0.076, -0.516, -0.359, -0.629, -0.056,\n",
       "        -0.093, -0.648, -0.585, -0.078, -0.034, -0.118, -0.155, -0.043],\n",
       "       [-0.58 , -0.488, -0.581,  0.004, -0.553, -0.769, -0.565, -0.584,\n",
       "        -0.435, -0.604, -0.564, -1.478, -1.05 ,  0.04 , -0.341, -1.246],\n",
       "       [ 0.005,  0.62 ,  0.039, -0.582, -0.611,  0.536, -0.548, -0.01 ,\n",
       "        -0.013, -0.607, -0.597,  0.01 ,  0.58 ,  0.6  , -0.005, -0.011],\n",
       "       [ 0.009, -0.194,  0.018, -0.064, -0.039, -0.142, -0.005, -0.098,\n",
       "        -0.129, -0.034, -0.013,  0.01 , -0.099, -0.047, -0.156,  0.07 ],\n",
       "       [-0.587, -0.269,  0.003, -0.684, -0.651, -0.404, -0.585,  0.025,\n",
       "        -0.213, -0.682, -0.602, -0.017, -0.327, -0.048, -0.274, -1.899],\n",
       "       [-0.479, -0.08 , -0.486, -0.603, -0.594, -0.098, -0.556,  0.034,\n",
       "        -0.073, -0.658, -0.62 ,  0.048, -0.08 ,  0.011, -0.073,  0.111],\n",
       "       [-0.614, -0.147, -0.022, -0.648, -0.654, -0.172, -0.552, -0.519,\n",
       "        -0.182, -0.586, -0.523, -0.012, -0.049, -0.118, -0.079, -0.01 ],\n",
       "       [-0.535,  0.62 , -0.573, -0.048, -0.567,  0.549, -0.512, -0.536,\n",
       "         0.549, -0.56 , -0.599, -0.021,  0.543,  0.597,  0.621, -0.035],\n",
       "       [-0.628, -1.717, -0.604, -0.586, -0.504, -1.169, -0.639, -0.615,\n",
       "        -0.711, -0.65 , -0.62 , -1.457, -2.196,  0.698, -0.73 , -0.993],\n",
       "       [-0.602, -0.382,  0.   , -0.608, -0.619, -0.233, -0.557, -0.567,\n",
       "        -0.518, -0.522, -0.588, -0.059, -0.466, -0.309, -0.392,  1.353],\n",
       "       [-0.574, -0.251,  0.023, -0.034, -0.653, -0.336, -0.628, -0.548,\n",
       "        -0.519, -0.574, -0.576, -0.042, -0.289,  0.587, -0.465, -1.451],\n",
       "       [-0.515,  0.622, -0.098,  0.011, -0.556,  0.458, -0.559,  0.046,\n",
       "         0.004, -0.637, -0.587, -0.007,  0.703,  0.646,  0.584, -0.005],\n",
       "       [ 0.019,  0.464, -0.034, -0.05 ,  0.043,  0.42 ,  0.065,  0.074,\n",
       "         0.489,  0.015, -0.014, -0.068,  0.481,  0.492,  0.558,  0.053],\n",
       "       [-0.589, -0.914, -0.523, -0.549, -0.617, -0.848, -0.654, -0.573,\n",
       "        -0.587, -0.586, -0.624, -1.492, -1.632,  0.015, -0.647, -1.237],\n",
       "       [-0.683, -0.084, -0.058, -0.553, -0.552, -0.183, -0.546, -0.621,\n",
       "        -0.181, -0.59 , -0.633, -0.028, -0.074,  0.077, -0.052,  0.021],\n",
       "       [-0.615, -0.607, -0.655, -0.682, -0.611, -0.319, -0.572, -0.569,\n",
       "        -0.196, -0.54 , -0.521,  0.013, -0.415, -0.062, -0.263, -1.544],\n",
       "       [-0.561,  0.617, -0.579, -0.062, -0.488, -0.061, -0.485, -0.606,\n",
       "         0.646, -0.511, -0.55 , -0.032,  0.65 ,  0.573,  0.58 ,  0.061],\n",
       "       [-0.03 , -0.315, -0.02 , -0.706, -0.557, -0.319, -0.502, -0.596,\n",
       "        -0.197, -0.625, -0.555,  0.052, -0.218, -0.007,  0.013, -1.391],\n",
       "       [-0.486,  0.645, -0.04 , -0.58 , -0.555,  0.652, -0.578, -0.116,\n",
       "        -0.014, -0.56 , -0.551, -0.   ,  0.64 ,  0.599,  0.612,  0.029],\n",
       "       [-0.04 ,  0.647, -0.017, -0.582, -0.573,  0.634, -0.601,  0.026,\n",
       "         0.033, -0.592, -0.551, -0.127,  0.635,  0.55 , -0.015, -0.05 ],\n",
       "       [-0.072,  0.544,  0.015, -0.552, -0.665,  0.581, -0.581, -0.001,\n",
       "        -0.038, -0.592, -0.583,  0.013,  0.586,  0.587, -0.057, -0.068],\n",
       "       [-0.598, -0.975, -0.574, -0.551, -0.498, -0.378, -0.633, -0.662,\n",
       "        -1.13 , -0.551, -0.637,  0.03 , -0.798, -1.069, -1.07 ,  1.414],\n",
       "       [-0.513,  0.621, -0.466, -0.611, -0.615,  0.527, -0.682, -0.049,\n",
       "         0.536, -0.538, -0.6  , -0.077,  0.576,  0.537,  0.543,  0.015],\n",
       "       [-0.061, -0.088, -0.104,  0.017, -0.016, -0.183,  0.022,  0.096,\n",
       "        -0.037, -0.009,  0.055, -0.076, -0.098, -0.078, -0.016,  0.07 ],\n",
       "       [ 0.011,  0.588,  0.034, -0.619, -0.576,  0.535, -0.556,  0.013,\n",
       "         0.045, -0.63 , -0.497, -0.058,  0.538,  0.512,  0.001,  0.014],\n",
       "       [-0.025, -0.571,  0.004, -0.574, -0.628, -0.502, -0.547, -0.53 ,\n",
       "        -0.713, -0.643, -0.575, -1.534, -0.525, -0.755, -0.681, -1.466],\n",
       "       [ 0.063,  0.503, -0.065,  0.038, -0.121,  0.446,  0.04 , -0.049,\n",
       "         0.591,  0.051, -0.029, -0.084,  0.588,  0.48 ,  0.499, -0.058],\n",
       "       [-0.575, -0.488, -0.566, -0.027, -0.59 , -0.672, -0.529, -0.557,\n",
       "        -0.036, -0.608, -0.571, -1.523, -0.539,  0.25 , -0.032, -1.309],\n",
       "       [-0.679, -1.746, -0.629, -0.567, -0.608, -1.477, -0.643, -0.625,\n",
       "        -1.888, -0.601, -0.625, -1.546, -1.71 , -0.962, -1.504, -1.215],\n",
       "       [-0.647,  0.462, -0.599, -0.586, -0.58 ,  0.406, -0.589, -0.004,\n",
       "         0.511, -0.57 , -0.608,  0.01 ,  0.451,  0.516,  0.575,  0.077],\n",
       "       [-0.587,  0.434, -0.103,  0.002, -0.542,  0.178, -0.351, -0.065,\n",
       "        -0.03 , -0.445, -0.368,  0.017,  0.438,  0.596,  0.494, -0.042]],\n",
       "      dtype=float32)>"
      ]
     },
     "execution_count": 52,
     "metadata": {},
     "output_type": "execute_result"
    }
   ],
   "source": [
    "model.layers[2].kernel"
   ]
  },
  {
   "cell_type": "code",
   "execution_count": 53,
   "metadata": {},
   "outputs": [
    {
     "data": {
      "text/plain": [
       "<tf.Variable 'dense_3/kernel:0' shape=(16, 1) dtype=float32, numpy=\n",
       "array([[ 0.059],\n",
       "       [-0.238],\n",
       "       [ 0.181],\n",
       "       [ 0.032],\n",
       "       [ 0.351],\n",
       "       [ 0.023],\n",
       "       [ 0.562],\n",
       "       [ 0.376],\n",
       "       [-0.301],\n",
       "       [ 0.452],\n",
       "       [ 0.548],\n",
       "       [ 1.285],\n",
       "       [-0.392],\n",
       "       [ 1.228],\n",
       "       [-0.282],\n",
       "       [ 1.184]], dtype=float32)>"
      ]
     },
     "execution_count": 53,
     "metadata": {},
     "output_type": "execute_result"
    }
   ],
   "source": [
    "model.layers[3].kernel"
   ]
  },
  {
   "cell_type": "code",
   "execution_count": null,
   "metadata": {},
   "outputs": [],
   "source": [
    "output = model.layers[3]"
   ]
  },
  {
   "cell_type": "code",
   "execution_count": null,
   "metadata": {},
   "outputs": [],
   "source": [
    "output.name"
   ]
  },
  {
   "cell_type": "code",
   "execution_count": null,
   "metadata": {},
   "outputs": [],
   "source": [
    "weights, biases = output.get_weights()"
   ]
  },
  {
   "cell_type": "code",
   "execution_count": 54,
   "metadata": {},
   "outputs": [
    {
     "data": {
      "text/plain": [
       "['loss', 'accuracy', 'mse', 'mae']"
      ]
     },
     "execution_count": 54,
     "metadata": {},
     "output_type": "execute_result"
    }
   ],
   "source": [
    "model.metrics_names"
   ]
  },
  {
   "cell_type": "code",
   "execution_count": 55,
   "metadata": {},
   "outputs": [
    {
     "data": {
      "text/plain": [
       "<matplotlib.legend.Legend at 0x7fda98e541d0>"
      ]
     },
     "execution_count": 55,
     "metadata": {},
     "output_type": "execute_result"
    },
    {
     "data": {
      "image/png": "[encoded data removed]",
      "text/plain": [
       "<Figure size 1080x360 with 3 Axes>"
      ]
     },
     "metadata": {
      "needs_background": "light"
     },
     "output_type": "display_data"
    }
   ],
   "source": [
    "fig, (ax1, ax2, ax3) = plt.subplots(1, 3, figsize=(15, 5))\n",
    "\n",
    "ax1.plot(model_history.history['mse'], label='train')\n",
    "ax1.plot(model_history.history['val_mse'], label='val')\n",
    "ax2.plot(model_history.history['mae'], label='train')\n",
    "ax2.plot(model_history.history['val_mae'], label='val')\n",
    "ax3.plot(model_history.history['loss'], label='train')\n",
    "ax3.plot(model_history.history['val_loss'], label='val')\n",
    "\n",
    "ax1.set_ylabel('Mean Squared Error')\n",
    "ax2.set_ylabel('Mean Absolute Error')\n",
    "ax3.set_ylabel('Loss')\n",
    "ax2.set_xlabel('epochs')\n",
    "ax1.set_ylim([0, 20])\n",
    "ax2.set_ylim([0, 20])\n",
    "ax3.set_ylim([0, 20])\n",
    "ax1.legend()\n",
    "ax2.legend()\n",
    "ax3.legend()"
   ]
  },
  {
   "cell_type": "markdown",
   "metadata": {
    "id": "tQm3pc0FYPQB"
   },
   "source": [
    "Visualize the model's training progress using the stats stored in the `history` object:"
   ]
  },
  {
   "cell_type": "code",
   "execution_count": 56,
   "metadata": {},
   "outputs": [
    {
     "data": {
      "text/plain": [
       "Text(0.5, 0, 'Epochs')"
      ]
     },
     "execution_count": 56,
     "metadata": {},
     "output_type": "execute_result"
    },
    {
     "data": {
      "image/png": "[encoded data removed]",
      "text/plain": [
       "<Figure size 648x360 with 1 Axes>"
      ]
     },
     "metadata": {
      "needs_background": "light"
     },
     "output_type": "display_data"
    }
   ],
   "source": [
    "pd.DataFrame(model_history.history).plot(figsize=(9, 5))\n",
    "plt.grid(True)\n",
    "plt.gca().set_ylim(0, 20) # set the vertical range to [0-1] plt.show()\n",
    "plt.ylabel('MAE [mpg]')\n",
    "plt.xlabel('Epochs')"
   ]
  },
  {
   "cell_type": "code",
   "execution_count": 57,
   "metadata": {
    "execution": {
     "iopub.execute_input": "2022-02-10T18:49:48.690410Z",
     "iopub.status.busy": "2022-02-10T18:49:48.689805Z",
     "iopub.status.idle": "2022-02-10T18:49:48.692680Z",
     "shell.execute_reply": "2022-02-10T18:49:48.693082Z"
    },
    "id": "YCAwD_y4AdC3"
   },
   "outputs": [
    {
     "data": {
      "text/html": [
       "<div>\n",
       "<style scoped>\n",
       "    .dataframe tbody tr th:only-of-type {\n",
       "        vertical-align: middle;\n",
       "    }\n",
       "\n",
       "    .dataframe tbody tr th {\n",
       "        vertical-align: top;\n",
       "    }\n",
       "\n",
       "    .dataframe thead th {\n",
       "        text-align: right;\n",
       "    }\n",
       "</style>\n",
       "<table border=\"1\" class=\"dataframe\">\n",
       "  <thead>\n",
       "    <tr style=\"text-align: right;\">\n",
       "      <th></th>\n",
       "      <th>loss</th>\n",
       "      <th>accuracy</th>\n",
       "      <th>mse</th>\n",
       "      <th>mae</th>\n",
       "      <th>val_loss</th>\n",
       "      <th>val_accuracy</th>\n",
       "      <th>val_mse</th>\n",
       "      <th>val_mae</th>\n",
       "      <th>epoch</th>\n",
       "    </tr>\n",
       "  </thead>\n",
       "  <tbody>\n",
       "    <tr>\n",
       "      <th>119</th>\n",
       "      <td>2.173908</td>\n",
       "      <td>0.0</td>\n",
       "      <td>9.552808</td>\n",
       "      <td>2.173908</td>\n",
       "      <td>2.157524</td>\n",
       "      <td>0.0</td>\n",
       "      <td>9.731123</td>\n",
       "      <td>2.157524</td>\n",
       "      <td>119</td>\n",
       "    </tr>\n",
       "    <tr>\n",
       "      <th>120</th>\n",
       "      <td>2.442760</td>\n",
       "      <td>0.0</td>\n",
       "      <td>12.914158</td>\n",
       "      <td>2.442760</td>\n",
       "      <td>2.824564</td>\n",
       "      <td>0.0</td>\n",
       "      <td>14.697971</td>\n",
       "      <td>2.824564</td>\n",
       "      <td>120</td>\n",
       "    </tr>\n",
       "    <tr>\n",
       "      <th>121</th>\n",
       "      <td>2.334718</td>\n",
       "      <td>0.0</td>\n",
       "      <td>11.801564</td>\n",
       "      <td>2.334719</td>\n",
       "      <td>3.030502</td>\n",
       "      <td>0.0</td>\n",
       "      <td>16.325792</td>\n",
       "      <td>3.030502</td>\n",
       "      <td>121</td>\n",
       "    </tr>\n",
       "    <tr>\n",
       "      <th>122</th>\n",
       "      <td>2.215512</td>\n",
       "      <td>0.0</td>\n",
       "      <td>9.597214</td>\n",
       "      <td>2.215512</td>\n",
       "      <td>3.635401</td>\n",
       "      <td>0.0</td>\n",
       "      <td>23.405859</td>\n",
       "      <td>3.635401</td>\n",
       "      <td>122</td>\n",
       "    </tr>\n",
       "    <tr>\n",
       "      <th>123</th>\n",
       "      <td>2.342648</td>\n",
       "      <td>0.0</td>\n",
       "      <td>11.058002</td>\n",
       "      <td>2.342648</td>\n",
       "      <td>2.203639</td>\n",
       "      <td>0.0</td>\n",
       "      <td>8.079666</td>\n",
       "      <td>2.203639</td>\n",
       "      <td>123</td>\n",
       "    </tr>\n",
       "  </tbody>\n",
       "</table>\n",
       "</div>"
      ],
      "text/plain": [
       "         loss  accuracy        mse       mae  val_loss  val_accuracy  \\\n",
       "119  2.173908       0.0   9.552808  2.173908  2.157524           0.0   \n",
       "120  2.442760       0.0  12.914158  2.442760  2.824564           0.0   \n",
       "121  2.334718       0.0  11.801564  2.334719  3.030502           0.0   \n",
       "122  2.215512       0.0   9.597214  2.215512  3.635401           0.0   \n",
       "123  2.342648       0.0  11.058002  2.342648  2.203639           0.0   \n",
       "\n",
       "       val_mse   val_mae  epoch  \n",
       "119   9.731123  2.157524    119  \n",
       "120  14.697971  2.824564    120  \n",
       "121  16.325792  3.030502    121  \n",
       "122  23.405859  3.635401    122  \n",
       "123   8.079666  2.203639    123  "
      ]
     },
     "execution_count": 57,
     "metadata": {},
     "output_type": "execute_result"
    }
   ],
   "source": [
    "hist = pd.DataFrame(model_history.history)\n",
    "hist['epoch'] = model_history.epoch\n",
    "hist.tail()"
   ]
  },
  {
   "cell_type": "code",
   "execution_count": 58,
   "metadata": {
    "execution": {
     "iopub.execute_input": "2022-02-10T18:49:48.698252Z",
     "iopub.status.busy": "2022-02-10T18:49:48.697650Z",
     "iopub.status.idle": "2022-02-10T18:49:48.699276Z",
     "shell.execute_reply": "2022-02-10T18:49:48.699618Z"
    },
    "id": "9E54UoZunqhc"
   },
   "outputs": [],
   "source": [
    "def plot_loss(history):\n",
    "    plt.plot(history.history['loss'], label='loss')\n",
    "    plt.plot(history.history['val_loss'], label='val_loss')\n",
    "    plt.ylim([0, 20])\n",
    "    plt.xlabel('Epoch')\n",
    "    plt.ylabel('Error [MPG]')\n",
    "    plt.legend()\n",
    "    plt.grid(True)"
   ]
  },
  {
   "cell_type": "code",
   "execution_count": 59,
   "metadata": {
    "execution": {
     "iopub.execute_input": "2022-02-10T18:49:48.742749Z",
     "iopub.status.busy": "2022-02-10T18:49:48.732930Z",
     "iopub.status.idle": "2022-02-10T18:49:48.833894Z",
     "shell.execute_reply": "2022-02-10T18:49:48.834644Z"
    },
    "id": "yYsQYrIZyqjz"
   },
   "outputs": [
    {
     "data": {
      "image/png": "[encoded data removed]",
      "text/plain": [
       "<Figure size 432x288 with 1 Axes>"
      ]
     },
     "metadata": {
      "needs_background": "light"
     },
     "output_type": "display_data"
    }
   ],
   "source": [
    "plot_loss(model_history)"
   ]
  },
  {
   "cell_type": "markdown",
   "metadata": {
    "id": "CMNrt8X2ebXd"
   },
   "source": [
    "### Evaluate the model using test set"
   ]
  },
  {
   "cell_type": "code",
   "execution_count": 60,
   "metadata": {},
   "outputs": [
    {
     "data": {
      "text/plain": [
       "['loss', 'accuracy', 'mse', 'mae']"
      ]
     },
     "execution_count": 60,
     "metadata": {},
     "output_type": "execute_result"
    }
   ],
   "source": [
    "model.metrics_names"
   ]
  },
  {
   "cell_type": "code",
   "execution_count": 61,
   "metadata": {
    "execution": {
     "iopub.execute_input": "2022-02-10T18:49:48.842074Z",
     "iopub.status.busy": "2022-02-10T18:49:48.841005Z",
     "iopub.status.idle": "2022-02-10T18:49:48.887091Z",
     "shell.execute_reply": "2022-02-10T18:49:48.886599Z"
    },
    "id": "kDZ8EvNYrDtx"
   },
   "outputs": [
    {
     "name": "stdout",
     "output_type": "stream",
     "text": [
      "98/1 - 0s - loss: 2.1430 - accuracy: 0.0000e+00 - mse: 8.4722 - mae: 2.2769\n",
      "Testing set Mean Abs Error:  2.28 MPG\n",
      "Testing set Mean Squared Error:  8.47 MPG\n",
      "Testing set Loss Error:  2.28 MPG\n"
     ]
    }
   ],
   "source": [
    "loss, accuracy, mse, mae = model.evaluate(X_test,\n",
    "                                Y_test,\n",
    "                                verbose=2)\n",
    "print(\"Testing set Mean Abs Error: {:5.2f} MPG\".format(mae))\n",
    "print(\"Testing set Mean Squared Error: {:5.2f} MPG\".format(mse))\n",
    "print(\"Testing set Loss Error: {:5.2f} MPG\".format(loss))"
   ]
  },
  {
   "cell_type": "markdown",
   "metadata": {
    "id": "F0qutYAKwoda"
   },
   "source": [
    "### Generate predictions\n"
   ]
  },
  {
   "cell_type": "code",
   "execution_count": 62,
   "metadata": {},
   "outputs": [],
   "source": [
    "test_preds = model.predict(X_test).flatten()"
   ]
  },
  {
   "cell_type": "markdown",
   "metadata": {},
   "source": [
    "### Plot the test set labels (actual values) against the predictions generated with the test set features"
   ]
  },
  {
   "cell_type": "code",
   "execution_count": 63,
   "metadata": {},
   "outputs": [
    {
     "data": {
      "image/png": "[encoded data removed]",
      "text/plain": [
       "<Figure size 504x504 with 1 Axes>"
      ]
     },
     "metadata": {
      "needs_background": "light"
     },
     "output_type": "display_data"
    }
   ],
   "source": [
    "figP, axP = plt.subplots(1, figsize=(7,7))\n",
    "#evaluation_plot = plt.axes(aspect='equal')\n",
    "axP.scatter(Y_test, test_preds)#Scatter Plot\n",
    "axP.set_ylabel('Predictions [mpg]')#Y for Predictions\n",
    "axP.set_xlabel('Actual Values [mpg]')#X for Actual Values\n",
    "axP.set_xlim([0, 50])\n",
    "axP.set_ylim([0, 50])\n",
    "axP.plot([0, 50], [0, 50]) #line plot for comparison\n",
    "axP.set_aspect('equal')"
   ]
  },
  {
   "cell_type": "markdown",
   "metadata": {},
   "source": [
    "### Generate a histogram showing the distribution of error terms around zero\n",
    "\n",
    "* it is an important indication of bias in our model"
   ]
  },
  {
   "cell_type": "code",
   "execution_count": 64,
   "metadata": {},
   "outputs": [
    {
     "data": {
      "text/plain": [
       "Text(0, 0.5, 'Count')"
      ]
     },
     "execution_count": 64,
     "metadata": {},
     "output_type": "execute_result"
    },
    {
     "data": {
      "image/png": "[encoded data removed]",
      "text/plain": [
       "<Figure size 432x360 with 1 Axes>"
      ]
     },
     "metadata": {
      "needs_background": "light"
     },
     "output_type": "display_data"
    }
   ],
   "source": [
    "error = test_preds - Y_test\n",
    "figE, axE = plt.subplots(1, figsize=(6,5))\n",
    "axE.hist(error, bins = 25)\n",
    "axE.set_xlabel(\"Prediction Error [mpg]\")\n",
    "axE.set_ylabel(\"Count\")"
   ]
  },
  {
   "cell_type": "code",
   "execution_count": null,
   "metadata": {},
   "outputs": [],
   "source": []
  },
  {
   "cell_type": "markdown",
   "metadata": {},
   "source": [
    "%%script false --no-raise-error"
   ]
  },
  {
   "cell_type": "markdown",
   "metadata": {
    "id": "Yk2RmlqPoM9u"
   },
   "source": [
    "### Linear regression with multiple inputs"
   ]
  },
  {
   "cell_type": "markdown",
   "metadata": {
    "id": "PribnwDHUksC"
   },
   "source": [
    "You can use an almost identical setup to make predictions based on multiple inputs. This model still does the same $y = mx+b$ except that $m$ is a matrix and $b$ is a vector.\n",
    "\n",
    "Create a two-step Keras Sequential model again with the first layer being `normalizer` (`tf.keras.layers.Normalization(axis=-1)`) you defined earlier and adapted to the whole dataset:"
   ]
  },
  {
   "cell_type": "markdown",
   "metadata": {},
   "source": [
    "del linear_model"
   ]
  },
  {
   "cell_type": "code",
   "execution_count": 65,
   "metadata": {},
   "outputs": [],
   "source": [
    "linear_model = Sequential()"
   ]
  },
  {
   "cell_type": "code",
   "execution_count": 66,
   "metadata": {},
   "outputs": [],
   "source": [
    "linear_model.add(Dense(units=1, \n",
    "                       kernel_initializer='random_normal',\n",
    "                       input_shape=[X_train.shape[1]]\n",
    "                      )\n",
    "                )"
   ]
  },
  {
   "cell_type": "code",
   "execution_count": 67,
   "metadata": {},
   "outputs": [],
   "source": [
    "# optimizer=tf.optimizers.Adam(learning_rate=0.1),\n",
    "linear_model.compile(optimizer=tf.optimizers.Adam(learning_rate=0.1),\n",
    "                     loss='mean_absolute_error',\n",
    "                     metrics=['mse', 'mae'])"
   ]
  },
  {
   "cell_type": "code",
   "execution_count": 68,
   "metadata": {},
   "outputs": [],
   "source": [
    "linear_history = linear_model.fit(X_train, Y_train,\n",
    "                                  epochs=100,\n",
    "                                  # Suppress logging.\n",
    "                                  verbose=0,\n",
    "                                  # Calculate validation results on 20% of the training data.\n",
    "                                  validation_split = 0.2\n",
    "                                 )"
   ]
  },
  {
   "cell_type": "code",
   "execution_count": 69,
   "metadata": {},
   "outputs": [
    {
     "name": "stdout",
     "output_type": "stream",
     "text": [
      "Model: \"sequential_1\"\n",
      "_________________________________________________________________\n",
      "Layer (type)                 Output Shape              Param #   \n",
      "=================================================================\n",
      "dense_4 (Dense)              (None, 1)                 10        \n",
      "=================================================================\n",
      "Total params: 10\n",
      "Trainable params: 10\n",
      "Non-trainable params: 0\n",
      "_________________________________________________________________\n"
     ]
    }
   ],
   "source": [
    "linear_model.summary()"
   ]
  },
  {
   "cell_type": "code",
   "execution_count": 70,
   "metadata": {},
   "outputs": [
    {
     "data": {
      "text/plain": [
       "<tf.Variable 'dense_4/kernel:0' shape=(9, 1) dtype=float32, numpy=\n",
       "array([[-1.189],\n",
       "       [ 0.983],\n",
       "       [-0.291],\n",
       "       [-4.231],\n",
       "       [ 0.172],\n",
       "       [ 2.588],\n",
       "       [ 0.148],\n",
       "       [ 0.627],\n",
       "       [-1.084]], dtype=float32)>"
      ]
     },
     "execution_count": 70,
     "metadata": {},
     "output_type": "execute_result"
    }
   ],
   "source": [
    "linear_model.layers[0].kernel"
   ]
  },
  {
   "cell_type": "code",
   "execution_count": 71,
   "metadata": {},
   "outputs": [
    {
     "data": {
      "text/plain": [
       "['loss', 'mse', 'mae']"
      ]
     },
     "execution_count": 71,
     "metadata": {},
     "output_type": "execute_result"
    }
   ],
   "source": [
    "linear_model.metrics_names"
   ]
  },
  {
   "cell_type": "code",
   "execution_count": 72,
   "metadata": {},
   "outputs": [],
   "source": [
    "linear_preds = linear_model.predict(X_test).flatten()"
   ]
  },
  {
   "cell_type": "code",
   "execution_count": 73,
   "metadata": {},
   "outputs": [
    {
     "data": {
      "image/png": "[encoded data removed]",
      "text/plain": [
       "<Figure size 504x504 with 1 Axes>"
      ]
     },
     "metadata": {
      "needs_background": "light"
     },
     "output_type": "display_data"
    }
   ],
   "source": [
    "figPL, axPL = plt.subplots(1, figsize=(7,7))\n",
    "#evaluation_plot = plt.axes(aspect='equal')\n",
    "axPL.scatter(Y_test, linear_preds)#Scatter Plot\n",
    "axPL.set_ylabel('Predictions [mpg]')#Y for Predictions\n",
    "axPL.set_xlabel('Actual Values [mpg]')#X for Actual Values\n",
    "axPL.set_xlim([0, 50])\n",
    "axPL.set_ylim([0, 50])\n",
    "axPL.plot([0, 50], [0, 50]) #line plot for comparison\n",
    "axPL.set_aspect('equal')"
   ]
  },
  {
   "cell_type": "code",
   "execution_count": 74,
   "metadata": {},
   "outputs": [
    {
     "data": {
      "image/png": "[encoded data removed]",
      "text/plain": [
       "<Figure size 432x288 with 1 Axes>"
      ]
     },
     "metadata": {
      "needs_background": "light"
     },
     "output_type": "display_data"
    }
   ],
   "source": [
    "plot_loss(linear_history)"
   ]
  },
  {
   "cell_type": "markdown",
   "metadata": {},
   "source": [
    "## Create a model with only one feature"
   ]
  },
  {
   "cell_type": "code",
   "execution_count": 75,
   "metadata": {},
   "outputs": [],
   "source": [
    "def scalerDF(Xdf):\n",
    "    '''\n",
    "    a simple function to normalize the features\n",
    "    '''\n",
    "    scaler = StandardScaler()\n",
    "    scaler.fit(Xdf)\n",
    "    scaled = scaler.fit_transform(Xdf)\n",
    "    if isinstance(Xdf, pd.DataFrame):\n",
    "        scaled = pd.DataFrame(scaled, columns=Xdf.columns)\n",
    "    return scaled"
   ]
  },
  {
   "cell_type": "markdown",
   "metadata": {},
   "source": [
    "#### If you wish to normalize all features and create a pandas DataFrame"
   ]
  },
  {
   "cell_type": "code",
   "execution_count": 76,
   "metadata": {},
   "outputs": [],
   "source": [
    "X_train_df = scalerDF(train_features[name_features])\n",
    "X_test_df = scalerDF(test_features[name_features])"
   ]
  },
  {
   "cell_type": "code",
   "execution_count": 77,
   "metadata": {},
   "outputs": [
    {
     "data": {
      "text/plain": [
       "pandas.core.frame.DataFrame"
      ]
     },
     "execution_count": 77,
     "metadata": {},
     "output_type": "execute_result"
    }
   ],
   "source": [
    "type(X_train_df)"
   ]
  },
  {
   "cell_type": "code",
   "execution_count": 78,
   "metadata": {},
   "outputs": [
    {
     "data": {
      "text/html": [
       "<div>\n",
       "<style scoped>\n",
       "    .dataframe tbody tr th:only-of-type {\n",
       "        vertical-align: middle;\n",
       "    }\n",
       "\n",
       "    .dataframe tbody tr th {\n",
       "        vertical-align: top;\n",
       "    }\n",
       "\n",
       "    .dataframe thead th {\n",
       "        text-align: right;\n",
       "    }\n",
       "</style>\n",
       "<table border=\"1\" class=\"dataframe\">\n",
       "  <thead>\n",
       "    <tr style=\"text-align: right;\">\n",
       "      <th></th>\n",
       "      <th>Cylinders</th>\n",
       "      <th>Displacement</th>\n",
       "      <th>Horsepower</th>\n",
       "      <th>Weight</th>\n",
       "      <th>Acceleration</th>\n",
       "      <th>Europe</th>\n",
       "      <th>Japan</th>\n",
       "      <th>USA</th>\n",
       "    </tr>\n",
       "  </thead>\n",
       "  <tbody>\n",
       "    <tr>\n",
       "      <th>0</th>\n",
       "      <td>1.498267</td>\n",
       "      <td>1.983699</td>\n",
       "      <td>2.270194</td>\n",
       "      <td>1.728038</td>\n",
       "      <td>-1.108329</td>\n",
       "      <td>-0.458123</td>\n",
       "      <td>-0.532769</td>\n",
       "      <td>0.80727</td>\n",
       "    </tr>\n",
       "    <tr>\n",
       "      <th>1</th>\n",
       "      <td>0.332948</td>\n",
       "      <td>0.550264</td>\n",
       "      <td>-0.426415</td>\n",
       "      <td>0.215275</td>\n",
       "      <td>-0.373774</td>\n",
       "      <td>-0.458123</td>\n",
       "      <td>-0.532769</td>\n",
       "      <td>0.80727</td>\n",
       "    </tr>\n",
       "    <tr>\n",
       "      <th>2</th>\n",
       "      <td>0.332948</td>\n",
       "      <td>0.311358</td>\n",
       "      <td>-0.373540</td>\n",
       "      <td>0.500613</td>\n",
       "      <td>1.168792</td>\n",
       "      <td>-0.458123</td>\n",
       "      <td>-0.532769</td>\n",
       "      <td>0.80727</td>\n",
       "    </tr>\n",
       "    <tr>\n",
       "      <th>3</th>\n",
       "      <td>1.498267</td>\n",
       "      <td>1.200088</td>\n",
       "      <td>2.798941</td>\n",
       "      <td>1.680875</td>\n",
       "      <td>-0.741051</td>\n",
       "      <td>-0.458123</td>\n",
       "      <td>-0.532769</td>\n",
       "      <td>0.80727</td>\n",
       "    </tr>\n",
       "    <tr>\n",
       "      <th>4</th>\n",
       "      <td>1.498267</td>\n",
       "      <td>1.601450</td>\n",
       "      <td>1.873634</td>\n",
       "      <td>1.019409</td>\n",
       "      <td>-1.659245</td>\n",
       "      <td>-0.458123</td>\n",
       "      <td>-0.532769</td>\n",
       "      <td>0.80727</td>\n",
       "    </tr>\n",
       "  </tbody>\n",
       "</table>\n",
       "</div>"
      ],
      "text/plain": [
       "   Cylinders  Displacement  Horsepower    Weight  Acceleration    Europe  \\\n",
       "0   1.498267      1.983699    2.270194  1.728038     -1.108329 -0.458123   \n",
       "1   0.332948      0.550264   -0.426415  0.215275     -0.373774 -0.458123   \n",
       "2   0.332948      0.311358   -0.373540  0.500613      1.168792 -0.458123   \n",
       "3   1.498267      1.200088    2.798941  1.680875     -0.741051 -0.458123   \n",
       "4   1.498267      1.601450    1.873634  1.019409     -1.659245 -0.458123   \n",
       "\n",
       "      Japan      USA  \n",
       "0 -0.532769  0.80727  \n",
       "1 -0.532769  0.80727  \n",
       "2 -0.532769  0.80727  \n",
       "3 -0.532769  0.80727  \n",
       "4 -0.532769  0.80727  "
      ]
     },
     "execution_count": 78,
     "metadata": {},
     "output_type": "execute_result"
    }
   ],
   "source": [
    "X_train_df.head()"
   ]
  },
  {
   "cell_type": "markdown",
   "metadata": {},
   "source": [
    "#### Choose `Horsepower` as the single feature:"
   ]
  },
  {
   "cell_type": "code",
   "execution_count": 79,
   "metadata": {},
   "outputs": [
    {
     "data": {
      "text/plain": [
       "1"
      ]
     },
     "execution_count": 79,
     "metadata": {},
     "output_type": "execute_result"
    }
   ],
   "source": [
    "hp = np.array(X_train_df.Horsepower).reshape(-1,1)\n",
    "hp.shape[1]"
   ]
  },
  {
   "cell_type": "code",
   "execution_count": 80,
   "metadata": {},
   "outputs": [],
   "source": [
    "hp_model = Sequential([layers.Dense(8, activation='relu', input_shape=[hp.shape[1]]),\n",
    "                       layers.Dense(64, activation='relu'),\n",
    "                       layers.Dense(64, activation='relu'),\n",
    "                       layers.Dense(1)]\n",
    "                     )"
   ]
  },
  {
   "cell_type": "code",
   "execution_count": 81,
   "metadata": {},
   "outputs": [],
   "source": [
    "hp_model.compile(loss='mean_absolute_error', \n",
    "                 optimizer=tf.keras.optimizers.Adam(0.001)\n",
    "                )"
   ]
  },
  {
   "cell_type": "code",
   "execution_count": 82,
   "metadata": {},
   "outputs": [
    {
     "name": "stdout",
     "output_type": "stream",
     "text": [
      "Model: \"sequential_2\"\n",
      "_________________________________________________________________\n",
      "Layer (type)                 Output Shape              Param #   \n",
      "=================================================================\n",
      "dense_5 (Dense)              (None, 8)                 16        \n",
      "_________________________________________________________________\n",
      "dense_6 (Dense)              (None, 64)                576       \n",
      "_________________________________________________________________\n",
      "dense_7 (Dense)              (None, 64)                4160      \n",
      "_________________________________________________________________\n",
      "dense_8 (Dense)              (None, 1)                 65        \n",
      "=================================================================\n",
      "Total params: 4,817\n",
      "Trainable params: 4,817\n",
      "Non-trainable params: 0\n",
      "_________________________________________________________________\n"
     ]
    }
   ],
   "source": [
    "hp_model.summary()"
   ]
  },
  {
   "cell_type": "code",
   "execution_count": 83,
   "metadata": {},
   "outputs": [],
   "source": [
    "hp_history = hp_model.fit(hp, Y_train,\n",
    "                          validation_split=0.2,\n",
    "                          verbose=0, \n",
    "                          epochs=100\n",
    "                         )"
   ]
  },
  {
   "cell_type": "code",
   "execution_count": 84,
   "metadata": {},
   "outputs": [
    {
     "data": {
      "image/png": "[encoded data removed]",
      "text/plain": [
       "<Figure size 432x288 with 1 Axes>"
      ]
     },
     "metadata": {
      "needs_background": "light"
     },
     "output_type": "display_data"
    }
   ],
   "source": [
    "plot_loss(hp_history)"
   ]
  },
  {
   "cell_type": "markdown",
   "metadata": {},
   "source": [
    "### Make predictions and fit the \"line\""
   ]
  },
  {
   "cell_type": "code",
   "execution_count": 85,
   "metadata": {},
   "outputs": [],
   "source": [
    "x = np.linspace(0.0, 250, 251)\n",
    "x_scaled = scalerDF(x.reshape(-1,1))\n",
    "y = hp_model.predict(x_scaled)"
   ]
  },
  {
   "cell_type": "code",
   "execution_count": 86,
   "metadata": {},
   "outputs": [
    {
     "data": {
      "text/plain": [
       "((251,), (251, 1))"
      ]
     },
     "execution_count": 86,
     "metadata": {},
     "output_type": "execute_result"
    }
   ],
   "source": [
    "x.shape, x_scaled.shape"
   ]
  },
  {
   "cell_type": "code",
   "execution_count": 87,
   "metadata": {},
   "outputs": [
    {
     "data": {
      "text/plain": [
       "<matplotlib.legend.Legend at 0x7fda4968ba50>"
      ]
     },
     "execution_count": 87,
     "metadata": {},
     "output_type": "execute_result"
    },
    {
     "data": {
      "image/png": "[encoded data removed]",
      "text/plain": [
       "<Figure size 648x360 with 1 Axes>"
      ]
     },
     "metadata": {
      "needs_background": "light"
     },
     "output_type": "display_data"
    }
   ],
   "source": [
    "figL, axL = plt.subplots(1, figsize=(9,5))\n",
    "axL.scatter(train_features.Horsepower, Y_train, label='Data')\n",
    "axL.plot(x, y, color='k', label='Predictions')\n",
    "axL.set_xlabel('Horsepower')\n",
    "axL.set_ylabel('MPG')\n",
    "plt.legend()"
   ]
  },
  {
   "cell_type": "code",
   "execution_count": 88,
   "metadata": {},
   "outputs": [
    {
     "data": {
      "text/plain": [
       "<tf.Variable 'dense_5/kernel:0' shape=(1, 8) dtype=float32, numpy=\n",
       "array([[-0.857,  0.745,  0.352,  0.344,  0.493,  0.824, -0.201,  0.461]],\n",
       "      dtype=float32)>"
      ]
     },
     "execution_count": 88,
     "metadata": {},
     "output_type": "execute_result"
    }
   ],
   "source": [
    "hp_model.layers[0].kernel"
   ]
  },
  {
   "cell_type": "code",
   "execution_count": 89,
   "metadata": {},
   "outputs": [
    {
     "name": "stderr",
     "output_type": "stream",
     "text": [
      "UsageError: Line magic function `%%script` not found.\n"
     ]
    }
   ],
   "source": [
    "# The following line is to stop the execution of the notebook after this cell:\n",
    "\n",
    "%%script false --no-raise-error"
   ]
  },
  {
   "cell_type": "markdown",
   "metadata": {
    "id": "KSyaHUfDT-mZ"
   },
   "source": [
    "### If you're happy with the model, save it for later use with `Model.save`:"
   ]
  },
  {
   "cell_type": "code",
   "execution_count": null,
   "metadata": {
    "execution": {
     "iopub.execute_input": "2022-02-10T18:50:01.613251Z",
     "iopub.status.busy": "2022-02-10T18:50:01.612486Z",
     "iopub.status.idle": "2022-02-10T18:50:02.182706Z",
     "shell.execute_reply": "2022-02-10T18:50:02.182142Z"
    },
    "id": "4-WwLlmfT-mb"
   },
   "outputs": [],
   "source": [
    "dnn_model.save('dnn_model')"
   ]
  },
  {
   "cell_type": "markdown",
   "metadata": {
    "id": "Benlnl8UT-me"
   },
   "source": [
    "If you reload the model, it gives identical output:"
   ]
  },
  {
   "cell_type": "code",
   "execution_count": null,
   "metadata": {
    "execution": {
     "iopub.execute_input": "2022-02-10T18:50:02.187652Z",
     "iopub.status.busy": "2022-02-10T18:50:02.187050Z",
     "iopub.status.idle": "2022-02-10T18:50:02.513620Z",
     "shell.execute_reply": "2022-02-10T18:50:02.513107Z"
    },
    "id": "dyyyj2zVT-mf"
   },
   "outputs": [],
   "source": [
    "reloaded = tf.keras.models.load_model('dnn_model')\n",
    "\n",
    "test_results['reloaded'] = reloaded.evaluate(test_features,\n",
    "                                             test_labels,\n",
    "                                             verbose=0\n",
    "                                            )"
   ]
  },
  {
   "cell_type": "code",
   "execution_count": null,
   "metadata": {
    "execution": {
     "iopub.execute_input": "2022-02-10T18:50:02.521391Z",
     "iopub.status.busy": "2022-02-10T18:50:02.520817Z",
     "iopub.status.idle": "2022-02-10T18:50:02.524379Z",
     "shell.execute_reply": "2022-02-10T18:50:02.523866Z"
    },
    "id": "f_GchJ2tg-2o"
   },
   "outputs": [],
   "source": [
    "pd.DataFrame(test_results, index=['Mean absolute error [MPG]']).T"
   ]
  },
  {
   "cell_type": "markdown",
   "metadata": {
    "id": "vgGQuV-yqYZH"
   },
   "source": [
    "## What to pay attention:\n",
    "\n",
    "- Mean squared error (MSE) (`tf.keras.losses.MeanSquaredError`) and mean absolute error (MAE) (`tf.keras.losses.MeanAbsoluteError`) are common loss functions used for regression problems. MAE is less sensitive to outliers. Different loss functions are used for classification problems.\n",
    "- Similarly, evaluation metrics used for regression differ from classification.\n",
    "- When numeric input data features have values with different ranges, each feature should be scaled independently to the same range.\n",
    "- Overfitting is a common problem for DNN models, though it wasn't a problem for this tutorial. Visit the [Overfit and underfit](overfit_and_underfit.ipynb) tutorial for more help with this."
   ]
  },
  {
   "cell_type": "markdown",
   "metadata": {},
   "source": [
    "## Hyperparameter Tuning"
   ]
  },
  {
   "cell_type": "code",
   "execution_count": null,
   "metadata": {},
   "outputs": [],
   "source": []
  }
 ],
 "metadata": {
  "colab": {
   "collapsed_sections": [],
   "name": "regression.ipynb",
   "toc_visible": true
  },
  "kernelspec": {
   "display_name": "Python 3 (ipykernel)",
   "language": "python",
   "name": "python3"
  },
  "language_info": {
   "codemirror_mode": {
    "name": "ipython",
    "version": 3
   },
   "file_extension": ".py",
   "mimetype": "text/x-python",
   "name": "python",
   "nbconvert_exporter": "python",
   "pygments_lexer": "ipython3",
   "version": "3.7.7"
  }
 },
 "nbformat": 4,
 "nbformat_minor": 1
}
