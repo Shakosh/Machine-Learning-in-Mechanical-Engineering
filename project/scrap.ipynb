{
 "cells": [
  {
   "cell_type": "code",
   "execution_count": null,
   "metadata": {},
   "outputs": [],
   "source": [
    "Best: 0.800507 using {'batch_size': 10, 'epochs': 20, 'n_hidden': 2, 'nodes': 20}"
   ]
  }
 ],
 "metadata": {
  "language_info": {
   "name": "python"
  },
  "orig_nbformat": 4
 },
 "nbformat": 4,
 "nbformat_minor": 2
}
