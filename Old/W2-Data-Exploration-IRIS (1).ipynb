{
 "cells": [
  {
   "cell_type": "markdown",
   "id": "8ee859bf",
   "metadata": {},
   "source": [
    "# Data Exploration with Pandas\n",
    "\n",
    "## Load the `python` modules"
   ]
  },
  {
   "cell_type": "code",
   "execution_count": null,
   "id": "d0cc3955",
   "metadata": {},
   "outputs": [],
   "source": [
    "import pandas as pd\n",
    "import numpy as np\n",
    "import operator\n",
    "import seaborn as sns\n",
    "import matplotlib.pyplot as plt\n",
    "\n",
    "#from sklearn import datasets\n",
    "from sklearn.datasets import load_iris\n",
    "\n",
    "%matplotlib inline"
   ]
  },
  {
   "cell_type": "markdown",
   "id": "5d675812",
   "metadata": {},
   "source": [
    "### Load the dataset"
   ]
  },
  {
   "cell_type": "code",
   "execution_count": null,
   "id": "1f178df0",
   "metadata": {},
   "outputs": [],
   "source": [
    "iris = load_iris()"
   ]
  },
  {
   "cell_type": "markdown",
   "id": "d497a615",
   "metadata": {},
   "source": [
    "#### Explore the information within the dataset:"
   ]
  },
  {
   "cell_type": "code",
   "execution_count": null,
   "id": "93735bfd",
   "metadata": {
    "scrolled": false
   },
   "outputs": [],
   "source": [
    "iris"
   ]
  },
  {
   "cell_type": "markdown",
   "id": "edcfd1f7",
   "metadata": {},
   "source": [
    "A sample of the dataset's information:\n",
    "\n",
    "```python\n",
    "'data': array([[5.1, 3.5, 1.4, 0.2],\n",
    "              ...\n",
    "              [5.9, 3. , 5.1, 1.8]]),\n",
    "              \n",
    "'target': array([0, 0, 0, ..., 1, 1, 1, ..., 2, 2, 2]),\n",
    "\n",
    "'target_names': array(['setosa', 'versicolor', 'virginica'], dtype='<U10'),\n",
    "\n",
    "'feature_names': ['sepal length (cm)',\n",
    "                  'sepal width (cm)',\n",
    "                  'petal length (cm)',\n",
    "                  'petal width (cm)'],\n",
    "  \n",
    "'filename': 'iris.csv',\n",
    "```"
   ]
  },
  {
   "cell_type": "markdown",
   "id": "705b1a75",
   "metadata": {},
   "source": [
    "#### Extract some of this information:"
   ]
  },
  {
   "cell_type": "code",
   "execution_count": null,
   "id": "0596a1ad",
   "metadata": {},
   "outputs": [],
   "source": [
    "# the names of the columns (features)\n",
    "iris.feature_names"
   ]
  },
  {
   "cell_type": "code",
   "execution_count": null,
   "id": "fe856db6",
   "metadata": {},
   "outputs": [],
   "source": [
    "# the names of the target classes:\n",
    "iris.target_names\n",
    "target_names = iris.target_names\n",
    "print(target_names)"
   ]
  },
  {
   "cell_type": "code",
   "execution_count": null,
   "id": "8a11c7e1",
   "metadata": {},
   "outputs": [],
   "source": [
    "# the target classes coding is accessed as:\n",
    "iris.target"
   ]
  },
  {
   "cell_type": "markdown",
   "id": "fcaec536",
   "metadata": {},
   "source": [
    "## Convert the dataset into a pandas dataframe:"
   ]
  },
  {
   "cell_type": "markdown",
   "id": "a77ab578",
   "metadata": {},
   "source": [
    "# Table 3.1: Common DataFrame Operations\n",
    "\n",
    "| DESCRIPTION |CODE EXAMPLES |\n",
    "|:-------------|:-------------|\n",
    "|Extract a range of rows using row numbers |`df[2:4]`|\n",
    "| | `df.iloc[2:4]` |\n",
    "|Extract a single row using row number | `df.iloc[2]`|\n",
    "|Extract a range of rows and range of columns | `df.iloc[2:4, 1:4]`|\n",
    "|Extract a range of rows and specific columns using positional values | `df.iloc[2:4, [1,3]]`|\n",
    "|Extract specific row(s) and column(s)| `df.iloc[[2,4], [1,3]]` |\n",
    "|Extract a range of rows using labels | `df['20190601':'20190603']`|\n",
    "|Extract a single row based on its label | `df.loc['20190601'] `|\n",
    "|Extract specific row(s) using their labels | `df.loc[[date1,date2]]`|\n",
    "|Extract specific row(s) and column(s) using their labels | `df.loc[[date1,date2], ['A','C']]`|\n",
    "| | `df.loc[[date1,date2], 'A':'C']` |\n",
    "|Extract a range of rows and columns using their labels | `df.loc[date1:date2, 'A':'C']` |"
   ]
  },
  {
   "cell_type": "code",
   "execution_count": null,
   "id": "8eec9732",
   "metadata": {},
   "outputs": [],
   "source": [
    "# convert the dataset into a pandas dataframe (just a matter of taste!)\n",
    "iris_df = pd.DataFrame(data=iris.data, columns=iris.feature_names)"
   ]
  },
  {
   "cell_type": "code",
   "execution_count": null,
   "id": "35193404",
   "metadata": {},
   "outputs": [],
   "source": [
    "iris_df.index"
   ]
  },
  {
   "cell_type": "code",
   "execution_count": null,
   "id": "367c24bd",
   "metadata": {},
   "outputs": [],
   "source": [
    "iris_df.isnull().any()"
   ]
  },
  {
   "cell_type": "code",
   "execution_count": null,
   "id": "f348dc53",
   "metadata": {},
   "outputs": [],
   "source": [
    "iris_df.isnull().sum(axis=1).loc[:10]"
   ]
  },
  {
   "cell_type": "code",
   "execution_count": null,
   "id": "c350dc6c",
   "metadata": {},
   "outputs": [],
   "source": [
    "iris_df.isnull().sum()"
   ]
  },
  {
   "cell_type": "code",
   "execution_count": null,
   "id": "2fde97df",
   "metadata": {},
   "outputs": [],
   "source": [
    "iris_df.isnull().mean()*100"
   ]
  },
  {
   "cell_type": "code",
   "execution_count": null,
   "id": "ea5b0199",
   "metadata": {
    "scrolled": false
   },
   "outputs": [],
   "source": [
    "iris_df.values"
   ]
  },
  {
   "cell_type": "code",
   "execution_count": null,
   "id": "f704e35c",
   "metadata": {},
   "outputs": [],
   "source": [
    "iris_df.shape"
   ]
  },
  {
   "cell_type": "code",
   "execution_count": null,
   "id": "149c52e1",
   "metadata": {},
   "outputs": [],
   "source": [
    "iris_df.dtypes"
   ]
  },
  {
   "cell_type": "markdown",
   "id": "ea5d4f98",
   "metadata": {},
   "source": [
    "#### Check if there are duplicate entries:"
   ]
  },
  {
   "cell_type": "code",
   "execution_count": null,
   "id": "5f97cd08",
   "metadata": {},
   "outputs": [],
   "source": [
    "iris_df.duplicated()"
   ]
  },
  {
   "cell_type": "code",
   "execution_count": null,
   "id": "c5c049e7",
   "metadata": {},
   "outputs": [],
   "source": [
    "duplicates = iris_df.duplicated()\n",
    "iris_df[duplicates]"
   ]
  },
  {
   "cell_type": "markdown",
   "id": "19ff8341",
   "metadata": {},
   "source": [
    "#### Removing duplicate rows\n",
    "\n",
    "**`CAUTION`: if necessary, depends on the case study**\n",
    "```python\n",
    "iris_df.drop_duplicates(inplace=True)\n",
    "```"
   ]
  },
  {
   "cell_type": "markdown",
   "id": "6403b9ca",
   "metadata": {},
   "source": [
    "#### Display the FIRST five entries of the dataframe:"
   ]
  },
  {
   "cell_type": "code",
   "execution_count": null,
   "id": "09c8d307",
   "metadata": {},
   "outputs": [],
   "source": [
    "iris_df.head()"
   ]
  },
  {
   "cell_type": "markdown",
   "id": "c2b1f911",
   "metadata": {},
   "source": [
    "#### Display the LAST five entries of the dataframe:"
   ]
  },
  {
   "cell_type": "code",
   "execution_count": null,
   "id": "7e6d171d",
   "metadata": {},
   "outputs": [],
   "source": [
    "iris_df.tail()"
   ]
  },
  {
   "cell_type": "markdown",
   "id": "72a037c8",
   "metadata": {},
   "source": [
    "#### Change the names of the columns (features):"
   ]
  },
  {
   "cell_type": "code",
   "execution_count": null,
   "id": "0df08d41",
   "metadata": {},
   "outputs": [],
   "source": [
    "iris_features = [\"sepal_length\", \"sepal_width\", \"petal_length\", \"petal_width\"]\n",
    "iris_df.columns = iris_features"
   ]
  },
  {
   "cell_type": "markdown",
   "id": "01fc58c3",
   "metadata": {},
   "source": [
    "### Add a column of the target classes to the dataframe:"
   ]
  },
  {
   "cell_type": "code",
   "execution_count": null,
   "id": "9907271e",
   "metadata": {},
   "outputs": [],
   "source": [
    "iris_df[\"target\"] = iris.target\n",
    "iris_df.head()"
   ]
  },
  {
   "cell_type": "markdown",
   "id": "5a8c0246",
   "metadata": {},
   "source": [
    "### Display selected columns only:"
   ]
  },
  {
   "cell_type": "code",
   "execution_count": null,
   "id": "e671bc3b",
   "metadata": {},
   "outputs": [],
   "source": [
    "iris_df.sepal_length"
   ]
  },
  {
   "cell_type": "code",
   "execution_count": null,
   "id": "5b2973c4",
   "metadata": {},
   "outputs": [],
   "source": [
    "iris_df['sepal_length']"
   ]
  },
  {
   "cell_type": "code",
   "execution_count": null,
   "id": "e26fdb6a",
   "metadata": {},
   "outputs": [],
   "source": [
    "iris_df[['sepal_length', 'sepal_width']]"
   ]
  },
  {
   "cell_type": "code",
   "execution_count": null,
   "id": "7b281a0c",
   "metadata": {},
   "outputs": [],
   "source": [
    "# grouped selected columns:\n",
    "iris_df[iris_features]"
   ]
  },
  {
   "cell_type": "markdown",
   "id": "710d3f77",
   "metadata": {},
   "source": [
    "### Display selected entries only:"
   ]
  },
  {
   "cell_type": "code",
   "execution_count": null,
   "id": "caf6d7aa",
   "metadata": {},
   "outputs": [],
   "source": [
    "iris_df.index"
   ]
  },
  {
   "cell_type": "markdown",
   "id": "ec103c5f",
   "metadata": {},
   "source": [
    "#### Extract rows based on row number:"
   ]
  },
  {
   "cell_type": "code",
   "execution_count": null,
   "id": "5a8e09ad",
   "metadata": {},
   "outputs": [],
   "source": [
    "iris_df.iloc[0]"
   ]
  },
  {
   "cell_type": "code",
   "execution_count": null,
   "id": "8b00d835",
   "metadata": {},
   "outputs": [],
   "source": [
    "iris_df.iloc[1]"
   ]
  },
  {
   "cell_type": "code",
   "execution_count": null,
   "id": "f53c0204",
   "metadata": {},
   "outputs": [],
   "source": [
    "iris_df.iloc[0:3]"
   ]
  },
  {
   "cell_type": "code",
   "execution_count": null,
   "id": "67acabc2",
   "metadata": {},
   "outputs": [],
   "source": [
    "iris_df.iloc[0:12:3]"
   ]
  },
  {
   "cell_type": "code",
   "execution_count": null,
   "id": "b5de4731",
   "metadata": {},
   "outputs": [],
   "source": [
    "iris_df.iloc[-1]"
   ]
  },
  {
   "cell_type": "markdown",
   "id": "65bcdd53",
   "metadata": {},
   "source": [
    "### Slicing Based on Row and Column Numbers"
   ]
  },
  {
   "cell_type": "code",
   "execution_count": null,
   "id": "ce87b572",
   "metadata": {},
   "outputs": [],
   "source": [
    "iris_df.iloc[2:4, 1:4]"
   ]
  },
  {
   "cell_type": "code",
   "execution_count": null,
   "id": "3ddda9b3",
   "metadata": {},
   "outputs": [],
   "source": [
    "iris_df.iloc[[2,4], [1,3]]"
   ]
  },
  {
   "cell_type": "code",
   "execution_count": null,
   "id": "72f7ffab",
   "metadata": {},
   "outputs": [],
   "source": [
    "iris_df.loc[0]"
   ]
  },
  {
   "cell_type": "code",
   "execution_count": null,
   "id": "658bc9b5",
   "metadata": {},
   "outputs": [],
   "source": [
    "iris_df.loc[0, ['sepal_length', 'petal_width']]"
   ]
  },
  {
   "cell_type": "code",
   "execution_count": null,
   "id": "aa9b6ff8",
   "metadata": {},
   "outputs": [],
   "source": [
    "iris_df.loc[0:3, ['sepal_length', 'petal_width']]"
   ]
  },
  {
   "cell_type": "code",
   "execution_count": null,
   "id": "0c10bca0",
   "metadata": {},
   "outputs": [],
   "source": [
    "iris_df.loc[0:3, 'sepal_length':'petal_width']"
   ]
  },
  {
   "cell_type": "markdown",
   "id": "1cf771ed",
   "metadata": {},
   "source": [
    "#### Selecting a Single Cell in a DataFrame:"
   ]
  },
  {
   "cell_type": "code",
   "execution_count": null,
   "id": "607c3c86",
   "metadata": {},
   "outputs": [],
   "source": [
    "iris_df.at[2, 'sepal_length']"
   ]
  },
  {
   "cell_type": "code",
   "execution_count": null,
   "id": "fa9e3f4f",
   "metadata": {},
   "outputs": [],
   "source": [
    "iris_df.at[3, 'petal_length']"
   ]
  },
  {
   "cell_type": "code",
   "execution_count": null,
   "id": "2b17253f",
   "metadata": {},
   "outputs": [],
   "source": [
    "iris_df.sepal_length[0]"
   ]
  },
  {
   "cell_type": "markdown",
   "id": "17a0a2c6",
   "metadata": {},
   "source": [
    "### Selecting Based on Cell Value"
   ]
  },
  {
   "cell_type": "code",
   "execution_count": null,
   "id": "798378eb",
   "metadata": {},
   "outputs": [],
   "source": [
    "iris_df[(iris_df.sepal_length > 6.8) & (iris_df.petal_length > 6.0)]"
   ]
  },
  {
   "cell_type": "code",
   "execution_count": null,
   "id": "dfcebfdc",
   "metadata": {},
   "outputs": [],
   "source": [
    "iris_df[iris_df.sepal_length > 7.4]"
   ]
  },
  {
   "cell_type": "markdown",
   "id": "b164f667",
   "metadata": {},
   "source": [
    "### Add a column for the target classes that contains the names of the species:\n",
    "\n",
    "#### First way:"
   ]
  },
  {
   "cell_type": "code",
   "execution_count": null,
   "id": "82d24533",
   "metadata": {},
   "outputs": [],
   "source": [
    "# add a target column with the target names\n",
    "iris_df['species'] = iris_df['target']\n",
    "iris_df.head()"
   ]
  },
  {
   "cell_type": "code",
   "execution_count": null,
   "id": "75fd7e63",
   "metadata": {},
   "outputs": [],
   "source": [
    "# change the 0, 1, 2 coding to the species name:\n",
    "iris_df['species'].replace([0, 1, 2], target_names, inplace=True)\n",
    "iris_df.head()"
   ]
  },
  {
   "cell_type": "markdown",
   "id": "df43e634",
   "metadata": {},
   "source": [
    "#### An alternative way:"
   ]
  },
  {
   "cell_type": "code",
   "execution_count": null,
   "id": "b959931a",
   "metadata": {},
   "outputs": [],
   "source": [
    "iris_df['species_alt'] = iris_df.target\n",
    "iris_df.head()"
   ]
  },
  {
   "cell_type": "code",
   "execution_count": null,
   "id": "c71acbea",
   "metadata": {},
   "outputs": [],
   "source": [
    "iris_df.loc[iris_df.species_alt == 0, 'species_alt'] = 'sentosa'\n",
    "iris_df.loc[iris_df.species_alt == 1, 'species_alt'] = 'versicolor'\n",
    "iris_df.loc[iris_df.species_alt == 2, 'species_alt'] = 'virginica'\n",
    "iris_df.head()"
   ]
  },
  {
   "cell_type": "markdown",
   "id": "2c9e48f3",
   "metadata": {},
   "source": [
    "#### A more `pythonian` way:"
   ]
  },
  {
   "cell_type": "code",
   "execution_count": null,
   "id": "a4fd8ae1",
   "metadata": {},
   "outputs": [],
   "source": [
    "iris_df['species_alt2'] = [iris.target_names[x] for x in iris.target]\n",
    "iris_df"
   ]
  },
  {
   "cell_type": "markdown",
   "id": "1a225160",
   "metadata": {},
   "source": [
    "### Remove columns or rows:"
   ]
  },
  {
   "cell_type": "code",
   "execution_count": null,
   "id": "7777c92c",
   "metadata": {},
   "outputs": [],
   "source": [
    "iris_df.drop('species_alt2', axis=1)"
   ]
  },
  {
   "cell_type": "code",
   "execution_count": null,
   "id": "4695e5c5",
   "metadata": {},
   "outputs": [],
   "source": [
    "iris_df.head()"
   ]
  },
  {
   "cell_type": "code",
   "execution_count": null,
   "id": "07655d14",
   "metadata": {},
   "outputs": [],
   "source": [
    "iris_df.drop(iris_df.columns[-1], axis=1)"
   ]
  },
  {
   "cell_type": "code",
   "execution_count": null,
   "id": "0875e0dd",
   "metadata": {},
   "outputs": [],
   "source": [
    "iris_df.head()"
   ]
  },
  {
   "cell_type": "code",
   "execution_count": null,
   "id": "927c6f74",
   "metadata": {
    "scrolled": true
   },
   "outputs": [],
   "source": [
    "iris_df = iris_df.drop(['species_alt','species_alt2'], axis=1)\n",
    "iris_df.head()"
   ]
  },
  {
   "cell_type": "code",
   "execution_count": null,
   "id": "c24b65f0",
   "metadata": {},
   "outputs": [],
   "source": [
    "pd.get_dummies(iris_df, drop_first=False)"
   ]
  },
  {
   "cell_type": "markdown",
   "id": "d88080d1",
   "metadata": {},
   "source": [
    "### Descriptive Statistics on the DataFrame"
   ]
  },
  {
   "cell_type": "code",
   "execution_count": null,
   "id": "18620b45",
   "metadata": {},
   "outputs": [],
   "source": [
    "# Check the data type of each field:\n",
    "iris_df.info()"
   ]
  },
  {
   "cell_type": "code",
   "execution_count": null,
   "id": "c02e6ebb",
   "metadata": {},
   "outputs": [],
   "source": [
    "iris_df.mean()"
   ]
  },
  {
   "cell_type": "code",
   "execution_count": null,
   "id": "e0c476e1",
   "metadata": {},
   "outputs": [],
   "source": [
    "# compute the mean for each column:\n",
    "iris_df.mean(0)"
   ]
  },
  {
   "cell_type": "code",
   "execution_count": null,
   "id": "39125609",
   "metadata": {},
   "outputs": [],
   "source": [
    "# compute the mean for each row:\n",
    "iris_df.mean(1)"
   ]
  },
  {
   "cell_type": "code",
   "execution_count": null,
   "id": "204bdad4",
   "metadata": {},
   "outputs": [],
   "source": [
    "iris_df['sepal_length'].mean()"
   ]
  },
  {
   "cell_type": "markdown",
   "id": "c04e8768",
   "metadata": {},
   "source": [
    "#### Check if the instance is a dataframe or a series:"
   ]
  },
  {
   "cell_type": "code",
   "execution_count": null,
   "id": "ca4a4504",
   "metadata": {},
   "outputs": [],
   "source": [
    "isinstance(iris_df, pd.DataFrame)"
   ]
  },
  {
   "cell_type": "code",
   "execution_count": null,
   "id": "e5161224",
   "metadata": {},
   "outputs": [],
   "source": [
    "isinstance(iris_df, pd.Series)"
   ]
  },
  {
   "cell_type": "markdown",
   "id": "2489d3e7",
   "metadata": {},
   "source": [
    "#### The function `describe()`"
   ]
  },
  {
   "cell_type": "code",
   "execution_count": null,
   "id": "3def5238",
   "metadata": {},
   "outputs": [],
   "source": [
    "iris_df.describe()"
   ]
  },
  {
   "cell_type": "code",
   "execution_count": null,
   "id": "3f6de54d",
   "metadata": {},
   "outputs": [],
   "source": [
    "iris_df.sepal_length.describe()"
   ]
  },
  {
   "cell_type": "code",
   "execution_count": null,
   "id": "fd24c807",
   "metadata": {},
   "outputs": [],
   "source": [
    "iris_df.describe().iloc[:, :2]"
   ]
  },
  {
   "cell_type": "markdown",
   "id": "26c9522a",
   "metadata": {},
   "source": [
    "#### The function `sort_values()`"
   ]
  },
  {
   "cell_type": "code",
   "execution_count": null,
   "id": "90f00b69",
   "metadata": {},
   "outputs": [],
   "source": [
    "iris_df.sort_values(by='sepal_length', ascending=True).head()"
   ]
  },
  {
   "cell_type": "code",
   "execution_count": null,
   "id": "ba4546ed",
   "metadata": {},
   "outputs": [],
   "source": [
    "iris_df.groupby('species').mean()"
   ]
  },
  {
   "cell_type": "markdown",
   "id": "75ce0a7b",
   "metadata": {},
   "source": [
    "### Transpose the dataframe:"
   ]
  },
  {
   "cell_type": "code",
   "execution_count": null,
   "id": "6760b5ac",
   "metadata": {},
   "outputs": [],
   "source": [
    "iris_df.T"
   ]
  },
  {
   "cell_type": "code",
   "execution_count": null,
   "id": "84b7a0fe",
   "metadata": {},
   "outputs": [],
   "source": [
    "gg = iris_df.transpose()\n",
    "gg.head()"
   ]
  },
  {
   "cell_type": "code",
   "execution_count": null,
   "id": "0540ac61",
   "metadata": {},
   "outputs": [],
   "source": [
    "gg.index"
   ]
  },
  {
   "cell_type": "code",
   "execution_count": null,
   "id": "ebb350e9",
   "metadata": {
    "scrolled": true
   },
   "outputs": [],
   "source": [
    "gg.columns"
   ]
  },
  {
   "cell_type": "code",
   "execution_count": null,
   "id": "cdd65e92",
   "metadata": {},
   "outputs": [],
   "source": [
    "gg.iloc[0:3, 1:5]"
   ]
  },
  {
   "cell_type": "markdown",
   "id": "95e0dc1b",
   "metadata": {},
   "source": [
    "# Plots with Seaborn"
   ]
  },
  {
   "cell_type": "markdown",
   "id": "6367e363",
   "metadata": {},
   "source": [
    "### Box plots\n",
    "\n",
    "A box plot gives an idea of the distribution and skewness of a variable, based on statistical parameters, and indicates the presence of outliers (denoted by circles or dots).\n",
    "\n",
    "https://seaborn.pydata.org/generated/seaborn.boxplot.html"
   ]
  },
  {
   "cell_type": "code",
   "execution_count": null,
   "id": "31813234",
   "metadata": {},
   "outputs": [],
   "source": [
    "sns.boxplot(iris_df['sepal_length'])"
   ]
  },
  {
   "cell_type": "code",
   "execution_count": null,
   "id": "e15304d2",
   "metadata": {},
   "outputs": [],
   "source": [
    "sns.boxplot(data=iris_df[iris_features])"
   ]
  },
  {
   "cell_type": "markdown",
   "id": "2c919816",
   "metadata": {},
   "source": [
    "### Kernel density estimate\n",
    "\n",
    "The kernel density estimate is a plot for visualizing the probability distribution of a continuous variable.\n",
    "\n",
    "https://seaborn.pydata.org/generated/seaborn.kdeplot.html"
   ]
  },
  {
   "cell_type": "code",
   "execution_count": null,
   "id": "76ba6d45",
   "metadata": {},
   "outputs": [],
   "source": [
    "sns.kdeplot(iris_df['sepal_length'])"
   ]
  },
  {
   "cell_type": "code",
   "execution_count": null,
   "id": "bc42203d",
   "metadata": {},
   "outputs": [],
   "source": [
    "sns.kdeplot(data=iris_df[iris_features])"
   ]
  },
  {
   "cell_type": "markdown",
   "id": "0464f491",
   "metadata": {},
   "source": [
    "### Violin plot\n",
    "\n",
    "A violin plot merges the box plot with the kernel density plot, with the shape of the violin representing the frequency distribution.\n",
    "\n",
    "https://seaborn.pydata.org/generated/seaborn.violinplot.html"
   ]
  },
  {
   "cell_type": "code",
   "execution_count": null,
   "id": "fa2062b1",
   "metadata": {},
   "outputs": [],
   "source": [
    "sns.violinplot(x='species', y='petal_width', data=iris_df)"
   ]
  },
  {
   "cell_type": "code",
   "execution_count": null,
   "id": "78e62f7e",
   "metadata": {},
   "outputs": [],
   "source": [
    "sns.violinplot(x='species', y='petal_width', data=iris_df, hue='species')"
   ]
  },
  {
   "cell_type": "code",
   "execution_count": null,
   "id": "a4dd0880",
   "metadata": {},
   "outputs": [],
   "source": [
    "sns.violinplot(data=iris_df[iris_features])"
   ]
  },
  {
   "cell_type": "markdown",
   "id": "0140beaa",
   "metadata": {},
   "source": [
    "### Count plots\n",
    "\n",
    "Count plots are used to plot categorical variables, with the length of the bars representing the number of observations for each unique value of the variable.\n",
    "\n",
    "https://seaborn.pydata.org/generated/seaborn.countplot.html"
   ]
  },
  {
   "cell_type": "code",
   "execution_count": null,
   "id": "07c838cd",
   "metadata": {},
   "outputs": [],
   "source": [
    "sns.countplot(x=iris_df['species'])"
   ]
  },
  {
   "cell_type": "markdown",
   "id": "29512b84",
   "metadata": {},
   "source": [
    "### Plot pair-wise the features of the dataframe\n",
    "\n",
    "A pair plot is one that shows bivariate relationships between all possible pairs of variables in the dataset.\n",
    "\n",
    "Notice that you do not have to supply any column names as arguments since all the variables in the dataset are considered automatically for plotting.\n",
    "\n",
    "https://seaborn.pydata.org/generated/seaborn.pairplot.html"
   ]
  },
  {
   "cell_type": "code",
   "execution_count": null,
   "id": "bbba9e2b",
   "metadata": {},
   "outputs": [],
   "source": [
    "sns.pairplot(iris_df, vars = iris_df.columns[0:4], hue='species', palette='husl')"
   ]
  },
  {
   "cell_type": "markdown",
   "id": "d635094a",
   "metadata": {},
   "source": [
    "### Joint plot\n",
    "\n",
    "The joint plot displays the relationship between two variables as well as the individual distribution of the variables.\n",
    "\n",
    "https://seaborn.pydata.org/generated/seaborn.jointplot.html"
   ]
  },
  {
   "cell_type": "code",
   "execution_count": null,
   "id": "980a6b4f",
   "metadata": {},
   "outputs": [],
   "source": [
    "sns.jointplot(x='sepal_length', y='petal_width', hue='species', data=iris_df)"
   ]
  },
  {
   "cell_type": "code",
   "execution_count": null,
   "id": "ad1917a1",
   "metadata": {},
   "outputs": [],
   "source": [
    "sns.jointplot(x='sepal_length', y='petal_width', hue='species', data=iris_df, kind='scatter')"
   ]
  },
  {
   "cell_type": "code",
   "execution_count": null,
   "id": "977a57e4",
   "metadata": {},
   "outputs": [],
   "source": [
    "sns.jointplot(x='sepal_length', y='petal_width', hue='species', data=iris_df, kind='hist')"
   ]
  },
  {
   "cell_type": "code",
   "execution_count": null,
   "id": "28b96257",
   "metadata": {},
   "outputs": [],
   "source": [
    "sns.jointplot(x='sepal_length', y='petal_width', hue='species', data=iris_df, kind='kde')"
   ]
  },
  {
   "cell_type": "markdown",
   "id": "ef9c0f0b",
   "metadata": {},
   "source": [
    "### Correlation matrix in heatmap format\n",
    "\n",
    "https://seaborn.pydata.org/generated/seaborn.heatmap.html"
   ]
  },
  {
   "cell_type": "code",
   "execution_count": null,
   "id": "dc5ef761",
   "metadata": {},
   "outputs": [],
   "source": [
    "f, ax = plt.subplots(figsize=(12, 9))\n",
    "sns.heatmap(iris_df[iris_features].corr(), annot=True, cmap='YlGnBu', square=True)"
   ]
  },
  {
   "cell_type": "markdown",
   "id": "8185296d",
   "metadata": {},
   "source": [
    "### Strip plot\n",
    "\n",
    "A strip plot is similar to a scatter plot. The difference lies in the type of variables used in a strip plot. While a scatter plot has both variables as continuous, a strip plot plots one categorical variable against one continuous variable.\n",
    "\n",
    "https://seaborn.pydata.org/generated/seaborn.stripplot.html"
   ]
  },
  {
   "cell_type": "code",
   "execution_count": null,
   "id": "ecfff8b6",
   "metadata": {},
   "outputs": [],
   "source": [
    "sns.stripplot(x='species', y='sepal_length', data=iris_df)"
   ]
  },
  {
   "cell_type": "code",
   "execution_count": null,
   "id": "f6a4f9da",
   "metadata": {},
   "outputs": [],
   "source": [
    "sns.stripplot(data=iris_df[iris_features])"
   ]
  },
  {
   "cell_type": "markdown",
   "id": "737b9d57",
   "metadata": {},
   "source": [
    "### Swarm plot\n",
    "\n",
    "A swarm plot is similar to a strip plot, the difference being that the points in a swarm plot are not overlapping like those in a strip plot. With the points more spread out, we get a better idea of the distribution of the continuous variable.\n",
    "\n",
    "https://seaborn.pydata.org/generated/seaborn.swarmplot.html"
   ]
  },
  {
   "cell_type": "code",
   "execution_count": null,
   "id": "b689175b",
   "metadata": {},
   "outputs": [],
   "source": [
    "sns.swarmplot(x='species', y='sepal_length', data=iris_df)"
   ]
  },
  {
   "cell_type": "markdown",
   "id": "e056e5b4",
   "metadata": {},
   "source": [
    "### Distibution plot\n",
    "\n",
    "https://seaborn.pydata.org/generated/seaborn.displot.html"
   ]
  },
  {
   "cell_type": "code",
   "execution_count": null,
   "id": "d2b6924e",
   "metadata": {},
   "outputs": [],
   "source": [
    "sns.displot(data=iris_df, x='petal_length', kde=True)"
   ]
  },
  {
   "cell_type": "code",
   "execution_count": null,
   "id": "c018301e",
   "metadata": {},
   "outputs": [],
   "source": [
    "sns.displot(data=iris_df, x='petal_length', y='sepal_length')"
   ]
  },
  {
   "cell_type": "code",
   "execution_count": null,
   "id": "16ecd70d",
   "metadata": {},
   "outputs": [],
   "source": [
    "sns.displot(data=iris_df, x='petal_length', y='sepal_length', kind=\"kde\")"
   ]
  },
  {
   "cell_type": "code",
   "execution_count": null,
   "id": "2f250cab",
   "metadata": {},
   "outputs": [],
   "source": [
    "g = sns.displot(data=iris_df, x='petal_length', y='sepal_length', kind='kde', rug=True)"
   ]
  },
  {
   "cell_type": "code",
   "execution_count": null,
   "id": "6b46ba50",
   "metadata": {},
   "outputs": [],
   "source": [
    "sns.displot(data=iris_df, x='petal_length', hue='species', kind='kde')"
   ]
  },
  {
   "cell_type": "code",
   "execution_count": null,
   "id": "dfe3bd9d",
   "metadata": {},
   "outputs": [],
   "source": [
    "sns.displot(data=iris_df, x='petal_length', hue='species', multiple='stack')"
   ]
  },
  {
   "cell_type": "code",
   "execution_count": null,
   "id": "b702ed4e",
   "metadata": {},
   "outputs": [],
   "source": []
  }
 ],
 "metadata": {
  "kernelspec": {
   "display_name": "Python 3 (ipykernel)",
   "language": "python",
   "name": "python3"
  },
  "language_info": {
   "codemirror_mode": {
    "name": "ipython",
    "version": 3
   },
   "file_extension": ".py",
   "mimetype": "text/x-python",
   "name": "python",
   "nbconvert_exporter": "python",
   "pygments_lexer": "ipython3",
   "version": "3.9.7"
  }
 },
 "nbformat": 4,
 "nbformat_minor": 5
}
