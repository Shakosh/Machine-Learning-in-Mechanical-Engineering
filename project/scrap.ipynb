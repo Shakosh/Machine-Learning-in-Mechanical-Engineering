{
 "cells": [
  {
   "cell_type": "code",
   "execution_count": null,
   "metadata": {},
   "outputs": [],
   "source": [
    "Best: 0.800507 using {'batch_size': 10, 'epochs': 20, 'n_hidden': 2, 'nodes': 20}"
   ]
  },
  {
   "cell_type": "code",
   "execution_count": null,
   "metadata": {},
   "outputs": [],
   "source": [
    "#manual\n",
    "\n",
    "def create_keras_model(input_dim=11, output_dim=5, n_hidden=4, name='model'):\n",
    "    '''\n",
    "    How to call:\n",
    "    myModel = create_keras_model(n_features, n_classes, nodes=5, n=4, name='model')\n",
    "    '''\n",
    "\n",
    "    # define input layer\n",
    "    inputs = Input(shape=(input_dim,))\n",
    "\n",
    "    # list to hold all the hidden layers\n",
    "    hidden_layers = []\n",
    "\n",
    "    # create the hidden layers\n",
    "\n",
    "    # if it's the first hidden layer, connect it to the inputs\n",
    "    hidden_layers.append(Dense(units=6, activation='relu', kernel_initializer='random_normal')(inputs))\n",
    "\n",
    "    # otherwise, connect it to the previous hidden layer\n",
    "    hidden_layers.append(Dense(units=5, activation='relu', kernel_initializer='random_normal')(hidden_layers[-1]))\n",
    "            \n",
    "    # create the final hidden layer, connected to all previous hidden layers\n",
    "    final_hidden = Dense(units=nodes, activation='relu', kernel_initializer='random_normal')(concatenate(hidden_layers))\n",
    "\n",
    "    # create output layer connected to the final hidden layer\n",
    "    outputs = Dense(output_dim, activation='softmax')(final_hidden)\n",
    "\n",
    "    # create model\n",
    "    model = Model(inputs=inputs, outputs=outputs)\n",
    "\n",
    "    model.compile(optimizer='adam', loss='categorical_crossentropy', metrics=['accuracy'])\n",
    "\n",
    "    return model\n",
    "\n",
    "\n",
    "model0 = create_keras_model(n_features, n_classes, nodes=5, n_hidden=4, name='model')\n",
    "model0.summary()\n",
    "plot_model(model0, show_shapes=True)"
   ]
  },
  {
   "cell_type": "code",
   "execution_count": 10,
   "metadata": {},
   "outputs": [
    {
     "data": {
      "text/plain": [
       "[1, 21, 41]"
      ]
     },
     "execution_count": 10,
     "metadata": {},
     "output_type": "execute_result"
    }
   ],
   "source": [
    "list(range(1, 50, 20))"
   ]
  }
 ],
 "metadata": {
  "kernelspec": {
   "display_name": "env0",
   "language": "python",
   "name": "python3"
  },
  "language_info": {
   "codemirror_mode": {
    "name": "ipython",
    "version": 3
   },
   "file_extension": ".py",
   "mimetype": "text/x-python",
   "name": "python",
   "nbconvert_exporter": "python",
   "pygments_lexer": "ipython3",
   "version": "3.10.10"
  },
  "orig_nbformat": 4
 },
 "nbformat": 4,
 "nbformat_minor": 2
}
