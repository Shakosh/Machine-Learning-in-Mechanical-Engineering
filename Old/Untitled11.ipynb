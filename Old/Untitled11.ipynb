{
 "cells": [
  {
   "cell_type": "code",
   "execution_count": 1,
   "id": "e445e49e",
   "metadata": {},
   "outputs": [],
   "source": [
    "import pandas as pd\n",
    "import numpy as np\n",
    "import operator\n",
    "import seaborn as sns\n",
    "import matplotlib.pyplot as plt\n",
    "from sklearn import datasets\n",
    "%matplotlib inline"
   ]
  },
  {
   "cell_type": "code",
   "execution_count": 2,
   "id": "52624197",
   "metadata": {},
   "outputs": [],
   "source": [
    "#access and load data"
   ]
  },
  {
   "cell_type": "code",
   "execution_count": 3,
   "id": "8b24249a",
   "metadata": {},
   "outputs": [],
   "source": [
    "data=pd.read_excel('training_dataset.xlsx')\n",
    "table3=pd.read_excel('testing_table3.xlsx')\n",
    "training_data=pd.read_excel('training_dataset_table4.xlsx')\n",
    "table5=pd.read_excel('testing_table5.xlsx')"
   ]
  },
  {
   "cell_type": "code",
   "execution_count": 4,
   "id": "d4fa4274",
   "metadata": {},
   "outputs": [],
   "source": [
    "#preprocess data"
   ]
  },
  {
   "cell_type": "code",
   "execution_count": 5,
   "id": "6672ed3d",
   "metadata": {},
   "outputs": [
    {
     "data": {
      "text/html": [
       "<div>\n",
       "<style scoped>\n",
       "    .dataframe tbody tr th:only-of-type {\n",
       "        vertical-align: middle;\n",
       "    }\n",
       "\n",
       "    .dataframe tbody tr th {\n",
       "        vertical-align: top;\n",
       "    }\n",
       "\n",
       "    .dataframe thead th {\n",
       "        text-align: right;\n",
       "    }\n",
       "</style>\n",
       "<table border=\"1\" class=\"dataframe\">\n",
       "  <thead>\n",
       "    <tr style=\"text-align: right;\">\n",
       "      <th></th>\n",
       "      <th>No</th>\n",
       "      <th>LH</th>\n",
       "      <th>T</th>\n",
       "      <th>PS</th>\n",
       "      <th>PA</th>\n",
       "      <th>F</th>\n",
       "    </tr>\n",
       "  </thead>\n",
       "  <tbody>\n",
       "    <tr>\n",
       "      <th>0</th>\n",
       "      <td>1.0</td>\n",
       "      <td>0.16</td>\n",
       "      <td>240.0</td>\n",
       "      <td>40.0</td>\n",
       "      <td>500.0</td>\n",
       "      <td>90.0</td>\n",
       "    </tr>\n",
       "    <tr>\n",
       "      <th>1</th>\n",
       "      <td>2.0</td>\n",
       "      <td>0.16</td>\n",
       "      <td>240.0</td>\n",
       "      <td>40.0</td>\n",
       "      <td>500.0</td>\n",
       "      <td>100.0</td>\n",
       "    </tr>\n",
       "    <tr>\n",
       "      <th>2</th>\n",
       "      <td>3.0</td>\n",
       "      <td>0.16</td>\n",
       "      <td>240.0</td>\n",
       "      <td>40.0</td>\n",
       "      <td>500.0</td>\n",
       "      <td>110.0</td>\n",
       "    </tr>\n",
       "    <tr>\n",
       "      <th>3</th>\n",
       "      <td>4.0</td>\n",
       "      <td>0.16</td>\n",
       "      <td>245.0</td>\n",
       "      <td>50.0</td>\n",
       "      <td>1000.0</td>\n",
       "      <td>110.0</td>\n",
       "    </tr>\n",
       "    <tr>\n",
       "      <th>4</th>\n",
       "      <td>5.0</td>\n",
       "      <td>0.16</td>\n",
       "      <td>245.0</td>\n",
       "      <td>50.0</td>\n",
       "      <td>1000.0</td>\n",
       "      <td>90.0</td>\n",
       "    </tr>\n",
       "  </tbody>\n",
       "</table>\n",
       "</div>"
      ],
      "text/plain": [
       "    No    LH      T    PS      PA      F\n",
       "0  1.0  0.16  240.0  40.0   500.0   90.0\n",
       "1  2.0  0.16  240.0  40.0   500.0  100.0\n",
       "2  3.0  0.16  240.0  40.0   500.0  110.0\n",
       "3  4.0  0.16  245.0  50.0  1000.0  110.0\n",
       "4  5.0  0.16  245.0  50.0  1000.0   90.0"
      ]
     },
     "execution_count": 5,
     "metadata": {},
     "output_type": "execute_result"
    }
   ],
   "source": [
    "data.head()"
   ]
  },
  {
   "cell_type": "code",
   "execution_count": 6,
   "id": "6c9fb3b7",
   "metadata": {},
   "outputs": [
    {
     "data": {
      "text/html": [
       "<div>\n",
       "<style scoped>\n",
       "    .dataframe tbody tr th:only-of-type {\n",
       "        vertical-align: middle;\n",
       "    }\n",
       "\n",
       "    .dataframe tbody tr th {\n",
       "        vertical-align: top;\n",
       "    }\n",
       "\n",
       "    .dataframe thead th {\n",
       "        text-align: right;\n",
       "    }\n",
       "</style>\n",
       "<table border=\"1\" class=\"dataframe\">\n",
       "  <thead>\n",
       "    <tr style=\"text-align: right;\">\n",
       "      <th></th>\n",
       "      <th>No</th>\n",
       "      <th>LH</th>\n",
       "      <th>T</th>\n",
       "      <th>PS</th>\n",
       "      <th>PA</th>\n",
       "      <th>F</th>\n",
       "    </tr>\n",
       "  </thead>\n",
       "  <tbody>\n",
       "    <tr>\n",
       "      <th>0</th>\n",
       "      <td>1.0</td>\n",
       "      <td>0.14</td>\n",
       "      <td>240.0</td>\n",
       "      <td>15.0</td>\n",
       "      <td>200.0</td>\n",
       "      <td>95.0</td>\n",
       "    </tr>\n",
       "    <tr>\n",
       "      <th>1</th>\n",
       "      <td>2.0</td>\n",
       "      <td>0.14</td>\n",
       "      <td>236.0</td>\n",
       "      <td>18.0</td>\n",
       "      <td>300.0</td>\n",
       "      <td>105.0</td>\n",
       "    </tr>\n",
       "    <tr>\n",
       "      <th>2</th>\n",
       "      <td>3.0</td>\n",
       "      <td>0.18</td>\n",
       "      <td>238.0</td>\n",
       "      <td>15.0</td>\n",
       "      <td>300.0</td>\n",
       "      <td>115.0</td>\n",
       "    </tr>\n",
       "    <tr>\n",
       "      <th>3</th>\n",
       "      <td>4.0</td>\n",
       "      <td>0.18</td>\n",
       "      <td>243.0</td>\n",
       "      <td>20.0</td>\n",
       "      <td>200.0</td>\n",
       "      <td>95.0</td>\n",
       "    </tr>\n",
       "    <tr>\n",
       "      <th>4</th>\n",
       "      <td>5.0</td>\n",
       "      <td>0.14</td>\n",
       "      <td>246.0</td>\n",
       "      <td>35.0</td>\n",
       "      <td>400.0</td>\n",
       "      <td>105.0</td>\n",
       "    </tr>\n",
       "  </tbody>\n",
       "</table>\n",
       "</div>"
      ],
      "text/plain": [
       "    No    LH      T    PS     PA      F\n",
       "0  1.0  0.14  240.0  15.0  200.0   95.0\n",
       "1  2.0  0.14  236.0  18.0  300.0  105.0\n",
       "2  3.0  0.18  238.0  15.0  300.0  115.0\n",
       "3  4.0  0.18  243.0  20.0  200.0   95.0\n",
       "4  5.0  0.14  246.0  35.0  400.0  105.0"
      ]
     },
     "execution_count": 6,
     "metadata": {},
     "output_type": "execute_result"
    }
   ],
   "source": [
    "table3.head()"
   ]
  },
  {
   "cell_type": "code",
   "execution_count": 7,
   "id": "c5436cdb",
   "metadata": {},
   "outputs": [
    {
     "data": {
      "text/html": [
       "<div>\n",
       "<style scoped>\n",
       "    .dataframe tbody tr th:only-of-type {\n",
       "        vertical-align: middle;\n",
       "    }\n",
       "\n",
       "    .dataframe tbody tr th {\n",
       "        vertical-align: top;\n",
       "    }\n",
       "\n",
       "    .dataframe thead th {\n",
       "        text-align: right;\n",
       "    }\n",
       "</style>\n",
       "<table border=\"1\" class=\"dataframe\">\n",
       "  <thead>\n",
       "    <tr style=\"text-align: right;\">\n",
       "      <th></th>\n",
       "      <th>Test</th>\n",
       "      <th>Ra0</th>\n",
       "      <th>Ra0class</th>\n",
       "      <th>Ra90</th>\n",
       "      <th>Ra90class</th>\n",
       "    </tr>\n",
       "  </thead>\n",
       "  <tbody>\n",
       "    <tr>\n",
       "      <th>0</th>\n",
       "      <td>1.0</td>\n",
       "      <td>10.648</td>\n",
       "      <td>Class2</td>\n",
       "      <td>12.240</td>\n",
       "      <td>Class2</td>\n",
       "    </tr>\n",
       "    <tr>\n",
       "      <th>1</th>\n",
       "      <td>2.0</td>\n",
       "      <td>0.916</td>\n",
       "      <td>Class1</td>\n",
       "      <td>6.464</td>\n",
       "      <td>Class1</td>\n",
       "    </tr>\n",
       "    <tr>\n",
       "      <th>2</th>\n",
       "      <td>3.0</td>\n",
       "      <td>1.126</td>\n",
       "      <td>Class1</td>\n",
       "      <td>9.160</td>\n",
       "      <td>Class1</td>\n",
       "    </tr>\n",
       "    <tr>\n",
       "      <th>3</th>\n",
       "      <td>4.0</td>\n",
       "      <td>2.428</td>\n",
       "      <td>Class1</td>\n",
       "      <td>32.994</td>\n",
       "      <td>Class2</td>\n",
       "    </tr>\n",
       "    <tr>\n",
       "      <th>4</th>\n",
       "      <td>5.0</td>\n",
       "      <td>1.800</td>\n",
       "      <td>Class1</td>\n",
       "      <td>5.504</td>\n",
       "      <td>Class1</td>\n",
       "    </tr>\n",
       "  </tbody>\n",
       "</table>\n",
       "</div>"
      ],
      "text/plain": [
       "   Test     Ra0 Ra0class    Ra90 Ra90class\n",
       "0   1.0  10.648   Class2  12.240    Class2\n",
       "1   2.0   0.916   Class1   6.464    Class1\n",
       "2   3.0   1.126   Class1   9.160    Class1\n",
       "3   4.0   2.428   Class1  32.994    Class2\n",
       "4   5.0   1.800   Class1   5.504    Class1"
      ]
     },
     "execution_count": 7,
     "metadata": {},
     "output_type": "execute_result"
    }
   ],
   "source": [
    "training_data.head()"
   ]
  },
  {
   "cell_type": "code",
   "execution_count": 8,
   "id": "a2adeca4",
   "metadata": {},
   "outputs": [
    {
     "data": {
      "text/html": [
       "<div>\n",
       "<style scoped>\n",
       "    .dataframe tbody tr th:only-of-type {\n",
       "        vertical-align: middle;\n",
       "    }\n",
       "\n",
       "    .dataframe tbody tr th {\n",
       "        vertical-align: top;\n",
       "    }\n",
       "\n",
       "    .dataframe thead th {\n",
       "        text-align: right;\n",
       "    }\n",
       "</style>\n",
       "<table border=\"1\" class=\"dataframe\">\n",
       "  <thead>\n",
       "    <tr style=\"text-align: right;\">\n",
       "      <th></th>\n",
       "      <th>Test</th>\n",
       "      <th>Ra0</th>\n",
       "      <th>Ra0class</th>\n",
       "      <th>Ra90</th>\n",
       "      <th>Ra90class</th>\n",
       "    </tr>\n",
       "  </thead>\n",
       "  <tbody>\n",
       "    <tr>\n",
       "      <th>0</th>\n",
       "      <td>1.0</td>\n",
       "      <td>1.026</td>\n",
       "      <td>Class1</td>\n",
       "      <td>4.462</td>\n",
       "      <td>Class1</td>\n",
       "    </tr>\n",
       "    <tr>\n",
       "      <th>1</th>\n",
       "      <td>2.0</td>\n",
       "      <td>1.178</td>\n",
       "      <td>Class1</td>\n",
       "      <td>2.656</td>\n",
       "      <td>Class1</td>\n",
       "    </tr>\n",
       "    <tr>\n",
       "      <th>2</th>\n",
       "      <td>3.0</td>\n",
       "      <td>2.064</td>\n",
       "      <td>Class1</td>\n",
       "      <td>3.970</td>\n",
       "      <td>Class1</td>\n",
       "    </tr>\n",
       "    <tr>\n",
       "      <th>3</th>\n",
       "      <td>4.0</td>\n",
       "      <td>1.126</td>\n",
       "      <td>Class1</td>\n",
       "      <td>7.192</td>\n",
       "      <td>Class1</td>\n",
       "    </tr>\n",
       "    <tr>\n",
       "      <th>4</th>\n",
       "      <td>5.0</td>\n",
       "      <td>1.984</td>\n",
       "      <td>Class1</td>\n",
       "      <td>9.240</td>\n",
       "      <td>Class1</td>\n",
       "    </tr>\n",
       "  </tbody>\n",
       "</table>\n",
       "</div>"
      ],
      "text/plain": [
       "   Test    Ra0 Ra0class   Ra90 Ra90class\n",
       "0   1.0  1.026   Class1  4.462    Class1\n",
       "1   2.0  1.178   Class1  2.656    Class1\n",
       "2   3.0  2.064   Class1  3.970    Class1\n",
       "3   4.0  1.126   Class1  7.192    Class1\n",
       "4   5.0  1.984   Class1  9.240    Class1"
      ]
     },
     "execution_count": 8,
     "metadata": {},
     "output_type": "execute_result"
    }
   ],
   "source": [
    "table5.head()"
   ]
  },
  {
   "cell_type": "code",
   "execution_count": 9,
   "id": "12c096a1",
   "metadata": {},
   "outputs": [
    {
     "data": {
      "text/plain": [
       "<bound method NDFrame.describe of       No    LH      T    PS      PA      F\n",
       "0    1.0  0.16  240.0  40.0   500.0   90.0\n",
       "1    2.0  0.16  240.0  40.0   500.0  100.0\n",
       "2    3.0  0.16  240.0  40.0   500.0  110.0\n",
       "3    4.0  0.16  245.0  50.0  1000.0  110.0\n",
       "4    5.0  0.16  245.0  50.0  1000.0   90.0\n",
       "5    6.0  0.16  245.0  50.0  1000.0  100.0\n",
       "6    7.0  0.16  250.0  60.0  1500.0  100.0\n",
       "7    8.0  0.16  250.0  60.0  1500.0  110.0\n",
       "8    9.0  0.16  250.0  60.0  1500.0   90.0\n",
       "9   10.0  0.20  240.0  50.0  1500.0  100.0\n",
       "10  11.0  0.20  240.0  50.0  1500.0  110.0\n",
       "11  12.0  0.20  240.0  50.0  1500.0   90.0\n",
       "12  13.0  0.20  245.0  60.0   500.0   90.0\n",
       "13  14.0  0.20  245.0  60.0   500.0  100.0\n",
       "14  15.0  0.20  245.0  60.0   500.0  110.0\n",
       "15  16.0  0.20  250.0  40.0  1000.0  110.0\n",
       "16  17.0  0.20  250.0  40.0  1000.0   90.0\n",
       "17  18.0  0.20  250.0  40.0  1000.0  100.0\n",
       "18  19.0  0.24  240.0  60.0  1000.0  110.0\n",
       "19  20.0  0.24  240.0  60.0  1000.0   90.0\n",
       "20  21.0  0.24  240.0  60.0  1000.0  100.0\n",
       "21  22.0  0.24  245.0  40.0  1500.0  100.0\n",
       "22  23.0  0.24  245.0  40.0  1500.0  110.0\n",
       "23  24.0  0.24  245.0  40.0  1500.0   90.0\n",
       "24  25.0  0.24  250.0  50.0   500.0   90.0\n",
       "25  26.0  0.24  250.0  50.0   500.0  100.0\n",
       "26  27.0  0.24  250.0  50.0   500.0  110.0>"
      ]
     },
     "execution_count": 9,
     "metadata": {},
     "output_type": "execute_result"
    }
   ],
   "source": [
    "data.describe"
   ]
  },
  {
   "cell_type": "code",
   "execution_count": 10,
   "id": "2e710fdb",
   "metadata": {},
   "outputs": [
    {
     "data": {
      "text/plain": [
       "<bound method NDFrame.describe of       No    LH      T     PS      PA      F\n",
       "0    1.0  0.14  240.0   15.0   200.0   95.0\n",
       "1    2.0  0.14  236.0   18.0   300.0  105.0\n",
       "2    3.0  0.18  238.0   15.0   300.0  115.0\n",
       "3    4.0  0.18  243.0   20.0   200.0   95.0\n",
       "4    5.0  0.14  246.0   35.0   400.0  105.0\n",
       "5    6.0  0.23  248.0   46.0   400.0   95.0\n",
       "6    7.0  0.24  243.0   45.0   600.0  103.0\n",
       "7    8.0  0.30  230.0   56.0  2000.0  100.0\n",
       "8    9.0  0.30  250.0   60.0  1600.0  110.0\n",
       "9   10.0  0.20  251.0   70.0  1500.0  102.0\n",
       "10  11.0  0.20  249.0   85.0  1200.0  100.0\n",
       "11  12.0  0.28  249.0  100.0  1200.0   98.0\n",
       "12  13.0  0.28  237.0   25.0  1100.0   90.0\n",
       "13  14.0  0.14  238.0   21.0   800.0  100.0\n",
       "14  15.0  0.10  239.0   50.0   600.0  110.0>"
      ]
     },
     "execution_count": 10,
     "metadata": {},
     "output_type": "execute_result"
    }
   ],
   "source": [
    "table3.describe"
   ]
  },
  {
   "cell_type": "code",
   "execution_count": 11,
   "id": "cb7520cd",
   "metadata": {},
   "outputs": [
    {
     "data": {
      "text/plain": [
       "<bound method NDFrame.describe of     Test     Ra0 Ra0class    Ra90 Ra90class\n",
       "0    1.0  10.648   Class2  12.240    Class2\n",
       "1    2.0   0.916   Class1   6.464    Class1\n",
       "2    3.0   1.126   Class1   9.160    Class1\n",
       "3    4.0   2.428   Class1  32.994    Class2\n",
       "4    5.0   1.800   Class1   5.504    Class1\n",
       "5    6.0   8.814   Class2  10.922    Class1\n",
       "6    7.0   4.552   Class2  23.650    Class2\n",
       "7    8.0   1.370   Class1  14.458    Class2\n",
       "8    9.0   0.954   Class1   5.414    Class1\n",
       "9   10.0   1.462   Class1  23.470    Class2\n",
       "10  11.0   1.666   Class1   9.050    Class1\n",
       "11  12.0   1.554   Class1  10.074    Class1\n",
       "12  13.0   6.258   Class2  20.088    Class2\n",
       "13  14.0   7.788   Class2  15.368    Class2\n",
       "14  15.0  10.172   Class2  12.560    Class2\n",
       "15  16.0   9.744   Class2  10.186    Class2\n",
       "16  17.0   4.696   Class2   5.462    Class1\n",
       "17  18.0   5.112   Class2   5.330    Class1\n",
       "18  19.0   4.274   Class2  10.668    Class1\n",
       "19  20.0   6.994   Class1   8.214    Class1\n",
       "20  21.0   5.868   Class2   6.056    Class1\n",
       "21  22.0   3.796   Class2   8.686    Class1\n",
       "22  23.0   3.054   Class1   5.720    Class1\n",
       "23  24.0   3.702   Class1   6.804    Class1\n",
       "24  25.0   4.214   Class1  19.654    Class1\n",
       "25  26.0   4.682   Class1   8.964    Class2\n",
       "26  27.0   2.256   Class2   7.122    Class1>"
      ]
     },
     "execution_count": 11,
     "metadata": {},
     "output_type": "execute_result"
    }
   ],
   "source": [
    "training_data.describe"
   ]
  },
  {
   "cell_type": "code",
   "execution_count": 12,
   "id": "343785a6",
   "metadata": {},
   "outputs": [
    {
     "data": {
      "text/plain": [
       "<bound method NDFrame.describe of     Test    Ra0 Ra0class    Ra90 Ra90class\n",
       "0    1.0  1.026   Class1   4.462    Class1\n",
       "1    2.0  1.178   Class1   2.656    Class1\n",
       "2    3.0  2.064   Class1   3.970    Class1\n",
       "3    4.0  1.126   Class1   7.192    Class1\n",
       "4    5.0  1.984   Class1   9.240    Class1\n",
       "5    6.0  1.252   Class1   8.276    Class1\n",
       "6    7.0  1.026   Class1   4.462    Class1\n",
       "7    8.0  1.744   Class1   7.732    Class1\n",
       "8    9.0  5.906   Class2  11.408    Class1\n",
       "9   10.0  3.990   Class1  12.082    Class2\n",
       "10  11.0  1.182   Class1   6.392    Class1\n",
       "11  12.0  1.008   Class1   6.622    Class1\n",
       "12  13.0  6.466   Class2  14.002    Class2\n",
       "13  14.0  0.606   Class1   6.828    Class1\n",
       "14  15.0  1.846   Class1   4.758    Class1>"
      ]
     },
     "execution_count": 12,
     "metadata": {},
     "output_type": "execute_result"
    }
   ],
   "source": [
    "table5.describe"
   ]
  },
  {
   "cell_type": "code",
   "execution_count": 13,
   "id": "6d8dc99c",
   "metadata": {},
   "outputs": [
    {
     "data": {
      "text/plain": [
       "No    False\n",
       "LH    False\n",
       "T     False\n",
       "PS    False\n",
       "PA    False\n",
       "F     False\n",
       "dtype: bool"
      ]
     },
     "execution_count": 13,
     "metadata": {},
     "output_type": "execute_result"
    }
   ],
   "source": [
    "data.isnull().any()"
   ]
  },
  {
   "cell_type": "code",
   "execution_count": 14,
   "id": "9e932e44",
   "metadata": {},
   "outputs": [
    {
     "data": {
      "text/plain": [
       "No    False\n",
       "LH    False\n",
       "T     False\n",
       "PS    False\n",
       "PA    False\n",
       "F     False\n",
       "dtype: bool"
      ]
     },
     "execution_count": 14,
     "metadata": {},
     "output_type": "execute_result"
    }
   ],
   "source": [
    "table3.isnull().any()"
   ]
  },
  {
   "cell_type": "code",
   "execution_count": 15,
   "id": "82a35799",
   "metadata": {},
   "outputs": [
    {
     "data": {
      "text/plain": [
       "Test         False\n",
       "Ra0          False\n",
       "Ra0class     False\n",
       "Ra90         False\n",
       "Ra90class    False\n",
       "dtype: bool"
      ]
     },
     "execution_count": 15,
     "metadata": {},
     "output_type": "execute_result"
    }
   ],
   "source": [
    "training_data.isnull().any()"
   ]
  },
  {
   "cell_type": "code",
   "execution_count": 16,
   "id": "ab4e6ae5",
   "metadata": {},
   "outputs": [
    {
     "data": {
      "text/plain": [
       "Test         False\n",
       "Ra0          False\n",
       "Ra0class     False\n",
       "Ra90         False\n",
       "Ra90class    False\n",
       "dtype: bool"
      ]
     },
     "execution_count": 16,
     "metadata": {},
     "output_type": "execute_result"
    }
   ],
   "source": [
    "table5.isnull().any()"
   ]
  },
  {
   "cell_type": "code",
   "execution_count": 17,
   "id": "2fabe795",
   "metadata": {},
   "outputs": [
    {
     "data": {
      "text/html": [
       "<div>\n",
       "<style scoped>\n",
       "    .dataframe tbody tr th:only-of-type {\n",
       "        vertical-align: middle;\n",
       "    }\n",
       "\n",
       "    .dataframe tbody tr th {\n",
       "        vertical-align: top;\n",
       "    }\n",
       "\n",
       "    .dataframe thead th {\n",
       "        text-align: right;\n",
       "    }\n",
       "</style>\n",
       "<table border=\"1\" class=\"dataframe\">\n",
       "  <thead>\n",
       "    <tr style=\"text-align: right;\">\n",
       "      <th></th>\n",
       "      <th>Test</th>\n",
       "      <th>Ra0</th>\n",
       "      <th>Ra90</th>\n",
       "      <th>Ra0class_Class1</th>\n",
       "      <th>Ra0class_Class2</th>\n",
       "      <th>Ra90class_Class1</th>\n",
       "      <th>Ra90class_Class2</th>\n",
       "    </tr>\n",
       "  </thead>\n",
       "  <tbody>\n",
       "    <tr>\n",
       "      <th>0</th>\n",
       "      <td>1.0</td>\n",
       "      <td>1.026</td>\n",
       "      <td>4.462</td>\n",
       "      <td>1</td>\n",
       "      <td>0</td>\n",
       "      <td>1</td>\n",
       "      <td>0</td>\n",
       "    </tr>\n",
       "    <tr>\n",
       "      <th>1</th>\n",
       "      <td>2.0</td>\n",
       "      <td>1.178</td>\n",
       "      <td>2.656</td>\n",
       "      <td>1</td>\n",
       "      <td>0</td>\n",
       "      <td>1</td>\n",
       "      <td>0</td>\n",
       "    </tr>\n",
       "    <tr>\n",
       "      <th>2</th>\n",
       "      <td>3.0</td>\n",
       "      <td>2.064</td>\n",
       "      <td>3.970</td>\n",
       "      <td>1</td>\n",
       "      <td>0</td>\n",
       "      <td>1</td>\n",
       "      <td>0</td>\n",
       "    </tr>\n",
       "    <tr>\n",
       "      <th>3</th>\n",
       "      <td>4.0</td>\n",
       "      <td>1.126</td>\n",
       "      <td>7.192</td>\n",
       "      <td>1</td>\n",
       "      <td>0</td>\n",
       "      <td>1</td>\n",
       "      <td>0</td>\n",
       "    </tr>\n",
       "    <tr>\n",
       "      <th>4</th>\n",
       "      <td>5.0</td>\n",
       "      <td>1.984</td>\n",
       "      <td>9.240</td>\n",
       "      <td>1</td>\n",
       "      <td>0</td>\n",
       "      <td>1</td>\n",
       "      <td>0</td>\n",
       "    </tr>\n",
       "    <tr>\n",
       "      <th>5</th>\n",
       "      <td>6.0</td>\n",
       "      <td>1.252</td>\n",
       "      <td>8.276</td>\n",
       "      <td>1</td>\n",
       "      <td>0</td>\n",
       "      <td>1</td>\n",
       "      <td>0</td>\n",
       "    </tr>\n",
       "    <tr>\n",
       "      <th>6</th>\n",
       "      <td>7.0</td>\n",
       "      <td>1.026</td>\n",
       "      <td>4.462</td>\n",
       "      <td>1</td>\n",
       "      <td>0</td>\n",
       "      <td>1</td>\n",
       "      <td>0</td>\n",
       "    </tr>\n",
       "    <tr>\n",
       "      <th>7</th>\n",
       "      <td>8.0</td>\n",
       "      <td>1.744</td>\n",
       "      <td>7.732</td>\n",
       "      <td>1</td>\n",
       "      <td>0</td>\n",
       "      <td>1</td>\n",
       "      <td>0</td>\n",
       "    </tr>\n",
       "    <tr>\n",
       "      <th>8</th>\n",
       "      <td>9.0</td>\n",
       "      <td>5.906</td>\n",
       "      <td>11.408</td>\n",
       "      <td>0</td>\n",
       "      <td>1</td>\n",
       "      <td>1</td>\n",
       "      <td>0</td>\n",
       "    </tr>\n",
       "    <tr>\n",
       "      <th>9</th>\n",
       "      <td>10.0</td>\n",
       "      <td>3.990</td>\n",
       "      <td>12.082</td>\n",
       "      <td>1</td>\n",
       "      <td>0</td>\n",
       "      <td>0</td>\n",
       "      <td>1</td>\n",
       "    </tr>\n",
       "    <tr>\n",
       "      <th>10</th>\n",
       "      <td>11.0</td>\n",
       "      <td>1.182</td>\n",
       "      <td>6.392</td>\n",
       "      <td>1</td>\n",
       "      <td>0</td>\n",
       "      <td>1</td>\n",
       "      <td>0</td>\n",
       "    </tr>\n",
       "    <tr>\n",
       "      <th>11</th>\n",
       "      <td>12.0</td>\n",
       "      <td>1.008</td>\n",
       "      <td>6.622</td>\n",
       "      <td>1</td>\n",
       "      <td>0</td>\n",
       "      <td>1</td>\n",
       "      <td>0</td>\n",
       "    </tr>\n",
       "    <tr>\n",
       "      <th>12</th>\n",
       "      <td>13.0</td>\n",
       "      <td>6.466</td>\n",
       "      <td>14.002</td>\n",
       "      <td>0</td>\n",
       "      <td>1</td>\n",
       "      <td>0</td>\n",
       "      <td>1</td>\n",
       "    </tr>\n",
       "    <tr>\n",
       "      <th>13</th>\n",
       "      <td>14.0</td>\n",
       "      <td>0.606</td>\n",
       "      <td>6.828</td>\n",
       "      <td>1</td>\n",
       "      <td>0</td>\n",
       "      <td>1</td>\n",
       "      <td>0</td>\n",
       "    </tr>\n",
       "    <tr>\n",
       "      <th>14</th>\n",
       "      <td>15.0</td>\n",
       "      <td>1.846</td>\n",
       "      <td>4.758</td>\n",
       "      <td>1</td>\n",
       "      <td>0</td>\n",
       "      <td>1</td>\n",
       "      <td>0</td>\n",
       "    </tr>\n",
       "  </tbody>\n",
       "</table>\n",
       "</div>"
      ],
      "text/plain": [
       "    Test    Ra0    Ra90  Ra0class_Class1  Ra0class_Class2  Ra90class_Class1  \\\n",
       "0    1.0  1.026   4.462                1                0                 1   \n",
       "1    2.0  1.178   2.656                1                0                 1   \n",
       "2    3.0  2.064   3.970                1                0                 1   \n",
       "3    4.0  1.126   7.192                1                0                 1   \n",
       "4    5.0  1.984   9.240                1                0                 1   \n",
       "5    6.0  1.252   8.276                1                0                 1   \n",
       "6    7.0  1.026   4.462                1                0                 1   \n",
       "7    8.0  1.744   7.732                1                0                 1   \n",
       "8    9.0  5.906  11.408                0                1                 1   \n",
       "9   10.0  3.990  12.082                1                0                 0   \n",
       "10  11.0  1.182   6.392                1                0                 1   \n",
       "11  12.0  1.008   6.622                1                0                 1   \n",
       "12  13.0  6.466  14.002                0                1                 0   \n",
       "13  14.0  0.606   6.828                1                0                 1   \n",
       "14  15.0  1.846   4.758                1                0                 1   \n",
       "\n",
       "    Ra90class_Class2  \n",
       "0                  0  \n",
       "1                  0  \n",
       "2                  0  \n",
       "3                  0  \n",
       "4                  0  \n",
       "5                  0  \n",
       "6                  0  \n",
       "7                  0  \n",
       "8                  0  \n",
       "9                  1  \n",
       "10                 0  \n",
       "11                 0  \n",
       "12                 1  \n",
       "13                 0  \n",
       "14                 0  "
      ]
     },
     "execution_count": 17,
     "metadata": {},
     "output_type": "execute_result"
    }
   ],
   "source": [
    "data2=pd.get_dummies(training_data)\n",
    "test5=pd.get_dummies(table5)\n",
    "test5"
   ]
  },
  {
   "cell_type": "code",
   "execution_count": 18,
   "id": "616ab567",
   "metadata": {},
   "outputs": [],
   "source": []
  },
  {
   "cell_type": "code",
   "execution_count": 19,
   "id": "cc585435",
   "metadata": {},
   "outputs": [
    {
     "data": {
      "image/png": "[encoded data removed]",
      "text/plain": [
       "<Figure size 864x864 with 42 Axes>"
      ]
     },
     "metadata": {},
     "output_type": "display_data"
    }
   ],
   "source": [
    "sns.set()\n",
    "sns.pairplot(data,height = 2, kind='scatter') \n",
    "plt.show()"
   ]
  },
  {
   "cell_type": "code",
   "execution_count": 20,
   "id": "2e7c44bb",
   "metadata": {},
   "outputs": [
    {
     "data": {
      "image/png": "[encoded data removed]",
      "text/plain": [
       "<Figure size 505.1x432 with 12 Axes>"
      ]
     },
     "metadata": {},
     "output_type": "display_data"
    }
   ],
   "source": [
    "sns.set()\n",
    "sns.pairplot(training_data,hue='Ra0class', height = 2, kind='scatter') \n",
    "plt.show()"
   ]
  },
  {
   "cell_type": "code",
   "execution_count": 21,
   "id": "b6984f6b",
   "metadata": {},
   "outputs": [
    {
     "data": {
      "image/png": "[encoded data removed]",
      "text/plain": [
       "<Figure size 505.1x432 with 12 Axes>"
      ]
     },
     "metadata": {},
     "output_type": "display_data"
    }
   ],
   "source": [
    "sns.set()\n",
    "sns.pairplot(training_data,hue='Ra90class', height = 2, kind='scatter') \n",
    "plt.show()"
   ]
  },
  {
   "cell_type": "code",
   "execution_count": 22,
   "id": "13278662",
   "metadata": {},
   "outputs": [
    {
     "data": {
      "image/png": "[encoded data removed]",
      "text/plain": [
       "<Figure size 864x648 with 2 Axes>"
      ]
     },
     "metadata": {},
     "output_type": "display_data"
    }
   ],
   "source": [
    "corrmat = training_data.corr()\n",
    "f, ax = plt.subplots(figsize=(12, 9))\n",
    "sns.heatmap(corrmat, square=True);"
   ]
  },
  {
   "cell_type": "code",
   "execution_count": 23,
   "id": "2b2f1375",
   "metadata": {},
   "outputs": [
    {
     "data": {
      "image/png": "[encoded data removed]",
      "text/plain": [
       "<Figure size 864x648 with 2 Axes>"
      ]
     },
     "metadata": {},
     "output_type": "display_data"
    }
   ],
   "source": [
    "corrmat = data.corr()\n",
    "f, ax = plt.subplots(figsize=(12, 9))\n",
    "sns.heatmap(corrmat, square=True);"
   ]
  },
  {
   "cell_type": "code",
   "execution_count": 24,
   "id": "06722a65",
   "metadata": {},
   "outputs": [
    {
     "data": {
      "image/png": "[encoded data removed]",
      "text/plain": [
       "<Figure size 864x648 with 2 Axes>"
      ]
     },
     "metadata": {},
     "output_type": "display_data"
    }
   ],
   "source": [
    "corrmat = table3.corr()\n",
    "f, ax = plt.subplots(figsize=(12, 9))\n",
    "sns.heatmap(corrmat, square=True);"
   ]
  },
  {
   "cell_type": "code",
   "execution_count": 25,
   "id": "735e7dc8",
   "metadata": {},
   "outputs": [
    {
     "data": {
      "image/png": "[encoded data removed]",
      "text/plain": [
       "<Figure size 864x648 with 2 Axes>"
      ]
     },
     "metadata": {},
     "output_type": "display_data"
    }
   ],
   "source": [
    "corrmat = table5.corr()\n",
    "f, ax = plt.subplots(figsize=(12, 9))\n",
    "sns.heatmap(corrmat, square=True);"
   ]
  },
  {
   "cell_type": "code",
   "execution_count": 26,
   "id": "a8db4b8d",
   "metadata": {},
   "outputs": [],
   "source": [
    "#train model"
   ]
  },
  {
   "cell_type": "code",
   "execution_count": 27,
   "id": "bd806c7b",
   "metadata": {},
   "outputs": [],
   "source": [
    "feature=['PS','PA']\n",
    "features=data[feature].values\n",
    "Ra=['Ra0','Ra90']\n",
    "Ra=table5[Ra].values\n",
    "Ra0class=['Ra0class_Class1','Ra0class_Class2']\n",
    "Ra0classes=test5[Ra0class].values"
   ]
  },
  {
   "cell_type": "code",
   "execution_count": 28,
   "id": "7ae66bd7",
   "metadata": {},
   "outputs": [],
   "source": [
    "test_no=table3['No'].values\n",
    "class_name=data.No.astype('str')"
   ]
  },
  {
   "cell_type": "code",
   "execution_count": 29,
   "id": "12e793cd",
   "metadata": {},
   "outputs": [],
   "source": [
    "variable=['LH','T','F']\n",
    "variables=data[variable].values"
   ]
  },
  {
   "cell_type": "code",
   "execution_count": 64,
   "id": "517850f2",
   "metadata": {},
   "outputs": [],
   "source": [
    "X=features\n",
    "Y=data.No"
   ]
  },
  {
   "cell_type": "code",
   "execution_count": 65,
   "id": "43119fee",
   "metadata": {},
   "outputs": [],
   "source": [
    "from sklearn.tree import DecisionTreeClassifier"
   ]
  },
  {
   "cell_type": "code",
   "execution_count": 66,
   "id": "141a2a9b",
   "metadata": {},
   "outputs": [],
   "source": [
    "max_depth=2\n",
    "criterion = 5\n",
    "min_samples_leaf = 4\n",
    "max_leaf_nodes = 8"
   ]
  },
  {
   "cell_type": "code",
   "execution_count": 67,
   "id": "e2fbd8ea",
   "metadata": {},
   "outputs": [],
   "source": [
    "tree_clf = DecisionTreeClassifier(max_depth=max_depth)"
   ]
  },
  {
   "cell_type": "code",
   "execution_count": 68,
   "id": "60d57c0e",
   "metadata": {},
   "outputs": [],
   "source": [
    "tree_clf = tree_clf.fit(X, Y)"
   ]
  },
  {
   "cell_type": "code",
   "execution_count": 69,
   "id": "18f85297",
   "metadata": {},
   "outputs": [
    {
     "data": {
      "text/plain": [
       "array([1.])"
      ]
     },
     "execution_count": 69,
     "metadata": {},
     "output_type": "execute_result"
    }
   ],
   "source": [
    "tree_clf.predict([[6, 10]])"
   ]
  },
  {
   "cell_type": "code",
   "execution_count": 70,
   "id": "ff9a1364",
   "metadata": {},
   "outputs": [],
   "source": [
    "from sklearn.tree import plot_tree"
   ]
  },
  {
   "cell_type": "code",
   "execution_count": 71,
   "id": "472d08c6",
   "metadata": {},
   "outputs": [
    {
     "data": {
      "image/png": "[encoded data removed]",
      "text/plain": [
       "<Figure size 840x480 with 1 Axes>"
      ]
     },
     "metadata": {},
     "output_type": "display_data"
    }
   ],
   "source": [
    "fig_plottree, axes_plottree = plt.subplots(nrows=1, ncols=1, figsize=(7,4), dpi=120)\n",
    "plot_tree(tree_clf, \n",
    "          feature_names=feature, \n",
    "          class_names=class_name, \n",
    "          filled=True)\n",
    "axes_plottree.set_title(\"Decision tree trained on data features\")\n",
    "fig_plottree.savefig('tree.png')"
   ]
  },
  {
   "cell_type": "code",
   "execution_count": 72,
   "id": "17684b00",
   "metadata": {},
   "outputs": [],
   "source": [
    "from sklearn.tree import export_text"
   ]
  },
  {
   "cell_type": "code",
   "execution_count": 73,
   "id": "8aad6193",
   "metadata": {},
   "outputs": [
    {
     "name": "stdout",
     "output_type": "stream",
     "text": [
      "|--- PA <= 750.00\n",
      "|   |--- PS <= 45.00\n",
      "|   |   |--- class: 1.0\n",
      "|   |--- PS >  45.00\n",
      "|   |   |--- class: 13.0\n",
      "|--- PA >  750.00\n",
      "|   |--- PS <= 45.00\n",
      "|   |   |--- class: 16.0\n",
      "|   |--- PS >  45.00\n",
      "|   |   |--- class: 4.0\n",
      "\n"
     ]
    }
   ],
   "source": [
    "tree_rules = export_text(tree_clf,feature_names = feature)\n",
    "print(tree_rules)"
   ]
  },
  {
   "cell_type": "code",
   "execution_count": 108,
   "id": "21a7c5d9",
   "metadata": {},
   "outputs": [
    {
     "data": {
      "text/plain": [
       "0.01564102564102564"
      ]
     },
     "execution_count": 108,
     "metadata": {},
     "output_type": "execute_result"
    }
   ],
   "source": [
    "x_min, x_max = X[:, 0].min() - 1, X[:, 0].max() + 1\n",
    "\n",
    "y_min, y_max = X[:, 1].min() - 1, X[:, 1].max() + 1\n",
    "\n",
    "h = abs((x_max / x_min)/100)\n",
    "\n",
    "xx,yy= np.meshgrid(np.arange(x_min, x_max, h),\n",
    "                   (np.arange(y_min, y_max, h)))\n",
    "h\n"
   ]
  },
  {
   "cell_type": "code",
   "execution_count": 101,
   "id": "e3d7c941",
   "metadata": {},
   "outputs": [
    {
     "data": {
      "text/plain": [
       "array(['Class2', 'Class1'], dtype=object)"
      ]
     },
     "execution_count": 101,
     "metadata": {},
     "output_type": "execute_result"
    }
   ],
   "source": [
    "classes=training_data.Ra0class.unique()\n",
    "classes"
   ]
  },
  {
   "cell_type": "code",
   "execution_count": 99,
   "id": "c15b4a56",
   "metadata": {},
   "outputs": [],
   "source": [
    "Z = tree_clf.predict(np.c_[xx.ravel(), yy.ravel()])"
   ]
  },
  {
   "cell_type": "code",
   "execution_count": 126,
   "id": "1e59e32b",
   "metadata": {},
   "outputs": [
    {
     "data": {
      "text/plain": [
       "<matplotlib.legend.Legend at 0x7fc3eff35490>"
      ]
     },
     "execution_count": 126,
     "metadata": {},
     "output_type": "execute_result"
    },
    {
     "data": {
      "image/png": "[encoded data removed]",
      "text/plain": [
       "<Figure size 432x288 with 1 Axes>"
      ]
     },
     "metadata": {},
     "output_type": "display_data"
    }
   ],
   "source": [
    "Z = Z.reshape(xx.shape)\n",
    "plt.contourf(xx, yy, Z, cmap=plt.cm.Accent, alpha=0.8)\n",
    "\n",
    "colors = ['red', 'green', 'blue']\n",
    "for color, i, target in zip(colors, [0, 1, 2], variable):\n",
    "    plt.scatter(X[Y==i, 0], X[Y==i, 1], color=color, label=target)\n",
    "\n",
    "plt.xlabel(f'{feature[0]}')\n",
    "plt.ylabel(f'{feature[1]}')\n",
    "plt.title(f'DTC (Max depth = {max_depth})')\n",
    "plt.legend(loc='best', shadow=False, scatterpoints=1)"
   ]
  },
  {
   "cell_type": "code",
   "execution_count": 77,
   "id": "39e5471f",
   "metadata": {},
   "outputs": [
    {
     "name": "stdout",
     "output_type": "stream",
     "text": [
      "[[0.33333333 0.33333333 0.33333333 0.         0.         0.\n",
      "  0.         0.         0.         0.         0.         0.\n",
      "  0.         0.         0.         0.         0.         0.\n",
      "  0.         0.         0.         0.         0.         0.\n",
      "  0.         0.         0.        ]]\n",
      "[1.]\n"
     ]
    }
   ],
   "source": [
    "print(tree_clf.predict_proba([[8, 3.5]]))\n",
    "print(tree_clf.predict([[8, 3.5]]))"
   ]
  },
  {
   "cell_type": "code",
   "execution_count": 78,
   "id": "1df0c51f",
   "metadata": {},
   "outputs": [],
   "source": [
    "from sklearn.model_selection import train_test_split"
   ]
  },
  {
   "cell_type": "code",
   "execution_count": 120,
   "id": "0301e0c1",
   "metadata": {},
   "outputs": [],
   "source": [
    "x=table3[feature].values"
   ]
  },
  {
   "cell_type": "code",
   "execution_count": 121,
   "id": "7357eec7",
   "metadata": {},
   "outputs": [],
   "source": [
    "y=table3.No"
   ]
  },
  {
   "cell_type": "code",
   "execution_count": 122,
   "id": "ec5fb9b1",
   "metadata": {},
   "outputs": [
    {
     "name": "stdout",
     "output_type": "stream",
     "text": [
      "(11, 2)\n",
      "(11,)\n",
      "(4, 2)\n",
      "(4,)\n"
     ]
    }
   ],
   "source": [
    "x_train, x_test, y_train, y_test = train_test_split(x, y, \n",
    "                                                    test_size = 0.25, \n",
    "                                                    random_state = 5)\n",
    "print(x_train.shape)\n",
    "print(y_train.shape)\n",
    "print(x_test.shape)\n",
    "print(y_test.shape)"
   ]
  },
  {
   "cell_type": "code",
   "execution_count": null,
   "id": "77254ca3",
   "metadata": {},
   "outputs": [],
   "source": []
  },
  {
   "cell_type": "code",
   "execution_count": 123,
   "id": "91b9627f",
   "metadata": {},
   "outputs": [],
   "source": [
    "max_depth = 2\n",
    "tree_clf = DecisionTreeClassifier(max_depth=max_depth)\n",
    "\n",
    "tree_clf.fit(x_train, y_train)\n",
    "\n",
    "y_pred = tree_clf.predict(x_test)"
   ]
  },
  {
   "cell_type": "code",
   "execution_count": 124,
   "id": "7d93d803",
   "metadata": {},
   "outputs": [
    {
     "data": {
      "text/plain": [
       "0.0"
      ]
     },
     "execution_count": 124,
     "metadata": {},
     "output_type": "execute_result"
    }
   ],
   "source": [
    "tree_clf.score(x_test, y_test)"
   ]
  },
  {
   "cell_type": "code",
   "execution_count": 125,
   "id": "25c052c1",
   "metadata": {},
   "outputs": [
    {
     "data": {
      "text/plain": [
       "0.2727272727272727"
      ]
     },
     "execution_count": 125,
     "metadata": {},
     "output_type": "execute_result"
    }
   ],
   "source": [
    "tree_clf.score(x_train, y_train)"
   ]
  },
  {
   "cell_type": "code",
   "execution_count": 51,
   "id": "cca4eb13",
   "metadata": {},
   "outputs": [
    {
     "data": {
      "text/plain": [
       "array([[1.   , 0.   , 0.   , 0.   , 0.   , 0.   , 0.   , 0.   , 0.   ,\n",
       "        0.   , 0.   ],\n",
       "       [0.   , 1.   , 0.   , 0.   , 0.   , 0.   , 0.   , 0.   , 0.   ,\n",
       "        0.   , 0.   ],\n",
       "       [1.   , 0.   , 0.   , 0.   , 0.   , 0.   , 0.   , 0.   , 0.   ,\n",
       "        0.   , 0.   ],\n",
       "       [0.   , 1.   , 0.   , 0.   , 0.   , 0.   , 0.   , 0.   , 0.   ,\n",
       "        0.   , 0.   ],\n",
       "       [0.   , 0.   , 1.   , 0.   , 0.   , 0.   , 0.   , 0.   , 0.   ,\n",
       "        0.   , 0.   ],\n",
       "       [0.   , 0.   , 1.   , 0.   , 0.   , 0.   , 0.   , 0.   , 0.   ,\n",
       "        0.   , 0.   ],\n",
       "       [0.   , 0.   , 0.   , 0.125, 0.125, 0.125, 0.125, 0.125, 0.125,\n",
       "        0.125, 0.125],\n",
       "       [0.   , 0.   , 0.   , 0.125, 0.125, 0.125, 0.125, 0.125, 0.125,\n",
       "        0.125, 0.125],\n",
       "       [0.   , 0.   , 0.   , 0.125, 0.125, 0.125, 0.125, 0.125, 0.125,\n",
       "        0.125, 0.125],\n",
       "       [0.   , 0.   , 0.   , 0.125, 0.125, 0.125, 0.125, 0.125, 0.125,\n",
       "        0.125, 0.125],\n",
       "       [0.   , 0.   , 0.   , 0.125, 0.125, 0.125, 0.125, 0.125, 0.125,\n",
       "        0.125, 0.125],\n",
       "       [0.   , 0.   , 0.   , 0.125, 0.125, 0.125, 0.125, 0.125, 0.125,\n",
       "        0.125, 0.125],\n",
       "       [0.   , 0.   , 0.   , 0.125, 0.125, 0.125, 0.125, 0.125, 0.125,\n",
       "        0.125, 0.125],\n",
       "       [0.   , 0.   , 0.   , 0.125, 0.125, 0.125, 0.125, 0.125, 0.125,\n",
       "        0.125, 0.125],\n",
       "       [0.   , 0.   , 0.   , 0.125, 0.125, 0.125, 0.125, 0.125, 0.125,\n",
       "        0.125, 0.125]])"
      ]
     },
     "execution_count": 51,
     "metadata": {},
     "output_type": "execute_result"
    }
   ],
   "source": [
    "tree_clf.predict_proba(x, check_input=True)"
   ]
  },
  {
   "cell_type": "code",
   "execution_count": 52,
   "id": "2f984934",
   "metadata": {},
   "outputs": [],
   "source": [
    "from sklearn.metrics import accuracy_score\n",
    "from sklearn.metrics import precision_score\n",
    "from sklearn.metrics import recall_score\n",
    "from sklearn.metrics import f1_score\n",
    "from sklearn.metrics import classification_report"
   ]
  },
  {
   "cell_type": "code",
   "execution_count": 53,
   "id": "05fcda5e",
   "metadata": {},
   "outputs": [
    {
     "name": "stdout",
     "output_type": "stream",
     "text": [
      "0.0\n",
      "[0. 0. 0. 0. 0. 0. 0. 0.]\n",
      "[0. 0. 0. 0. 0. 0. 0. 0.]\n"
     ]
    },
    {
     "name": "stderr",
     "output_type": "stream",
     "text": [
      "/Users/dheervarsani/opt/anaconda3/lib/python3.9/site-packages/sklearn/metrics/_classification.py:1248: UndefinedMetricWarning: Precision is ill-defined and being set to 0.0 in labels with no predicted samples. Use `zero_division` parameter to control this behavior.\n",
      "  _warn_prf(average, modifier, msg_start, len(result))\n",
      "/Users/dheervarsani/opt/anaconda3/lib/python3.9/site-packages/sklearn/metrics/_classification.py:1248: UndefinedMetricWarning: Recall is ill-defined and being set to 0.0 in labels with no true samples. Use `zero_division` parameter to control this behavior.\n",
      "  _warn_prf(average, modifier, msg_start, len(result))\n"
     ]
    }
   ],
   "source": [
    "labels = variable\n",
    "print(accuracy_score(y_test, y_pred))\n",
    "print(precision_score(y_test, y_pred, average=None))\n",
    "print(recall_score(y_test, y_pred, average=None))"
   ]
  },
  {
   "cell_type": "code",
   "execution_count": 54,
   "id": "796807db",
   "metadata": {},
   "outputs": [
    {
     "name": "stdout",
     "output_type": "stream",
     "text": [
      "              precision    recall  f1-score   support\n",
      "\n",
      "         1.0       0.00      0.00      0.00       0.0\n",
      "         2.0       0.00      0.00      0.00       1.0\n",
      "         3.0       0.00      0.00      0.00       1.0\n",
      "         4.0       0.00      0.00      0.00       0.0\n",
      "         5.0       0.00      0.00      0.00       0.0\n",
      "         6.0       0.00      0.00      0.00       1.0\n",
      "         7.0       0.00      0.00      0.00       0.0\n",
      "         8.0       0.00      0.00      0.00       1.0\n",
      "\n",
      "    accuracy                           0.00       4.0\n",
      "   macro avg       0.00      0.00      0.00       4.0\n",
      "weighted avg       0.00      0.00      0.00       4.0\n",
      "\n"
     ]
    },
    {
     "name": "stderr",
     "output_type": "stream",
     "text": [
      "/Users/dheervarsani/opt/anaconda3/lib/python3.9/site-packages/sklearn/metrics/_classification.py:1248: UndefinedMetricWarning: Precision and F-score are ill-defined and being set to 0.0 in labels with no predicted samples. Use `zero_division` parameter to control this behavior.\n",
      "  _warn_prf(average, modifier, msg_start, len(result))\n",
      "/Users/dheervarsani/opt/anaconda3/lib/python3.9/site-packages/sklearn/metrics/_classification.py:1248: UndefinedMetricWarning: Recall and F-score are ill-defined and being set to 0.0 in labels with no true samples. Use `zero_division` parameter to control this behavior.\n",
      "  _warn_prf(average, modifier, msg_start, len(result))\n",
      "/Users/dheervarsani/opt/anaconda3/lib/python3.9/site-packages/sklearn/metrics/_classification.py:1248: UndefinedMetricWarning: Precision and F-score are ill-defined and being set to 0.0 in labels with no predicted samples. Use `zero_division` parameter to control this behavior.\n",
      "  _warn_prf(average, modifier, msg_start, len(result))\n",
      "/Users/dheervarsani/opt/anaconda3/lib/python3.9/site-packages/sklearn/metrics/_classification.py:1248: UndefinedMetricWarning: Recall and F-score are ill-defined and being set to 0.0 in labels with no true samples. Use `zero_division` parameter to control this behavior.\n",
      "  _warn_prf(average, modifier, msg_start, len(result))\n",
      "/Users/dheervarsani/opt/anaconda3/lib/python3.9/site-packages/sklearn/metrics/_classification.py:1248: UndefinedMetricWarning: Precision and F-score are ill-defined and being set to 0.0 in labels with no predicted samples. Use `zero_division` parameter to control this behavior.\n",
      "  _warn_prf(average, modifier, msg_start, len(result))\n",
      "/Users/dheervarsani/opt/anaconda3/lib/python3.9/site-packages/sklearn/metrics/_classification.py:1248: UndefinedMetricWarning: Recall and F-score are ill-defined and being set to 0.0 in labels with no true samples. Use `zero_division` parameter to control this behavior.\n",
      "  _warn_prf(average, modifier, msg_start, len(result))\n"
     ]
    }
   ],
   "source": [
    "print(classification_report(y_test, y_pred))"
   ]
  },
  {
   "cell_type": "code",
   "execution_count": null,
   "id": "183fb067",
   "metadata": {},
   "outputs": [],
   "source": []
  }
 ],
 "metadata": {
  "kernelspec": {
   "display_name": "Python 3 (ipykernel)",
   "language": "python",
   "name": "python3"
  },
  "language_info": {
   "codemirror_mode": {
    "name": "ipython",
    "version": 3
   },
   "file_extension": ".py",
   "mimetype": "text/x-python",
   "name": "python",
   "nbconvert_exporter": "python",
   "pygments_lexer": "ipython3",
   "version": "3.9.7"
  }
 },
 "nbformat": 4,
 "nbformat_minor": 5
}
