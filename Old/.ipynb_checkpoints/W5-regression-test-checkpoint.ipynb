{
 "cells": [
  {
   "cell_type": "code",
   "execution_count": null,
   "id": "164ae50e",
   "metadata": {},
   "outputs": [],
   "source": [
    "import numpy as np\n",
    "\n",
    "import pandas as pd\n",
    "\n",
    "import matplotlib.pyplot as plt\n",
    "\n",
    "import seaborn as sns\n",
    "\n",
    "%matplotlib inline\n",
    "\n",
    "# handy helper for displaying stuff\n",
    "from IPython.display import Image"
   ]
  },
  {
   "cell_type": "markdown",
   "id": "daaf36ad",
   "metadata": {},
   "source": [
    "# A Simple Linear Regression Model\n",
    "\n",
    "$$y = a_0 + a_1 x$$"
   ]
  },
  {
   "cell_type": "code",
   "execution_count": null,
   "id": "ffa552fc",
   "metadata": {},
   "outputs": [],
   "source": []
  },
  {
   "cell_type": "code",
   "execution_count": null,
   "id": "15758e7f",
   "metadata": {},
   "outputs": [],
   "source": []
  },
  {
   "cell_type": "markdown",
   "id": "ba9be1af",
   "metadata": {},
   "source": [
    "### Other metrics:\n",
    "\n",
    "mean_absolute_error\n",
    "\n",
    "* expresses the average absolute model prediction error\n",
    "* a perfect model would score 0\n",
    "* this metric has no upper bounds\n",
    "* it is measured in the units of the target, thus it is more interpretable\n",
    "* a good metric if you want to ignore the outliers\n",
    "* cannot indicate how bad a model is\n",
    "* can be used to compare two models: the lower the better"
   ]
  },
  {
   "cell_type": "code",
   "execution_count": null,
   "id": "bd8415db",
   "metadata": {},
   "outputs": [],
   "source": []
  },
  {
   "cell_type": "code",
   "execution_count": null,
   "id": "d7c3e2ae",
   "metadata": {},
   "outputs": [],
   "source": []
  },
  {
   "cell_type": "markdown",
   "id": "c0c9649d",
   "metadata": {},
   "source": [
    "## Polynomial Regression\n",
    "\n",
    "`sklearn.preprocessing.PolynomialFeatures`\n",
    "\n",
    "https://scikit-learn.org/stable/modules/generated/sklearn.preprocessing.PolynomialFeatures.html\n",
    "\n",
    "$$y = a_0 + a_1 x + a_2 x^2 + \\cdots + a_n x^n$$"
   ]
  },
  {
   "cell_type": "code",
   "execution_count": null,
   "id": "b19f30ab",
   "metadata": {},
   "outputs": [],
   "source": []
  },
  {
   "cell_type": "code",
   "execution_count": null,
   "id": "ff19744d",
   "metadata": {},
   "outputs": [],
   "source": []
  },
  {
   "cell_type": "markdown",
   "id": "2710782b",
   "metadata": {},
   "source": [
    "### A Univariate Model\n",
    "\n",
    "$$\\text{Gas Prod} = \\beta_0 + \\beta_1 \\cdot \\text{Por}$$"
   ]
  },
  {
   "cell_type": "code",
   "execution_count": null,
   "id": "aaca93fc",
   "metadata": {},
   "outputs": [],
   "source": []
  },
  {
   "cell_type": "code",
   "execution_count": null,
   "id": "899ef05b",
   "metadata": {},
   "outputs": [],
   "source": []
  },
  {
   "cell_type": "markdown",
   "id": "3cb96130",
   "metadata": {},
   "source": [
    "### A Bilinear Model\n",
    "\n",
    "$$\\text{Gas Prod} = \\beta_0 + \\beta_1 \\cdot \\text{Por} + \\beta_2 \\cdot \\text{Brittle}$$"
   ]
  },
  {
   "cell_type": "code",
   "execution_count": null,
   "id": "3da74065",
   "metadata": {},
   "outputs": [],
   "source": []
  },
  {
   "cell_type": "code",
   "execution_count": null,
   "id": "34b55b52",
   "metadata": {},
   "outputs": [],
   "source": []
  },
  {
   "cell_type": "markdown",
   "id": "ace552ae",
   "metadata": {},
   "source": [
    "### A Quadratic Model\n",
    "​\n",
    "$$\\text{Gas Prod} = \\beta_0 + \\beta_1 \\cdot \\text{Por} + \\beta_2 \\cdot \\text{Brittle} + \\beta_3 \\cdot \\text{Por}^2 + \\beta_4 \\cdot \\text{Por} \\cdot \\text{Brittle} + \\beta_5 \\cdot \\text{Brittle}^2$$"
   ]
  },
  {
   "cell_type": "code",
   "execution_count": null,
   "id": "a0513170",
   "metadata": {},
   "outputs": [],
   "source": []
  },
  {
   "cell_type": "code",
   "execution_count": null,
   "id": "2efa07b4",
   "metadata": {},
   "outputs": [],
   "source": []
  },
  {
   "cell_type": "markdown",
   "id": "a7ecd340",
   "metadata": {},
   "source": [
    "## A Multi-Linear Model\n",
    "\n",
    "$$\\text{Gas Prod} = \\beta_0 + \\beta_1 \\cdot \\text{Por} + \\beta_2 \\cdot \\text{Brittle} + \\beta_3 \\cdot \\text{Perm} + \\beta_4 \\cdot \\text{TOC}$$"
   ]
  },
  {
   "cell_type": "code",
   "execution_count": null,
   "id": "5769b3ad",
   "metadata": {},
   "outputs": [],
   "source": []
  },
  {
   "cell_type": "code",
   "execution_count": null,
   "id": "9c9235a1",
   "metadata": {},
   "outputs": [],
   "source": []
  },
  {
   "cell_type": "markdown",
   "id": "9cf118d4",
   "metadata": {},
   "source": [
    "#### Make the following future predictions:\n",
    "\n",
    "* Por = 12 (%)\n",
    "* Brittle = 81 (%)\n",
    "* VR = 2.31 (%)\n",
    "* AI = 2.8 (kg/m2s*10^6)"
   ]
  },
  {
   "cell_type": "code",
   "execution_count": null,
   "id": "e36485a6",
   "metadata": {},
   "outputs": [],
   "source": []
  }
 ],
 "metadata": {
  "kernelspec": {
   "display_name": "Python 3 (ipykernel)",
   "language": "python",
   "name": "python3"
  },
  "language_info": {
   "codemirror_mode": {
    "name": "ipython",
    "version": 3
   },
   "file_extension": ".py",
   "mimetype": "text/x-python",
   "name": "python",
   "nbconvert_exporter": "python",
   "pygments_lexer": "ipython3",
   "version": "3.9.7"
  }
 },
 "nbformat": 4,
 "nbformat_minor": 5
}
