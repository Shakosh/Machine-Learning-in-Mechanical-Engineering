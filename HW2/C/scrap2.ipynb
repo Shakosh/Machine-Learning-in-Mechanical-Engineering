{
 "cells": [
  {
   "cell_type": "code",
   "execution_count": 4,
   "metadata": {},
   "outputs": [],
   "source": [
    "import time\n",
    "\n",
    "start_time = time.time()"
   ]
  },
  {
   "cell_type": "code",
   "execution_count": 5,
   "metadata": {},
   "outputs": [
    {
     "name": "stdout",
     "output_type": "stream",
     "text": [
      "55\n"
     ]
    }
   ],
   "source": [
    "\n",
    "\n",
    "x = 5\n",
    "print('55')\n",
    "y = []\n",
    "for i in range(999999999999999999999999999999999999999999999999999999999999999999999999999999999999999999999999999999999999999999999999999999999999999999999999999):\n",
    "    y.append(i)\n"
   ]
  },
  {
   "cell_type": "code",
   "execution_count": null,
   "metadata": {},
   "outputs": [
    {
     "name": "stdout",
     "output_type": "stream",
     "text": [
      "Total runtime of the notebook is 0.19400548934936523 seconds\n"
     ]
    }
   ],
   "source": [
    "end_time = time.time()\n",
    "\n",
    "print(f'Total runtime of the notebook is {end_time - start_time} seconds')"
   ]
  },
  {
   "cell_type": "code",
   "execution_count": null,
   "metadata": {},
   "outputs": [],
   "source": [
    "from scipy.interpolate import interp1d\n",
    "from numpy import linspace\n",
    "\n",
    "fig, ax = plt.subplots(figsize=(8,4))\n",
    "\n",
    "fprs = []\n",
    "tprs = []\n",
    "aucs = []\n",
    "cv_means = []\n",
    "\n",
    "# Standard FPR values (might want to change range and/or steps)\n",
    "standard_fpr = np.linspace(0, 1, 100)\n",
    "\n",
    "for i, model in enumerate(models):\n",
    "\n",
    "    mean_tpr = np.zeros_like(standard_fpr)\n",
    "\n",
    "    for j in range(n_classes):\n",
    "        cv_probs = cross_val_predict(model, X, y_bin[:,j], cv=folds, method='predict_proba')\n",
    "        cv_prob_true = cv_probs[:,1]\n",
    "        fpr, tpr, thresh = roc_curve(y_bin[:,j], cv_prob_true)\n",
    "        \n",
    "        roc_auc_score_var = roc_auc_score(y_bin[:,j], cv_prob_true)\n",
    "        aucs.append(roc_auc_score_var)\n",
    "\n",
    "        interp_tpr = interp1d(fpr, tpr, kind='linear', fill_value=(0,1), bounds_error=False)\n",
    "        mean_tpr += interp_tpr(standard_fpr)\n",
    "\n",
    "        cv_scores = cross_val_score(model, X, y_bin[:,j], cv=folds, scoring='accuracy')\n",
    "        cv_means.append(cv_scores.mean())\n",
    "\n",
    "    mean_tpr /= n_classes\n",
    "\n",
    "    ax.plot(standard_fpr, mean_tpr, label=f'Model: {model.__class__.__name__} | roc_auc: {np.mean(aucs):.4f} | mean_cv: {np.mean(cv_means):.4f}')\n",
    "\n",
    "ax.plot([0, 1], [0, 1], linestyle='--', color='gray', label='base 0.5')\n",
    "ax.set_title(f'Average ROC Curves')\n",
    "ax.set_xlabel(\"False Positive Rate\")\n",
    "ax.set_ylabel(\"True Positive Rate\")\n",
    "ax.legend(loc='lower right')\n",
    "\n",
    "plt.tight_layout()\n",
    "plt.show()\n"
   ]
  }
 ],
 "metadata": {
  "kernelspec": {
   "display_name": "env0",
   "language": "python",
   "name": "python3"
  },
  "language_info": {
   "codemirror_mode": {
    "name": "ipython",
    "version": 3
   },
   "file_extension": ".py",
   "mimetype": "text/x-python",
   "name": "python",
   "nbconvert_exporter": "python",
   "pygments_lexer": "ipython3",
   "version": "3.10.10"
  },
  "orig_nbformat": 4
 },
 "nbformat": 4,
 "nbformat_minor": 2
}
