{
 "cells": [
  {
   "cell_type": "markdown",
   "id": "9f189017",
   "metadata": {},
   "source": [
    "## Load the `python` packages"
   ]
  },
  {
   "cell_type": "code",
   "execution_count": null,
   "id": "499386ef",
   "metadata": {},
   "outputs": [],
   "source": [
    "import pandas as pd\n",
    "import numpy as np\n",
    "import operator\n",
    "import seaborn as sns\n",
    "import matplotlib.pyplot as plt\n",
    "\n",
    "#from sklearn import datasets\n",
    "from sklearn.datasets import load_iris\n",
    "\n",
    "%matplotlib inline\n",
    "\n",
    "# handy helper for displaying stuff\n",
    "from IPython.display import Image"
   ]
  },
  {
   "cell_type": "markdown",
   "id": "df1d6a06",
   "metadata": {},
   "source": [
    "### Load the dataset"
   ]
  },
  {
   "cell_type": "code",
   "execution_count": null,
   "id": "949e2863",
   "metadata": {},
   "outputs": [],
   "source": [
    "iris = load_iris()"
   ]
  },
  {
   "cell_type": "markdown",
   "id": "5cb69876",
   "metadata": {},
   "source": [
    "### Convert the dataset into a pandas dataframe:"
   ]
  },
  {
   "cell_type": "code",
   "execution_count": null,
   "id": "59421b15",
   "metadata": {},
   "outputs": [],
   "source": [
    "# convert the dataset into a pandas dataframe (just a matter of taste!)\n",
    "iris_df = pd.DataFrame(data=iris.data, columns=iris.feature_names)"
   ]
  },
  {
   "cell_type": "markdown",
   "id": "5feb73a9",
   "metadata": {},
   "source": [
    "#### Change the names of the columns (features):"
   ]
  },
  {
   "cell_type": "code",
   "execution_count": null,
   "id": "2643a5fd",
   "metadata": {},
   "outputs": [],
   "source": [
    "iris_features = [\"sepal_length\", \"sepal_width\", \"petal_length\", \"petal_width\"]\n",
    "iris_df.columns = iris_features"
   ]
  },
  {
   "cell_type": "markdown",
   "id": "21dc28f9",
   "metadata": {},
   "source": [
    "#### Add a column of the target classes to the dataframe:"
   ]
  },
  {
   "cell_type": "code",
   "execution_count": null,
   "id": "d385bb95",
   "metadata": {},
   "outputs": [],
   "source": [
    "iris_df[\"target\"] = iris.target\n",
    "iris_df.head()"
   ]
  },
  {
   "cell_type": "markdown",
   "id": "1aa17763",
   "metadata": {},
   "source": [
    "#### Add a column for the target classes that contains the names of the species:"
   ]
  },
  {
   "cell_type": "code",
   "execution_count": null,
   "id": "7c56cf1a",
   "metadata": {},
   "outputs": [],
   "source": [
    "iris_df['species'] = [iris.target_names[x] for x in iris.target]\n",
    "iris_df"
   ]
  },
  {
   "cell_type": "markdown",
   "id": "32230a27",
   "metadata": {},
   "source": [
    "### Plot pair-wise the features of the dataframe"
   ]
  },
  {
   "cell_type": "code",
   "execution_count": null,
   "id": "0e398fa7",
   "metadata": {},
   "outputs": [],
   "source": [
    "sns.pairplot(iris_df, vars = iris_df.columns[0:4], hue='species', palette='husl')"
   ]
  },
  {
   "cell_type": "markdown",
   "id": "35b8ac0f",
   "metadata": {},
   "source": [
    "## Decision Trees Models\n",
    "\n",
    "https://scikit-learn.org/stable/modules/generated/sklearn.tree.DecisionTreeClassifier.html\n",
    "\n",
    "### A simple model: only sepal_length over petal_width"
   ]
  },
  {
   "cell_type": "code",
   "execution_count": null,
   "id": "7af57918",
   "metadata": {},
   "outputs": [],
   "source": [
    "from sklearn.tree import DecisionTreeClassifier"
   ]
  },
  {
   "cell_type": "code",
   "execution_count": null,
   "id": "aacc31dc",
   "metadata": {},
   "outputs": [],
   "source": [
    "which_features = ['sepal_length', 'sepal_width']\n",
    "X = iris_df[which_features].values # take two features from the dataframe "
   ]
  },
  {
   "cell_type": "code",
   "execution_count": null,
   "id": "c43b91c3",
   "metadata": {},
   "outputs": [],
   "source": [
    "Y = iris_df.target.values"
   ]
  },
  {
   "cell_type": "code",
   "execution_count": null,
   "id": "e884d90f",
   "metadata": {},
   "outputs": [],
   "source": [
    "max_tree_depth = 2\n",
    "tree_clf = DecisionTreeClassifier(max_depth=max_tree_depth)"
   ]
  },
  {
   "cell_type": "code",
   "execution_count": null,
   "id": "034bb02f",
   "metadata": {},
   "outputs": [],
   "source": [
    "#tree_clf = clf.fit(iris.data, iris.target)\n",
    "tree_clf = tree_clf.fit(X, Y)"
   ]
  },
  {
   "cell_type": "markdown",
   "id": "f53189bb",
   "metadata": {},
   "source": [
    "## Visualize the trained Decision Tree\n",
    "\n",
    "### First way: using `sklearn.tree.plot_tree`\n",
    "\n",
    "https://scikit-learn.org/stable/modules/generated/sklearn.tree.plot_tree.html\n"
   ]
  },
  {
   "cell_type": "code",
   "execution_count": null,
   "id": "c78cc3b2",
   "metadata": {},
   "outputs": [],
   "source": [
    "from sklearn.tree import plot_tree"
   ]
  },
  {
   "cell_type": "code",
   "execution_count": null,
   "id": "9624513d",
   "metadata": {},
   "outputs": [],
   "source": [
    "fig_plottree, axes_plottree = plt.subplots(nrows=1, ncols=1, figsize=(4,4), dpi=120)\n",
    "plot_tree(tree_clf, \n",
    "          #feature_names=iris.feature_names[2:], \n",
    "          feature_names=which_features, \n",
    "          class_names=iris.target_names, \n",
    "          filled=True)\n",
    "axes_plottree.set_title(\"Decision tree trained on 'sepal_length', 'petal_width' of the iris features\")\n",
    "fig_plottree.savefig('iris_tree.png')"
   ]
  },
  {
   "cell_type": "code",
   "execution_count": null,
   "id": "3dcb461c",
   "metadata": {},
   "outputs": [],
   "source": [
    "# another, simpler way:\n",
    "plt.figure()\n",
    "plot_tree(tree_clf, \n",
    "          #feature_names=iris.feature_names[2:], \n",
    "          feature_names=which_features, \n",
    "          class_names=iris.target_names, \n",
    "          filled=True, \n",
    "          fontsize=14\n",
    "         )\n",
    "plt.title(\"Decision tree trained on 'sepal_length', 'sepal_width' of the iris features\")\n",
    "plt.show()"
   ]
  },
  {
   "cell_type": "markdown",
   "id": "0d140ed3",
   "metadata": {},
   "source": [
    "### A text-based diagram:\n"
   ]
  },
  {
   "cell_type": "code",
   "execution_count": null,
   "id": "ea604f72",
   "metadata": {},
   "outputs": [],
   "source": [
    "from sklearn.tree import export_text"
   ]
  },
  {
   "cell_type": "code",
   "execution_count": null,
   "id": "b9251d80",
   "metadata": {},
   "outputs": [],
   "source": [
    "#export the decision rules\n",
    "tree_rules = export_text(tree_clf,\n",
    "                         feature_names = which_features)\n",
    "\n",
    "#print the result\n",
    "print(tree_rules)"
   ]
  },
  {
   "cell_type": "markdown",
   "id": "8408e0ac",
   "metadata": {},
   "source": [
    "### Second way: using `sklearn.tree.export_graphviz`\n",
    "\n",
    "* Output a graph definition file called iris_tree.dot\n",
    "\n",
    "* Convert this .dot file to a variety of formats, such as PDF or PNG\n",
    "\n",
    "https://towardsdatascience.com/visualizing-decision-trees-with-python-scikit-learn-graphviz-matplotlib-1c50b4aa68dc\n",
    "\n",
    "1. To be able to install Graphviz on your Mac through this method, you first need to have Anaconda installed\n",
    "2. Open a terminal\n",
    "3. Type the command below to install Graphviz:\n",
    "\n",
    "    `conda install python-graphviz`\n",
    "\n",
    "4. After that, you should be able to use the dot command below to convert the dot file into a png file:\n",
    "\n",
    "    `dot -Tpng tree.dot -o tree.png`\n",
    "    \n",
    "**CAUTION: It is troubleshooting!!!**\n",
    "\n",
    "```python\n",
    "from sklearn.tree import export_graphviz\n",
    "\n",
    "with open(\"iris.dot\", 'w') as f:\n",
    "    dot_data = export_graphviz(tree_clf, \n",
    "                               out_file=f,\n",
    "                               feature_names=iris.feature_names[2:],\n",
    "                               class_names=iris.target_names,\n",
    "                               filled=True, \n",
    "                               rounded=True)\n",
    "!dot -Tpng iris.dot -o iris.png\n",
    "rm iris.dot\n",
    "# usually displays the error: /bin/bash: dot: command not found\n",
    "```"
   ]
  },
  {
   "cell_type": "markdown",
   "id": "d21f56f0",
   "metadata": {},
   "source": [
    "### Plot the decision surface of decision trees\n",
    "\n",
    "https://scikit-learn.org/stable/auto_examples/tree/plot_iris_dtc.html#sphx-glr-auto-examples-tree-plot-iris-dtc-py\n"
   ]
  },
  {
   "cell_type": "code",
   "execution_count": null,
   "id": "f94a669e",
   "metadata": {},
   "outputs": [],
   "source": [
    "#---min and max for the first feature---\n",
    "x_min, x_max = X[:, 0].min() - 1, X[:, 0].max() + 1\n",
    "\n",
    "#---min and max for the second feature---\n",
    "y_min, y_max = X[:, 1].min() - 1, X[:, 1].max() + 1\n",
    "\n",
    "#---step size in the mesh---\n",
    "h = (x_max / x_min)/100\n",
    "\n",
    "#---make predictions for each of the points in xx,yy---\n",
    "xx, yy = np.meshgrid(np.arange(x_min, x_max, h),\n",
    "                     np.arange(y_min, y_max, h))"
   ]
  },
  {
   "cell_type": "code",
   "execution_count": null,
   "id": "8b5762ca",
   "metadata": {},
   "outputs": [],
   "source": [
    "Z = tree_clf.predict(np.c_[xx.ravel(), yy.ravel()])"
   ]
  },
  {
   "cell_type": "code",
   "execution_count": null,
   "id": "8995405c",
   "metadata": {},
   "outputs": [],
   "source": [
    "#---draw the result using a color plot---\n",
    "Z = Z.reshape(xx.shape)\n",
    "plt.contourf(xx, yy, Z, cmap=plt.cm.Accent, alpha=0.8)\n",
    "#plt.contourf(xx, yy, Z, cmap=plt.cm.RdYlBu)\n",
    "\n",
    "#---plot the training points---\n",
    "colors = ['red', 'green', 'blue']\n",
    "for color, i, target in zip(colors, [0, 1, 2], iris.target_names):\n",
    "    plt.scatter(X[Y==i, 0], X[Y==i, 1], color=color, label=target)\n",
    "\n",
    "plt.xlabel(f'{which_features[0]}')\n",
    "plt.ylabel(f'{which_features[1]}')\n",
    "plt.title(f'DTC (Max depth = {max_tree_depth})')\n",
    "plt.legend(loc='best', shadow=False, scatterpoints=1)"
   ]
  },
  {
   "cell_type": "markdown",
   "id": "752b6e2e",
   "metadata": {},
   "source": [
    "### Estimating Class Probabilities:"
   ]
  },
  {
   "cell_type": "code",
   "execution_count": null,
   "id": "4f76ea76",
   "metadata": {},
   "outputs": [],
   "source": [
    "# make a single prediction \n",
    "print(tree_clf.predict_proba([[4, 4.5]]))\n",
    "print(tree_clf.predict([[4, 4.5]]))"
   ]
  },
  {
   "cell_type": "code",
   "execution_count": null,
   "id": "7cf1ce6d",
   "metadata": {},
   "outputs": [],
   "source": [
    "# make a single prediction \n",
    "print(tree_clf.predict_proba([[5, 1.5]]))\n",
    "print(tree_clf.predict([[5, 1.5]]))"
   ]
  },
  {
   "cell_type": "code",
   "execution_count": null,
   "id": "1b698f15",
   "metadata": {},
   "outputs": [],
   "source": [
    "# make a single prediction \n",
    "print(tree_clf.predict_proba([[8, 3.5]]))\n",
    "print(tree_clf.predict([[8, 3.5]]))"
   ]
  },
  {
   "cell_type": "code",
   "execution_count": null,
   "id": "a35331f8",
   "metadata": {},
   "outputs": [],
   "source": [
    "# make a single prediction \n",
    "print(tree_clf.predict_proba([[6.0, 3.0]]))\n",
    "print(tree_clf.predict([[6.0, 3.0]]))"
   ]
  },
  {
   "cell_type": "markdown",
   "id": "fa9570ec",
   "metadata": {},
   "source": [
    "## Evaluating the Decision Trees\n",
    "\n",
    "Use **all** iris features!"
   ]
  },
  {
   "cell_type": "code",
   "execution_count": null,
   "id": "e5ac1545",
   "metadata": {},
   "outputs": [],
   "source": [
    "from sklearn.model_selection import train_test_split"
   ]
  },
  {
   "cell_type": "code",
   "execution_count": null,
   "id": "39a70996",
   "metadata": {},
   "outputs": [],
   "source": [
    "X = iris_df[iris_features]\n",
    "X.head()"
   ]
  },
  {
   "cell_type": "code",
   "execution_count": null,
   "id": "f7e43751",
   "metadata": {},
   "outputs": [],
   "source": [
    "y = iris_df.target\n",
    "y.head()"
   ]
  },
  {
   "cell_type": "code",
   "execution_count": null,
   "id": "9f60e499",
   "metadata": {},
   "outputs": [],
   "source": [
    "# The data is split into training and testing sets:\n",
    "X_train, X_test, y_train, y_test = train_test_split(X, y, \n",
    "                                                    test_size = 0.25, \n",
    "                                                    random_state = 5)\n",
    "# print out the shape of the training and testing sets:\n",
    "print(X_train.shape)\n",
    "print(y_train.shape)\n",
    "print(X_test.shape)\n",
    "print(y_test.shape)"
   ]
  },
  {
   "cell_type": "code",
   "execution_count": null,
   "id": "ba25425c",
   "metadata": {},
   "outputs": [],
   "source": [
    "max_tree_depth = 3\n",
    "tree_clf = DecisionTreeClassifier(max_depth=max_tree_depth)\n",
    "\n",
    "# Fit the model:\n",
    "tree_clf.fit(X_train, y_train)\n",
    "\n",
    "# Predict the response:\n",
    "y_pred = tree_clf.predict(X_test)"
   ]
  },
  {
   "cell_type": "markdown",
   "id": "8caba663",
   "metadata": {},
   "source": [
    "### Methods that come together with the DecisionTreeClassifier:"
   ]
  },
  {
   "cell_type": "code",
   "execution_count": null,
   "id": "6faa7bb9",
   "metadata": {},
   "outputs": [],
   "source": [
    "tree_clf.score(X_test, y_test)"
   ]
  },
  {
   "cell_type": "code",
   "execution_count": null,
   "id": "5e79ebd0",
   "metadata": {},
   "outputs": [],
   "source": [
    "tree_clf.score(X_train, y_train)"
   ]
  },
  {
   "cell_type": "code",
   "execution_count": null,
   "id": "c318d23c",
   "metadata": {},
   "outputs": [],
   "source": [
    "tree_clf.predict_proba(X, check_input=True)"
   ]
  },
  {
   "cell_type": "markdown",
   "id": "b1135761",
   "metadata": {},
   "source": [
    "## Evaluate the DT Classifier: The confusion matrix"
   ]
  },
  {
   "cell_type": "code",
   "execution_count": null,
   "id": "cb2c3c09",
   "metadata": {},
   "outputs": [],
   "source": [
    "from sklearn.metrics import confusion_matrix"
   ]
  },
  {
   "cell_type": "code",
   "execution_count": null,
   "id": "89cffe26",
   "metadata": {},
   "outputs": [],
   "source": [
    "mat_test = confusion_matrix(y_test, y_pred)\n",
    "print('confusion matrix = \\n', mat_test)"
   ]
  },
  {
   "cell_type": "code",
   "execution_count": null,
   "id": "f9bef093",
   "metadata": {},
   "outputs": [],
   "source": [
    "fig_cm, ax_cm = plt.subplots(1, 1, figsize=(4, 4))\n",
    "cm = confusion_matrix(y_test, y_pred)\n",
    "ax_cm = sns.heatmap(cm, annot=True, square=True,\n",
    "                    xticklabels=iris.target_names,\n",
    "                    yticklabels=iris.target_names)\n",
    "ax_cm.set_xlabel('Predicted Labels')\n",
    "ax_cm.set_ylabel('True Labels');"
   ]
  },
  {
   "cell_type": "markdown",
   "id": "d03a6eba",
   "metadata": {},
   "source": [
    "### Accuracy performance:\n",
    "\n",
    "* accuracy_score:\n",
    "https://scikit-learn.org/stable/modules/generated/sklearn.metrics.accuracy_score.html\n",
    "\n",
    "* precision_score:\n",
    "https://scikit-learn.org/stable/modules/generated/sklearn.metrics.precision_score.html\n",
    "\n",
    "* recall_score:\n",
    "https://scikit-learn.org/stable/modules/generated/sklearn.metrics.recall_score.html\n",
    "\n",
    "* f1:\n",
    "https://scikit-learn.org/stable/modules/generated/sklearn.metrics.f1_score.html\n",
    "\n",
    "* classification_report:\n",
    "https://scikit-learn.org/stable/modules/generated/sklearn.metrics.classification_report.html"
   ]
  },
  {
   "cell_type": "code",
   "execution_count": null,
   "id": "d6930fab",
   "metadata": {},
   "outputs": [],
   "source": [
    "from sklearn.metrics import accuracy_score\n",
    "from sklearn.metrics import precision_score\n",
    "from sklearn.metrics import recall_score\n",
    "from sklearn.metrics import f1_score\n",
    "from sklearn.metrics import classification_report"
   ]
  },
  {
   "cell_type": "markdown",
   "id": "4fa2e324",
   "metadata": {},
   "source": [
    "* **Accuracy:**\n",
    "\n",
    "    `sum(diagonals in the confusion matrix) / sum (all boxes in the confusion matrix`\n",
    "    \n",
    "    $\\dfrac{\\sum{\\mbox{diagonals in the confusion matrix}}}{\\sum{\\text{all boxes in the confusion matrix}}}$\n",
    "\n",
    "\n",
    "* **Precision:**\n",
    "\n",
    "    `True positive (number in diagonal)/All positives (column sum)`\n",
    "    \n",
    "    $\\dfrac{\\text{True positive (number in diagonal)}}{\\text{All positives (column sum)}} = \\dfrac{TP}{TP + FP}$\n",
    "    \n",
    "    \n",
    "* **Recall:**\n",
    "\n",
    "    `True positive (number in diagonal)/All assignments (row sum)`\n",
    "    \n",
    "    $\\dfrac{\\text{True positive (number in diagonal)}}{\\text{All assignments (row sum)}} = \\dfrac{TP}{TP + FN}$\n",
    "    \n",
    "* **f1:**\n",
    "\n",
    "    `2 * (precision * recall)/(precision + recall)`\n",
    "    \n",
    "    $2\\times \\dfrac{(\\text{precision} \\times \\text{recall})}{\\text{(precision + recall)}}$"
   ]
  },
  {
   "cell_type": "code",
   "execution_count": null,
   "id": "8c946c59",
   "metadata": {},
   "outputs": [],
   "source": [
    "# Evaluate accuracy:\n",
    "labels = iris_df.species.unique()\n",
    "print(accuracy_score(y_test, y_pred))\n",
    "print(precision_score(y_test, y_pred, average=None))\n",
    "print(recall_score(y_test, y_pred, average=None))"
   ]
  },
  {
   "cell_type": "code",
   "execution_count": null,
   "id": "88d15cc2",
   "metadata": {},
   "outputs": [],
   "source": [
    "f1 = f1_score(y_test, y_pred, average=None)\n",
    "f1_results = pd.DataFrame(f1, index=labels)\n",
    "f1_results.rename(columns={0:'f1'}, inplace=True)\n",
    "f1_results"
   ]
  },
  {
   "cell_type": "code",
   "execution_count": null,
   "id": "ca2cc8c2",
   "metadata": {},
   "outputs": [],
   "source": [
    "# All metrics in a single output:\n",
    "print(classification_report(y_test, y_pred))"
   ]
  },
  {
   "cell_type": "markdown",
   "id": "945a00d9",
   "metadata": {},
   "source": [
    "### Feature importance"
   ]
  },
  {
   "cell_type": "code",
   "execution_count": null,
   "id": "2fe6f806",
   "metadata": {},
   "outputs": [],
   "source": [
    "#extract importance\n",
    "importance = pd.DataFrame({'feature': X_train.columns, \n",
    "                           'importance' : np.round(tree_clf.feature_importances_, 3)\n",
    "                          }\n",
    "                         )\n",
    "importance.sort_values('importance', ascending=False, inplace = True)\n",
    "importance"
   ]
  },
  {
   "cell_type": "markdown",
   "id": "cf3d7e01",
   "metadata": {},
   "source": [
    "According to the `importance` results above, which feature is the most important?\n",
    "\n",
    "Is this the only important feature?"
   ]
  },
  {
   "cell_type": "code",
   "execution_count": null,
   "id": "4f259ba8",
   "metadata": {},
   "outputs": [],
   "source": [
    "ser = pd.Series(importance.importance)\n",
    "ser.index = importance.feature\n",
    "\n",
    "fig, ax = plt.subplots()\n",
    "ser.plot.bar(yerr=importance, ax=ax)\n",
    "ax.set_title(\"Feature importances using MDI\")\n",
    "ax.set_ylabel(\"Mean decrease in impurity\")\n",
    "fig.tight_layout()"
   ]
  },
  {
   "cell_type": "markdown",
   "id": "9bf296e4",
   "metadata": {},
   "source": [
    "#### How many features are being selected"
   ]
  },
  {
   "cell_type": "code",
   "execution_count": null,
   "id": "9d122d05",
   "metadata": {},
   "outputs": [],
   "source": [
    "from sklearn.feature_selection import SelectFromModel"
   ]
  },
  {
   "cell_type": "code",
   "execution_count": null,
   "id": "05894e0c",
   "metadata": {},
   "outputs": [],
   "source": [
    "abc = SelectFromModel(tree_clf, prefit=True)\n",
    "x_upd = abc.transform(X)"
   ]
  },
  {
   "cell_type": "code",
   "execution_count": null,
   "id": "19907397",
   "metadata": {},
   "outputs": [],
   "source": [
    "np.array(X).shape[1]"
   ]
  },
  {
   "cell_type": "code",
   "execution_count": null,
   "id": "7b735492",
   "metadata": {},
   "outputs": [],
   "source": [
    "np.array(x_upd).shape[1]"
   ]
  },
  {
   "cell_type": "markdown",
   "id": "8dfa3325",
   "metadata": {},
   "source": [
    "### Prune the tree to maximum depth of 4:"
   ]
  },
  {
   "cell_type": "code",
   "execution_count": null,
   "id": "6faedaee",
   "metadata": {},
   "outputs": [],
   "source": [
    "clf_pruned = DecisionTreeClassifier(criterion='entropy', \n",
    "                                   random_state=50, \n",
    "                                   max_depth=3, \n",
    "                                   min_samples_leaf=6, \n",
    "                                   )"
   ]
  },
  {
   "cell_type": "code",
   "execution_count": null,
   "id": "40be48e3",
   "metadata": {},
   "outputs": [],
   "source": [
    "clf_pruned.fit(X_train, y_train)"
   ]
  },
  {
   "cell_type": "code",
   "execution_count": null,
   "id": "a0c57ba8",
   "metadata": {},
   "outputs": [],
   "source": [
    "prediction_pruned = clf_pruned.predict(X_test)\n",
    "prediction_pruned_train = clf_pruned.predict(X_train)"
   ]
  },
  {
   "cell_type": "code",
   "execution_count": null,
   "id": "ebc3218f",
   "metadata": {},
   "outputs": [],
   "source": [
    "print(accuracy_score(y_test, prediction_pruned))\n",
    "print(accuracy_score(y_train, prediction_pruned_train))"
   ]
  },
  {
   "cell_type": "code",
   "execution_count": null,
   "id": "17af46df",
   "metadata": {},
   "outputs": [],
   "source": [
    "acc_DT = accuracy_score(y_test, prediction_pruned)"
   ]
  },
  {
   "cell_type": "code",
   "execution_count": null,
   "id": "1c22f1d2",
   "metadata": {},
   "outputs": [],
   "source": [
    "resultsDf = pd.DataFrame({'Method':['Decision Tree'],\n",
    "                          'accuracy':acc_DT})"
   ]
  },
  {
   "cell_type": "code",
   "execution_count": null,
   "id": "d765c803",
   "metadata": {},
   "outputs": [],
   "source": []
  },
  {
   "cell_type": "markdown",
   "id": "23fafc58",
   "metadata": {},
   "source": [
    "## Regularization Hyperparameters"
   ]
  },
  {
   "cell_type": "markdown",
   "id": "c34983fb",
   "metadata": {},
   "source": [
    "```python\n",
    "clf = DecisionTreeClassifier(criterion=\"entropy\", # default: \"gini\"\n",
    "                             splitter=\"best\", # \"random\"\n",
    "                             max_depth=5, \n",
    "                             min_samples_split=4, # default=2\n",
    "                             random_state=0, \n",
    "                             max_leaf_nodes=5, \n",
    "                            )\n",
    "```"
   ]
  },
  {
   "cell_type": "markdown",
   "id": "902753c4",
   "metadata": {},
   "source": [
    "# Ensemble Algorithms\n",
    "\n",
    "## Random Forest Classifier\n",
    "\n",
    "```python\n",
    "sklearn.ensemble.RandomForestClassifier\n",
    "```\n",
    "\n",
    "https://scikit-learn.org/stable/modules/generated/sklearn.ensemble.RandomForestClassifier.html\n",
    "\n",
    "### Advanced Modeling: Feature transformations with ensembles of trees\n",
    "\n",
    "https://scikit-learn.org/stable/auto_examples/ensemble/plot_feature_transformation.html#sphx-glr-auto-examples-ensemble-plot-feature-transformation-py\n",
    "\n",
    "From V.V. p. 186:\n",
    "\n",
    "A `random forest` is an ensemble-based technique where it creates multiple smaller trees using a subset of data.\n",
    "\n",
    "The final decision is based on the `voting` mechanism by each of the trees.\n",
    "\n",
    "Decision trees are prone to overfitting. An ensemble-based random forest is a good choice to tackle overfitting."
   ]
  },
  {
   "cell_type": "code",
   "execution_count": null,
   "id": "1acb8339",
   "metadata": {},
   "outputs": [],
   "source": [
    "from sklearn.ensemble import RandomForestClassifier\n",
    "from sklearn.model_selection import cross_val_predict\n",
    "from sklearn.metrics import roc_curve"
   ]
  },
  {
   "cell_type": "code",
   "execution_count": null,
   "id": "8a4b0e7f",
   "metadata": {},
   "outputs": [],
   "source": [
    "rf_model = RandomForestClassifier(n_estimators=50, # The number of trees in the forest\n",
    "                                  max_depth=5, \n",
    "                                  random_state=10, \n",
    "                                  criterion='gini', # 'entropy'\n",
    "                                  bootstrap = True, \n",
    "                                  max_features = 'sqrt')"
   ]
  },
  {
   "cell_type": "code",
   "execution_count": null,
   "id": "97c6bd82",
   "metadata": {},
   "outputs": [],
   "source": [
    "rf_model.fit(X_train, y_train)"
   ]
  },
  {
   "cell_type": "code",
   "execution_count": null,
   "id": "20dd98a3",
   "metadata": {},
   "outputs": [],
   "source": [
    "prediction_RF = rf_model.predict(X_test)"
   ]
  },
  {
   "cell_type": "code",
   "execution_count": null,
   "id": "c5730195",
   "metadata": {},
   "outputs": [],
   "source": [
    "print(confusion_matrix(y_test, prediction_RF))"
   ]
  },
  {
   "cell_type": "code",
   "execution_count": null,
   "id": "5515d8a8",
   "metadata": {},
   "outputs": [],
   "source": [
    "fig_cm_RF, ax_cm_RF = plt.subplots(1, 1, figsize=(4, 4))\n",
    "cm_RF = confusion_matrix(y_test, prediction_RF)\n",
    "ax_cm_RF = sns.heatmap(cm_RF, annot=True, square=True,\n",
    "                       xticklabels=iris.target_names,\n",
    "                       yticklabels=iris.target_names)\n",
    "ax_cm_RF.set_xlabel('Predicted Labels')\n",
    "ax_cm_RF.set_ylabel('True Labels')\n",
    "ax_cm_RF.set_title('Confusion Matrix')"
   ]
  },
  {
   "cell_type": "code",
   "execution_count": null,
   "id": "53406338",
   "metadata": {},
   "outputs": [],
   "source": [
    "acc_RF = accuracy_score(y_test, prediction_RF)"
   ]
  },
  {
   "cell_type": "code",
   "execution_count": null,
   "id": "dcc84335",
   "metadata": {},
   "outputs": [],
   "source": [
    "resultsRF = pd.DataFrame({'Method':['Random Forest'],\n",
    "                          'accuracy':acc_RF})\n",
    "resultsDf = pd.concat([resultsDf, resultsRF])\n",
    "resultsDf = resultsDf[['Method', 'accuracy']]\n",
    "resultsDf"
   ]
  },
  {
   "cell_type": "markdown",
   "id": "86ecd9a8",
   "metadata": {},
   "source": [
    "# Ensemble Algorithms\n",
    "## AdaBoost Algorithm\n",
    "\n",
    "`Refer to Vaibhav Verdhan, chapter 4, pages 193-208`\n",
    "\n",
    "Boosting is an ensemble method that creates a strong classifier from weak classifiers.\n",
    "\n",
    "A new model is created in a sequence, learning from the misclassifications of the previous model."
   ]
  },
  {
   "cell_type": "code",
   "execution_count": null,
   "id": "3b625e31",
   "metadata": {},
   "outputs": [],
   "source": [
    "from sklearn.ensemble import AdaBoostClassifier"
   ]
  },
  {
   "cell_type": "code",
   "execution_count": null,
   "id": "7dfbdfec",
   "metadata": {},
   "outputs": [],
   "source": [
    "adaboost_clf = AdaBoostClassifier(n_estimators=50, \n",
    "                                 learning_rate=0.05, \n",
    "                                 random_state=5\n",
    "                                 )"
   ]
  },
  {
   "cell_type": "code",
   "execution_count": null,
   "id": "d40eca34",
   "metadata": {},
   "outputs": [],
   "source": [
    "# fit the training data:\n",
    "adaboost_clf = adaboost_clf.fit(X_train, y_train)"
   ]
  },
  {
   "cell_type": "code",
   "execution_count": null,
   "id": "53ab9582",
   "metadata": {},
   "outputs": [],
   "source": [
    "# make predictions on the testing data:\n",
    "prediction_adaboost = adaboost_clf.predict(X_test)"
   ]
  },
  {
   "cell_type": "code",
   "execution_count": null,
   "id": "a15886b9",
   "metadata": {},
   "outputs": [],
   "source": [
    "# compute the accuracy:\n",
    "acc_AB = accuracy_score(y_test, prediction_adaboost)\n",
    "resultsAB = pd.DataFrame({'Method':['AdaBoost'],\n",
    "                          'accuracy':acc_AB})\n",
    "resultsDf = pd.concat([resultsDf, resultsAB])\n",
    "resultsDf"
   ]
  },
  {
   "cell_type": "markdown",
   "id": "78372606",
   "metadata": {},
   "source": [
    "# Ensemble Algorithms\n",
    "## Bagging Classifier\n",
    "\n",
    "`Refer to Vaibhav Verdhan, chapter 4, pages 193-208`"
   ]
  },
  {
   "cell_type": "code",
   "execution_count": null,
   "id": "8dfcd156",
   "metadata": {},
   "outputs": [],
   "source": [
    "from sklearn.ensemble import BaggingClassifier"
   ]
  },
  {
   "cell_type": "code",
   "execution_count": null,
   "id": "d556daf1",
   "metadata": {},
   "outputs": [],
   "source": [
    "bagging_clf = BaggingClassifier(n_estimators=55, \n",
    "                               max_samples=0.5, \n",
    "                               bootstrap=True, \n",
    "                               oob_score=True, \n",
    "                               random_state=5, \n",
    "                               )"
   ]
  },
  {
   "cell_type": "code",
   "execution_count": null,
   "id": "f4a4a9b6",
   "metadata": {},
   "outputs": [],
   "source": [
    "# fit the training data:\n",
    "bagging_clf = bagging_clf.fit(X_train, y_train)"
   ]
  },
  {
   "cell_type": "code",
   "execution_count": null,
   "id": "1e7d98f1",
   "metadata": {},
   "outputs": [],
   "source": [
    "# make predictions on the testing data:\n",
    "prediction_bagging = bagging_clf.predict(X_test)"
   ]
  },
  {
   "cell_type": "code",
   "execution_count": null,
   "id": "b10134a1",
   "metadata": {},
   "outputs": [],
   "source": [
    "# compute the accuracy:\n",
    "acc_BG = accuracy_score(y_test, prediction_bagging)\n",
    "resultsBG = pd.DataFrame({'Method':['Bagging'],\n",
    "                          'accuracy':acc_BG})\n",
    "resultsDf = pd.concat([resultsDf, resultsBG])\n",
    "resultsDf"
   ]
  },
  {
   "cell_type": "markdown",
   "id": "7e47f1f8",
   "metadata": {},
   "source": [
    "# Ensemble Algorithms\n",
    "## Gradient Boosting Classifier\n",
    "\n",
    "`Refer to Vaibhav Verdhan, chapter 4, pages 193-208`"
   ]
  },
  {
   "cell_type": "code",
   "execution_count": null,
   "id": "df2313b5",
   "metadata": {},
   "outputs": [],
   "source": [
    "from sklearn.ensemble import GradientBoostingClassifier"
   ]
  },
  {
   "cell_type": "code",
   "execution_count": null,
   "id": "ebf8a038",
   "metadata": {},
   "outputs": [],
   "source": [
    "gradientBoosting_clf = GradientBoostingClassifier(n_estimators=55, \n",
    "                                                  learning_rate=0.05, \n",
    "                                                  random_state=5, \n",
    "                                                 )"
   ]
  },
  {
   "cell_type": "code",
   "execution_count": null,
   "id": "93213fe2",
   "metadata": {},
   "outputs": [],
   "source": [
    "# fit the training data:\n",
    "gradientBoosting_clf = gradientBoosting_clf.fit(X_train, y_train)"
   ]
  },
  {
   "cell_type": "code",
   "execution_count": null,
   "id": "f0da069a",
   "metadata": {},
   "outputs": [],
   "source": [
    "# make predictions on the testing data:\n",
    "prediction_GB = gradientBoosting_clf.predict(X_test)"
   ]
  },
  {
   "cell_type": "code",
   "execution_count": null,
   "id": "6b7147eb",
   "metadata": {},
   "outputs": [],
   "source": [
    "# compute the accuracy:\n",
    "acc_GB = accuracy_score(y_test, prediction_GB)\n",
    "resultsGB = pd.DataFrame({'Method':['Gradient Boosting'],\n",
    "                          'accuracy':acc_GB})\n",
    "resultsDf = pd.concat([resultsDf, resultsGB])\n",
    "resultsDf"
   ]
  },
  {
   "cell_type": "markdown",
   "id": "86984416",
   "metadata": {},
   "source": [
    "**What do you conclude? Which one is the best ensemble method?**\n",
    "\n",
    "It is recommended to test random forest and gradient boosting for real-world problems."
   ]
  },
  {
   "cell_type": "code",
   "execution_count": null,
   "id": "bc1e5729",
   "metadata": {},
   "outputs": [],
   "source": [
    "sns.heatmap(iris_df[iris_features].corr(), annot=True)"
   ]
  },
  {
   "cell_type": "markdown",
   "id": "27c6010b",
   "metadata": {},
   "source": [
    "## Theory\n",
    "\n",
    "1. Gini impurity:\n",
    "$$G_i = 1 - \\sum^{n}_{k=1} p_{i,k}^2$$\n",
    "\n",
    "* $p_{i,k}$ is the ratio of class `k` instances among the training instances in the `ith` node\n",
    "* Gini impurity is slightly faster to compute\n",
    "\n",
    "2. Entropy:\n",
    "$$H_i = - \\sum^{n}_{k=1, p_{i,k}\\ne0} p_{i,k} \\log_2{(p_{i,k})}$$\n",
    "\n",
    "* measures homogeneity of data in a node\n",
    "* entropy is defined as zero when the data points in the node all belongs to one single class\n",
    "* it is equal to 1 when \n",
    "* node containing data dominated by one class, i.e. entropy is small, is ready to become a decision node\n",
    "* Most of the time they lead to similar trees.  However, when they differ, `Gini impurity` tends to isolate the most frequent class in its own branch of the tree, while `entropy` tends to produce slightly more balanced trees.\n",
    "\n",
    "3. Information gain (IG):\n",
    "$$IG = e_s - \\sum_{i=1,2} w_{i} H_i$$"
   ]
  },
  {
   "cell_type": "code",
   "execution_count": null,
   "id": "05c8c35d",
   "metadata": {},
   "outputs": [],
   "source": []
  }
 ],
 "metadata": {
  "kernelspec": {
   "display_name": "Python 3 (ipykernel)",
   "language": "python",
   "name": "python3"
  },
  "language_info": {
   "codemirror_mode": {
    "name": "ipython",
    "version": 3
   },
   "file_extension": ".py",
   "mimetype": "text/x-python",
   "name": "python",
   "nbconvert_exporter": "python",
   "pygments_lexer": "ipython3",
   "version": "3.9.7"
  }
 },
 "nbformat": 4,
 "nbformat_minor": 5
}
